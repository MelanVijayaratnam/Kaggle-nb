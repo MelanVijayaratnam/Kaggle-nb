{
 "cells": [
  {
   "cell_type": "markdown",
   "metadata": {},
   "source": [
    "<h1 style=\"text-align:center\"> Instacart Market Basket Analysis</h1>"
   ]
  },
  {
   "cell_type": "markdown",
   "metadata": {},
   "source": [
    "This notebook will serve as the analysis of the Instacart data. <br>\n",
    "This is a competition hosted by Kaggle and the files can be found in the following link: https://www.kaggle.com/c/instacart-market-basket-analysis/data <br>\n",
    "Instacart is an on-demand grocery delivery platform facilitating doorstep deliveries of groceries and other home essentials in major cities of USA. <br>\n",
    "In this competition, Instacart is challenging the Kaggle community to use this anonymized data on customer orders over time to predict which previously purchased products will be in a user’s next order. They’re not only looking for the best model, Instacart’s also looking for machine learning engineers to grow their team."
   ]
  },
  {
   "cell_type": "markdown",
   "metadata": {},
   "source": [
    "<h3 style=\"text-align:center\"> Load Libraries</h3>"
   ]
  },
  {
   "cell_type": "code",
   "execution_count": 1,
   "metadata": {},
   "outputs": [
    {
     "name": "stderr",
     "output_type": "stream",
     "text": [
      "C:\\Users\\Melan\\Anaconda3\\lib\\site-packages\\sklearn\\cross_validation.py:44: DeprecationWarning: This module was deprecated in version 0.18 in favor of the model_selection module into which all the refactored classes and functions are moved. Also note that the interface of the new CV iterators are different from that of this module. This module will be removed in 0.20.\n",
      "  \"This module will be removed in 0.20.\", DeprecationWarning)\n"
     ]
    }
   ],
   "source": [
    "# Remove warnings\n",
    "import warnings\n",
    "warnings.filterwarnings('ignore')\n",
    "\n",
    "# Data processing\n",
    "import pandas as pd\n",
    "import numpy as np\n",
    "\n",
    "# Visualization tools\n",
    "import seaborn as sns\n",
    "from matplotlib import pyplot as plt\n",
    "%matplotlib inline\n",
    "\n",
    "# Train/test split\n",
    "from sklearn.model_selection import train_test_split\n",
    "\n",
    "# Time checking\n",
    "from time import time\n",
    "\n",
    "# XGBoost for Boosting Trees\n",
    "import xgboost as xgb"
   ]
  },
  {
   "cell_type": "markdown",
   "metadata": {},
   "source": [
    "Display centered plots"
   ]
  },
  {
   "cell_type": "code",
   "execution_count": 2,
   "metadata": {},
   "outputs": [
    {
     "data": {
      "text/html": [
       "\n",
       "<style>\n",
       ".output_png {\n",
       "    display: table-cell;\n",
       "    text-align: center;\n",
       "    vertical-align: middle;\n",
       "}\n",
       "</style>\n"
      ],
      "text/plain": [
       "<IPython.core.display.HTML object>"
      ]
     },
     "execution_count": 2,
     "metadata": {},
     "output_type": "execute_result"
    }
   ],
   "source": [
    "from IPython.core.display import HTML\n",
    "HTML(\"\"\"\n",
    "<style>\n",
    ".output_png {\n",
    "    display: table-cell;\n",
    "    text-align: center;\n",
    "    vertical-align: middle;\n",
    "}\n",
    "</style>\n",
    "\"\"\")"
   ]
  },
  {
   "cell_type": "markdown",
   "metadata": {},
   "source": [
    "<h3 style=\"text-align:center\">Load Data</h3>"
   ]
  },
  {
   "cell_type": "code",
   "execution_count": 3,
   "metadata": {
    "collapsed": true
   },
   "outputs": [],
   "source": [
    "# List of products and relative information (product_id, aisle_id, department_id)\n",
    "products = pd.read_csv('data/products.csv')\n",
    "\n",
    "# This file tells to which set (prior, train, test) an order belongs\n",
    "orders = pd.read_csv('data/orders.csv') \n",
    "\n",
    "train_orders = pd.read_csv('data/order_products__train.csv')\n",
    "prior_orders = pd.read_csv('data/order_products__prior.csv')\n",
    "\n",
    "# File that assign department_id to department name\n",
    "dpmt = pd.read_csv('data/departments.csv')\n",
    "\n",
    "# List of the different aisles (aisle_id -> aisle )\n",
    "aisles = pd.read_csv('data/aisles.csv')"
   ]
  },
  {
   "cell_type": "markdown",
   "metadata": {},
   "source": [
    "<u>Saving into pickle file</u>"
   ]
  },
  {
   "cell_type": "markdown",
   "metadata": {},
   "source": [
    "Saving into pickle file speeds the reading process of the data"
   ]
  },
  {
   "cell_type": "code",
   "execution_count": 4,
   "metadata": {
    "collapsed": true
   },
   "outputs": [],
   "source": [
    "# products.to_pickle('data/products.p')\n",
    "# orders.to_pickle('data/orders.p')\n",
    "# train_orders.to_pickle('data/order_products_train.p')\n",
    "# prior_orders.to_pickle('data/order_products_prior.p')\n",
    "# dpmt.to_pickle('data/departments.p')\n",
    "# aisles.to_pickle('data/aisle')\n",
    "\n",
    "\n",
    "# Saving into pickle file\n",
    "# train_df.to_pickle('train_df.p')\n",
    "# test_df.to_pickle('test_df.p')\n",
    "\n",
    "# target.to_pickle('target.p')"
   ]
  },
  {
   "cell_type": "markdown",
   "metadata": {},
   "source": [
    "<h3 style=\"text-align:center\">Data reduction (memory)</h3>"
   ]
  },
  {
   "cell_type": "markdown",
   "metadata": {},
   "source": [
    "We will change some column types for less memory usage for the upcoming processing of data. <br>\n",
    "This FAQ <a href=\"https://pandas.pydata.org/pandas-docs/stable/gotchas.html\">pandas doc</a> gives some insight about DataFrame memory usage."
   ]
  },
  {
   "cell_type": "code",
   "execution_count": 5,
   "metadata": {
    "scrolled": false
   },
   "outputs": [
    {
     "name": "stdout",
     "output_type": "stream",
     "text": [
      "products file types:\n",
      "product_id        int64\n",
      "product_name     object\n",
      "aisle_id          int64\n",
      "department_id     int64\n",
      "dtype: object \n",
      "\n",
      "orders file types:\n",
      "order_id                    int64\n",
      "user_id                     int64\n",
      "eval_set                   object\n",
      "order_number                int64\n",
      "order_dow                   int64\n",
      "order_hour_of_day           int64\n",
      "days_since_prior_order    float64\n",
      "dtype: object \n",
      "\n",
      "train_orders types:\n",
      "order_id             int64\n",
      "product_id           int64\n",
      "add_to_cart_order    int64\n",
      "reordered            int64\n",
      "dtype: object \n",
      "\n",
      "prior_orders types:\n",
      "order_id             int64\n",
      "product_id           int64\n",
      "add_to_cart_order    int64\n",
      "reordered            int64\n",
      "dtype: object \n",
      "\n",
      "deparments types:\n",
      "department_id     int64\n",
      "department       object\n",
      "dtype: object \n",
      "\n",
      "aisles types:\n",
      "aisle_id     int64\n",
      "aisle       object\n",
      "dtype: object\n"
     ]
    }
   ],
   "source": [
    "# print(\"products file types:\\n\", products.dtypes)\n",
    "print(\"products file types:\")\n",
    "print(products.dtypes, \"\\n\")\n",
    "\n",
    "print(\"orders file types:\")\n",
    "print(orders.dtypes, \"\\n\")\n",
    "\n",
    "print(\"train_orders types:\")\n",
    "print(train_orders.dtypes, \"\\n\")\n",
    "\n",
    "print(\"prior_orders types:\")\n",
    "print(prior_orders.dtypes, \"\\n\")\n",
    "\n",
    "print(\"deparments types:\")\n",
    "print(dpmt.dtypes, \"\\n\")\n",
    "\n",
    "print(\"aisles types:\")\n",
    "print(aisles.dtypes)"
   ]
  },
  {
   "cell_type": "markdown",
   "metadata": {},
   "source": [
    "From this, one can infer: \n",
    "<ul>\n",
    "    <li>Most of 'object' types can be converted to 'categorical' types. <br>\n",
    "    </li>\n",
    "    <li>64 bytes is not necessary for almost all features, thus reducting this might be a good choice.\n",
    "    </li>\n",
    "    <li>\n",
    "    'float' objects can be casted to int when possible.\n",
    "    </li>\n",
    "</ul>\n"
   ]
  },
  {
   "cell_type": "code",
   "execution_count": 6,
   "metadata": {
    "collapsed": true
   },
   "outputs": [],
   "source": [
    "aisles['aisle'] = aisles['aisle'].astype('category')\n",
    "aisles['aisle_id'] = aisles['aisle_id'].astype(np.int16)\n",
    "\n",
    "dpmt['department'] = dpmt['department'].astype('category')\n",
    "dpmt['department_id'] = dpmt['department_id'].astype(np.int16)\n",
    "\n",
    "products['aisle_id'] = products['aisle_id'].astype(np.int16)\n",
    "products['department_id'] = products['department_id'].astype(np.int16)\n",
    "products['product_id'] = products['product_id'].astype(np.int16)\n",
    "products['product_name'] = products['product_name'].astype('category')\n",
    "\n",
    "orders['order_id'] = orders['order_id'].astype(np.int32)\n",
    "orders['user_id'] = orders['user_id'].astype(np.int32)\n",
    "orders['eval_set'] = orders['eval_set'].astype('category')\n",
    "orders['order_number'] = orders['order_number'].astype(np.int16)\n",
    "orders['order_dow'] = orders['order_dow'].astype(np.int16)\n",
    "orders['order_hour_of_day'] = orders['order_hour_of_day'].astype(np.int16)\n",
    "orders['days_since_prior_order'] = orders['days_since_prior_order'].astype(np.float16)\n",
    "\n",
    "train_orders['order_id'] = train_orders['order_id'].astype(np.int32)\n",
    "train_orders['product_id'] = train_orders['product_id'].astype(np.int32)\n",
    "train_orders['add_to_cart_order'] = train_orders['add_to_cart_order'].astype(np.int16)\n",
    "train_orders['reordered'] = train_orders['reordered'].astype(np.int16)\n",
    "\n",
    "prior_orders['order_id'] = prior_orders['order_id'].astype(np.int32)\n",
    "prior_orders['product_id'] = prior_orders['product_id'].astype(np.int32)\n",
    "prior_orders['add_to_cart_order'] = prior_orders['add_to_cart_order'].astype(np.int16)\n",
    "prior_orders['reordered'] = prior_orders['reordered'].astype(np.int16)\n",
    "\n",
    "# prior_orders['aisle_id'] = prior_orders['aisle_id'].astype(np.int16)\n",
    "# prior_orders['department_id'] = prior_orders['department_id'].astype(np.int16)\n",
    "# prior_orders['aisle'] = prior_orders['aisle'].astype('category')\n",
    "# prior_orders['department'] = prior_orders['department'].astype('category')\n"
   ]
  },
  {
   "cell_type": "markdown",
   "metadata": {},
   "source": [
    "<h3 style=\"text-align:center\">Data Analysis</h3>"
   ]
  },
  {
   "cell_type": "code",
   "execution_count": 7,
   "metadata": {
    "scrolled": false
   },
   "outputs": [
    {
     "name": "stdout",
     "output_type": "stream",
     "text": [
      "products shape: (49688, 4)\n",
      "orders shape: (3421083, 7)\n",
      "train_orders shape: (1384617, 4)\n",
      "prior_orders shape: (32434489, 4)\n",
      "departments shape: (21, 2)\n",
      "aisles shape (134, 2)\n"
     ]
    }
   ],
   "source": [
    "# Shape of dataframes\n",
    "print(\"products shape:\", products.shape)\n",
    "print(\"orders shape:\", orders.shape)\n",
    "print(\"train_orders shape:\", train_orders.shape)\n",
    "print(\"prior_orders shape:\", prior_orders.shape)\n",
    "print(\"departments shape:\", dpmt.shape)\n",
    "print(\"aisles shape\", aisles.shape)"
   ]
  },
  {
   "cell_type": "markdown",
   "metadata": {},
   "source": [
    "Next we look for for missing values in each of the dataframes."
   ]
  },
  {
   "cell_type": "code",
   "execution_count": 8,
   "metadata": {
    "scrolled": true
   },
   "outputs": [
    {
     "name": "stdout",
     "output_type": "stream",
     "text": [
      "Missing values in produts: 0\n",
      "Missing values in orders: 206209\n",
      "Missing values in train_orders: 0\n",
      "Missing values in prior_orders: 0\n"
     ]
    }
   ],
   "source": [
    "print(\"Missing values in produts:\", products.isnull().sum().sum())\n",
    "print(\"Missing values in orders:\", orders.isnull().sum().sum())\n",
    "print(\"Missing values in train_orders:\", train_orders.isnull().sum().sum())\n",
    "print(\"Missing values in prior_orders:\", prior_orders.isnull().sum().sum())"
   ]
  },
  {
   "cell_type": "markdown",
   "metadata": {},
   "source": [
    "Further investigation in orders is needed."
   ]
  },
  {
   "cell_type": "code",
   "execution_count": 9,
   "metadata": {},
   "outputs": [
    {
     "data": {
      "text/plain": [
       "order_id                       0\n",
       "user_id                        0\n",
       "eval_set                       0\n",
       "order_number                   0\n",
       "order_dow                      0\n",
       "order_hour_of_day              0\n",
       "days_since_prior_order    206209\n",
       "dtype: int64"
      ]
     },
     "execution_count": 9,
     "metadata": {},
     "output_type": "execute_result"
    }
   ],
   "source": [
    "orders.isnull().sum()"
   ]
  },
  {
   "cell_type": "markdown",
   "metadata": {},
   "source": [
    "There are only missing values in the days_since_prior_order feature of the orders dataframe amongst the several files provided."
   ]
  },
  {
   "cell_type": "markdown",
   "metadata": {},
   "source": [
    "Check the values of the different files."
   ]
  },
  {
   "cell_type": "markdown",
   "metadata": {},
   "source": [
    "<u>Orders file</u>"
   ]
  },
  {
   "cell_type": "code",
   "execution_count": 10,
   "metadata": {
    "scrolled": false
   },
   "outputs": [
    {
     "data": {
      "text/html": [
       "<div>\n",
       "<style>\n",
       "    .dataframe thead tr:only-child th {\n",
       "        text-align: right;\n",
       "    }\n",
       "\n",
       "    .dataframe thead th {\n",
       "        text-align: left;\n",
       "    }\n",
       "\n",
       "    .dataframe tbody tr th {\n",
       "        vertical-align: top;\n",
       "    }\n",
       "</style>\n",
       "<table border=\"1\" class=\"dataframe\">\n",
       "  <thead>\n",
       "    <tr style=\"text-align: right;\">\n",
       "      <th></th>\n",
       "      <th>order_id</th>\n",
       "      <th>user_id</th>\n",
       "      <th>eval_set</th>\n",
       "      <th>order_number</th>\n",
       "      <th>order_dow</th>\n",
       "      <th>order_hour_of_day</th>\n",
       "      <th>days_since_prior_order</th>\n",
       "    </tr>\n",
       "  </thead>\n",
       "  <tbody>\n",
       "    <tr>\n",
       "      <th>0</th>\n",
       "      <td>2539329</td>\n",
       "      <td>1</td>\n",
       "      <td>prior</td>\n",
       "      <td>1</td>\n",
       "      <td>2</td>\n",
       "      <td>8</td>\n",
       "      <td>NaN</td>\n",
       "    </tr>\n",
       "    <tr>\n",
       "      <th>1</th>\n",
       "      <td>2398795</td>\n",
       "      <td>1</td>\n",
       "      <td>prior</td>\n",
       "      <td>2</td>\n",
       "      <td>3</td>\n",
       "      <td>7</td>\n",
       "      <td>15.0</td>\n",
       "    </tr>\n",
       "    <tr>\n",
       "      <th>2</th>\n",
       "      <td>473747</td>\n",
       "      <td>1</td>\n",
       "      <td>prior</td>\n",
       "      <td>3</td>\n",
       "      <td>3</td>\n",
       "      <td>12</td>\n",
       "      <td>21.0</td>\n",
       "    </tr>\n",
       "    <tr>\n",
       "      <th>3</th>\n",
       "      <td>2254736</td>\n",
       "      <td>1</td>\n",
       "      <td>prior</td>\n",
       "      <td>4</td>\n",
       "      <td>4</td>\n",
       "      <td>7</td>\n",
       "      <td>29.0</td>\n",
       "    </tr>\n",
       "    <tr>\n",
       "      <th>4</th>\n",
       "      <td>431534</td>\n",
       "      <td>1</td>\n",
       "      <td>prior</td>\n",
       "      <td>5</td>\n",
       "      <td>4</td>\n",
       "      <td>15</td>\n",
       "      <td>28.0</td>\n",
       "    </tr>\n",
       "  </tbody>\n",
       "</table>\n",
       "</div>"
      ],
      "text/plain": [
       "   order_id  user_id eval_set  order_number  order_dow  order_hour_of_day  \\\n",
       "0   2539329        1    prior             1          2                  8   \n",
       "1   2398795        1    prior             2          3                  7   \n",
       "2    473747        1    prior             3          3                 12   \n",
       "3   2254736        1    prior             4          4                  7   \n",
       "4    431534        1    prior             5          4                 15   \n",
       "\n",
       "   days_since_prior_order  \n",
       "0                     NaN  \n",
       "1                    15.0  \n",
       "2                    21.0  \n",
       "3                    29.0  \n",
       "4                    28.0  "
      ]
     },
     "execution_count": 10,
     "metadata": {},
     "output_type": "execute_result"
    }
   ],
   "source": [
    "orders.head()"
   ]
  },
  {
   "cell_type": "markdown",
   "metadata": {},
   "source": [
    "<u style=\"padding-left:1.8em\">Understanding eval_set</u>"
   ]
  },
  {
   "cell_type": "markdown",
   "metadata": {},
   "source": [
    "There are 3 evaluation sets: 'prior', 'train', 'test'. <br>\n",
    "'prior' refers to customers who had already bought from Instacart before, hence they have a user_id.\n",
    "'prior' can be found several times from the same user, it just means that multiple previous orders are recorded.<br>\n",
    "Most importantly, these user classified in the 'prior' evaluation set have <b>either</b> a train or test label.<br>\n",
    "We need to separate the \"true\" test and test set from this valuable information."
   ]
  },
  {
   "cell_type": "code",
   "execution_count": 11,
   "metadata": {
    "scrolled": false
   },
   "outputs": [
    {
     "data": {
      "text/html": [
       "<div>\n",
       "<style>\n",
       "    .dataframe thead tr:only-child th {\n",
       "        text-align: right;\n",
       "    }\n",
       "\n",
       "    .dataframe thead th {\n",
       "        text-align: left;\n",
       "    }\n",
       "\n",
       "    .dataframe tbody tr th {\n",
       "        vertical-align: top;\n",
       "    }\n",
       "</style>\n",
       "<table border=\"1\" class=\"dataframe\">\n",
       "  <thead>\n",
       "    <tr style=\"text-align: right;\">\n",
       "      <th></th>\n",
       "      <th>order_id</th>\n",
       "      <th>user_id</th>\n",
       "      <th>eval_set</th>\n",
       "      <th>order_number</th>\n",
       "      <th>order_dow</th>\n",
       "      <th>order_hour_of_day</th>\n",
       "      <th>days_since_prior_order</th>\n",
       "    </tr>\n",
       "  </thead>\n",
       "  <tbody>\n",
       "    <tr>\n",
       "      <th>0</th>\n",
       "      <td>2539329</td>\n",
       "      <td>1</td>\n",
       "      <td>prior</td>\n",
       "      <td>1</td>\n",
       "      <td>2</td>\n",
       "      <td>8</td>\n",
       "      <td>NaN</td>\n",
       "    </tr>\n",
       "    <tr>\n",
       "      <th>1</th>\n",
       "      <td>2398795</td>\n",
       "      <td>1</td>\n",
       "      <td>prior</td>\n",
       "      <td>2</td>\n",
       "      <td>3</td>\n",
       "      <td>7</td>\n",
       "      <td>15.0</td>\n",
       "    </tr>\n",
       "    <tr>\n",
       "      <th>2</th>\n",
       "      <td>473747</td>\n",
       "      <td>1</td>\n",
       "      <td>prior</td>\n",
       "      <td>3</td>\n",
       "      <td>3</td>\n",
       "      <td>12</td>\n",
       "      <td>21.0</td>\n",
       "    </tr>\n",
       "    <tr>\n",
       "      <th>3</th>\n",
       "      <td>2254736</td>\n",
       "      <td>1</td>\n",
       "      <td>prior</td>\n",
       "      <td>4</td>\n",
       "      <td>4</td>\n",
       "      <td>7</td>\n",
       "      <td>29.0</td>\n",
       "    </tr>\n",
       "    <tr>\n",
       "      <th>4</th>\n",
       "      <td>431534</td>\n",
       "      <td>1</td>\n",
       "      <td>prior</td>\n",
       "      <td>5</td>\n",
       "      <td>4</td>\n",
       "      <td>15</td>\n",
       "      <td>28.0</td>\n",
       "    </tr>\n",
       "    <tr>\n",
       "      <th>5</th>\n",
       "      <td>3367565</td>\n",
       "      <td>1</td>\n",
       "      <td>prior</td>\n",
       "      <td>6</td>\n",
       "      <td>2</td>\n",
       "      <td>7</td>\n",
       "      <td>19.0</td>\n",
       "    </tr>\n",
       "    <tr>\n",
       "      <th>6</th>\n",
       "      <td>550135</td>\n",
       "      <td>1</td>\n",
       "      <td>prior</td>\n",
       "      <td>7</td>\n",
       "      <td>1</td>\n",
       "      <td>9</td>\n",
       "      <td>20.0</td>\n",
       "    </tr>\n",
       "    <tr>\n",
       "      <th>7</th>\n",
       "      <td>3108588</td>\n",
       "      <td>1</td>\n",
       "      <td>prior</td>\n",
       "      <td>8</td>\n",
       "      <td>1</td>\n",
       "      <td>14</td>\n",
       "      <td>14.0</td>\n",
       "    </tr>\n",
       "    <tr>\n",
       "      <th>8</th>\n",
       "      <td>2295261</td>\n",
       "      <td>1</td>\n",
       "      <td>prior</td>\n",
       "      <td>9</td>\n",
       "      <td>1</td>\n",
       "      <td>16</td>\n",
       "      <td>0.0</td>\n",
       "    </tr>\n",
       "    <tr>\n",
       "      <th>9</th>\n",
       "      <td>2550362</td>\n",
       "      <td>1</td>\n",
       "      <td>prior</td>\n",
       "      <td>10</td>\n",
       "      <td>4</td>\n",
       "      <td>8</td>\n",
       "      <td>30.0</td>\n",
       "    </tr>\n",
       "    <tr>\n",
       "      <th>10</th>\n",
       "      <td>1187899</td>\n",
       "      <td>1</td>\n",
       "      <td>train</td>\n",
       "      <td>11</td>\n",
       "      <td>4</td>\n",
       "      <td>8</td>\n",
       "      <td>14.0</td>\n",
       "    </tr>\n",
       "  </tbody>\n",
       "</table>\n",
       "</div>"
      ],
      "text/plain": [
       "    order_id  user_id eval_set  order_number  order_dow  order_hour_of_day  \\\n",
       "0    2539329        1    prior             1          2                  8   \n",
       "1    2398795        1    prior             2          3                  7   \n",
       "2     473747        1    prior             3          3                 12   \n",
       "3    2254736        1    prior             4          4                  7   \n",
       "4     431534        1    prior             5          4                 15   \n",
       "5    3367565        1    prior             6          2                  7   \n",
       "6     550135        1    prior             7          1                  9   \n",
       "7    3108588        1    prior             8          1                 14   \n",
       "8    2295261        1    prior             9          1                 16   \n",
       "9    2550362        1    prior            10          4                  8   \n",
       "10   1187899        1    train            11          4                  8   \n",
       "\n",
       "    days_since_prior_order  \n",
       "0                      NaN  \n",
       "1                     15.0  \n",
       "2                     21.0  \n",
       "3                     29.0  \n",
       "4                     28.0  \n",
       "5                     19.0  \n",
       "6                     20.0  \n",
       "7                     14.0  \n",
       "8                      0.0  \n",
       "9                     30.0  \n",
       "10                    14.0  "
      ]
     },
     "execution_count": 11,
     "metadata": {},
     "output_type": "execute_result"
    }
   ],
   "source": [
    "# an example to understand visually how the problem is structured\n",
    "orders.loc[orders['user_id'] == 1, :]"
   ]
  },
  {
   "cell_type": "code",
   "execution_count": 12,
   "metadata": {
    "collapsed": true,
    "scrolled": true
   },
   "outputs": [],
   "source": [
    "# Gather user_id from 'train' evaluation set into a list\n",
    "user_id_train = orders.loc[(orders['eval_set'] == 'train'), 'user_id'].values\n",
    "# Collect all the orders, 'prior' included, from the train set\n",
    "train_prior_orders = orders.loc[orders['user_id'].isin(user_id_train), :]\n",
    "\n",
    "# We repeat this process for the 'test' evaluation set\n",
    "user_id_test = orders.loc[(orders['eval_set'] == 'test'), 'user_id'].values\n",
    "test_prior_orders = orders.loc[orders['user_id'].isin(user_id_test), :]"
   ]
  },
  {
   "cell_type": "markdown",
   "metadata": {},
   "source": [
    "We can verify the result:"
   ]
  },
  {
   "cell_type": "code",
   "execution_count": 13,
   "metadata": {
    "scrolled": true
   },
   "outputs": [
    {
     "data": {
      "text/html": [
       "<div>\n",
       "<style>\n",
       "    .dataframe thead tr:only-child th {\n",
       "        text-align: right;\n",
       "    }\n",
       "\n",
       "    .dataframe thead th {\n",
       "        text-align: left;\n",
       "    }\n",
       "\n",
       "    .dataframe tbody tr th {\n",
       "        vertical-align: top;\n",
       "    }\n",
       "</style>\n",
       "<table border=\"1\" class=\"dataframe\">\n",
       "  <thead>\n",
       "    <tr style=\"text-align: right;\">\n",
       "      <th></th>\n",
       "      <th>order_id</th>\n",
       "      <th>user_id</th>\n",
       "      <th>eval_set</th>\n",
       "      <th>order_number</th>\n",
       "      <th>order_dow</th>\n",
       "      <th>order_hour_of_day</th>\n",
       "      <th>days_since_prior_order</th>\n",
       "    </tr>\n",
       "  </thead>\n",
       "  <tbody>\n",
       "    <tr>\n",
       "      <th>0</th>\n",
       "      <td>2539329</td>\n",
       "      <td>1</td>\n",
       "      <td>prior</td>\n",
       "      <td>1</td>\n",
       "      <td>2</td>\n",
       "      <td>8</td>\n",
       "      <td>NaN</td>\n",
       "    </tr>\n",
       "    <tr>\n",
       "      <th>1</th>\n",
       "      <td>2398795</td>\n",
       "      <td>1</td>\n",
       "      <td>prior</td>\n",
       "      <td>2</td>\n",
       "      <td>3</td>\n",
       "      <td>7</td>\n",
       "      <td>15.0</td>\n",
       "    </tr>\n",
       "    <tr>\n",
       "      <th>2</th>\n",
       "      <td>473747</td>\n",
       "      <td>1</td>\n",
       "      <td>prior</td>\n",
       "      <td>3</td>\n",
       "      <td>3</td>\n",
       "      <td>12</td>\n",
       "      <td>21.0</td>\n",
       "    </tr>\n",
       "    <tr>\n",
       "      <th>3</th>\n",
       "      <td>2254736</td>\n",
       "      <td>1</td>\n",
       "      <td>prior</td>\n",
       "      <td>4</td>\n",
       "      <td>4</td>\n",
       "      <td>7</td>\n",
       "      <td>29.0</td>\n",
       "    </tr>\n",
       "    <tr>\n",
       "      <th>4</th>\n",
       "      <td>431534</td>\n",
       "      <td>1</td>\n",
       "      <td>prior</td>\n",
       "      <td>5</td>\n",
       "      <td>4</td>\n",
       "      <td>15</td>\n",
       "      <td>28.0</td>\n",
       "    </tr>\n",
       "    <tr>\n",
       "      <th>5</th>\n",
       "      <td>3367565</td>\n",
       "      <td>1</td>\n",
       "      <td>prior</td>\n",
       "      <td>6</td>\n",
       "      <td>2</td>\n",
       "      <td>7</td>\n",
       "      <td>19.0</td>\n",
       "    </tr>\n",
       "    <tr>\n",
       "      <th>6</th>\n",
       "      <td>550135</td>\n",
       "      <td>1</td>\n",
       "      <td>prior</td>\n",
       "      <td>7</td>\n",
       "      <td>1</td>\n",
       "      <td>9</td>\n",
       "      <td>20.0</td>\n",
       "    </tr>\n",
       "    <tr>\n",
       "      <th>7</th>\n",
       "      <td>3108588</td>\n",
       "      <td>1</td>\n",
       "      <td>prior</td>\n",
       "      <td>8</td>\n",
       "      <td>1</td>\n",
       "      <td>14</td>\n",
       "      <td>14.0</td>\n",
       "    </tr>\n",
       "    <tr>\n",
       "      <th>8</th>\n",
       "      <td>2295261</td>\n",
       "      <td>1</td>\n",
       "      <td>prior</td>\n",
       "      <td>9</td>\n",
       "      <td>1</td>\n",
       "      <td>16</td>\n",
       "      <td>0.0</td>\n",
       "    </tr>\n",
       "    <tr>\n",
       "      <th>9</th>\n",
       "      <td>2550362</td>\n",
       "      <td>1</td>\n",
       "      <td>prior</td>\n",
       "      <td>10</td>\n",
       "      <td>4</td>\n",
       "      <td>8</td>\n",
       "      <td>30.0</td>\n",
       "    </tr>\n",
       "    <tr>\n",
       "      <th>10</th>\n",
       "      <td>1187899</td>\n",
       "      <td>1</td>\n",
       "      <td>train</td>\n",
       "      <td>11</td>\n",
       "      <td>4</td>\n",
       "      <td>8</td>\n",
       "      <td>14.0</td>\n",
       "    </tr>\n",
       "  </tbody>\n",
       "</table>\n",
       "</div>"
      ],
      "text/plain": [
       "    order_id  user_id eval_set  order_number  order_dow  order_hour_of_day  \\\n",
       "0    2539329        1    prior             1          2                  8   \n",
       "1    2398795        1    prior             2          3                  7   \n",
       "2     473747        1    prior             3          3                 12   \n",
       "3    2254736        1    prior             4          4                  7   \n",
       "4     431534        1    prior             5          4                 15   \n",
       "5    3367565        1    prior             6          2                  7   \n",
       "6     550135        1    prior             7          1                  9   \n",
       "7    3108588        1    prior             8          1                 14   \n",
       "8    2295261        1    prior             9          1                 16   \n",
       "9    2550362        1    prior            10          4                  8   \n",
       "10   1187899        1    train            11          4                  8   \n",
       "\n",
       "    days_since_prior_order  \n",
       "0                      NaN  \n",
       "1                     15.0  \n",
       "2                     21.0  \n",
       "3                     29.0  \n",
       "4                     28.0  \n",
       "5                     19.0  \n",
       "6                     20.0  \n",
       "7                     14.0  \n",
       "8                      0.0  \n",
       "9                     30.0  \n",
       "10                    14.0  "
      ]
     },
     "execution_count": 13,
     "metadata": {},
     "output_type": "execute_result"
    }
   ],
   "source": [
    "train_prior_orders.head(11)"
   ]
  },
  {
   "cell_type": "code",
   "execution_count": 14,
   "metadata": {
    "scrolled": true
   },
   "outputs": [
    {
     "data": {
      "text/html": [
       "<div>\n",
       "<style>\n",
       "    .dataframe thead tr:only-child th {\n",
       "        text-align: right;\n",
       "    }\n",
       "\n",
       "    .dataframe thead th {\n",
       "        text-align: left;\n",
       "    }\n",
       "\n",
       "    .dataframe tbody tr th {\n",
       "        vertical-align: top;\n",
       "    }\n",
       "</style>\n",
       "<table border=\"1\" class=\"dataframe\">\n",
       "  <thead>\n",
       "    <tr style=\"text-align: right;\">\n",
       "      <th></th>\n",
       "      <th>order_id</th>\n",
       "      <th>user_id</th>\n",
       "      <th>eval_set</th>\n",
       "      <th>order_number</th>\n",
       "      <th>order_dow</th>\n",
       "      <th>order_hour_of_day</th>\n",
       "      <th>days_since_prior_order</th>\n",
       "    </tr>\n",
       "  </thead>\n",
       "  <tbody>\n",
       "    <tr>\n",
       "      <th>26</th>\n",
       "      <td>1374495</td>\n",
       "      <td>3</td>\n",
       "      <td>prior</td>\n",
       "      <td>1</td>\n",
       "      <td>1</td>\n",
       "      <td>14</td>\n",
       "      <td>NaN</td>\n",
       "    </tr>\n",
       "    <tr>\n",
       "      <th>27</th>\n",
       "      <td>444309</td>\n",
       "      <td>3</td>\n",
       "      <td>prior</td>\n",
       "      <td>2</td>\n",
       "      <td>3</td>\n",
       "      <td>19</td>\n",
       "      <td>9.0</td>\n",
       "    </tr>\n",
       "    <tr>\n",
       "      <th>28</th>\n",
       "      <td>3002854</td>\n",
       "      <td>3</td>\n",
       "      <td>prior</td>\n",
       "      <td>3</td>\n",
       "      <td>3</td>\n",
       "      <td>16</td>\n",
       "      <td>21.0</td>\n",
       "    </tr>\n",
       "    <tr>\n",
       "      <th>29</th>\n",
       "      <td>2037211</td>\n",
       "      <td>3</td>\n",
       "      <td>prior</td>\n",
       "      <td>4</td>\n",
       "      <td>2</td>\n",
       "      <td>18</td>\n",
       "      <td>20.0</td>\n",
       "    </tr>\n",
       "    <tr>\n",
       "      <th>30</th>\n",
       "      <td>2710558</td>\n",
       "      <td>3</td>\n",
       "      <td>prior</td>\n",
       "      <td>5</td>\n",
       "      <td>0</td>\n",
       "      <td>17</td>\n",
       "      <td>12.0</td>\n",
       "    </tr>\n",
       "    <tr>\n",
       "      <th>31</th>\n",
       "      <td>1972919</td>\n",
       "      <td>3</td>\n",
       "      <td>prior</td>\n",
       "      <td>6</td>\n",
       "      <td>0</td>\n",
       "      <td>16</td>\n",
       "      <td>7.0</td>\n",
       "    </tr>\n",
       "    <tr>\n",
       "      <th>32</th>\n",
       "      <td>1839752</td>\n",
       "      <td>3</td>\n",
       "      <td>prior</td>\n",
       "      <td>7</td>\n",
       "      <td>0</td>\n",
       "      <td>15</td>\n",
       "      <td>7.0</td>\n",
       "    </tr>\n",
       "    <tr>\n",
       "      <th>33</th>\n",
       "      <td>3225766</td>\n",
       "      <td>3</td>\n",
       "      <td>prior</td>\n",
       "      <td>8</td>\n",
       "      <td>0</td>\n",
       "      <td>17</td>\n",
       "      <td>7.0</td>\n",
       "    </tr>\n",
       "    <tr>\n",
       "      <th>34</th>\n",
       "      <td>3160850</td>\n",
       "      <td>3</td>\n",
       "      <td>prior</td>\n",
       "      <td>9</td>\n",
       "      <td>0</td>\n",
       "      <td>16</td>\n",
       "      <td>7.0</td>\n",
       "    </tr>\n",
       "    <tr>\n",
       "      <th>35</th>\n",
       "      <td>676467</td>\n",
       "      <td>3</td>\n",
       "      <td>prior</td>\n",
       "      <td>10</td>\n",
       "      <td>3</td>\n",
       "      <td>16</td>\n",
       "      <td>17.0</td>\n",
       "    </tr>\n",
       "    <tr>\n",
       "      <th>36</th>\n",
       "      <td>521107</td>\n",
       "      <td>3</td>\n",
       "      <td>prior</td>\n",
       "      <td>11</td>\n",
       "      <td>0</td>\n",
       "      <td>18</td>\n",
       "      <td>11.0</td>\n",
       "    </tr>\n",
       "    <tr>\n",
       "      <th>37</th>\n",
       "      <td>1402502</td>\n",
       "      <td>3</td>\n",
       "      <td>prior</td>\n",
       "      <td>12</td>\n",
       "      <td>1</td>\n",
       "      <td>15</td>\n",
       "      <td>15.0</td>\n",
       "    </tr>\n",
       "    <tr>\n",
       "      <th>38</th>\n",
       "      <td>2774568</td>\n",
       "      <td>3</td>\n",
       "      <td>test</td>\n",
       "      <td>13</td>\n",
       "      <td>5</td>\n",
       "      <td>15</td>\n",
       "      <td>11.0</td>\n",
       "    </tr>\n",
       "  </tbody>\n",
       "</table>\n",
       "</div>"
      ],
      "text/plain": [
       "    order_id  user_id eval_set  order_number  order_dow  order_hour_of_day  \\\n",
       "26   1374495        3    prior             1          1                 14   \n",
       "27    444309        3    prior             2          3                 19   \n",
       "28   3002854        3    prior             3          3                 16   \n",
       "29   2037211        3    prior             4          2                 18   \n",
       "30   2710558        3    prior             5          0                 17   \n",
       "31   1972919        3    prior             6          0                 16   \n",
       "32   1839752        3    prior             7          0                 15   \n",
       "33   3225766        3    prior             8          0                 17   \n",
       "34   3160850        3    prior             9          0                 16   \n",
       "35    676467        3    prior            10          3                 16   \n",
       "36    521107        3    prior            11          0                 18   \n",
       "37   1402502        3    prior            12          1                 15   \n",
       "38   2774568        3     test            13          5                 15   \n",
       "\n",
       "    days_since_prior_order  \n",
       "26                     NaN  \n",
       "27                     9.0  \n",
       "28                    21.0  \n",
       "29                    20.0  \n",
       "30                    12.0  \n",
       "31                     7.0  \n",
       "32                     7.0  \n",
       "33                     7.0  \n",
       "34                     7.0  \n",
       "35                    17.0  \n",
       "36                    11.0  \n",
       "37                    15.0  \n",
       "38                    11.0  "
      ]
     },
     "execution_count": 14,
     "metadata": {},
     "output_type": "execute_result"
    }
   ],
   "source": [
    "test_prior_orders.head(13)"
   ]
  },
  {
   "cell_type": "markdown",
   "metadata": {},
   "source": [
    "<u style=\"padding-left: 1.8em\">Repartition of customers</u>"
   ]
  },
  {
   "cell_type": "code",
   "execution_count": 15,
   "metadata": {},
   "outputs": [
    {
     "name": "stdout",
     "output_type": "stream",
     "text": [
      "eval_set\n",
      "prior    3214874\n",
      "test       75000\n",
      "train     131209\n",
      "dtype: int64 \n",
      "\n",
      "206209\n"
     ]
    }
   ],
   "source": [
    "print(orders.groupby(['eval_set']).size(), \"\\n\")\n",
    "print(orders.groupby(['eval_set']).size()[1:].sum())"
   ]
  },
  {
   "cell_type": "markdown",
   "metadata": {},
   "source": [
    "There are 206,209 customers in total out of which the last purchase of 131,209 customers are given as train set and we need to predict for the rest 75,000 customers."
   ]
  },
  {
   "cell_type": "markdown",
   "metadata": {},
   "source": [
    "<u style=\"padding-left: 1.8em\">Number of orders</u>"
   ]
  },
  {
   "cell_type": "code",
   "execution_count": 16,
   "metadata": {
    "collapsed": true,
    "scrolled": true
   },
   "outputs": [],
   "source": [
    "# Extract only 'train' and 'test' order_number\n",
    "number_order = orders.loc[(orders['eval_set'] == 'train') |  \\\n",
    "                          (orders['eval_set'] == 'test'), 'order_number']"
   ]
  },
  {
   "cell_type": "code",
   "execution_count": 17,
   "metadata": {
    "scrolled": true
   },
   "outputs": [
    {
     "name": "stderr",
     "output_type": "stream",
     "text": [
      "/home/ubuntu/anaconda3/lib/python3.6/site-packages/matplotlib/font_manager.py:1297: UserWarning: findfont: Font family ['sans-serif'] not found. Falling back to DejaVu Sans\n",
      "  (prop.get_family(), self.defaultFamily[fontext]))\n"
     ]
    },
    {
     "data": {
      "image/png": "[encoded data removed]",
      "text/plain": [
       "<matplotlib.figure.Figure at 0x7f1625984550>"
      ]
     },
     "metadata": {},
     "output_type": "display_data"
    }
   ],
   "source": [
    "plt.figure(figsize=(12,8))\n",
    "\n",
    "sns.countplot(x=number_order.values)\n",
    "\n",
    "plt.title('Number of orders by user', size=16)\n",
    "plt.xlabel('Number of orders')\n",
    "plt.ylabel('Number of users')\n",
    "plt.xticks(rotation='vertical')\n",
    "plt.show()"
   ]
  },
  {
   "cell_type": "markdown",
   "metadata": {},
   "source": [
    "We see that for each user is provided between 4 and 100 of their orders.<br>\n",
    "In order words, each user in the dataset must have have been classified in the 'prior' set due to their past purchases.<br>\n",
    "One thing that caught my attention is that there are much more users with low number of orders, indeed the whole purpose of this competition makes sense since Instacart's goal is to understand as soon as possible patterns from new customers for them to still buy from the company."
   ]
  },
  {
   "cell_type": "markdown",
   "metadata": {},
   "source": [
    "<u>Train orders</u>"
   ]
  },
  {
   "cell_type": "code",
   "execution_count": 18,
   "metadata": {
    "scrolled": false
   },
   "outputs": [
    {
     "data": {
      "text/html": [
       "<div>\n",
       "<style>\n",
       "    .dataframe thead tr:only-child th {\n",
       "        text-align: right;\n",
       "    }\n",
       "\n",
       "    .dataframe thead th {\n",
       "        text-align: left;\n",
       "    }\n",
       "\n",
       "    .dataframe tbody tr th {\n",
       "        vertical-align: top;\n",
       "    }\n",
       "</style>\n",
       "<table border=\"1\" class=\"dataframe\">\n",
       "  <thead>\n",
       "    <tr style=\"text-align: right;\">\n",
       "      <th></th>\n",
       "      <th>order_id</th>\n",
       "      <th>product_id</th>\n",
       "      <th>add_to_cart_order</th>\n",
       "      <th>reordered</th>\n",
       "    </tr>\n",
       "  </thead>\n",
       "  <tbody>\n",
       "    <tr>\n",
       "      <th>0</th>\n",
       "      <td>1</td>\n",
       "      <td>49302</td>\n",
       "      <td>1</td>\n",
       "      <td>1</td>\n",
       "    </tr>\n",
       "    <tr>\n",
       "      <th>1</th>\n",
       "      <td>1</td>\n",
       "      <td>11109</td>\n",
       "      <td>2</td>\n",
       "      <td>1</td>\n",
       "    </tr>\n",
       "    <tr>\n",
       "      <th>2</th>\n",
       "      <td>1</td>\n",
       "      <td>10246</td>\n",
       "      <td>3</td>\n",
       "      <td>0</td>\n",
       "    </tr>\n",
       "    <tr>\n",
       "      <th>3</th>\n",
       "      <td>1</td>\n",
       "      <td>49683</td>\n",
       "      <td>4</td>\n",
       "      <td>0</td>\n",
       "    </tr>\n",
       "    <tr>\n",
       "      <th>4</th>\n",
       "      <td>1</td>\n",
       "      <td>43633</td>\n",
       "      <td>5</td>\n",
       "      <td>1</td>\n",
       "    </tr>\n",
       "  </tbody>\n",
       "</table>\n",
       "</div>"
      ],
      "text/plain": [
       "   order_id  product_id  add_to_cart_order  reordered\n",
       "0         1       49302                  1          1\n",
       "1         1       11109                  2          1\n",
       "2         1       10246                  3          0\n",
       "3         1       49683                  4          0\n",
       "4         1       43633                  5          1"
      ]
     },
     "execution_count": 18,
     "metadata": {},
     "output_type": "execute_result"
    }
   ],
   "source": [
    "train_orders.head()"
   ]
  },
  {
   "cell_type": "markdown",
   "metadata": {},
   "source": [
    "train_orders file contains all the products bought from the order_id. <br>\n",
    "Each new product bought by the same order_id is assigned to a new row so that we can at each product if the same user has ordered this product in the past. <br>\n",
    "add_to_cart_order keeps track of the ordering of the products."
   ]
  },
  {
   "cell_type": "code",
   "execution_count": 19,
   "metadata": {
    "scrolled": true
   },
   "outputs": [
    {
     "data": {
      "text/html": [
       "<div>\n",
       "<style>\n",
       "    .dataframe thead tr:only-child th {\n",
       "        text-align: right;\n",
       "    }\n",
       "\n",
       "    .dataframe thead th {\n",
       "        text-align: left;\n",
       "    }\n",
       "\n",
       "    .dataframe tbody tr th {\n",
       "        vertical-align: top;\n",
       "    }\n",
       "</style>\n",
       "<table border=\"1\" class=\"dataframe\">\n",
       "  <thead>\n",
       "    <tr style=\"text-align: right;\">\n",
       "      <th></th>\n",
       "      <th>order_id</th>\n",
       "      <th>product_id</th>\n",
       "      <th>add_to_cart_order</th>\n",
       "      <th>reordered</th>\n",
       "    </tr>\n",
       "  </thead>\n",
       "  <tbody>\n",
       "    <tr>\n",
       "      <th>0</th>\n",
       "      <td>1</td>\n",
       "      <td>49302</td>\n",
       "      <td>1</td>\n",
       "      <td>1</td>\n",
       "    </tr>\n",
       "    <tr>\n",
       "      <th>1</th>\n",
       "      <td>1</td>\n",
       "      <td>11109</td>\n",
       "      <td>2</td>\n",
       "      <td>1</td>\n",
       "    </tr>\n",
       "    <tr>\n",
       "      <th>2</th>\n",
       "      <td>1</td>\n",
       "      <td>10246</td>\n",
       "      <td>3</td>\n",
       "      <td>0</td>\n",
       "    </tr>\n",
       "    <tr>\n",
       "      <th>3</th>\n",
       "      <td>1</td>\n",
       "      <td>49683</td>\n",
       "      <td>4</td>\n",
       "      <td>0</td>\n",
       "    </tr>\n",
       "    <tr>\n",
       "      <th>4</th>\n",
       "      <td>1</td>\n",
       "      <td>43633</td>\n",
       "      <td>5</td>\n",
       "      <td>1</td>\n",
       "    </tr>\n",
       "    <tr>\n",
       "      <th>5</th>\n",
       "      <td>1</td>\n",
       "      <td>13176</td>\n",
       "      <td>6</td>\n",
       "      <td>0</td>\n",
       "    </tr>\n",
       "    <tr>\n",
       "      <th>6</th>\n",
       "      <td>1</td>\n",
       "      <td>47209</td>\n",
       "      <td>7</td>\n",
       "      <td>0</td>\n",
       "    </tr>\n",
       "    <tr>\n",
       "      <th>7</th>\n",
       "      <td>1</td>\n",
       "      <td>22035</td>\n",
       "      <td>8</td>\n",
       "      <td>1</td>\n",
       "    </tr>\n",
       "  </tbody>\n",
       "</table>\n",
       "</div>"
      ],
      "text/plain": [
       "   order_id  product_id  add_to_cart_order  reordered\n",
       "0         1       49302                  1          1\n",
       "1         1       11109                  2          1\n",
       "2         1       10246                  3          0\n",
       "3         1       49683                  4          0\n",
       "4         1       43633                  5          1\n",
       "5         1       13176                  6          0\n",
       "6         1       47209                  7          0\n",
       "7         1       22035                  8          1"
      ]
     },
     "execution_count": 19,
     "metadata": {},
     "output_type": "execute_result"
    }
   ],
   "source": [
    "train_orders.loc[ train_orders['order_id'] == 1, : ]"
   ]
  },
  {
   "cell_type": "markdown",
   "metadata": {},
   "source": [
    "<u>prior_orders</u>"
   ]
  },
  {
   "cell_type": "code",
   "execution_count": 20,
   "metadata": {},
   "outputs": [
    {
     "data": {
      "text/html": [
       "<div>\n",
       "<style>\n",
       "    .dataframe thead tr:only-child th {\n",
       "        text-align: right;\n",
       "    }\n",
       "\n",
       "    .dataframe thead th {\n",
       "        text-align: left;\n",
       "    }\n",
       "\n",
       "    .dataframe tbody tr th {\n",
       "        vertical-align: top;\n",
       "    }\n",
       "</style>\n",
       "<table border=\"1\" class=\"dataframe\">\n",
       "  <thead>\n",
       "    <tr style=\"text-align: right;\">\n",
       "      <th></th>\n",
       "      <th>order_id</th>\n",
       "      <th>product_id</th>\n",
       "      <th>add_to_cart_order</th>\n",
       "      <th>reordered</th>\n",
       "    </tr>\n",
       "  </thead>\n",
       "  <tbody>\n",
       "    <tr>\n",
       "      <th>0</th>\n",
       "      <td>2</td>\n",
       "      <td>33120</td>\n",
       "      <td>1</td>\n",
       "      <td>1</td>\n",
       "    </tr>\n",
       "    <tr>\n",
       "      <th>1</th>\n",
       "      <td>2</td>\n",
       "      <td>28985</td>\n",
       "      <td>2</td>\n",
       "      <td>1</td>\n",
       "    </tr>\n",
       "    <tr>\n",
       "      <th>2</th>\n",
       "      <td>2</td>\n",
       "      <td>9327</td>\n",
       "      <td>3</td>\n",
       "      <td>0</td>\n",
       "    </tr>\n",
       "    <tr>\n",
       "      <th>3</th>\n",
       "      <td>2</td>\n",
       "      <td>45918</td>\n",
       "      <td>4</td>\n",
       "      <td>1</td>\n",
       "    </tr>\n",
       "    <tr>\n",
       "      <th>4</th>\n",
       "      <td>2</td>\n",
       "      <td>30035</td>\n",
       "      <td>5</td>\n",
       "      <td>0</td>\n",
       "    </tr>\n",
       "  </tbody>\n",
       "</table>\n",
       "</div>"
      ],
      "text/plain": [
       "   order_id  product_id  add_to_cart_order  reordered\n",
       "0         2       33120                  1          1\n",
       "1         2       28985                  2          1\n",
       "2         2        9327                  3          0\n",
       "3         2       45918                  4          1\n",
       "4         2       30035                  5          0"
      ]
     },
     "execution_count": 20,
     "metadata": {},
     "output_type": "execute_result"
    }
   ],
   "source": [
    "prior_orders.head()"
   ]
  },
  {
   "cell_type": "markdown",
   "metadata": {},
   "source": [
    "As train_orders, prior_orders contain the same type of information, but for the orders on the 'prior' evaluation set only."
   ]
  },
  {
   "cell_type": "markdown",
   "metadata": {},
   "source": [
    "<u>Food information</u>"
   ]
  },
  {
   "cell_type": "markdown",
   "metadata": {},
   "source": [
    "<u>Products</u>"
   ]
  },
  {
   "cell_type": "code",
   "execution_count": 21,
   "metadata": {
    "scrolled": true
   },
   "outputs": [
    {
     "data": {
      "text/html": [
       "<div>\n",
       "<style>\n",
       "    .dataframe thead tr:only-child th {\n",
       "        text-align: right;\n",
       "    }\n",
       "\n",
       "    .dataframe thead th {\n",
       "        text-align: left;\n",
       "    }\n",
       "\n",
       "    .dataframe tbody tr th {\n",
       "        vertical-align: top;\n",
       "    }\n",
       "</style>\n",
       "<table border=\"1\" class=\"dataframe\">\n",
       "  <thead>\n",
       "    <tr style=\"text-align: right;\">\n",
       "      <th></th>\n",
       "      <th>product_id</th>\n",
       "      <th>product_name</th>\n",
       "      <th>aisle_id</th>\n",
       "      <th>department_id</th>\n",
       "    </tr>\n",
       "  </thead>\n",
       "  <tbody>\n",
       "    <tr>\n",
       "      <th>0</th>\n",
       "      <td>1</td>\n",
       "      <td>Chocolate Sandwich Cookies</td>\n",
       "      <td>61</td>\n",
       "      <td>19</td>\n",
       "    </tr>\n",
       "    <tr>\n",
       "      <th>1</th>\n",
       "      <td>2</td>\n",
       "      <td>All-Seasons Salt</td>\n",
       "      <td>104</td>\n",
       "      <td>13</td>\n",
       "    </tr>\n",
       "    <tr>\n",
       "      <th>2</th>\n",
       "      <td>3</td>\n",
       "      <td>Robust Golden Unsweetened Oolong Tea</td>\n",
       "      <td>94</td>\n",
       "      <td>7</td>\n",
       "    </tr>\n",
       "    <tr>\n",
       "      <th>3</th>\n",
       "      <td>4</td>\n",
       "      <td>Smart Ones Classic Favorites Mini Rigatoni Wit...</td>\n",
       "      <td>38</td>\n",
       "      <td>1</td>\n",
       "    </tr>\n",
       "    <tr>\n",
       "      <th>4</th>\n",
       "      <td>5</td>\n",
       "      <td>Green Chile Anytime Sauce</td>\n",
       "      <td>5</td>\n",
       "      <td>13</td>\n",
       "    </tr>\n",
       "  </tbody>\n",
       "</table>\n",
       "</div>"
      ],
      "text/plain": [
       "   product_id                                       product_name  aisle_id  \\\n",
       "0           1                         Chocolate Sandwich Cookies        61   \n",
       "1           2                                   All-Seasons Salt       104   \n",
       "2           3               Robust Golden Unsweetened Oolong Tea        94   \n",
       "3           4  Smart Ones Classic Favorites Mini Rigatoni Wit...        38   \n",
       "4           5                          Green Chile Anytime Sauce         5   \n",
       "\n",
       "   department_id  \n",
       "0             19  \n",
       "1             13  \n",
       "2              7  \n",
       "3              1  \n",
       "4             13  "
      ]
     },
     "execution_count": 21,
     "metadata": {},
     "output_type": "execute_result"
    }
   ],
   "source": [
    "products.head()"
   ]
  },
  {
   "cell_type": "code",
   "execution_count": 22,
   "metadata": {},
   "outputs": [
    {
     "data": {
      "text/html": [
       "<div>\n",
       "<style>\n",
       "    .dataframe thead tr:only-child th {\n",
       "        text-align: right;\n",
       "    }\n",
       "\n",
       "    .dataframe thead th {\n",
       "        text-align: left;\n",
       "    }\n",
       "\n",
       "    .dataframe tbody tr th {\n",
       "        vertical-align: top;\n",
       "    }\n",
       "</style>\n",
       "<table border=\"1\" class=\"dataframe\">\n",
       "  <thead>\n",
       "    <tr style=\"text-align: right;\">\n",
       "      <th></th>\n",
       "      <th>aisle_id</th>\n",
       "      <th>aisle</th>\n",
       "    </tr>\n",
       "  </thead>\n",
       "  <tbody>\n",
       "    <tr>\n",
       "      <th>0</th>\n",
       "      <td>1</td>\n",
       "      <td>prepared soups salads</td>\n",
       "    </tr>\n",
       "    <tr>\n",
       "      <th>1</th>\n",
       "      <td>2</td>\n",
       "      <td>specialty cheeses</td>\n",
       "    </tr>\n",
       "    <tr>\n",
       "      <th>2</th>\n",
       "      <td>3</td>\n",
       "      <td>energy granola bars</td>\n",
       "    </tr>\n",
       "    <tr>\n",
       "      <th>3</th>\n",
       "      <td>4</td>\n",
       "      <td>instant foods</td>\n",
       "    </tr>\n",
       "    <tr>\n",
       "      <th>4</th>\n",
       "      <td>5</td>\n",
       "      <td>marinades meat preparation</td>\n",
       "    </tr>\n",
       "  </tbody>\n",
       "</table>\n",
       "</div>"
      ],
      "text/plain": [
       "   aisle_id                       aisle\n",
       "0         1       prepared soups salads\n",
       "1         2           specialty cheeses\n",
       "2         3         energy granola bars\n",
       "3         4               instant foods\n",
       "4         5  marinades meat preparation"
      ]
     },
     "execution_count": 22,
     "metadata": {},
     "output_type": "execute_result"
    }
   ],
   "source": [
    "aisles.head()"
   ]
  },
  {
   "cell_type": "code",
   "execution_count": 23,
   "metadata": {},
   "outputs": [
    {
     "data": {
      "text/html": [
       "<div>\n",
       "<style>\n",
       "    .dataframe thead tr:only-child th {\n",
       "        text-align: right;\n",
       "    }\n",
       "\n",
       "    .dataframe thead th {\n",
       "        text-align: left;\n",
       "    }\n",
       "\n",
       "    .dataframe tbody tr th {\n",
       "        vertical-align: top;\n",
       "    }\n",
       "</style>\n",
       "<table border=\"1\" class=\"dataframe\">\n",
       "  <thead>\n",
       "    <tr style=\"text-align: right;\">\n",
       "      <th></th>\n",
       "      <th>department_id</th>\n",
       "      <th>department</th>\n",
       "    </tr>\n",
       "  </thead>\n",
       "  <tbody>\n",
       "    <tr>\n",
       "      <th>0</th>\n",
       "      <td>1</td>\n",
       "      <td>frozen</td>\n",
       "    </tr>\n",
       "    <tr>\n",
       "      <th>1</th>\n",
       "      <td>2</td>\n",
       "      <td>other</td>\n",
       "    </tr>\n",
       "    <tr>\n",
       "      <th>2</th>\n",
       "      <td>3</td>\n",
       "      <td>bakery</td>\n",
       "    </tr>\n",
       "    <tr>\n",
       "      <th>3</th>\n",
       "      <td>4</td>\n",
       "      <td>produce</td>\n",
       "    </tr>\n",
       "    <tr>\n",
       "      <th>4</th>\n",
       "      <td>5</td>\n",
       "      <td>alcohol</td>\n",
       "    </tr>\n",
       "  </tbody>\n",
       "</table>\n",
       "</div>"
      ],
      "text/plain": [
       "   department_id department\n",
       "0              1     frozen\n",
       "1              2      other\n",
       "2              3     bakery\n",
       "3              4    produce\n",
       "4              5    alcohol"
      ]
     },
     "execution_count": 23,
     "metadata": {},
     "output_type": "execute_result"
    }
   ],
   "source": [
    "dpmt.head()"
   ]
  },
  {
   "cell_type": "markdown",
   "metadata": {},
   "source": [
    "The food information is distribution through different files and merging these data with prior_orders appropriately will help us understand better the information as only id is given in the prior_orders file."
   ]
  },
  {
   "cell_type": "code",
   "execution_count": 24,
   "metadata": {},
   "outputs": [
    {
     "data": {
      "text/html": [
       "<div>\n",
       "<style>\n",
       "    .dataframe thead tr:only-child th {\n",
       "        text-align: right;\n",
       "    }\n",
       "\n",
       "    .dataframe thead th {\n",
       "        text-align: left;\n",
       "    }\n",
       "\n",
       "    .dataframe tbody tr th {\n",
       "        vertical-align: top;\n",
       "    }\n",
       "</style>\n",
       "<table border=\"1\" class=\"dataframe\">\n",
       "  <thead>\n",
       "    <tr style=\"text-align: right;\">\n",
       "      <th></th>\n",
       "      <th>order_id</th>\n",
       "      <th>product_id</th>\n",
       "      <th>add_to_cart_order</th>\n",
       "      <th>reordered</th>\n",
       "    </tr>\n",
       "  </thead>\n",
       "  <tbody>\n",
       "    <tr>\n",
       "      <th>0</th>\n",
       "      <td>2</td>\n",
       "      <td>33120</td>\n",
       "      <td>1</td>\n",
       "      <td>1</td>\n",
       "    </tr>\n",
       "    <tr>\n",
       "      <th>1</th>\n",
       "      <td>2</td>\n",
       "      <td>28985</td>\n",
       "      <td>2</td>\n",
       "      <td>1</td>\n",
       "    </tr>\n",
       "    <tr>\n",
       "      <th>2</th>\n",
       "      <td>2</td>\n",
       "      <td>9327</td>\n",
       "      <td>3</td>\n",
       "      <td>0</td>\n",
       "    </tr>\n",
       "    <tr>\n",
       "      <th>3</th>\n",
       "      <td>2</td>\n",
       "      <td>45918</td>\n",
       "      <td>4</td>\n",
       "      <td>1</td>\n",
       "    </tr>\n",
       "    <tr>\n",
       "      <th>4</th>\n",
       "      <td>2</td>\n",
       "      <td>30035</td>\n",
       "      <td>5</td>\n",
       "      <td>0</td>\n",
       "    </tr>\n",
       "  </tbody>\n",
       "</table>\n",
       "</div>"
      ],
      "text/plain": [
       "   order_id  product_id  add_to_cart_order  reordered\n",
       "0         2       33120                  1          1\n",
       "1         2       28985                  2          1\n",
       "2         2        9327                  3          0\n",
       "3         2       45918                  4          1\n",
       "4         2       30035                  5          0"
      ]
     },
     "execution_count": 24,
     "metadata": {},
     "output_type": "execute_result"
    }
   ],
   "source": [
    "prior_orders.head()"
   ]
  },
  {
   "cell_type": "code",
   "execution_count": 25,
   "metadata": {},
   "outputs": [
    {
     "data": {
      "text/html": [
       "<div>\n",
       "<style>\n",
       "    .dataframe thead tr:only-child th {\n",
       "        text-align: right;\n",
       "    }\n",
       "\n",
       "    .dataframe thead th {\n",
       "        text-align: left;\n",
       "    }\n",
       "\n",
       "    .dataframe tbody tr th {\n",
       "        vertical-align: top;\n",
       "    }\n",
       "</style>\n",
       "<table border=\"1\" class=\"dataframe\">\n",
       "  <thead>\n",
       "    <tr style=\"text-align: right;\">\n",
       "      <th></th>\n",
       "      <th>product_id</th>\n",
       "      <th>product_name</th>\n",
       "      <th>aisle_id</th>\n",
       "      <th>department_id</th>\n",
       "    </tr>\n",
       "  </thead>\n",
       "  <tbody>\n",
       "    <tr>\n",
       "      <th>0</th>\n",
       "      <td>1</td>\n",
       "      <td>Chocolate Sandwich Cookies</td>\n",
       "      <td>61</td>\n",
       "      <td>19</td>\n",
       "    </tr>\n",
       "    <tr>\n",
       "      <th>1</th>\n",
       "      <td>2</td>\n",
       "      <td>All-Seasons Salt</td>\n",
       "      <td>104</td>\n",
       "      <td>13</td>\n",
       "    </tr>\n",
       "    <tr>\n",
       "      <th>2</th>\n",
       "      <td>3</td>\n",
       "      <td>Robust Golden Unsweetened Oolong Tea</td>\n",
       "      <td>94</td>\n",
       "      <td>7</td>\n",
       "    </tr>\n",
       "    <tr>\n",
       "      <th>3</th>\n",
       "      <td>4</td>\n",
       "      <td>Smart Ones Classic Favorites Mini Rigatoni Wit...</td>\n",
       "      <td>38</td>\n",
       "      <td>1</td>\n",
       "    </tr>\n",
       "    <tr>\n",
       "      <th>4</th>\n",
       "      <td>5</td>\n",
       "      <td>Green Chile Anytime Sauce</td>\n",
       "      <td>5</td>\n",
       "      <td>13</td>\n",
       "    </tr>\n",
       "  </tbody>\n",
       "</table>\n",
       "</div>"
      ],
      "text/plain": [
       "   product_id                                       product_name  aisle_id  \\\n",
       "0           1                         Chocolate Sandwich Cookies        61   \n",
       "1           2                                   All-Seasons Salt       104   \n",
       "2           3               Robust Golden Unsweetened Oolong Tea        94   \n",
       "3           4  Smart Ones Classic Favorites Mini Rigatoni Wit...        38   \n",
       "4           5                          Green Chile Anytime Sauce         5   \n",
       "\n",
       "   department_id  \n",
       "0             19  \n",
       "1             13  \n",
       "2              7  \n",
       "3              1  \n",
       "4             13  "
      ]
     },
     "execution_count": 25,
     "metadata": {},
     "output_type": "execute_result"
    }
   ],
   "source": [
    "products.head()"
   ]
  },
  {
   "cell_type": "code",
   "execution_count": 26,
   "metadata": {
    "collapsed": true
   },
   "outputs": [],
   "source": [
    "# t0 = time()\n",
    "# prior_orders = prior_orders.merge(products, how='left', on='product_id')\n",
    "# # prior_orders = prior_orders.merge(aisles, how='left', on='aisle_id')\n",
    "# # prior_orders = prior_orders.merge(dpmt, how='left', on='department_id')\n",
    "\n",
    "# t1 = time()\n",
    "# print(\"time elapsed:\", round((t1-t0), 3), \"s\")"
   ]
  },
  {
   "cell_type": "code",
   "execution_count": 27,
   "metadata": {
    "collapsed": true
   },
   "outputs": [],
   "source": [
    "# t0 = time()\n",
    "# # prior_orders = prior_orders.merge(products, how='left', on='product_id')\n",
    "# prior_orders = prior_orders.merge(aisles, how='left', on='aisle_id')\n",
    "# # prior_orders = prior_orders.merge(dpmt, how='left', on='department_id')\n",
    "\n",
    "# t1 = time()\n",
    "# print(\"time elapsed:\", round((t1-t0), 3), \"s\")"
   ]
  },
  {
   "cell_type": "code",
   "execution_count": 28,
   "metadata": {
    "collapsed": true
   },
   "outputs": [],
   "source": [
    "# t0 = time()\n",
    "# # prior_orders = prior_orders.merge(products, how='left', on='product_id')\n",
    "# # prior_orders = prior_orders.merge(aisles, how='left', on='aisle_id')\n",
    "# prior_orders = prior_orders.merge(dpmt, how='left', on='department_id')\n",
    "\n",
    "# t1 = time()\n",
    "# print(\"time elapsed:\", round((t1-t0), 3), \"s\")"
   ]
  },
  {
   "cell_type": "code",
   "execution_count": 29,
   "metadata": {
    "scrolled": true
   },
   "outputs": [
    {
     "data": {
      "text/html": [
       "<div>\n",
       "<style>\n",
       "    .dataframe thead tr:only-child th {\n",
       "        text-align: right;\n",
       "    }\n",
       "\n",
       "    .dataframe thead th {\n",
       "        text-align: left;\n",
       "    }\n",
       "\n",
       "    .dataframe tbody tr th {\n",
       "        vertical-align: top;\n",
       "    }\n",
       "</style>\n",
       "<table border=\"1\" class=\"dataframe\">\n",
       "  <thead>\n",
       "    <tr style=\"text-align: right;\">\n",
       "      <th></th>\n",
       "      <th>order_id</th>\n",
       "      <th>product_id</th>\n",
       "      <th>add_to_cart_order</th>\n",
       "      <th>reordered</th>\n",
       "    </tr>\n",
       "  </thead>\n",
       "  <tbody>\n",
       "    <tr>\n",
       "      <th>0</th>\n",
       "      <td>2</td>\n",
       "      <td>33120</td>\n",
       "      <td>1</td>\n",
       "      <td>1</td>\n",
       "    </tr>\n",
       "    <tr>\n",
       "      <th>1</th>\n",
       "      <td>2</td>\n",
       "      <td>28985</td>\n",
       "      <td>2</td>\n",
       "      <td>1</td>\n",
       "    </tr>\n",
       "    <tr>\n",
       "      <th>2</th>\n",
       "      <td>2</td>\n",
       "      <td>9327</td>\n",
       "      <td>3</td>\n",
       "      <td>0</td>\n",
       "    </tr>\n",
       "    <tr>\n",
       "      <th>3</th>\n",
       "      <td>2</td>\n",
       "      <td>45918</td>\n",
       "      <td>4</td>\n",
       "      <td>1</td>\n",
       "    </tr>\n",
       "    <tr>\n",
       "      <th>4</th>\n",
       "      <td>2</td>\n",
       "      <td>30035</td>\n",
       "      <td>5</td>\n",
       "      <td>0</td>\n",
       "    </tr>\n",
       "  </tbody>\n",
       "</table>\n",
       "</div>"
      ],
      "text/plain": [
       "   order_id  product_id  add_to_cart_order  reordered\n",
       "0         2       33120                  1          1\n",
       "1         2       28985                  2          1\n",
       "2         2        9327                  3          0\n",
       "3         2       45918                  4          1\n",
       "4         2       30035                  5          0"
      ]
     },
     "execution_count": 29,
     "metadata": {},
     "output_type": "execute_result"
    }
   ],
   "source": [
    "prior_orders.head()"
   ]
  },
  {
   "cell_type": "code",
   "execution_count": 30,
   "metadata": {},
   "outputs": [
    {
     "data": {
      "text/html": [
       "<div>\n",
       "<style>\n",
       "    .dataframe thead tr:only-child th {\n",
       "        text-align: right;\n",
       "    }\n",
       "\n",
       "    .dataframe thead th {\n",
       "        text-align: left;\n",
       "    }\n",
       "\n",
       "    .dataframe tbody tr th {\n",
       "        vertical-align: top;\n",
       "    }\n",
       "</style>\n",
       "<table border=\"1\" class=\"dataframe\">\n",
       "  <thead>\n",
       "    <tr style=\"text-align: right;\">\n",
       "      <th></th>\n",
       "      <th>order_id</th>\n",
       "      <th>product_id</th>\n",
       "      <th>add_to_cart_order</th>\n",
       "      <th>reordered</th>\n",
       "    </tr>\n",
       "  </thead>\n",
       "  <tbody>\n",
       "    <tr>\n",
       "      <th>0</th>\n",
       "      <td>2</td>\n",
       "      <td>33120</td>\n",
       "      <td>1</td>\n",
       "      <td>1</td>\n",
       "    </tr>\n",
       "    <tr>\n",
       "      <th>1</th>\n",
       "      <td>2</td>\n",
       "      <td>28985</td>\n",
       "      <td>2</td>\n",
       "      <td>1</td>\n",
       "    </tr>\n",
       "    <tr>\n",
       "      <th>2</th>\n",
       "      <td>2</td>\n",
       "      <td>9327</td>\n",
       "      <td>3</td>\n",
       "      <td>0</td>\n",
       "    </tr>\n",
       "    <tr>\n",
       "      <th>3</th>\n",
       "      <td>2</td>\n",
       "      <td>45918</td>\n",
       "      <td>4</td>\n",
       "      <td>1</td>\n",
       "    </tr>\n",
       "    <tr>\n",
       "      <th>4</th>\n",
       "      <td>2</td>\n",
       "      <td>30035</td>\n",
       "      <td>5</td>\n",
       "      <td>0</td>\n",
       "    </tr>\n",
       "  </tbody>\n",
       "</table>\n",
       "</div>"
      ],
      "text/plain": [
       "   order_id  product_id  add_to_cart_order  reordered\n",
       "0         2       33120                  1          1\n",
       "1         2       28985                  2          1\n",
       "2         2        9327                  3          0\n",
       "3         2       45918                  4          1\n",
       "4         2       30035                  5          0"
      ]
     },
     "execution_count": 30,
     "metadata": {},
     "output_type": "execute_result"
    }
   ],
   "source": [
    "prior_orders.head()"
   ]
  },
  {
   "cell_type": "code",
   "execution_count": 31,
   "metadata": {},
   "outputs": [
    {
     "data": {
      "text/plain": [
       "order_id             int32\n",
       "product_id           int32\n",
       "add_to_cart_order    int16\n",
       "reordered            int16\n",
       "dtype: object"
      ]
     },
     "execution_count": 31,
     "metadata": {},
     "output_type": "execute_result"
    }
   ],
   "source": [
    "prior_orders.dtypes"
   ]
  },
  {
   "cell_type": "markdown",
   "metadata": {},
   "source": [
    "<h3 style=\"text-align:center\">Checkpoint</h3>"
   ]
  },
  {
   "cell_type": "code",
   "execution_count": 32,
   "metadata": {
    "collapsed": true
   },
   "outputs": [],
   "source": [
    "products.to_pickle('data/products.p')\n",
    "orders.to_pickle('data/orders.p')\n",
    "train_orders.to_pickle('data/order_products_train.p')\n",
    "prior_orders.to_pickle('data/order_products_prior.p')\n",
    "dpmt.to_pickle('data/departments.p')\n",
    "aisles.to_pickle('data/aisle')"
   ]
  },
  {
   "cell_type": "code",
   "execution_count": 3,
   "metadata": {
    "collapsed": true
   },
   "outputs": [],
   "source": [
    "# Loading the pickle file, analysis can start here and we don't have to process the previous code each time we come back\n",
    "\n",
    "products = pd.read_pickle('data/products.p')\n",
    "orders = pd.read_pickle('data/orders.p')\n",
    "train_orders = pd.read_pickle('data/order_products_train.p')\n",
    "prior_orders = pd.read_pickle('data/order_products_prior.p')\n",
    "dpmt = pd.read_pickle('data/departments.p')\n",
    "aisles = pd.read_pickle('data/aisle')"
   ]
  },
  {
   "cell_type": "markdown",
   "metadata": {},
   "source": [
    "<h3 style=\"text-align:center\">Feature Engineering</h3>"
   ]
  },
  {
   "cell_type": "markdown",
   "metadata": {},
   "source": [
    "First, let's fill the missing values in the days_since_prior_order feature. It corresponds to user's fist purchase."
   ]
  },
  {
   "cell_type": "code",
   "execution_count": 4,
   "metadata": {
    "collapsed": true
   },
   "outputs": [],
   "source": [
    "orders['days_since_prior_order'] = orders['days_since_prior_order'].fillna(0).astype(np.int16)"
   ]
  },
  {
   "cell_type": "code",
   "execution_count": 5,
   "metadata": {
    "scrolled": true
   },
   "outputs": [
    {
     "data": {
      "text/html": [
       "<div>\n",
       "<style>\n",
       "    .dataframe thead tr:only-child th {\n",
       "        text-align: right;\n",
       "    }\n",
       "\n",
       "    .dataframe thead th {\n",
       "        text-align: left;\n",
       "    }\n",
       "\n",
       "    .dataframe tbody tr th {\n",
       "        vertical-align: top;\n",
       "    }\n",
       "</style>\n",
       "<table border=\"1\" class=\"dataframe\">\n",
       "  <thead>\n",
       "    <tr style=\"text-align: right;\">\n",
       "      <th></th>\n",
       "      <th>order_id</th>\n",
       "      <th>product_id</th>\n",
       "      <th>add_to_cart_order</th>\n",
       "      <th>reordered</th>\n",
       "    </tr>\n",
       "  </thead>\n",
       "  <tbody>\n",
       "    <tr>\n",
       "      <th>0</th>\n",
       "      <td>2</td>\n",
       "      <td>33120</td>\n",
       "      <td>1</td>\n",
       "      <td>1</td>\n",
       "    </tr>\n",
       "    <tr>\n",
       "      <th>1</th>\n",
       "      <td>2</td>\n",
       "      <td>28985</td>\n",
       "      <td>2</td>\n",
       "      <td>1</td>\n",
       "    </tr>\n",
       "    <tr>\n",
       "      <th>2</th>\n",
       "      <td>2</td>\n",
       "      <td>9327</td>\n",
       "      <td>3</td>\n",
       "      <td>0</td>\n",
       "    </tr>\n",
       "    <tr>\n",
       "      <th>3</th>\n",
       "      <td>2</td>\n",
       "      <td>45918</td>\n",
       "      <td>4</td>\n",
       "      <td>1</td>\n",
       "    </tr>\n",
       "    <tr>\n",
       "      <th>4</th>\n",
       "      <td>2</td>\n",
       "      <td>30035</td>\n",
       "      <td>5</td>\n",
       "      <td>0</td>\n",
       "    </tr>\n",
       "  </tbody>\n",
       "</table>\n",
       "</div>"
      ],
      "text/plain": [
       "   order_id  product_id  add_to_cart_order  reordered\n",
       "0         2       33120                  1          1\n",
       "1         2       28985                  2          1\n",
       "2         2        9327                  3          0\n",
       "3         2       45918                  4          1\n",
       "4         2       30035                  5          0"
      ]
     },
     "execution_count": 5,
     "metadata": {},
     "output_type": "execute_result"
    }
   ],
   "source": [
    "prior_orders.head()"
   ]
  },
  {
   "cell_type": "markdown",
   "metadata": {},
   "source": [
    "Now, let's regroup the features."
   ]
  },
  {
   "cell_type": "code",
   "execution_count": 6,
   "metadata": {
    "collapsed": true,
    "scrolled": true
   },
   "outputs": [],
   "source": [
    "# Include user_id feature in train_orders\n",
    "\n",
    "train_orders = train_orders.merge(orders[['user_id', 'order_id']], \\\n",
    "                                  left_on='order_id', right_on='order_id', \\\n",
    "                                  how='inner')"
   ]
  },
  {
   "cell_type": "code",
   "execution_count": 7,
   "metadata": {
    "collapsed": true
   },
   "outputs": [],
   "source": [
    "# Merge prior_orders and orders \n",
    "\n",
    "# 'inner' use intersetion of keys from both frames\n",
    "orders_prior_merged = orders.merge(prior_orders, how='inner', on='order_id')"
   ]
  },
  {
   "cell_type": "code",
   "execution_count": 8,
   "metadata": {},
   "outputs": [
    {
     "data": {
      "text/html": [
       "<div>\n",
       "<style>\n",
       "    .dataframe thead tr:only-child th {\n",
       "        text-align: right;\n",
       "    }\n",
       "\n",
       "    .dataframe thead th {\n",
       "        text-align: left;\n",
       "    }\n",
       "\n",
       "    .dataframe tbody tr th {\n",
       "        vertical-align: top;\n",
       "    }\n",
       "</style>\n",
       "<table border=\"1\" class=\"dataframe\">\n",
       "  <thead>\n",
       "    <tr style=\"text-align: right;\">\n",
       "      <th></th>\n",
       "      <th>order_id</th>\n",
       "      <th>user_id</th>\n",
       "      <th>eval_set</th>\n",
       "      <th>order_number</th>\n",
       "      <th>order_dow</th>\n",
       "      <th>order_hour_of_day</th>\n",
       "      <th>days_since_prior_order</th>\n",
       "      <th>product_id</th>\n",
       "      <th>add_to_cart_order</th>\n",
       "      <th>reordered</th>\n",
       "    </tr>\n",
       "  </thead>\n",
       "  <tbody>\n",
       "    <tr>\n",
       "      <th>0</th>\n",
       "      <td>2539329</td>\n",
       "      <td>1</td>\n",
       "      <td>prior</td>\n",
       "      <td>1</td>\n",
       "      <td>2</td>\n",
       "      <td>8</td>\n",
       "      <td>0</td>\n",
       "      <td>196</td>\n",
       "      <td>1</td>\n",
       "      <td>0</td>\n",
       "    </tr>\n",
       "    <tr>\n",
       "      <th>1</th>\n",
       "      <td>2539329</td>\n",
       "      <td>1</td>\n",
       "      <td>prior</td>\n",
       "      <td>1</td>\n",
       "      <td>2</td>\n",
       "      <td>8</td>\n",
       "      <td>0</td>\n",
       "      <td>14084</td>\n",
       "      <td>2</td>\n",
       "      <td>0</td>\n",
       "    </tr>\n",
       "    <tr>\n",
       "      <th>2</th>\n",
       "      <td>2539329</td>\n",
       "      <td>1</td>\n",
       "      <td>prior</td>\n",
       "      <td>1</td>\n",
       "      <td>2</td>\n",
       "      <td>8</td>\n",
       "      <td>0</td>\n",
       "      <td>12427</td>\n",
       "      <td>3</td>\n",
       "      <td>0</td>\n",
       "    </tr>\n",
       "    <tr>\n",
       "      <th>3</th>\n",
       "      <td>2539329</td>\n",
       "      <td>1</td>\n",
       "      <td>prior</td>\n",
       "      <td>1</td>\n",
       "      <td>2</td>\n",
       "      <td>8</td>\n",
       "      <td>0</td>\n",
       "      <td>26088</td>\n",
       "      <td>4</td>\n",
       "      <td>0</td>\n",
       "    </tr>\n",
       "    <tr>\n",
       "      <th>4</th>\n",
       "      <td>2539329</td>\n",
       "      <td>1</td>\n",
       "      <td>prior</td>\n",
       "      <td>1</td>\n",
       "      <td>2</td>\n",
       "      <td>8</td>\n",
       "      <td>0</td>\n",
       "      <td>26405</td>\n",
       "      <td>5</td>\n",
       "      <td>0</td>\n",
       "    </tr>\n",
       "  </tbody>\n",
       "</table>\n",
       "</div>"
      ],
      "text/plain": [
       "   order_id  user_id eval_set  order_number  order_dow  order_hour_of_day  \\\n",
       "0   2539329        1    prior             1          2                  8   \n",
       "1   2539329        1    prior             1          2                  8   \n",
       "2   2539329        1    prior             1          2                  8   \n",
       "3   2539329        1    prior             1          2                  8   \n",
       "4   2539329        1    prior             1          2                  8   \n",
       "\n",
       "   days_since_prior_order  product_id  add_to_cart_order  reordered  \n",
       "0                       0         196                  1          0  \n",
       "1                       0       14084                  2          0  \n",
       "2                       0       12427                  3          0  \n",
       "3                       0       26088                  4          0  \n",
       "4                       0       26405                  5          0  "
      ]
     },
     "execution_count": 8,
     "metadata": {},
     "output_type": "execute_result"
    }
   ],
   "source": [
    "orders_prior_merged.head()"
   ]
  },
  {
   "cell_type": "code",
   "execution_count": 9,
   "metadata": {},
   "outputs": [
    {
     "data": {
      "text/plain": [
       "(32434489, 10)"
      ]
     },
     "execution_count": 9,
     "metadata": {},
     "output_type": "execute_result"
    }
   ],
   "source": [
    "orders_prior_merged.shape"
   ]
  },
  {
   "cell_type": "markdown",
   "metadata": {},
   "source": [
    "<u>Creating features</u>"
   ]
  },
  {
   "cell_type": "markdown",
   "metadata": {},
   "source": [
    "We will create features from the orders file"
   ]
  },
  {
   "cell_type": "code",
   "execution_count": 10,
   "metadata": {
    "collapsed": true
   },
   "outputs": [],
   "source": [
    "products_df = orders_prior_merged.sort_values(['user_id', 'order_number', 'product_id'], ascending=True)\n",
    "# get the reorder frequency ('reordered' is just binary value)\n",
    "products_df['reorder_frequency'] = products_df.groupby(['user_id', 'product_id']).cumcount()+1\n",
    "\n",
    "# Extract items bought first and second for calculating probability for later\n",
    "sub1 = products_df[products_df['reorder_frequency'] == 1].groupby('product_id').size().to_frame('bought_first')\n",
    "sub2 = products_df[products_df['reorder_frequency'] == 2].groupby('product_id').size().to_frame('bought_second')\n",
    "\n",
    "sub1['count_orders'] = products_df.groupby('product_id').size()\n",
    "sub1['count_reorders'] = products_df.groupby('product_id')['reordered'].sum()\n",
    "\n",
    "sub2 = sub2.reset_index().merge(sub1.reset_index())\n",
    "\n",
    "# Calculate probability of being bought a second time\n",
    "sub2['reorder_probability'] = sub2['bought_second'] / sub2['bought_first']\n",
    "\n",
    "# Calculate ratio of reorder product\n",
    "sub2['ratio_reorder'] = sub2['count_reorders'] / sub2['count_orders']"
   ]
  },
  {
   "cell_type": "code",
   "execution_count": 11,
   "metadata": {},
   "outputs": [
    {
     "name": "stdout",
     "output_type": "stream",
     "text": [
      "(49677, 3) (45305, 7)\n"
     ]
    }
   ],
   "source": [
    "print(sub1.shape, sub2.shape,)"
   ]
  },
  {
   "cell_type": "code",
   "execution_count": 12,
   "metadata": {
    "scrolled": true
   },
   "outputs": [
    {
     "data": {
      "text/html": [
       "<div>\n",
       "<style>\n",
       "    .dataframe thead tr:only-child th {\n",
       "        text-align: right;\n",
       "    }\n",
       "\n",
       "    .dataframe thead th {\n",
       "        text-align: left;\n",
       "    }\n",
       "\n",
       "    .dataframe tbody tr th {\n",
       "        vertical-align: top;\n",
       "    }\n",
       "</style>\n",
       "<table border=\"1\" class=\"dataframe\">\n",
       "  <thead>\n",
       "    <tr style=\"text-align: right;\">\n",
       "      <th></th>\n",
       "      <th>order_id</th>\n",
       "      <th>user_id</th>\n",
       "      <th>eval_set</th>\n",
       "      <th>order_number</th>\n",
       "      <th>order_dow</th>\n",
       "      <th>order_hour_of_day</th>\n",
       "      <th>days_since_prior_order</th>\n",
       "      <th>product_id</th>\n",
       "      <th>add_to_cart_order</th>\n",
       "      <th>reordered</th>\n",
       "      <th>reorder_frequency</th>\n",
       "    </tr>\n",
       "  </thead>\n",
       "  <tbody>\n",
       "    <tr>\n",
       "      <th>0</th>\n",
       "      <td>2539329</td>\n",
       "      <td>1</td>\n",
       "      <td>prior</td>\n",
       "      <td>1</td>\n",
       "      <td>2</td>\n",
       "      <td>8</td>\n",
       "      <td>0</td>\n",
       "      <td>196</td>\n",
       "      <td>1</td>\n",
       "      <td>0</td>\n",
       "      <td>1</td>\n",
       "    </tr>\n",
       "    <tr>\n",
       "      <th>2</th>\n",
       "      <td>2539329</td>\n",
       "      <td>1</td>\n",
       "      <td>prior</td>\n",
       "      <td>1</td>\n",
       "      <td>2</td>\n",
       "      <td>8</td>\n",
       "      <td>0</td>\n",
       "      <td>12427</td>\n",
       "      <td>3</td>\n",
       "      <td>0</td>\n",
       "      <td>1</td>\n",
       "    </tr>\n",
       "    <tr>\n",
       "      <th>1</th>\n",
       "      <td>2539329</td>\n",
       "      <td>1</td>\n",
       "      <td>prior</td>\n",
       "      <td>1</td>\n",
       "      <td>2</td>\n",
       "      <td>8</td>\n",
       "      <td>0</td>\n",
       "      <td>14084</td>\n",
       "      <td>2</td>\n",
       "      <td>0</td>\n",
       "      <td>1</td>\n",
       "    </tr>\n",
       "    <tr>\n",
       "      <th>3</th>\n",
       "      <td>2539329</td>\n",
       "      <td>1</td>\n",
       "      <td>prior</td>\n",
       "      <td>1</td>\n",
       "      <td>2</td>\n",
       "      <td>8</td>\n",
       "      <td>0</td>\n",
       "      <td>26088</td>\n",
       "      <td>4</td>\n",
       "      <td>0</td>\n",
       "      <td>1</td>\n",
       "    </tr>\n",
       "    <tr>\n",
       "      <th>4</th>\n",
       "      <td>2539329</td>\n",
       "      <td>1</td>\n",
       "      <td>prior</td>\n",
       "      <td>1</td>\n",
       "      <td>2</td>\n",
       "      <td>8</td>\n",
       "      <td>0</td>\n",
       "      <td>26405</td>\n",
       "      <td>5</td>\n",
       "      <td>0</td>\n",
       "      <td>1</td>\n",
       "    </tr>\n",
       "  </tbody>\n",
       "</table>\n",
       "</div>"
      ],
      "text/plain": [
       "   order_id  user_id eval_set  order_number  order_dow  order_hour_of_day  \\\n",
       "0   2539329        1    prior             1          2                  8   \n",
       "2   2539329        1    prior             1          2                  8   \n",
       "1   2539329        1    prior             1          2                  8   \n",
       "3   2539329        1    prior             1          2                  8   \n",
       "4   2539329        1    prior             1          2                  8   \n",
       "\n",
       "   days_since_prior_order  product_id  add_to_cart_order  reordered  \\\n",
       "0                       0         196                  1          0   \n",
       "2                       0       12427                  3          0   \n",
       "1                       0       14084                  2          0   \n",
       "3                       0       26088                  4          0   \n",
       "4                       0       26405                  5          0   \n",
       "\n",
       "   reorder_frequency  \n",
       "0                  1  \n",
       "2                  1  \n",
       "1                  1  \n",
       "3                  1  \n",
       "4                  1  "
      ]
     },
     "execution_count": 12,
     "metadata": {},
     "output_type": "execute_result"
    }
   ],
   "source": [
    "products_df.head()"
   ]
  },
  {
   "cell_type": "code",
   "execution_count": 13,
   "metadata": {
    "collapsed": true
   },
   "outputs": [],
   "source": [
    "# Saving relevant information in a separate dataframe\n",
    "products_info_df = sub2[['product_id', 'count_orders', \\\n",
    "                         'reorder_probability', 'ratio_reorder']]"
   ]
  },
  {
   "cell_type": "code",
   "execution_count": 14,
   "metadata": {
    "scrolled": true
   },
   "outputs": [
    {
     "data": {
      "text/html": [
       "<div>\n",
       "<style>\n",
       "    .dataframe thead tr:only-child th {\n",
       "        text-align: right;\n",
       "    }\n",
       "\n",
       "    .dataframe thead th {\n",
       "        text-align: left;\n",
       "    }\n",
       "\n",
       "    .dataframe tbody tr th {\n",
       "        vertical-align: top;\n",
       "    }\n",
       "</style>\n",
       "<table border=\"1\" class=\"dataframe\">\n",
       "  <thead>\n",
       "    <tr style=\"text-align: right;\">\n",
       "      <th></th>\n",
       "      <th>product_id</th>\n",
       "      <th>count_orders</th>\n",
       "      <th>reorder_probability</th>\n",
       "      <th>ratio_reorder</th>\n",
       "    </tr>\n",
       "  </thead>\n",
       "  <tbody>\n",
       "    <tr>\n",
       "      <th>0</th>\n",
       "      <td>1</td>\n",
       "      <td>1852</td>\n",
       "      <td>0.385475</td>\n",
       "      <td>0.613391</td>\n",
       "    </tr>\n",
       "    <tr>\n",
       "      <th>1</th>\n",
       "      <td>2</td>\n",
       "      <td>90</td>\n",
       "      <td>0.102564</td>\n",
       "      <td>0.133333</td>\n",
       "    </tr>\n",
       "    <tr>\n",
       "      <th>2</th>\n",
       "      <td>3</td>\n",
       "      <td>277</td>\n",
       "      <td>0.486486</td>\n",
       "      <td>0.732852</td>\n",
       "    </tr>\n",
       "    <tr>\n",
       "      <th>3</th>\n",
       "      <td>4</td>\n",
       "      <td>329</td>\n",
       "      <td>0.351648</td>\n",
       "      <td>0.446809</td>\n",
       "    </tr>\n",
       "    <tr>\n",
       "      <th>4</th>\n",
       "      <td>5</td>\n",
       "      <td>15</td>\n",
       "      <td>0.666667</td>\n",
       "      <td>0.600000</td>\n",
       "    </tr>\n",
       "  </tbody>\n",
       "</table>\n",
       "</div>"
      ],
      "text/plain": [
       "   product_id  count_orders  reorder_probability  ratio_reorder\n",
       "0           1          1852             0.385475       0.613391\n",
       "1           2            90             0.102564       0.133333\n",
       "2           3           277             0.486486       0.732852\n",
       "3           4           329             0.351648       0.446809\n",
       "4           5            15             0.666667       0.600000"
      ]
     },
     "execution_count": 14,
     "metadata": {},
     "output_type": "execute_result"
    }
   ],
   "source": [
    "products_info_df.head()"
   ]
  },
  {
   "cell_type": "code",
   "execution_count": 15,
   "metadata": {},
   "outputs": [
    {
     "data": {
      "text/plain": [
       "(45305, 4)"
      ]
     },
     "execution_count": 15,
     "metadata": {},
     "output_type": "execute_result"
    }
   ],
   "source": [
    "products_info_df.shape"
   ]
  },
  {
   "cell_type": "markdown",
   "metadata": {},
   "source": [
    "We will create features from the orders file "
   ]
  },
  {
   "cell_type": "code",
   "execution_count": 16,
   "metadata": {},
   "outputs": [
    {
     "data": {
      "text/html": [
       "<div>\n",
       "<style>\n",
       "    .dataframe thead tr:only-child th {\n",
       "        text-align: right;\n",
       "    }\n",
       "\n",
       "    .dataframe thead th {\n",
       "        text-align: left;\n",
       "    }\n",
       "\n",
       "    .dataframe tbody tr th {\n",
       "        vertical-align: top;\n",
       "    }\n",
       "</style>\n",
       "<table border=\"1\" class=\"dataframe\">\n",
       "  <thead>\n",
       "    <tr style=\"text-align: right;\">\n",
       "      <th></th>\n",
       "      <th>order_id</th>\n",
       "      <th>user_id</th>\n",
       "      <th>eval_set</th>\n",
       "      <th>order_number</th>\n",
       "      <th>order_dow</th>\n",
       "      <th>order_hour_of_day</th>\n",
       "      <th>days_since_prior_order</th>\n",
       "    </tr>\n",
       "  </thead>\n",
       "  <tbody>\n",
       "    <tr>\n",
       "      <th>0</th>\n",
       "      <td>2539329</td>\n",
       "      <td>1</td>\n",
       "      <td>prior</td>\n",
       "      <td>1</td>\n",
       "      <td>2</td>\n",
       "      <td>8</td>\n",
       "      <td>0</td>\n",
       "    </tr>\n",
       "    <tr>\n",
       "      <th>1</th>\n",
       "      <td>2398795</td>\n",
       "      <td>1</td>\n",
       "      <td>prior</td>\n",
       "      <td>2</td>\n",
       "      <td>3</td>\n",
       "      <td>7</td>\n",
       "      <td>15</td>\n",
       "    </tr>\n",
       "    <tr>\n",
       "      <th>2</th>\n",
       "      <td>473747</td>\n",
       "      <td>1</td>\n",
       "      <td>prior</td>\n",
       "      <td>3</td>\n",
       "      <td>3</td>\n",
       "      <td>12</td>\n",
       "      <td>21</td>\n",
       "    </tr>\n",
       "    <tr>\n",
       "      <th>3</th>\n",
       "      <td>2254736</td>\n",
       "      <td>1</td>\n",
       "      <td>prior</td>\n",
       "      <td>4</td>\n",
       "      <td>4</td>\n",
       "      <td>7</td>\n",
       "      <td>29</td>\n",
       "    </tr>\n",
       "    <tr>\n",
       "      <th>4</th>\n",
       "      <td>431534</td>\n",
       "      <td>1</td>\n",
       "      <td>prior</td>\n",
       "      <td>5</td>\n",
       "      <td>4</td>\n",
       "      <td>15</td>\n",
       "      <td>28</td>\n",
       "    </tr>\n",
       "  </tbody>\n",
       "</table>\n",
       "</div>"
      ],
      "text/plain": [
       "   order_id  user_id eval_set  order_number  order_dow  order_hour_of_day  \\\n",
       "0   2539329        1    prior             1          2                  8   \n",
       "1   2398795        1    prior             2          3                  7   \n",
       "2    473747        1    prior             3          3                 12   \n",
       "3   2254736        1    prior             4          4                  7   \n",
       "4    431534        1    prior             5          4                 15   \n",
       "\n",
       "   days_since_prior_order  \n",
       "0                       0  \n",
       "1                      15  \n",
       "2                      21  \n",
       "3                      29  \n",
       "4                      28  "
      ]
     },
     "execution_count": 16,
     "metadata": {},
     "output_type": "execute_result"
    }
   ],
   "source": [
    "orders.head()"
   ]
  },
  {
   "cell_type": "code",
   "execution_count": 17,
   "metadata": {
    "collapsed": true
   },
   "outputs": [],
   "source": [
    "# Extract total number of orders\n",
    "users = orders[orders['eval_set'] == 'prior'].groupby(['user_id'])['order_number'].max().to_frame('number_orders')\n",
    "\n",
    "# Total number of days without purchasing\n",
    "users['days_no_purchase'] = orders[orders['eval_set'] == 'prior'].groupby(['user_id'])['days_since_prior_order'].sum()\n",
    "\n",
    "# average interval between each purchase by user\n",
    "users['mean_interval_purchase'] = orders[orders['eval_set'] == 'prior'].groupby(['user_id'])['days_since_prior_order'].mean()\n"
   ]
  },
  {
   "cell_type": "code",
   "execution_count": 18,
   "metadata": {},
   "outputs": [
    {
     "data": {
      "text/plain": [
       "(206209, 3)"
      ]
     },
     "execution_count": 18,
     "metadata": {},
     "output_type": "execute_result"
    }
   ],
   "source": [
    "users.shape"
   ]
  },
  {
   "cell_type": "code",
   "execution_count": 19,
   "metadata": {
    "collapsed": true,
    "scrolled": true
   },
   "outputs": [],
   "source": [
    "# merging features about users and orders into one dataset\n",
    "us = orders_prior_merged.groupby('user_id').size().to_frame('user_total_products')\n",
    "\n",
    "us['eq_1'] = orders_prior_merged[orders_prior_merged['reordered'] == 1].groupby('user_id')['product_id'].size()\n",
    "us['gt_1'] = orders_prior_merged[orders_prior_merged['order_number'] > 1].groupby('user_id')['product_id'].size()\n",
    "# likelihood that user will buy again\n",
    "us['user_reorder_ratio'] = us['eq_1'] / us['gt_1']\n",
    "\n",
    "us.drop(['eq_1', 'gt_1'], axis=1, inplace=True)\n",
    "\n",
    "# distinct products bought\n",
    "us['user_distinct_products'] = orders_prior_merged.groupby(['user_id'])['product_id'].nunique()\n"
   ]
  },
  {
   "cell_type": "code",
   "execution_count": 20,
   "metadata": {},
   "outputs": [
    {
     "data": {
      "text/plain": [
       "(206209, 3)"
      ]
     },
     "execution_count": 20,
     "metadata": {},
     "output_type": "execute_result"
    }
   ],
   "source": [
    "us.shape"
   ]
  },
  {
   "cell_type": "code",
   "execution_count": 21,
   "metadata": {
    "scrolled": true
   },
   "outputs": [
    {
     "data": {
      "text/html": [
       "<div>\n",
       "<style>\n",
       "    .dataframe thead tr:only-child th {\n",
       "        text-align: right;\n",
       "    }\n",
       "\n",
       "    .dataframe thead th {\n",
       "        text-align: left;\n",
       "    }\n",
       "\n",
       "    .dataframe tbody tr th {\n",
       "        vertical-align: top;\n",
       "    }\n",
       "</style>\n",
       "<table border=\"1\" class=\"dataframe\">\n",
       "  <thead>\n",
       "    <tr style=\"text-align: right;\">\n",
       "      <th></th>\n",
       "      <th>user_total_products</th>\n",
       "      <th>user_reorder_ratio</th>\n",
       "      <th>user_distinct_products</th>\n",
       "    </tr>\n",
       "    <tr>\n",
       "      <th>user_id</th>\n",
       "      <th></th>\n",
       "      <th></th>\n",
       "      <th></th>\n",
       "    </tr>\n",
       "  </thead>\n",
       "  <tbody>\n",
       "    <tr>\n",
       "      <th>1</th>\n",
       "      <td>59</td>\n",
       "      <td>0.759259</td>\n",
       "      <td>18</td>\n",
       "    </tr>\n",
       "    <tr>\n",
       "      <th>2</th>\n",
       "      <td>195</td>\n",
       "      <td>0.510989</td>\n",
       "      <td>102</td>\n",
       "    </tr>\n",
       "    <tr>\n",
       "      <th>3</th>\n",
       "      <td>88</td>\n",
       "      <td>0.705128</td>\n",
       "      <td>33</td>\n",
       "    </tr>\n",
       "    <tr>\n",
       "      <th>4</th>\n",
       "      <td>18</td>\n",
       "      <td>0.071429</td>\n",
       "      <td>17</td>\n",
       "    </tr>\n",
       "    <tr>\n",
       "      <th>5</th>\n",
       "      <td>37</td>\n",
       "      <td>0.538462</td>\n",
       "      <td>23</td>\n",
       "    </tr>\n",
       "  </tbody>\n",
       "</table>\n",
       "</div>"
      ],
      "text/plain": [
       "         user_total_products  user_reorder_ratio  user_distinct_products\n",
       "user_id                                                                 \n",
       "1                         59            0.759259                      18\n",
       "2                        195            0.510989                     102\n",
       "3                         88            0.705128                      33\n",
       "4                         18            0.071429                      17\n",
       "5                         37            0.538462                      23"
      ]
     },
     "execution_count": 21,
     "metadata": {},
     "output_type": "execute_result"
    }
   ],
   "source": [
    "us.head()"
   ]
  },
  {
   "cell_type": "code",
   "execution_count": 22,
   "metadata": {},
   "outputs": [
    {
     "data": {
      "text/html": [
       "<div>\n",
       "<style>\n",
       "    .dataframe thead tr:only-child th {\n",
       "        text-align: right;\n",
       "    }\n",
       "\n",
       "    .dataframe thead th {\n",
       "        text-align: left;\n",
       "    }\n",
       "\n",
       "    .dataframe tbody tr th {\n",
       "        vertical-align: top;\n",
       "    }\n",
       "</style>\n",
       "<table border=\"1\" class=\"dataframe\">\n",
       "  <thead>\n",
       "    <tr style=\"text-align: right;\">\n",
       "      <th></th>\n",
       "      <th>number_orders</th>\n",
       "      <th>days_no_purchase</th>\n",
       "      <th>mean_interval_purchase</th>\n",
       "    </tr>\n",
       "    <tr>\n",
       "      <th>user_id</th>\n",
       "      <th></th>\n",
       "      <th></th>\n",
       "      <th></th>\n",
       "    </tr>\n",
       "  </thead>\n",
       "  <tbody>\n",
       "    <tr>\n",
       "      <th>1</th>\n",
       "      <td>10</td>\n",
       "      <td>176</td>\n",
       "      <td>17.600000</td>\n",
       "    </tr>\n",
       "    <tr>\n",
       "      <th>2</th>\n",
       "      <td>14</td>\n",
       "      <td>198</td>\n",
       "      <td>14.142857</td>\n",
       "    </tr>\n",
       "    <tr>\n",
       "      <th>3</th>\n",
       "      <td>12</td>\n",
       "      <td>133</td>\n",
       "      <td>11.083333</td>\n",
       "    </tr>\n",
       "    <tr>\n",
       "      <th>4</th>\n",
       "      <td>5</td>\n",
       "      <td>55</td>\n",
       "      <td>11.000000</td>\n",
       "    </tr>\n",
       "    <tr>\n",
       "      <th>5</th>\n",
       "      <td>4</td>\n",
       "      <td>40</td>\n",
       "      <td>10.000000</td>\n",
       "    </tr>\n",
       "  </tbody>\n",
       "</table>\n",
       "</div>"
      ],
      "text/plain": [
       "         number_orders  days_no_purchase  mean_interval_purchase\n",
       "user_id                                                         \n",
       "1                   10               176               17.600000\n",
       "2                   14               198               14.142857\n",
       "3                   12               133               11.083333\n",
       "4                    5                55               11.000000\n",
       "5                    4                40               10.000000"
      ]
     },
     "execution_count": 22,
     "metadata": {},
     "output_type": "execute_result"
    }
   ],
   "source": [
    "users.head()"
   ]
  },
  {
   "cell_type": "code",
   "execution_count": 23,
   "metadata": {
    "collapsed": true
   },
   "outputs": [],
   "source": [
    "users = users.reset_index().merge(us.reset_index(), how='inner')\n",
    "\n",
    "# average basket size of each user\n",
    "users['user_average_basket'] = users['user_total_products'] / users['number_orders']\n",
    "\n",
    "# frame = orders[orders['eval_set'] != 'prior']\n",
    "# frame = frame[['user_id', 'order_id', 'eval_set', 'days_since_prior_order']]\n",
    "\n",
    "frame = orders.loc[orders['eval_set'] != 'prior', \\\n",
    "                  ['user_id', 'order_id', \\\n",
    "                  'eval_set', 'days_since_prior_order']]\n",
    "\n",
    "users = users.merge(frame, how='inner')"
   ]
  },
  {
   "cell_type": "code",
   "execution_count": 24,
   "metadata": {},
   "outputs": [
    {
     "data": {
      "text/plain": [
       "(206209, 11)"
      ]
     },
     "execution_count": 24,
     "metadata": {},
     "output_type": "execute_result"
    }
   ],
   "source": [
    "users.shape"
   ]
  },
  {
   "cell_type": "markdown",
   "metadata": {},
   "source": [
    "<h3 style=\"text-align:center\">Creating main file</h3>"
   ]
  },
  {
   "cell_type": "markdown",
   "metadata": {},
   "source": [
    "Now that we regrouped our featured engineered our features, we can construct our final file."
   ]
  },
  {
   "cell_type": "code",
   "execution_count": 25,
   "metadata": {
    "scrolled": true
   },
   "outputs": [
    {
     "data": {
      "text/html": [
       "<div>\n",
       "<style>\n",
       "    .dataframe thead tr:only-child th {\n",
       "        text-align: right;\n",
       "    }\n",
       "\n",
       "    .dataframe thead th {\n",
       "        text-align: left;\n",
       "    }\n",
       "\n",
       "    .dataframe tbody tr th {\n",
       "        vertical-align: top;\n",
       "    }\n",
       "</style>\n",
       "<table border=\"1\" class=\"dataframe\">\n",
       "  <thead>\n",
       "    <tr style=\"text-align: right;\">\n",
       "      <th></th>\n",
       "      <th>order_id</th>\n",
       "      <th>user_id</th>\n",
       "      <th>eval_set</th>\n",
       "      <th>order_number</th>\n",
       "      <th>order_dow</th>\n",
       "      <th>order_hour_of_day</th>\n",
       "      <th>days_since_prior_order</th>\n",
       "      <th>product_id</th>\n",
       "      <th>add_to_cart_order</th>\n",
       "      <th>reordered</th>\n",
       "    </tr>\n",
       "  </thead>\n",
       "  <tbody>\n",
       "    <tr>\n",
       "      <th>0</th>\n",
       "      <td>2539329</td>\n",
       "      <td>1</td>\n",
       "      <td>prior</td>\n",
       "      <td>1</td>\n",
       "      <td>2</td>\n",
       "      <td>8</td>\n",
       "      <td>0</td>\n",
       "      <td>196</td>\n",
       "      <td>1</td>\n",
       "      <td>0</td>\n",
       "    </tr>\n",
       "    <tr>\n",
       "      <th>1</th>\n",
       "      <td>2539329</td>\n",
       "      <td>1</td>\n",
       "      <td>prior</td>\n",
       "      <td>1</td>\n",
       "      <td>2</td>\n",
       "      <td>8</td>\n",
       "      <td>0</td>\n",
       "      <td>14084</td>\n",
       "      <td>2</td>\n",
       "      <td>0</td>\n",
       "    </tr>\n",
       "    <tr>\n",
       "      <th>2</th>\n",
       "      <td>2539329</td>\n",
       "      <td>1</td>\n",
       "      <td>prior</td>\n",
       "      <td>1</td>\n",
       "      <td>2</td>\n",
       "      <td>8</td>\n",
       "      <td>0</td>\n",
       "      <td>12427</td>\n",
       "      <td>3</td>\n",
       "      <td>0</td>\n",
       "    </tr>\n",
       "    <tr>\n",
       "      <th>3</th>\n",
       "      <td>2539329</td>\n",
       "      <td>1</td>\n",
       "      <td>prior</td>\n",
       "      <td>1</td>\n",
       "      <td>2</td>\n",
       "      <td>8</td>\n",
       "      <td>0</td>\n",
       "      <td>26088</td>\n",
       "      <td>4</td>\n",
       "      <td>0</td>\n",
       "    </tr>\n",
       "    <tr>\n",
       "      <th>4</th>\n",
       "      <td>2539329</td>\n",
       "      <td>1</td>\n",
       "      <td>prior</td>\n",
       "      <td>1</td>\n",
       "      <td>2</td>\n",
       "      <td>8</td>\n",
       "      <td>0</td>\n",
       "      <td>26405</td>\n",
       "      <td>5</td>\n",
       "      <td>0</td>\n",
       "    </tr>\n",
       "  </tbody>\n",
       "</table>\n",
       "</div>"
      ],
      "text/plain": [
       "   order_id  user_id eval_set  order_number  order_dow  order_hour_of_day  \\\n",
       "0   2539329        1    prior             1          2                  8   \n",
       "1   2539329        1    prior             1          2                  8   \n",
       "2   2539329        1    prior             1          2                  8   \n",
       "3   2539329        1    prior             1          2                  8   \n",
       "4   2539329        1    prior             1          2                  8   \n",
       "\n",
       "   days_since_prior_order  product_id  add_to_cart_order  reordered  \n",
       "0                       0         196                  1          0  \n",
       "1                       0       14084                  2          0  \n",
       "2                       0       12427                  3          0  \n",
       "3                       0       26088                  4          0  \n",
       "4                       0       26405                  5          0  "
      ]
     },
     "execution_count": 25,
     "metadata": {},
     "output_type": "execute_result"
    }
   ],
   "source": [
    "orders_prior_merged.head()"
   ]
  },
  {
   "cell_type": "code",
   "execution_count": 26,
   "metadata": {},
   "outputs": [
    {
     "data": {
      "text/plain": [
       "(32434489, 10)"
      ]
     },
     "execution_count": 26,
     "metadata": {},
     "output_type": "execute_result"
    }
   ],
   "source": [
    "orders_prior_merged.shape"
   ]
  },
  {
   "cell_type": "code",
   "execution_count": 55,
   "metadata": {
    "collapsed": true
   },
   "outputs": [],
   "source": [
    "# Group by product for each user\n",
    "data = orders_prior_merged.groupby(['user_id', 'product_id']).size().to_frame('up_orders')\n",
    "\n",
    "# min number of times item bought\n",
    "data['up_first_order'] = orders_prior_merged.groupby(['user_id', 'product_id'])['order_number'].min()\n",
    "# max number of times item bought\n",
    "data['up_last_order'] = orders_prior_merged.groupby(['user_id', 'product_id'])['order_number'].max()\n",
    "# when the item is taken \n",
    "data['up_average_cart_position'] = orders_prior_merged.groupby(['user_id', 'product_id'])['add_to_cart_order'].mean()\n",
    "\n",
    "\n",
    "data = data.reset_index()"
   ]
  },
  {
   "cell_type": "code",
   "execution_count": 56,
   "metadata": {},
   "outputs": [
    {
     "data": {
      "text/html": [
       "<div>\n",
       "<style>\n",
       "    .dataframe thead tr:only-child th {\n",
       "        text-align: right;\n",
       "    }\n",
       "\n",
       "    .dataframe thead th {\n",
       "        text-align: left;\n",
       "    }\n",
       "\n",
       "    .dataframe tbody tr th {\n",
       "        vertical-align: top;\n",
       "    }\n",
       "</style>\n",
       "<table border=\"1\" class=\"dataframe\">\n",
       "  <thead>\n",
       "    <tr style=\"text-align: right;\">\n",
       "      <th></th>\n",
       "      <th>user_id</th>\n",
       "      <th>product_id</th>\n",
       "      <th>up_orders</th>\n",
       "      <th>up_first_order</th>\n",
       "      <th>up_last_order</th>\n",
       "      <th>up_average_cart_position</th>\n",
       "    </tr>\n",
       "  </thead>\n",
       "  <tbody>\n",
       "    <tr>\n",
       "      <th>0</th>\n",
       "      <td>1</td>\n",
       "      <td>196</td>\n",
       "      <td>10</td>\n",
       "      <td>1</td>\n",
       "      <td>10</td>\n",
       "      <td>1.400000</td>\n",
       "    </tr>\n",
       "    <tr>\n",
       "      <th>1</th>\n",
       "      <td>1</td>\n",
       "      <td>10258</td>\n",
       "      <td>9</td>\n",
       "      <td>2</td>\n",
       "      <td>10</td>\n",
       "      <td>3.333333</td>\n",
       "    </tr>\n",
       "    <tr>\n",
       "      <th>2</th>\n",
       "      <td>1</td>\n",
       "      <td>10326</td>\n",
       "      <td>1</td>\n",
       "      <td>5</td>\n",
       "      <td>5</td>\n",
       "      <td>5.000000</td>\n",
       "    </tr>\n",
       "    <tr>\n",
       "      <th>3</th>\n",
       "      <td>1</td>\n",
       "      <td>12427</td>\n",
       "      <td>10</td>\n",
       "      <td>1</td>\n",
       "      <td>10</td>\n",
       "      <td>3.300000</td>\n",
       "    </tr>\n",
       "    <tr>\n",
       "      <th>4</th>\n",
       "      <td>1</td>\n",
       "      <td>13032</td>\n",
       "      <td>3</td>\n",
       "      <td>2</td>\n",
       "      <td>10</td>\n",
       "      <td>6.333333</td>\n",
       "    </tr>\n",
       "  </tbody>\n",
       "</table>\n",
       "</div>"
      ],
      "text/plain": [
       "   user_id  product_id  up_orders  up_first_order  up_last_order  \\\n",
       "0        1         196         10               1             10   \n",
       "1        1       10258          9               2             10   \n",
       "2        1       10326          1               5              5   \n",
       "3        1       12427         10               1             10   \n",
       "4        1       13032          3               2             10   \n",
       "\n",
       "   up_average_cart_position  \n",
       "0                  1.400000  \n",
       "1                  3.333333  \n",
       "2                  5.000000  \n",
       "3                  3.300000  \n",
       "4                  6.333333  "
      ]
     },
     "execution_count": 56,
     "metadata": {},
     "output_type": "execute_result"
    }
   ],
   "source": [
    "data.head()"
   ]
  },
  {
   "cell_type": "code",
   "execution_count": 57,
   "metadata": {
    "scrolled": true
   },
   "outputs": [
    {
     "data": {
      "text/plain": [
       "(13307953, 6)"
      ]
     },
     "execution_count": 57,
     "metadata": {},
     "output_type": "execute_result"
    }
   ],
   "source": [
    "data.shape"
   ]
  },
  {
   "cell_type": "code",
   "execution_count": 53,
   "metadata": {},
   "outputs": [
    {
     "data": {
      "text/html": [
       "<div>\n",
       "<style>\n",
       "    .dataframe thead tr:only-child th {\n",
       "        text-align: right;\n",
       "    }\n",
       "\n",
       "    .dataframe thead th {\n",
       "        text-align: left;\n",
       "    }\n",
       "\n",
       "    .dataframe tbody tr th {\n",
       "        vertical-align: top;\n",
       "    }\n",
       "</style>\n",
       "<table border=\"1\" class=\"dataframe\">\n",
       "  <thead>\n",
       "    <tr style=\"text-align: right;\">\n",
       "      <th></th>\n",
       "      <th>user_id</th>\n",
       "      <th>number_orders</th>\n",
       "      <th>days_no_purchase</th>\n",
       "      <th>mean_interval_purchase</th>\n",
       "      <th>user_total_products</th>\n",
       "      <th>user_reorder_ratio</th>\n",
       "      <th>user_distinct_products</th>\n",
       "      <th>user_average_basket</th>\n",
       "      <th>order_id</th>\n",
       "      <th>eval_set</th>\n",
       "      <th>days_since_prior_order</th>\n",
       "    </tr>\n",
       "  </thead>\n",
       "  <tbody>\n",
       "    <tr>\n",
       "      <th>0</th>\n",
       "      <td>1</td>\n",
       "      <td>10</td>\n",
       "      <td>176</td>\n",
       "      <td>17.600000</td>\n",
       "      <td>59</td>\n",
       "      <td>0.759259</td>\n",
       "      <td>18</td>\n",
       "      <td>5.900000</td>\n",
       "      <td>1187899</td>\n",
       "      <td>train</td>\n",
       "      <td>14</td>\n",
       "    </tr>\n",
       "    <tr>\n",
       "      <th>1</th>\n",
       "      <td>2</td>\n",
       "      <td>14</td>\n",
       "      <td>198</td>\n",
       "      <td>14.142857</td>\n",
       "      <td>195</td>\n",
       "      <td>0.510989</td>\n",
       "      <td>102</td>\n",
       "      <td>13.928571</td>\n",
       "      <td>1492625</td>\n",
       "      <td>train</td>\n",
       "      <td>30</td>\n",
       "    </tr>\n",
       "    <tr>\n",
       "      <th>2</th>\n",
       "      <td>3</td>\n",
       "      <td>12</td>\n",
       "      <td>133</td>\n",
       "      <td>11.083333</td>\n",
       "      <td>88</td>\n",
       "      <td>0.705128</td>\n",
       "      <td>33</td>\n",
       "      <td>7.333333</td>\n",
       "      <td>2774568</td>\n",
       "      <td>test</td>\n",
       "      <td>11</td>\n",
       "    </tr>\n",
       "    <tr>\n",
       "      <th>3</th>\n",
       "      <td>4</td>\n",
       "      <td>5</td>\n",
       "      <td>55</td>\n",
       "      <td>11.000000</td>\n",
       "      <td>18</td>\n",
       "      <td>0.071429</td>\n",
       "      <td>17</td>\n",
       "      <td>3.600000</td>\n",
       "      <td>329954</td>\n",
       "      <td>test</td>\n",
       "      <td>30</td>\n",
       "    </tr>\n",
       "    <tr>\n",
       "      <th>4</th>\n",
       "      <td>5</td>\n",
       "      <td>4</td>\n",
       "      <td>40</td>\n",
       "      <td>10.000000</td>\n",
       "      <td>37</td>\n",
       "      <td>0.538462</td>\n",
       "      <td>23</td>\n",
       "      <td>9.250000</td>\n",
       "      <td>2196797</td>\n",
       "      <td>train</td>\n",
       "      <td>6</td>\n",
       "    </tr>\n",
       "  </tbody>\n",
       "</table>\n",
       "</div>"
      ],
      "text/plain": [
       "   user_id  number_orders  days_no_purchase  mean_interval_purchase  \\\n",
       "0        1             10               176               17.600000   \n",
       "1        2             14               198               14.142857   \n",
       "2        3             12               133               11.083333   \n",
       "3        4              5                55               11.000000   \n",
       "4        5              4                40               10.000000   \n",
       "\n",
       "   user_total_products  user_reorder_ratio  user_distinct_products  \\\n",
       "0                   59            0.759259                      18   \n",
       "1                  195            0.510989                     102   \n",
       "2                   88            0.705128                      33   \n",
       "3                   18            0.071429                      17   \n",
       "4                   37            0.538462                      23   \n",
       "\n",
       "   user_average_basket  order_id eval_set  days_since_prior_order  \n",
       "0             5.900000   1187899    train                      14  \n",
       "1            13.928571   1492625    train                      30  \n",
       "2             7.333333   2774568     test                      11  \n",
       "3             3.600000    329954     test                      30  \n",
       "4             9.250000   2196797    train                       6  "
      ]
     },
     "execution_count": 53,
     "metadata": {},
     "output_type": "execute_result"
    }
   ],
   "source": [
    "users.head()"
   ]
  },
  {
   "cell_type": "code",
   "execution_count": null,
   "metadata": {
    "collapsed": true
   },
   "outputs": [],
   "source": [
    "# merge with products provided file to have product_name, aisle_id and department_id\n"
   ]
  },
  {
   "cell_type": "code",
   "execution_count": 58,
   "metadata": {
    "collapsed": true
   },
   "outputs": [],
   "source": [
    "# merging (products_info_df) and (users) dataframe constructed with data\n",
    "data = data.merge(products_info_df, on='product_id')\n",
    "data = data.merge(users, on='user_id')"
   ]
  },
  {
   "cell_type": "code",
   "execution_count": 59,
   "metadata": {},
   "outputs": [
    {
     "data": {
      "text/html": [
       "<div>\n",
       "<style>\n",
       "    .dataframe thead tr:only-child th {\n",
       "        text-align: right;\n",
       "    }\n",
       "\n",
       "    .dataframe thead th {\n",
       "        text-align: left;\n",
       "    }\n",
       "\n",
       "    .dataframe tbody tr th {\n",
       "        vertical-align: top;\n",
       "    }\n",
       "</style>\n",
       "<table border=\"1\" class=\"dataframe\">\n",
       "  <thead>\n",
       "    <tr style=\"text-align: right;\">\n",
       "      <th></th>\n",
       "      <th>user_id</th>\n",
       "      <th>product_id</th>\n",
       "      <th>up_orders</th>\n",
       "      <th>up_first_order</th>\n",
       "      <th>up_last_order</th>\n",
       "      <th>up_average_cart_position</th>\n",
       "      <th>count_orders</th>\n",
       "      <th>reorder_probability</th>\n",
       "      <th>ratio_reorder</th>\n",
       "      <th>number_orders</th>\n",
       "      <th>days_no_purchase</th>\n",
       "      <th>mean_interval_purchase</th>\n",
       "      <th>user_total_products</th>\n",
       "      <th>user_reorder_ratio</th>\n",
       "      <th>user_distinct_products</th>\n",
       "      <th>user_average_basket</th>\n",
       "      <th>order_id</th>\n",
       "      <th>eval_set</th>\n",
       "      <th>days_since_prior_order</th>\n",
       "    </tr>\n",
       "  </thead>\n",
       "  <tbody>\n",
       "    <tr>\n",
       "      <th>0</th>\n",
       "      <td>1</td>\n",
       "      <td>196</td>\n",
       "      <td>10</td>\n",
       "      <td>1</td>\n",
       "      <td>10</td>\n",
       "      <td>1.400000</td>\n",
       "      <td>35791</td>\n",
       "      <td>0.582500</td>\n",
       "      <td>0.776480</td>\n",
       "      <td>10</td>\n",
       "      <td>176</td>\n",
       "      <td>17.6</td>\n",
       "      <td>59</td>\n",
       "      <td>0.759259</td>\n",
       "      <td>18</td>\n",
       "      <td>5.9</td>\n",
       "      <td>1187899</td>\n",
       "      <td>train</td>\n",
       "      <td>14</td>\n",
       "    </tr>\n",
       "    <tr>\n",
       "      <th>1</th>\n",
       "      <td>1</td>\n",
       "      <td>10258</td>\n",
       "      <td>9</td>\n",
       "      <td>2</td>\n",
       "      <td>10</td>\n",
       "      <td>3.333333</td>\n",
       "      <td>1946</td>\n",
       "      <td>0.552962</td>\n",
       "      <td>0.713772</td>\n",
       "      <td>10</td>\n",
       "      <td>176</td>\n",
       "      <td>17.6</td>\n",
       "      <td>59</td>\n",
       "      <td>0.759259</td>\n",
       "      <td>18</td>\n",
       "      <td>5.9</td>\n",
       "      <td>1187899</td>\n",
       "      <td>train</td>\n",
       "      <td>14</td>\n",
       "    </tr>\n",
       "    <tr>\n",
       "      <th>2</th>\n",
       "      <td>1</td>\n",
       "      <td>10326</td>\n",
       "      <td>1</td>\n",
       "      <td>5</td>\n",
       "      <td>5</td>\n",
       "      <td>5.000000</td>\n",
       "      <td>5526</td>\n",
       "      <td>0.521581</td>\n",
       "      <td>0.652009</td>\n",
       "      <td>10</td>\n",
       "      <td>176</td>\n",
       "      <td>17.6</td>\n",
       "      <td>59</td>\n",
       "      <td>0.759259</td>\n",
       "      <td>18</td>\n",
       "      <td>5.9</td>\n",
       "      <td>1187899</td>\n",
       "      <td>train</td>\n",
       "      <td>14</td>\n",
       "    </tr>\n",
       "    <tr>\n",
       "      <th>3</th>\n",
       "      <td>1</td>\n",
       "      <td>12427</td>\n",
       "      <td>10</td>\n",
       "      <td>1</td>\n",
       "      <td>10</td>\n",
       "      <td>3.300000</td>\n",
       "      <td>6476</td>\n",
       "      <td>0.529482</td>\n",
       "      <td>0.740735</td>\n",
       "      <td>10</td>\n",
       "      <td>176</td>\n",
       "      <td>17.6</td>\n",
       "      <td>59</td>\n",
       "      <td>0.759259</td>\n",
       "      <td>18</td>\n",
       "      <td>5.9</td>\n",
       "      <td>1187899</td>\n",
       "      <td>train</td>\n",
       "      <td>14</td>\n",
       "    </tr>\n",
       "    <tr>\n",
       "      <th>4</th>\n",
       "      <td>1</td>\n",
       "      <td>13032</td>\n",
       "      <td>3</td>\n",
       "      <td>2</td>\n",
       "      <td>10</td>\n",
       "      <td>6.333333</td>\n",
       "      <td>3751</td>\n",
       "      <td>0.479782</td>\n",
       "      <td>0.657158</td>\n",
       "      <td>10</td>\n",
       "      <td>176</td>\n",
       "      <td>17.6</td>\n",
       "      <td>59</td>\n",
       "      <td>0.759259</td>\n",
       "      <td>18</td>\n",
       "      <td>5.9</td>\n",
       "      <td>1187899</td>\n",
       "      <td>train</td>\n",
       "      <td>14</td>\n",
       "    </tr>\n",
       "  </tbody>\n",
       "</table>\n",
       "</div>"
      ],
      "text/plain": [
       "   user_id  product_id  up_orders  up_first_order  up_last_order  \\\n",
       "0        1         196         10               1             10   \n",
       "1        1       10258          9               2             10   \n",
       "2        1       10326          1               5              5   \n",
       "3        1       12427         10               1             10   \n",
       "4        1       13032          3               2             10   \n",
       "\n",
       "   up_average_cart_position  count_orders  reorder_probability  ratio_reorder  \\\n",
       "0                  1.400000         35791             0.582500       0.776480   \n",
       "1                  3.333333          1946             0.552962       0.713772   \n",
       "2                  5.000000          5526             0.521581       0.652009   \n",
       "3                  3.300000          6476             0.529482       0.740735   \n",
       "4                  6.333333          3751             0.479782       0.657158   \n",
       "\n",
       "   number_orders  days_no_purchase  mean_interval_purchase  \\\n",
       "0             10               176                    17.6   \n",
       "1             10               176                    17.6   \n",
       "2             10               176                    17.6   \n",
       "3             10               176                    17.6   \n",
       "4             10               176                    17.6   \n",
       "\n",
       "   user_total_products  user_reorder_ratio  user_distinct_products  \\\n",
       "0                   59            0.759259                      18   \n",
       "1                   59            0.759259                      18   \n",
       "2                   59            0.759259                      18   \n",
       "3                   59            0.759259                      18   \n",
       "4                   59            0.759259                      18   \n",
       "\n",
       "   user_average_basket  order_id eval_set  days_since_prior_order  \n",
       "0                  5.9   1187899    train                      14  \n",
       "1                  5.9   1187899    train                      14  \n",
       "2                  5.9   1187899    train                      14  \n",
       "3                  5.9   1187899    train                      14  \n",
       "4                  5.9   1187899    train                      14  "
      ]
     },
     "execution_count": 59,
     "metadata": {},
     "output_type": "execute_result"
    }
   ],
   "source": [
    "data.head()"
   ]
  },
  {
   "cell_type": "code",
   "execution_count": 60,
   "metadata": {},
   "outputs": [
    {
     "data": {
      "text/plain": [
       "(13278023, 19)"
      ]
     },
     "execution_count": 60,
     "metadata": {},
     "output_type": "execute_result"
    }
   ],
   "source": [
    "data.shape"
   ]
  },
  {
   "cell_type": "code",
   "execution_count": 61,
   "metadata": {
    "collapsed": true
   },
   "outputs": [],
   "source": [
    "#user/ product combination features about the particular order\n",
    "data['up_order_rate'] = data['up_orders'] / data['number_orders']\n",
    "data['up_orders_since_last_order'] = data['number_orders'] - data['up_last_order']\n",
    "\n",
    "data = data.merge(train_orders[['user_id', 'product_id', 'reordered']], \\\n",
    "                 how='left', on=['user_id', 'product_id'])\n"
   ]
  },
  {
   "cell_type": "code",
   "execution_count": 62,
   "metadata": {},
   "outputs": [
    {
     "data": {
      "text/html": [
       "<div>\n",
       "<style>\n",
       "    .dataframe thead tr:only-child th {\n",
       "        text-align: right;\n",
       "    }\n",
       "\n",
       "    .dataframe thead th {\n",
       "        text-align: left;\n",
       "    }\n",
       "\n",
       "    .dataframe tbody tr th {\n",
       "        vertical-align: top;\n",
       "    }\n",
       "</style>\n",
       "<table border=\"1\" class=\"dataframe\">\n",
       "  <thead>\n",
       "    <tr style=\"text-align: right;\">\n",
       "      <th></th>\n",
       "      <th>user_id</th>\n",
       "      <th>product_id</th>\n",
       "      <th>up_orders</th>\n",
       "      <th>up_first_order</th>\n",
       "      <th>up_last_order</th>\n",
       "      <th>up_average_cart_position</th>\n",
       "      <th>count_orders</th>\n",
       "      <th>reorder_probability</th>\n",
       "      <th>ratio_reorder</th>\n",
       "      <th>number_orders</th>\n",
       "      <th>...</th>\n",
       "      <th>user_total_products</th>\n",
       "      <th>user_reorder_ratio</th>\n",
       "      <th>user_distinct_products</th>\n",
       "      <th>user_average_basket</th>\n",
       "      <th>order_id</th>\n",
       "      <th>eval_set</th>\n",
       "      <th>days_since_prior_order</th>\n",
       "      <th>up_order_rate</th>\n",
       "      <th>up_orders_since_last_order</th>\n",
       "      <th>reordered</th>\n",
       "    </tr>\n",
       "  </thead>\n",
       "  <tbody>\n",
       "    <tr>\n",
       "      <th>0</th>\n",
       "      <td>1</td>\n",
       "      <td>196</td>\n",
       "      <td>10</td>\n",
       "      <td>1</td>\n",
       "      <td>10</td>\n",
       "      <td>1.400000</td>\n",
       "      <td>35791</td>\n",
       "      <td>0.582500</td>\n",
       "      <td>0.776480</td>\n",
       "      <td>10</td>\n",
       "      <td>...</td>\n",
       "      <td>59</td>\n",
       "      <td>0.759259</td>\n",
       "      <td>18</td>\n",
       "      <td>5.9</td>\n",
       "      <td>1187899</td>\n",
       "      <td>train</td>\n",
       "      <td>14</td>\n",
       "      <td>1.0</td>\n",
       "      <td>0</td>\n",
       "      <td>1.0</td>\n",
       "    </tr>\n",
       "    <tr>\n",
       "      <th>1</th>\n",
       "      <td>1</td>\n",
       "      <td>10258</td>\n",
       "      <td>9</td>\n",
       "      <td>2</td>\n",
       "      <td>10</td>\n",
       "      <td>3.333333</td>\n",
       "      <td>1946</td>\n",
       "      <td>0.552962</td>\n",
       "      <td>0.713772</td>\n",
       "      <td>10</td>\n",
       "      <td>...</td>\n",
       "      <td>59</td>\n",
       "      <td>0.759259</td>\n",
       "      <td>18</td>\n",
       "      <td>5.9</td>\n",
       "      <td>1187899</td>\n",
       "      <td>train</td>\n",
       "      <td>14</td>\n",
       "      <td>0.9</td>\n",
       "      <td>0</td>\n",
       "      <td>1.0</td>\n",
       "    </tr>\n",
       "    <tr>\n",
       "      <th>2</th>\n",
       "      <td>1</td>\n",
       "      <td>10326</td>\n",
       "      <td>1</td>\n",
       "      <td>5</td>\n",
       "      <td>5</td>\n",
       "      <td>5.000000</td>\n",
       "      <td>5526</td>\n",
       "      <td>0.521581</td>\n",
       "      <td>0.652009</td>\n",
       "      <td>10</td>\n",
       "      <td>...</td>\n",
       "      <td>59</td>\n",
       "      <td>0.759259</td>\n",
       "      <td>18</td>\n",
       "      <td>5.9</td>\n",
       "      <td>1187899</td>\n",
       "      <td>train</td>\n",
       "      <td>14</td>\n",
       "      <td>0.1</td>\n",
       "      <td>5</td>\n",
       "      <td>NaN</td>\n",
       "    </tr>\n",
       "    <tr>\n",
       "      <th>3</th>\n",
       "      <td>1</td>\n",
       "      <td>12427</td>\n",
       "      <td>10</td>\n",
       "      <td>1</td>\n",
       "      <td>10</td>\n",
       "      <td>3.300000</td>\n",
       "      <td>6476</td>\n",
       "      <td>0.529482</td>\n",
       "      <td>0.740735</td>\n",
       "      <td>10</td>\n",
       "      <td>...</td>\n",
       "      <td>59</td>\n",
       "      <td>0.759259</td>\n",
       "      <td>18</td>\n",
       "      <td>5.9</td>\n",
       "      <td>1187899</td>\n",
       "      <td>train</td>\n",
       "      <td>14</td>\n",
       "      <td>1.0</td>\n",
       "      <td>0</td>\n",
       "      <td>NaN</td>\n",
       "    </tr>\n",
       "    <tr>\n",
       "      <th>4</th>\n",
       "      <td>1</td>\n",
       "      <td>13032</td>\n",
       "      <td>3</td>\n",
       "      <td>2</td>\n",
       "      <td>10</td>\n",
       "      <td>6.333333</td>\n",
       "      <td>3751</td>\n",
       "      <td>0.479782</td>\n",
       "      <td>0.657158</td>\n",
       "      <td>10</td>\n",
       "      <td>...</td>\n",
       "      <td>59</td>\n",
       "      <td>0.759259</td>\n",
       "      <td>18</td>\n",
       "      <td>5.9</td>\n",
       "      <td>1187899</td>\n",
       "      <td>train</td>\n",
       "      <td>14</td>\n",
       "      <td>0.3</td>\n",
       "      <td>0</td>\n",
       "      <td>1.0</td>\n",
       "    </tr>\n",
       "  </tbody>\n",
       "</table>\n",
       "<p>5 rows × 22 columns</p>\n",
       "</div>"
      ],
      "text/plain": [
       "   user_id  product_id  up_orders  up_first_order  up_last_order  \\\n",
       "0        1         196         10               1             10   \n",
       "1        1       10258          9               2             10   \n",
       "2        1       10326          1               5              5   \n",
       "3        1       12427         10               1             10   \n",
       "4        1       13032          3               2             10   \n",
       "\n",
       "   up_average_cart_position  count_orders  reorder_probability  ratio_reorder  \\\n",
       "0                  1.400000         35791             0.582500       0.776480   \n",
       "1                  3.333333          1946             0.552962       0.713772   \n",
       "2                  5.000000          5526             0.521581       0.652009   \n",
       "3                  3.300000          6476             0.529482       0.740735   \n",
       "4                  6.333333          3751             0.479782       0.657158   \n",
       "\n",
       "   number_orders    ...      user_total_products  user_reorder_ratio  \\\n",
       "0             10    ...                       59            0.759259   \n",
       "1             10    ...                       59            0.759259   \n",
       "2             10    ...                       59            0.759259   \n",
       "3             10    ...                       59            0.759259   \n",
       "4             10    ...                       59            0.759259   \n",
       "\n",
       "   user_distinct_products  user_average_basket  order_id  eval_set  \\\n",
       "0                      18                  5.9   1187899     train   \n",
       "1                      18                  5.9   1187899     train   \n",
       "2                      18                  5.9   1187899     train   \n",
       "3                      18                  5.9   1187899     train   \n",
       "4                      18                  5.9   1187899     train   \n",
       "\n",
       "   days_since_prior_order up_order_rate  up_orders_since_last_order  reordered  \n",
       "0                      14           1.0                           0        1.0  \n",
       "1                      14           0.9                           0        1.0  \n",
       "2                      14           0.1                           5        NaN  \n",
       "3                      14           1.0                           0        NaN  \n",
       "4                      14           0.3                           0        1.0  \n",
       "\n",
       "[5 rows x 22 columns]"
      ]
     },
     "execution_count": 62,
     "metadata": {},
     "output_type": "execute_result"
    }
   ],
   "source": [
    "data.head()"
   ]
  },
  {
   "cell_type": "code",
   "execution_count": 63,
   "metadata": {
    "scrolled": true
   },
   "outputs": [
    {
     "data": {
      "text/plain": [
       "(13278023, 22)"
      ]
     },
     "execution_count": 63,
     "metadata": {},
     "output_type": "execute_result"
    }
   ],
   "source": [
    "data.shape"
   ]
  },
  {
   "cell_type": "code",
   "execution_count": 65,
   "metadata": {
    "collapsed": true
   },
   "outputs": [],
   "source": [
    "# merge with the products file provided to keep track of the product name\n",
    "# aisle_id and department_id\n",
    "data = data.merge(products, on='product_id')"
   ]
  },
  {
   "cell_type": "code",
   "execution_count": 67,
   "metadata": {},
   "outputs": [
    {
     "data": {
      "text/html": [
       "<div>\n",
       "<style>\n",
       "    .dataframe thead tr:only-child th {\n",
       "        text-align: right;\n",
       "    }\n",
       "\n",
       "    .dataframe thead th {\n",
       "        text-align: left;\n",
       "    }\n",
       "\n",
       "    .dataframe tbody tr th {\n",
       "        vertical-align: top;\n",
       "    }\n",
       "</style>\n",
       "<table border=\"1\" class=\"dataframe\">\n",
       "  <thead>\n",
       "    <tr style=\"text-align: right;\">\n",
       "      <th></th>\n",
       "      <th>user_id</th>\n",
       "      <th>product_id</th>\n",
       "      <th>up_orders</th>\n",
       "      <th>up_first_order</th>\n",
       "      <th>up_last_order</th>\n",
       "      <th>up_average_cart_position</th>\n",
       "      <th>count_orders</th>\n",
       "      <th>reorder_probability</th>\n",
       "      <th>ratio_reorder</th>\n",
       "      <th>number_orders</th>\n",
       "      <th>...</th>\n",
       "      <th>user_average_basket</th>\n",
       "      <th>order_id</th>\n",
       "      <th>eval_set</th>\n",
       "      <th>days_since_prior_order</th>\n",
       "      <th>up_order_rate</th>\n",
       "      <th>up_orders_since_last_order</th>\n",
       "      <th>reordered</th>\n",
       "      <th>product_name</th>\n",
       "      <th>aisle_id</th>\n",
       "      <th>department_id</th>\n",
       "    </tr>\n",
       "  </thead>\n",
       "  <tbody>\n",
       "    <tr>\n",
       "      <th>0</th>\n",
       "      <td>1</td>\n",
       "      <td>196</td>\n",
       "      <td>10</td>\n",
       "      <td>1</td>\n",
       "      <td>10</td>\n",
       "      <td>1.400000</td>\n",
       "      <td>35791</td>\n",
       "      <td>0.5825</td>\n",
       "      <td>0.77648</td>\n",
       "      <td>10</td>\n",
       "      <td>...</td>\n",
       "      <td>5.900000</td>\n",
       "      <td>1187899</td>\n",
       "      <td>train</td>\n",
       "      <td>14</td>\n",
       "      <td>1.000000</td>\n",
       "      <td>0</td>\n",
       "      <td>1.0</td>\n",
       "      <td>Soda</td>\n",
       "      <td>77</td>\n",
       "      <td>7</td>\n",
       "    </tr>\n",
       "    <tr>\n",
       "      <th>1</th>\n",
       "      <td>15</td>\n",
       "      <td>196</td>\n",
       "      <td>5</td>\n",
       "      <td>15</td>\n",
       "      <td>22</td>\n",
       "      <td>2.200000</td>\n",
       "      <td>35791</td>\n",
       "      <td>0.5825</td>\n",
       "      <td>0.77648</td>\n",
       "      <td>22</td>\n",
       "      <td>...</td>\n",
       "      <td>3.272727</td>\n",
       "      <td>2161313</td>\n",
       "      <td>test</td>\n",
       "      <td>7</td>\n",
       "      <td>0.227273</td>\n",
       "      <td>0</td>\n",
       "      <td>NaN</td>\n",
       "      <td>Soda</td>\n",
       "      <td>77</td>\n",
       "      <td>7</td>\n",
       "    </tr>\n",
       "    <tr>\n",
       "      <th>2</th>\n",
       "      <td>19</td>\n",
       "      <td>196</td>\n",
       "      <td>3</td>\n",
       "      <td>2</td>\n",
       "      <td>7</td>\n",
       "      <td>6.333333</td>\n",
       "      <td>35791</td>\n",
       "      <td>0.5825</td>\n",
       "      <td>0.77648</td>\n",
       "      <td>9</td>\n",
       "      <td>...</td>\n",
       "      <td>22.666667</td>\n",
       "      <td>1735923</td>\n",
       "      <td>test</td>\n",
       "      <td>8</td>\n",
       "      <td>0.333333</td>\n",
       "      <td>2</td>\n",
       "      <td>NaN</td>\n",
       "      <td>Soda</td>\n",
       "      <td>77</td>\n",
       "      <td>7</td>\n",
       "    </tr>\n",
       "    <tr>\n",
       "      <th>3</th>\n",
       "      <td>21</td>\n",
       "      <td>196</td>\n",
       "      <td>1</td>\n",
       "      <td>10</td>\n",
       "      <td>10</td>\n",
       "      <td>2.000000</td>\n",
       "      <td>35791</td>\n",
       "      <td>0.5825</td>\n",
       "      <td>0.77648</td>\n",
       "      <td>33</td>\n",
       "      <td>...</td>\n",
       "      <td>6.212121</td>\n",
       "      <td>1854765</td>\n",
       "      <td>train</td>\n",
       "      <td>28</td>\n",
       "      <td>0.030303</td>\n",
       "      <td>23</td>\n",
       "      <td>NaN</td>\n",
       "      <td>Soda</td>\n",
       "      <td>77</td>\n",
       "      <td>7</td>\n",
       "    </tr>\n",
       "    <tr>\n",
       "      <th>4</th>\n",
       "      <td>31</td>\n",
       "      <td>196</td>\n",
       "      <td>2</td>\n",
       "      <td>10</td>\n",
       "      <td>17</td>\n",
       "      <td>15.500000</td>\n",
       "      <td>35791</td>\n",
       "      <td>0.5825</td>\n",
       "      <td>0.77648</td>\n",
       "      <td>20</td>\n",
       "      <td>...</td>\n",
       "      <td>14.950000</td>\n",
       "      <td>280888</td>\n",
       "      <td>test</td>\n",
       "      <td>18</td>\n",
       "      <td>0.100000</td>\n",
       "      <td>3</td>\n",
       "      <td>NaN</td>\n",
       "      <td>Soda</td>\n",
       "      <td>77</td>\n",
       "      <td>7</td>\n",
       "    </tr>\n",
       "  </tbody>\n",
       "</table>\n",
       "<p>5 rows × 25 columns</p>\n",
       "</div>"
      ],
      "text/plain": [
       "   user_id  product_id  up_orders  up_first_order  up_last_order  \\\n",
       "0        1         196         10               1             10   \n",
       "1       15         196          5              15             22   \n",
       "2       19         196          3               2              7   \n",
       "3       21         196          1              10             10   \n",
       "4       31         196          2              10             17   \n",
       "\n",
       "   up_average_cart_position  count_orders  reorder_probability  ratio_reorder  \\\n",
       "0                  1.400000         35791               0.5825        0.77648   \n",
       "1                  2.200000         35791               0.5825        0.77648   \n",
       "2                  6.333333         35791               0.5825        0.77648   \n",
       "3                  2.000000         35791               0.5825        0.77648   \n",
       "4                 15.500000         35791               0.5825        0.77648   \n",
       "\n",
       "   number_orders      ...        user_average_basket  order_id  eval_set  \\\n",
       "0             10      ...                   5.900000   1187899     train   \n",
       "1             22      ...                   3.272727   2161313      test   \n",
       "2              9      ...                  22.666667   1735923      test   \n",
       "3             33      ...                   6.212121   1854765     train   \n",
       "4             20      ...                  14.950000    280888      test   \n",
       "\n",
       "   days_since_prior_order  up_order_rate  up_orders_since_last_order  \\\n",
       "0                      14       1.000000                           0   \n",
       "1                       7       0.227273                           0   \n",
       "2                       8       0.333333                           2   \n",
       "3                      28       0.030303                          23   \n",
       "4                      18       0.100000                           3   \n",
       "\n",
       "   reordered product_name  aisle_id  department_id  \n",
       "0        1.0         Soda        77              7  \n",
       "1        NaN         Soda        77              7  \n",
       "2        NaN         Soda        77              7  \n",
       "3        NaN         Soda        77              7  \n",
       "4        NaN         Soda        77              7  \n",
       "\n",
       "[5 rows x 25 columns]"
      ]
     },
     "execution_count": 67,
     "metadata": {},
     "output_type": "execute_result"
    }
   ],
   "source": [
    "data.head()"
   ]
  },
  {
   "cell_type": "code",
   "execution_count": 68,
   "metadata": {},
   "outputs": [
    {
     "data": {
      "text/plain": [
       "(8645159, 25)"
      ]
     },
     "execution_count": 68,
     "metadata": {},
     "output_type": "execute_result"
    }
   ],
   "source": [
    "data.shape"
   ]
  },
  {
   "cell_type": "markdown",
   "metadata": {},
   "source": [
    "<u>Reducing and modifying data file</u>"
   ]
  },
  {
   "cell_type": "code",
   "execution_count": 69,
   "metadata": {},
   "outputs": [
    {
     "data": {
      "text/plain": [
       "user_id                             0\n",
       "product_id                          0\n",
       "up_orders                           0\n",
       "up_first_order                      0\n",
       "up_last_order                       0\n",
       "up_average_cart_position            0\n",
       "count_orders                        0\n",
       "reorder_probability                 0\n",
       "ratio_reorder                       0\n",
       "number_orders                       0\n",
       "days_no_purchase                    0\n",
       "mean_interval_purchase              0\n",
       "user_total_products                 0\n",
       "user_reorder_ratio              31301\n",
       "user_distinct_products              0\n",
       "user_average_basket                 0\n",
       "order_id                            0\n",
       "eval_set                            0\n",
       "days_since_prior_order              0\n",
       "up_order_rate                       0\n",
       "up_orders_since_last_order          0\n",
       "reordered                     8098822\n",
       "product_name                        0\n",
       "aisle_id                            0\n",
       "department_id                       0\n",
       "dtype: int64"
      ]
     },
     "execution_count": 69,
     "metadata": {},
     "output_type": "execute_result"
    }
   ],
   "source": [
    "data.isnull().sum()"
   ]
  },
  {
   "cell_type": "code",
   "execution_count": 70,
   "metadata": {},
   "outputs": [
    {
     "data": {
      "text/plain": [
       "user_id                          int64\n",
       "product_id                       int64\n",
       "up_orders                        int64\n",
       "up_first_order                   int16\n",
       "up_last_order                    int16\n",
       "up_average_cart_position       float64\n",
       "count_orders                     int64\n",
       "reorder_probability            float64\n",
       "ratio_reorder                  float64\n",
       "number_orders                    int16\n",
       "days_no_purchase                 int16\n",
       "mean_interval_purchase         float64\n",
       "user_total_products              int64\n",
       "user_reorder_ratio             float64\n",
       "user_distinct_products           int64\n",
       "user_average_basket            float64\n",
       "order_id                         int32\n",
       "eval_set                      category\n",
       "days_since_prior_order           int16\n",
       "up_order_rate                  float64\n",
       "up_orders_since_last_order       int16\n",
       "reordered                      float64\n",
       "product_name                  category\n",
       "aisle_id                         int16\n",
       "department_id                    int16\n",
       "dtype: object"
      ]
     },
     "execution_count": 70,
     "metadata": {},
     "output_type": "execute_result"
    }
   ],
   "source": [
    "data.dtypes"
   ]
  },
  {
   "cell_type": "code",
   "execution_count": 71,
   "metadata": {
    "collapsed": true
   },
   "outputs": [],
   "source": [
    "#reduce the size by setting data types\n",
    "data = data.astype(dtype= {'user_id' : np.uint32, \\\n",
    "                          'product_id': np.uint32, \\\n",
    "                          'up_orders' : np.uint16, \\\n",
    "                          'up_average_cart_position': np.uint16, \\\n",
    "                           'count_orders': np.int32, \\\n",
    "                           'reorder_probability': np.float16, \\\n",
    "                           'ratio_reorder': np.float16, \\\n",
    "                           'number_orders': np.uint8, \\\n",
    "                           'days_no_purchase': np.uint8, \\\n",
    "                           'mean_interval_purchase': np.uint8, \\\n",
    "                           'user_total_products': np.uint8, \\\n",
    "                           'user_reorder_ratio': np.float16, \\\n",
    "                           'order_id': np.uint32, \\\n",
    "                           'days_since_prior_order': np.uint8, \\\n",
    "                           'up_order_rate': np.float16, \\\n",
    "                           'up_orders_since_last_order': np.uint16\n",
    "                           \n",
    "                          })\n",
    "\n",
    "# replace NaN with zeros (not reordered) \n",
    "data['reordered'].fillna(0, inplace=True)  \n",
    "data['reordered'] = data['reordered'].astype(np.uint8)\n",
    "\n",
    "data['user_reorder_ratio'].fillna(0, inplace=True)\n",
    "data['user_reorder_ratio'] = data['user_reorder_ratio'].astype(np.float16)"
   ]
  },
  {
   "cell_type": "code",
   "execution_count": 72,
   "metadata": {
    "scrolled": false
   },
   "outputs": [
    {
     "data": {
      "text/html": [
       "<div>\n",
       "<style>\n",
       "    .dataframe thead tr:only-child th {\n",
       "        text-align: right;\n",
       "    }\n",
       "\n",
       "    .dataframe thead th {\n",
       "        text-align: left;\n",
       "    }\n",
       "\n",
       "    .dataframe tbody tr th {\n",
       "        vertical-align: top;\n",
       "    }\n",
       "</style>\n",
       "<table border=\"1\" class=\"dataframe\">\n",
       "  <thead>\n",
       "    <tr style=\"text-align: right;\">\n",
       "      <th></th>\n",
       "      <th>user_id</th>\n",
       "      <th>product_id</th>\n",
       "      <th>up_orders</th>\n",
       "      <th>up_first_order</th>\n",
       "      <th>up_last_order</th>\n",
       "      <th>up_average_cart_position</th>\n",
       "      <th>count_orders</th>\n",
       "      <th>reorder_probability</th>\n",
       "      <th>ratio_reorder</th>\n",
       "      <th>number_orders</th>\n",
       "      <th>...</th>\n",
       "      <th>user_average_basket</th>\n",
       "      <th>order_id</th>\n",
       "      <th>eval_set</th>\n",
       "      <th>days_since_prior_order</th>\n",
       "      <th>up_order_rate</th>\n",
       "      <th>up_orders_since_last_order</th>\n",
       "      <th>reordered</th>\n",
       "      <th>product_name</th>\n",
       "      <th>aisle_id</th>\n",
       "      <th>department_id</th>\n",
       "    </tr>\n",
       "  </thead>\n",
       "  <tbody>\n",
       "    <tr>\n",
       "      <th>0</th>\n",
       "      <td>1</td>\n",
       "      <td>196</td>\n",
       "      <td>10</td>\n",
       "      <td>1</td>\n",
       "      <td>10</td>\n",
       "      <td>1</td>\n",
       "      <td>35791</td>\n",
       "      <td>0.58252</td>\n",
       "      <td>0.776367</td>\n",
       "      <td>10</td>\n",
       "      <td>...</td>\n",
       "      <td>5.900000</td>\n",
       "      <td>1187899</td>\n",
       "      <td>train</td>\n",
       "      <td>14</td>\n",
       "      <td>1.000000</td>\n",
       "      <td>0</td>\n",
       "      <td>1</td>\n",
       "      <td>Soda</td>\n",
       "      <td>77</td>\n",
       "      <td>7</td>\n",
       "    </tr>\n",
       "    <tr>\n",
       "      <th>1</th>\n",
       "      <td>15</td>\n",
       "      <td>196</td>\n",
       "      <td>5</td>\n",
       "      <td>15</td>\n",
       "      <td>22</td>\n",
       "      <td>2</td>\n",
       "      <td>35791</td>\n",
       "      <td>0.58252</td>\n",
       "      <td>0.776367</td>\n",
       "      <td>22</td>\n",
       "      <td>...</td>\n",
       "      <td>3.272727</td>\n",
       "      <td>2161313</td>\n",
       "      <td>test</td>\n",
       "      <td>7</td>\n",
       "      <td>0.227295</td>\n",
       "      <td>0</td>\n",
       "      <td>0</td>\n",
       "      <td>Soda</td>\n",
       "      <td>77</td>\n",
       "      <td>7</td>\n",
       "    </tr>\n",
       "    <tr>\n",
       "      <th>2</th>\n",
       "      <td>19</td>\n",
       "      <td>196</td>\n",
       "      <td>3</td>\n",
       "      <td>2</td>\n",
       "      <td>7</td>\n",
       "      <td>6</td>\n",
       "      <td>35791</td>\n",
       "      <td>0.58252</td>\n",
       "      <td>0.776367</td>\n",
       "      <td>9</td>\n",
       "      <td>...</td>\n",
       "      <td>22.666667</td>\n",
       "      <td>1735923</td>\n",
       "      <td>test</td>\n",
       "      <td>8</td>\n",
       "      <td>0.333252</td>\n",
       "      <td>2</td>\n",
       "      <td>0</td>\n",
       "      <td>Soda</td>\n",
       "      <td>77</td>\n",
       "      <td>7</td>\n",
       "    </tr>\n",
       "    <tr>\n",
       "      <th>3</th>\n",
       "      <td>21</td>\n",
       "      <td>196</td>\n",
       "      <td>1</td>\n",
       "      <td>10</td>\n",
       "      <td>10</td>\n",
       "      <td>2</td>\n",
       "      <td>35791</td>\n",
       "      <td>0.58252</td>\n",
       "      <td>0.776367</td>\n",
       "      <td>33</td>\n",
       "      <td>...</td>\n",
       "      <td>6.212121</td>\n",
       "      <td>1854765</td>\n",
       "      <td>train</td>\n",
       "      <td>28</td>\n",
       "      <td>0.030304</td>\n",
       "      <td>23</td>\n",
       "      <td>0</td>\n",
       "      <td>Soda</td>\n",
       "      <td>77</td>\n",
       "      <td>7</td>\n",
       "    </tr>\n",
       "    <tr>\n",
       "      <th>4</th>\n",
       "      <td>31</td>\n",
       "      <td>196</td>\n",
       "      <td>2</td>\n",
       "      <td>10</td>\n",
       "      <td>17</td>\n",
       "      <td>15</td>\n",
       "      <td>35791</td>\n",
       "      <td>0.58252</td>\n",
       "      <td>0.776367</td>\n",
       "      <td>20</td>\n",
       "      <td>...</td>\n",
       "      <td>14.950000</td>\n",
       "      <td>280888</td>\n",
       "      <td>test</td>\n",
       "      <td>18</td>\n",
       "      <td>0.099976</td>\n",
       "      <td>3</td>\n",
       "      <td>0</td>\n",
       "      <td>Soda</td>\n",
       "      <td>77</td>\n",
       "      <td>7</td>\n",
       "    </tr>\n",
       "  </tbody>\n",
       "</table>\n",
       "<p>5 rows × 25 columns</p>\n",
       "</div>"
      ],
      "text/plain": [
       "   user_id  product_id  up_orders  up_first_order  up_last_order  \\\n",
       "0        1         196         10               1             10   \n",
       "1       15         196          5              15             22   \n",
       "2       19         196          3               2              7   \n",
       "3       21         196          1              10             10   \n",
       "4       31         196          2              10             17   \n",
       "\n",
       "   up_average_cart_position  count_orders  reorder_probability  ratio_reorder  \\\n",
       "0                         1         35791              0.58252       0.776367   \n",
       "1                         2         35791              0.58252       0.776367   \n",
       "2                         6         35791              0.58252       0.776367   \n",
       "3                         2         35791              0.58252       0.776367   \n",
       "4                        15         35791              0.58252       0.776367   \n",
       "\n",
       "   number_orders      ...        user_average_basket  order_id  eval_set  \\\n",
       "0             10      ...                   5.900000   1187899     train   \n",
       "1             22      ...                   3.272727   2161313      test   \n",
       "2              9      ...                  22.666667   1735923      test   \n",
       "3             33      ...                   6.212121   1854765     train   \n",
       "4             20      ...                  14.950000    280888      test   \n",
       "\n",
       "   days_since_prior_order  up_order_rate  up_orders_since_last_order  \\\n",
       "0                      14       1.000000                           0   \n",
       "1                       7       0.227295                           0   \n",
       "2                       8       0.333252                           2   \n",
       "3                      28       0.030304                          23   \n",
       "4                      18       0.099976                           3   \n",
       "\n",
       "   reordered product_name  aisle_id  department_id  \n",
       "0          1         Soda        77              7  \n",
       "1          0         Soda        77              7  \n",
       "2          0         Soda        77              7  \n",
       "3          0         Soda        77              7  \n",
       "4          0         Soda        77              7  \n",
       "\n",
       "[5 rows x 25 columns]"
      ]
     },
     "execution_count": 72,
     "metadata": {},
     "output_type": "execute_result"
    }
   ],
   "source": [
    "data.head()"
   ]
  },
  {
   "cell_type": "markdown",
   "metadata": {},
   "source": [
    "<h3 style=\"text-align:center\">Checkpoint</h3>"
   ]
  },
  {
   "cell_type": "markdown",
   "metadata": {},
   "source": [
    "<u>Saving</u>"
   ]
  },
  {
   "cell_type": "code",
   "execution_count": 79,
   "metadata": {
    "collapsed": true
   },
   "outputs": [],
   "source": [
    "data.to_pickle('data/data.p')"
   ]
  },
  {
   "cell_type": "markdown",
   "metadata": {},
   "source": [
    "<u>Loading</u>"
   ]
  },
  {
   "cell_type": "code",
   "execution_count": 2,
   "metadata": {
    "collapsed": true
   },
   "outputs": [],
   "source": [
    "data = pd.read_pickle('data/data.p')"
   ]
  },
  {
   "cell_type": "markdown",
   "metadata": {},
   "source": [
    "<h3 style=\"text-align:center\">Split-out dataset</h3>"
   ]
  },
  {
   "cell_type": "code",
   "execution_count": 3,
   "metadata": {},
   "outputs": [
    {
     "data": {
      "text/html": [
       "<div>\n",
       "<style>\n",
       "    .dataframe thead tr:only-child th {\n",
       "        text-align: right;\n",
       "    }\n",
       "\n",
       "    .dataframe thead th {\n",
       "        text-align: left;\n",
       "    }\n",
       "\n",
       "    .dataframe tbody tr th {\n",
       "        vertical-align: top;\n",
       "    }\n",
       "</style>\n",
       "<table border=\"1\" class=\"dataframe\">\n",
       "  <thead>\n",
       "    <tr style=\"text-align: right;\">\n",
       "      <th></th>\n",
       "      <th>user_id</th>\n",
       "      <th>product_id</th>\n",
       "      <th>up_orders</th>\n",
       "      <th>up_first_order</th>\n",
       "      <th>up_last_order</th>\n",
       "      <th>up_average_cart_position</th>\n",
       "      <th>count_orders</th>\n",
       "      <th>reorder_probability</th>\n",
       "      <th>ratio_reorder</th>\n",
       "      <th>number_orders</th>\n",
       "      <th>...</th>\n",
       "      <th>user_average_basket</th>\n",
       "      <th>order_id</th>\n",
       "      <th>eval_set</th>\n",
       "      <th>days_since_prior_order</th>\n",
       "      <th>up_order_rate</th>\n",
       "      <th>up_orders_since_last_order</th>\n",
       "      <th>reordered</th>\n",
       "      <th>product_name</th>\n",
       "      <th>aisle_id</th>\n",
       "      <th>department_id</th>\n",
       "    </tr>\n",
       "  </thead>\n",
       "  <tbody>\n",
       "    <tr>\n",
       "      <th>0</th>\n",
       "      <td>1</td>\n",
       "      <td>196</td>\n",
       "      <td>10</td>\n",
       "      <td>1</td>\n",
       "      <td>10</td>\n",
       "      <td>1</td>\n",
       "      <td>35791</td>\n",
       "      <td>0.58252</td>\n",
       "      <td>0.776367</td>\n",
       "      <td>10</td>\n",
       "      <td>...</td>\n",
       "      <td>5.900000</td>\n",
       "      <td>1187899</td>\n",
       "      <td>train</td>\n",
       "      <td>14</td>\n",
       "      <td>1.000000</td>\n",
       "      <td>0</td>\n",
       "      <td>1</td>\n",
       "      <td>Soda</td>\n",
       "      <td>77</td>\n",
       "      <td>7</td>\n",
       "    </tr>\n",
       "    <tr>\n",
       "      <th>1</th>\n",
       "      <td>15</td>\n",
       "      <td>196</td>\n",
       "      <td>5</td>\n",
       "      <td>15</td>\n",
       "      <td>22</td>\n",
       "      <td>2</td>\n",
       "      <td>35791</td>\n",
       "      <td>0.58252</td>\n",
       "      <td>0.776367</td>\n",
       "      <td>22</td>\n",
       "      <td>...</td>\n",
       "      <td>3.272727</td>\n",
       "      <td>2161313</td>\n",
       "      <td>test</td>\n",
       "      <td>7</td>\n",
       "      <td>0.227295</td>\n",
       "      <td>0</td>\n",
       "      <td>0</td>\n",
       "      <td>Soda</td>\n",
       "      <td>77</td>\n",
       "      <td>7</td>\n",
       "    </tr>\n",
       "    <tr>\n",
       "      <th>2</th>\n",
       "      <td>19</td>\n",
       "      <td>196</td>\n",
       "      <td>3</td>\n",
       "      <td>2</td>\n",
       "      <td>7</td>\n",
       "      <td>6</td>\n",
       "      <td>35791</td>\n",
       "      <td>0.58252</td>\n",
       "      <td>0.776367</td>\n",
       "      <td>9</td>\n",
       "      <td>...</td>\n",
       "      <td>22.666667</td>\n",
       "      <td>1735923</td>\n",
       "      <td>test</td>\n",
       "      <td>8</td>\n",
       "      <td>0.333252</td>\n",
       "      <td>2</td>\n",
       "      <td>0</td>\n",
       "      <td>Soda</td>\n",
       "      <td>77</td>\n",
       "      <td>7</td>\n",
       "    </tr>\n",
       "    <tr>\n",
       "      <th>3</th>\n",
       "      <td>21</td>\n",
       "      <td>196</td>\n",
       "      <td>1</td>\n",
       "      <td>10</td>\n",
       "      <td>10</td>\n",
       "      <td>2</td>\n",
       "      <td>35791</td>\n",
       "      <td>0.58252</td>\n",
       "      <td>0.776367</td>\n",
       "      <td>33</td>\n",
       "      <td>...</td>\n",
       "      <td>6.212121</td>\n",
       "      <td>1854765</td>\n",
       "      <td>train</td>\n",
       "      <td>28</td>\n",
       "      <td>0.030304</td>\n",
       "      <td>23</td>\n",
       "      <td>0</td>\n",
       "      <td>Soda</td>\n",
       "      <td>77</td>\n",
       "      <td>7</td>\n",
       "    </tr>\n",
       "    <tr>\n",
       "      <th>4</th>\n",
       "      <td>31</td>\n",
       "      <td>196</td>\n",
       "      <td>2</td>\n",
       "      <td>10</td>\n",
       "      <td>17</td>\n",
       "      <td>15</td>\n",
       "      <td>35791</td>\n",
       "      <td>0.58252</td>\n",
       "      <td>0.776367</td>\n",
       "      <td>20</td>\n",
       "      <td>...</td>\n",
       "      <td>14.950000</td>\n",
       "      <td>280888</td>\n",
       "      <td>test</td>\n",
       "      <td>18</td>\n",
       "      <td>0.099976</td>\n",
       "      <td>3</td>\n",
       "      <td>0</td>\n",
       "      <td>Soda</td>\n",
       "      <td>77</td>\n",
       "      <td>7</td>\n",
       "    </tr>\n",
       "  </tbody>\n",
       "</table>\n",
       "<p>5 rows × 25 columns</p>\n",
       "</div>"
      ],
      "text/plain": [
       "   user_id  product_id  up_orders  up_first_order  up_last_order  \\\n",
       "0        1         196         10               1             10   \n",
       "1       15         196          5              15             22   \n",
       "2       19         196          3               2              7   \n",
       "3       21         196          1              10             10   \n",
       "4       31         196          2              10             17   \n",
       "\n",
       "   up_average_cart_position  count_orders  reorder_probability  ratio_reorder  \\\n",
       "0                         1         35791              0.58252       0.776367   \n",
       "1                         2         35791              0.58252       0.776367   \n",
       "2                         6         35791              0.58252       0.776367   \n",
       "3                         2         35791              0.58252       0.776367   \n",
       "4                        15         35791              0.58252       0.776367   \n",
       "\n",
       "   number_orders      ...        user_average_basket  order_id  eval_set  \\\n",
       "0             10      ...                   5.900000   1187899     train   \n",
       "1             22      ...                   3.272727   2161313      test   \n",
       "2              9      ...                  22.666667   1735923      test   \n",
       "3             33      ...                   6.212121   1854765     train   \n",
       "4             20      ...                  14.950000    280888      test   \n",
       "\n",
       "   days_since_prior_order  up_order_rate  up_orders_since_last_order  \\\n",
       "0                      14       1.000000                           0   \n",
       "1                       7       0.227295                           0   \n",
       "2                       8       0.333252                           2   \n",
       "3                      28       0.030304                          23   \n",
       "4                      18       0.099976                           3   \n",
       "\n",
       "   reordered product_name  aisle_id  department_id  \n",
       "0          1         Soda        77              7  \n",
       "1          0         Soda        77              7  \n",
       "2          0         Soda        77              7  \n",
       "3          0         Soda        77              7  \n",
       "4          0         Soda        77              7  \n",
       "\n",
       "[5 rows x 25 columns]"
      ]
     },
     "execution_count": 3,
     "metadata": {},
     "output_type": "execute_result"
    }
   ],
   "source": [
    "data.head()"
   ]
  },
  {
   "cell_type": "markdown",
   "metadata": {},
   "source": [
    "<u>Train and test sets</u>"
   ]
  },
  {
   "cell_type": "code",
   "execution_count": 4,
   "metadata": {
    "collapsed": true
   },
   "outputs": [],
   "source": [
    "train_df = data[data['eval_set'] == 'train'].drop(['eval_set', 'user_id', \\\n",
    "                                       'product_id', 'order_id'], axis=1)\n",
    "\n",
    "test_df = data[data['eval_set'] == 'test'].drop(['eval_set', 'user_id', \\\n",
    "                                                 'reordered'], axis=1)"
   ]
  },
  {
   "cell_type": "code",
   "execution_count": 5,
   "metadata": {},
   "outputs": [
    {
     "data": {
      "text/plain": [
       "(3139290, 22)"
      ]
     },
     "execution_count": 5,
     "metadata": {},
     "output_type": "execute_result"
    }
   ],
   "source": [
    "test_df.shape"
   ]
  },
  {
   "cell_type": "code",
   "execution_count": 6,
   "metadata": {},
   "outputs": [
    {
     "data": {
      "text/plain": [
       "(5505869, 21)"
      ]
     },
     "execution_count": 6,
     "metadata": {},
     "output_type": "execute_result"
    }
   ],
   "source": [
    "train_df.shape"
   ]
  },
  {
   "cell_type": "code",
   "execution_count": 7,
   "metadata": {
    "scrolled": true
   },
   "outputs": [
    {
     "data": {
      "text/html": [
       "<div>\n",
       "<style>\n",
       "    .dataframe thead tr:only-child th {\n",
       "        text-align: right;\n",
       "    }\n",
       "\n",
       "    .dataframe thead th {\n",
       "        text-align: left;\n",
       "    }\n",
       "\n",
       "    .dataframe tbody tr th {\n",
       "        vertical-align: top;\n",
       "    }\n",
       "</style>\n",
       "<table border=\"1\" class=\"dataframe\">\n",
       "  <thead>\n",
       "    <tr style=\"text-align: right;\">\n",
       "      <th></th>\n",
       "      <th>up_orders</th>\n",
       "      <th>up_first_order</th>\n",
       "      <th>up_last_order</th>\n",
       "      <th>up_average_cart_position</th>\n",
       "      <th>count_orders</th>\n",
       "      <th>reorder_probability</th>\n",
       "      <th>ratio_reorder</th>\n",
       "      <th>number_orders</th>\n",
       "      <th>days_no_purchase</th>\n",
       "      <th>mean_interval_purchase</th>\n",
       "      <th>...</th>\n",
       "      <th>user_reorder_ratio</th>\n",
       "      <th>user_distinct_products</th>\n",
       "      <th>user_average_basket</th>\n",
       "      <th>days_since_prior_order</th>\n",
       "      <th>up_order_rate</th>\n",
       "      <th>up_orders_since_last_order</th>\n",
       "      <th>reordered</th>\n",
       "      <th>product_name</th>\n",
       "      <th>aisle_id</th>\n",
       "      <th>department_id</th>\n",
       "    </tr>\n",
       "  </thead>\n",
       "  <tbody>\n",
       "    <tr>\n",
       "      <th>0</th>\n",
       "      <td>10</td>\n",
       "      <td>1</td>\n",
       "      <td>10</td>\n",
       "      <td>1</td>\n",
       "      <td>35791</td>\n",
       "      <td>0.58252</td>\n",
       "      <td>0.776367</td>\n",
       "      <td>10</td>\n",
       "      <td>176</td>\n",
       "      <td>17</td>\n",
       "      <td>...</td>\n",
       "      <td>0.759277</td>\n",
       "      <td>18</td>\n",
       "      <td>5.900000</td>\n",
       "      <td>14</td>\n",
       "      <td>1.000000</td>\n",
       "      <td>0</td>\n",
       "      <td>1</td>\n",
       "      <td>Soda</td>\n",
       "      <td>77</td>\n",
       "      <td>7</td>\n",
       "    </tr>\n",
       "    <tr>\n",
       "      <th>3</th>\n",
       "      <td>1</td>\n",
       "      <td>10</td>\n",
       "      <td>10</td>\n",
       "      <td>2</td>\n",
       "      <td>35791</td>\n",
       "      <td>0.58252</td>\n",
       "      <td>0.776367</td>\n",
       "      <td>33</td>\n",
       "      <td>61</td>\n",
       "      <td>9</td>\n",
       "      <td>...</td>\n",
       "      <td>0.515137</td>\n",
       "      <td>102</td>\n",
       "      <td>6.212121</td>\n",
       "      <td>28</td>\n",
       "      <td>0.030304</td>\n",
       "      <td>23</td>\n",
       "      <td>0</td>\n",
       "      <td>Soda</td>\n",
       "      <td>77</td>\n",
       "      <td>7</td>\n",
       "    </tr>\n",
       "    <tr>\n",
       "      <th>5</th>\n",
       "      <td>2</td>\n",
       "      <td>6</td>\n",
       "      <td>9</td>\n",
       "      <td>5</td>\n",
       "      <td>35791</td>\n",
       "      <td>0.58252</td>\n",
       "      <td>0.776367</td>\n",
       "      <td>11</td>\n",
       "      <td>104</td>\n",
       "      <td>9</td>\n",
       "      <td>...</td>\n",
       "      <td>0.415527</td>\n",
       "      <td>88</td>\n",
       "      <td>13.363636</td>\n",
       "      <td>26</td>\n",
       "      <td>0.181763</td>\n",
       "      <td>2</td>\n",
       "      <td>0</td>\n",
       "      <td>Soda</td>\n",
       "      <td>77</td>\n",
       "      <td>7</td>\n",
       "    </tr>\n",
       "    <tr>\n",
       "      <th>6</th>\n",
       "      <td>14</td>\n",
       "      <td>1</td>\n",
       "      <td>21</td>\n",
       "      <td>4</td>\n",
       "      <td>35791</td>\n",
       "      <td>0.58252</td>\n",
       "      <td>0.776367</td>\n",
       "      <td>27</td>\n",
       "      <td>236</td>\n",
       "      <td>8</td>\n",
       "      <td>...</td>\n",
       "      <td>0.724121</td>\n",
       "      <td>51</td>\n",
       "      <td>6.259259</td>\n",
       "      <td>3</td>\n",
       "      <td>0.518555</td>\n",
       "      <td>6</td>\n",
       "      <td>0</td>\n",
       "      <td>Soda</td>\n",
       "      <td>77</td>\n",
       "      <td>7</td>\n",
       "    </tr>\n",
       "    <tr>\n",
       "      <th>7</th>\n",
       "      <td>19</td>\n",
       "      <td>1</td>\n",
       "      <td>23</td>\n",
       "      <td>1</td>\n",
       "      <td>35791</td>\n",
       "      <td>0.58252</td>\n",
       "      <td>0.776367</td>\n",
       "      <td>24</td>\n",
       "      <td>174</td>\n",
       "      <td>7</td>\n",
       "      <td>...</td>\n",
       "      <td>0.753418</td>\n",
       "      <td>23</td>\n",
       "      <td>3.375000</td>\n",
       "      <td>5</td>\n",
       "      <td>0.791504</td>\n",
       "      <td>1</td>\n",
       "      <td>1</td>\n",
       "      <td>Soda</td>\n",
       "      <td>77</td>\n",
       "      <td>7</td>\n",
       "    </tr>\n",
       "  </tbody>\n",
       "</table>\n",
       "<p>5 rows × 21 columns</p>\n",
       "</div>"
      ],
      "text/plain": [
       "   up_orders  up_first_order  up_last_order  up_average_cart_position  \\\n",
       "0         10               1             10                         1   \n",
       "3          1              10             10                         2   \n",
       "5          2               6              9                         5   \n",
       "6         14               1             21                         4   \n",
       "7         19               1             23                         1   \n",
       "\n",
       "   count_orders  reorder_probability  ratio_reorder  number_orders  \\\n",
       "0         35791              0.58252       0.776367             10   \n",
       "3         35791              0.58252       0.776367             33   \n",
       "5         35791              0.58252       0.776367             11   \n",
       "6         35791              0.58252       0.776367             27   \n",
       "7         35791              0.58252       0.776367             24   \n",
       "\n",
       "   days_no_purchase  mean_interval_purchase      ...        \\\n",
       "0               176                      17      ...         \n",
       "3                61                       9      ...         \n",
       "5               104                       9      ...         \n",
       "6               236                       8      ...         \n",
       "7               174                       7      ...         \n",
       "\n",
       "   user_reorder_ratio  user_distinct_products  user_average_basket  \\\n",
       "0            0.759277                      18             5.900000   \n",
       "3            0.515137                     102             6.212121   \n",
       "5            0.415527                      88            13.363636   \n",
       "6            0.724121                      51             6.259259   \n",
       "7            0.753418                      23             3.375000   \n",
       "\n",
       "   days_since_prior_order  up_order_rate  up_orders_since_last_order  \\\n",
       "0                      14       1.000000                           0   \n",
       "3                      28       0.030304                          23   \n",
       "5                      26       0.181763                           2   \n",
       "6                       3       0.518555                           6   \n",
       "7                       5       0.791504                           1   \n",
       "\n",
       "   reordered  product_name aisle_id  department_id  \n",
       "0          1          Soda       77              7  \n",
       "3          0          Soda       77              7  \n",
       "5          0          Soda       77              7  \n",
       "6          0          Soda       77              7  \n",
       "7          1          Soda       77              7  \n",
       "\n",
       "[5 rows x 21 columns]"
      ]
     },
     "execution_count": 7,
     "metadata": {},
     "output_type": "execute_result"
    }
   ],
   "source": [
    "train_df.head()"
   ]
  },
  {
   "cell_type": "markdown",
   "metadata": {},
   "source": [
    "<u>Splitting train set into train and evaluation sets</u>"
   ]
  },
  {
   "cell_type": "code",
   "execution_count": 8,
   "metadata": {
    "collapsed": true
   },
   "outputs": [],
   "source": [
    "# Index.difference(other) -> Return a new Index with elements from the index that are not in other.\n",
    "X = train_df[train_df.columns.difference(['reordered'])]\n",
    "Y = train_df['reordered']"
   ]
  },
  {
   "cell_type": "code",
   "execution_count": 9,
   "metadata": {
    "collapsed": true
   },
   "outputs": [],
   "source": [
    "test_size = 0.20\n",
    "seed = 46\n",
    "\n",
    "X_train, X_eval, y_train, y_eval = train_test_split(X, Y, test_size=test_size, \\\n",
    "                                                   random_state=seed)"
   ]
  },
  {
   "cell_type": "code",
   "execution_count": 10,
   "metadata": {},
   "outputs": [
    {
     "name": "stdout",
     "output_type": "stream",
     "text": [
      "(4404695, 20) (4404695,)\n",
      "(1101174, 20) (1101174,)\n"
     ]
    }
   ],
   "source": [
    "print(X_train.shape, y_train.shape)\n",
    "print(X_eval.shape, y_eval.shape)"
   ]
  },
  {
   "cell_type": "markdown",
   "metadata": {},
   "source": [
    "<h3 style=\"text-align:center\">Tuning algorithm</h3>"
   ]
  },
  {
   "cell_type": "code",
   "execution_count": 11,
   "metadata": {
    "collapsed": true
   },
   "outputs": [],
   "source": [
    "import lightgbm as lgb"
   ]
  },
  {
   "cell_type": "code",
   "execution_count": 12,
   "metadata": {
    "collapsed": true
   },
   "outputs": [],
   "source": [
    "lgb_train = lgb.Dataset(X_train, label=y_train)\n",
    "# reference (Other Dataset, optional) – If this dataset validation, need to use training data as reference\n",
    "lgb_eval = lgb.Dataset(X_eval, y_eval, reference=lgb_train)"
   ]
  },
  {
   "cell_type": "code",
   "execution_count": 13,
   "metadata": {},
   "outputs": [
    {
     "data": {
      "text/plain": [
       "<lightgbm.basic.Dataset at 0x25c00037c18>"
      ]
     },
     "execution_count": 13,
     "metadata": {},
     "output_type": "execute_result"
    }
   ],
   "source": [
    "lgb_train"
   ]
  },
  {
   "cell_type": "code",
   "execution_count": 22,
   "metadata": {},
   "outputs": [
    {
     "name": "stdout",
     "output_type": "stream",
     "text": [
      "training LightGBM model ...\n",
      "Training until validation scores don't improve for 50 rounds.\n",
      "[10]\tvalid_0's binary_logloss: 0.349959\tvalid_0's auc: 0.823415\n",
      "[20]\tvalid_0's binary_logloss: 0.274712\tvalid_0's auc: 0.823799\n",
      "[30]\tvalid_0's binary_logloss: 0.256299\tvalid_0's auc: 0.823792\n",
      "[40]\tvalid_0's binary_logloss: 0.253006\tvalid_0's auc: 0.823221\n",
      "[50]\tvalid_0's binary_logloss: 0.252243\tvalid_0's auc: 0.824999\n",
      "[60]\tvalid_0's binary_logloss: 0.251726\tvalid_0's auc: 0.82671\n",
      "[70]\tvalid_0's binary_logloss: 0.251388\tvalid_0's auc: 0.82765\n",
      "[80]\tvalid_0's binary_logloss: 0.251152\tvalid_0's auc: 0.828205\n",
      "[90]\tvalid_0's binary_logloss: 0.25103\tvalid_0's auc: 0.828478\n",
      "[100]\tvalid_0's binary_logloss: 0.250905\tvalid_0's auc: 0.828739\n",
      "[110]\tvalid_0's binary_logloss: 0.250876\tvalid_0's auc: 0.828835\n",
      "[120]\tvalid_0's binary_logloss: 0.250807\tvalid_0's auc: 0.828984\n",
      "[130]\tvalid_0's binary_logloss: 0.250743\tvalid_0's auc: 0.82912\n",
      "[140]\tvalid_0's binary_logloss: 0.2507\tvalid_0's auc: 0.829243\n",
      "[150]\tvalid_0's binary_logloss: 0.250637\tvalid_0's auc: 0.829388\n",
      "[160]\tvalid_0's binary_logloss: 0.250653\tvalid_0's auc: 0.829429\n",
      "[170]\tvalid_0's binary_logloss: 0.250642\tvalid_0's auc: 0.829468\n",
      "[180]\tvalid_0's binary_logloss: 0.250593\tvalid_0's auc: 0.829609\n",
      "[190]\tvalid_0's binary_logloss: 0.250496\tvalid_0's auc: 0.829795\n",
      "[200]\tvalid_0's binary_logloss: 0.250456\tvalid_0's auc: 0.829905\n",
      "[210]\tvalid_0's binary_logloss: 0.250447\tvalid_0's auc: 0.829975\n",
      "[220]\tvalid_0's binary_logloss: 0.250427\tvalid_0's auc: 0.830059\n",
      "[230]\tvalid_0's binary_logloss: 0.2504\tvalid_0's auc: 0.830131\n",
      "[240]\tvalid_0's binary_logloss: 0.250412\tvalid_0's auc: 0.830166\n",
      "[250]\tvalid_0's binary_logloss: 0.250413\tvalid_0's auc: 0.830233\n",
      "[260]\tvalid_0's binary_logloss: 0.250418\tvalid_0's auc: 0.830308\n",
      "[270]\tvalid_0's binary_logloss: 0.25041\tvalid_0's auc: 0.830356\n",
      "[280]\tvalid_0's binary_logloss: 0.250398\tvalid_0's auc: 0.830411\n",
      "[290]\tvalid_0's binary_logloss: 0.250425\tvalid_0's auc: 0.830425\n",
      "[300]\tvalid_0's binary_logloss: 0.25045\tvalid_0's auc: 0.830456\n",
      "[310]\tvalid_0's binary_logloss: 0.250448\tvalid_0's auc: 0.830498\n",
      "[320]\tvalid_0's binary_logloss: 0.250485\tvalid_0's auc: 0.830534\n",
      "Early stopping, best iteration is:\n",
      "[277]\tvalid_0's binary_logloss: 0.250389\tvalid_0's auc: 0.830391\n",
      "Time elapsed : 167\n"
     ]
    }
   ],
   "source": [
    "t0 = time()\n",
    "\n",
    "params = {\n",
    "    'task': 'train',\n",
    "    'boosting_type': 'gbdt',              # Gradient boosting tree algorithm\n",
    "    'objective': 'binary',\n",
    "    'metric': {'binary_logloss', 'auc'},\n",
    "    'num_iterations' : 1000,              \n",
    "    'max_bin' : 100,                      # Controls overfit\n",
    "    'num_leaves': 512,                    # higher number of leaves\n",
    "    'feature_fraction': 0.9,              # Controls overfit\n",
    "    'bagging_fraction': 0.95,\n",
    "    'bagging_freq': 5,\n",
    "    'min_data_in_leaf' : 200,             # Controls overfit\n",
    "    'learning_rate' : 0.1\n",
    "    'device' : 'gpu',                     # Disable this if not using GPU\n",
    "    'gpu_use_dp' : True,                  # To make GPU use double precision\n",
    "    \n",
    "}\n",
    "\n",
    "print('training LightGBM model ...')\n",
    "lgb_model = lgb.train(params, \n",
    "                lgb_train,\n",
    "                num_boost_round = 3000,     # \n",
    "                valid_sets = lgb_eval,     # Validation set used to prevent overfitting\n",
    "                verbose_eval = 10,\n",
    "                early_stopping_rounds=50)  # will stop the boost rounds if evaluation metricices didn't improve\n",
    "\n",
    "t1 = time()\n",
    "print(\"Time elapsed :\", round((t1-t0)))"
   ]
  },
  {
   "cell_type": "markdown",
   "metadata": {
    "collapsed": true
   },
   "source": [
    "<u>Predictions on test set</u>"
   ]
  },
  {
   "cell_type": "code",
   "execution_count": 24,
   "metadata": {
    "collapsed": true
   },
   "outputs": [],
   "source": [
    "X_test = test_df[test_df.columns.difference(['order_id', 'product_id'])]\n",
    "\n",
    "test_df['reordered'] = lgb_model.predict(X_test, \n",
    "                                      num_iteration=lgb_model.best_iteration)"
   ]
  },
  {
   "cell_type": "code",
   "execution_count": 25,
   "metadata": {},
   "outputs": [
    {
     "data": {
      "text/html": [
       "<div>\n",
       "<style>\n",
       "    .dataframe thead tr:only-child th {\n",
       "        text-align: right;\n",
       "    }\n",
       "\n",
       "    .dataframe thead th {\n",
       "        text-align: left;\n",
       "    }\n",
       "\n",
       "    .dataframe tbody tr th {\n",
       "        vertical-align: top;\n",
       "    }\n",
       "</style>\n",
       "<table border=\"1\" class=\"dataframe\">\n",
       "  <thead>\n",
       "    <tr style=\"text-align: right;\">\n",
       "      <th></th>\n",
       "      <th>product_id</th>\n",
       "      <th>up_orders</th>\n",
       "      <th>up_first_order</th>\n",
       "      <th>up_last_order</th>\n",
       "      <th>up_average_cart_position</th>\n",
       "      <th>count_orders</th>\n",
       "      <th>reorder_probability</th>\n",
       "      <th>ratio_reorder</th>\n",
       "      <th>number_orders</th>\n",
       "      <th>days_no_purchase</th>\n",
       "      <th>...</th>\n",
       "      <th>user_distinct_products</th>\n",
       "      <th>user_average_basket</th>\n",
       "      <th>order_id</th>\n",
       "      <th>days_since_prior_order</th>\n",
       "      <th>up_order_rate</th>\n",
       "      <th>up_orders_since_last_order</th>\n",
       "      <th>product_name</th>\n",
       "      <th>aisle_id</th>\n",
       "      <th>department_id</th>\n",
       "      <th>reordered</th>\n",
       "    </tr>\n",
       "  </thead>\n",
       "  <tbody>\n",
       "    <tr>\n",
       "      <th>1</th>\n",
       "      <td>196</td>\n",
       "      <td>5</td>\n",
       "      <td>15</td>\n",
       "      <td>22</td>\n",
       "      <td>2</td>\n",
       "      <td>35791</td>\n",
       "      <td>0.58252</td>\n",
       "      <td>0.776367</td>\n",
       "      <td>22</td>\n",
       "      <td>227</td>\n",
       "      <td>...</td>\n",
       "      <td>13</td>\n",
       "      <td>3.272727</td>\n",
       "      <td>2161313</td>\n",
       "      <td>7</td>\n",
       "      <td>0.227295</td>\n",
       "      <td>0</td>\n",
       "      <td>Soda</td>\n",
       "      <td>77</td>\n",
       "      <td>7</td>\n",
       "      <td>0.705571</td>\n",
       "    </tr>\n",
       "    <tr>\n",
       "      <th>2</th>\n",
       "      <td>196</td>\n",
       "      <td>3</td>\n",
       "      <td>2</td>\n",
       "      <td>7</td>\n",
       "      <td>6</td>\n",
       "      <td>35791</td>\n",
       "      <td>0.58252</td>\n",
       "      <td>0.776367</td>\n",
       "      <td>9</td>\n",
       "      <td>76</td>\n",
       "      <td>...</td>\n",
       "      <td>133</td>\n",
       "      <td>22.666667</td>\n",
       "      <td>1735923</td>\n",
       "      <td>8</td>\n",
       "      <td>0.333252</td>\n",
       "      <td>2</td>\n",
       "      <td>Soda</td>\n",
       "      <td>77</td>\n",
       "      <td>7</td>\n",
       "      <td>0.268186</td>\n",
       "    </tr>\n",
       "    <tr>\n",
       "      <th>4</th>\n",
       "      <td>196</td>\n",
       "      <td>2</td>\n",
       "      <td>10</td>\n",
       "      <td>17</td>\n",
       "      <td>15</td>\n",
       "      <td>35791</td>\n",
       "      <td>0.58252</td>\n",
       "      <td>0.776367</td>\n",
       "      <td>20</td>\n",
       "      <td>93</td>\n",
       "      <td>...</td>\n",
       "      <td>190</td>\n",
       "      <td>14.950000</td>\n",
       "      <td>280888</td>\n",
       "      <td>18</td>\n",
       "      <td>0.099976</td>\n",
       "      <td>3</td>\n",
       "      <td>Soda</td>\n",
       "      <td>77</td>\n",
       "      <td>7</td>\n",
       "      <td>0.072111</td>\n",
       "    </tr>\n",
       "    <tr>\n",
       "      <th>10</th>\n",
       "      <td>196</td>\n",
       "      <td>7</td>\n",
       "      <td>3</td>\n",
       "      <td>14</td>\n",
       "      <td>2</td>\n",
       "      <td>35791</td>\n",
       "      <td>0.58252</td>\n",
       "      <td>0.776367</td>\n",
       "      <td>14</td>\n",
       "      <td>8</td>\n",
       "      <td>...</td>\n",
       "      <td>27</td>\n",
       "      <td>3.571429</td>\n",
       "      <td>139487</td>\n",
       "      <td>30</td>\n",
       "      <td>0.500000</td>\n",
       "      <td>0</td>\n",
       "      <td>Soda</td>\n",
       "      <td>77</td>\n",
       "      <td>7</td>\n",
       "      <td>0.597544</td>\n",
       "    </tr>\n",
       "    <tr>\n",
       "      <th>16</th>\n",
       "      <td>196</td>\n",
       "      <td>2</td>\n",
       "      <td>9</td>\n",
       "      <td>28</td>\n",
       "      <td>12</td>\n",
       "      <td>35791</td>\n",
       "      <td>0.58252</td>\n",
       "      <td>0.776367</td>\n",
       "      <td>51</td>\n",
       "      <td>101</td>\n",
       "      <td>...</td>\n",
       "      <td>548</td>\n",
       "      <td>31.176471</td>\n",
       "      <td>3116687</td>\n",
       "      <td>7</td>\n",
       "      <td>0.039215</td>\n",
       "      <td>23</td>\n",
       "      <td>Soda</td>\n",
       "      <td>77</td>\n",
       "      <td>7</td>\n",
       "      <td>0.029874</td>\n",
       "    </tr>\n",
       "  </tbody>\n",
       "</table>\n",
       "<p>5 rows × 23 columns</p>\n",
       "</div>"
      ],
      "text/plain": [
       "    product_id  up_orders  up_first_order  up_last_order  \\\n",
       "1          196          5              15             22   \n",
       "2          196          3               2              7   \n",
       "4          196          2              10             17   \n",
       "10         196          7               3             14   \n",
       "16         196          2               9             28   \n",
       "\n",
       "    up_average_cart_position  count_orders  reorder_probability  \\\n",
       "1                          2         35791              0.58252   \n",
       "2                          6         35791              0.58252   \n",
       "4                         15         35791              0.58252   \n",
       "10                         2         35791              0.58252   \n",
       "16                        12         35791              0.58252   \n",
       "\n",
       "    ratio_reorder  number_orders  days_no_purchase    ...     \\\n",
       "1        0.776367             22               227    ...      \n",
       "2        0.776367              9                76    ...      \n",
       "4        0.776367             20                93    ...      \n",
       "10       0.776367             14                 8    ...      \n",
       "16       0.776367             51               101    ...      \n",
       "\n",
       "    user_distinct_products  user_average_basket  order_id  \\\n",
       "1                       13             3.272727   2161313   \n",
       "2                      133            22.666667   1735923   \n",
       "4                      190            14.950000    280888   \n",
       "10                      27             3.571429    139487   \n",
       "16                     548            31.176471   3116687   \n",
       "\n",
       "    days_since_prior_order  up_order_rate  up_orders_since_last_order  \\\n",
       "1                        7       0.227295                           0   \n",
       "2                        8       0.333252                           2   \n",
       "4                       18       0.099976                           3   \n",
       "10                      30       0.500000                           0   \n",
       "16                       7       0.039215                          23   \n",
       "\n",
       "    product_name  aisle_id  department_id reordered  \n",
       "1           Soda        77              7  0.705571  \n",
       "2           Soda        77              7  0.268186  \n",
       "4           Soda        77              7  0.072111  \n",
       "10          Soda        77              7  0.597544  \n",
       "16          Soda        77              7  0.029874  \n",
       "\n",
       "[5 rows x 23 columns]"
      ]
     },
     "execution_count": 25,
     "metadata": {},
     "output_type": "execute_result"
    }
   ],
   "source": [
    "test_df.head()"
   ]
  },
  {
   "cell_type": "code",
   "execution_count": 27,
   "metadata": {},
   "outputs": [
    {
     "data": {
      "text/plain": [
       "Index(['product_id', 'up_orders', 'up_first_order', 'up_last_order',\n",
       "       'up_average_cart_position', 'count_orders', 'reorder_probability',\n",
       "       'ratio_reorder', 'number_orders', 'days_no_purchase',\n",
       "       'mean_interval_purchase', 'user_total_products', 'user_reorder_ratio',\n",
       "       'user_distinct_products', 'user_average_basket', 'order_id',\n",
       "       'days_since_prior_order', 'up_order_rate', 'up_orders_since_last_order',\n",
       "       'product_name', 'aisle_id', 'department_id', 'reordered'],\n",
       "      dtype='object')"
      ]
     },
     "execution_count": 27,
     "metadata": {},
     "output_type": "execute_result"
    }
   ],
   "source": [
    "test_df.columns"
   ]
  },
  {
   "cell_type": "markdown",
   "metadata": {
    "collapsed": true
   },
   "source": [
    "<h3 style=\"text-align:center\">Submit model</h3>"
   ]
  },
  {
   "cell_type": "code",
   "execution_count": 29,
   "metadata": {},
   "outputs": [
    {
     "data": {
      "text/plain": [
       "<map at 0x7f369499cda0>"
      ]
     },
     "execution_count": 29,
     "metadata": {},
     "output_type": "execute_result"
    }
   ],
   "source": [
    "test_df.itertuples()"
   ]
  },
  {
   "cell_type": "code",
   "execution_count": 41,
   "metadata": {
    "collapsed": true
   },
   "outputs": [],
   "source": [
    "product_bag = dict()\n",
    "\n",
    "for row in test_df.itertuples():\n",
    "    if row.reordered > 0.21: \n",
    "        # Cutoff for labeling product as positive\n",
    "        try:\n",
    "            # add a space if already one product\n",
    "            product_bag[row.order_id] += ' ' + str(row.product_id)\n",
    "        except:\n",
    "            # 1st product\n",
    "            product_bag[row.order_id] = str(row.product_id)\n"
   ]
  },
  {
   "cell_type": "code",
   "execution_count": 42,
   "metadata": {
    "collapsed": true
   },
   "outputs": [],
   "source": [
    "for order in test_df.order_id:\n",
    "    if order not in product_bag:\n",
    "        product_bag[order] = 'None'"
   ]
  },
  {
   "cell_type": "code",
   "execution_count": 43,
   "metadata": {
    "collapsed": true
   },
   "outputs": [],
   "source": [
    "submit = pd.DataFrame.from_dict(product_bag, orient='index')"
   ]
  },
  {
   "cell_type": "code",
   "execution_count": 44,
   "metadata": {},
   "outputs": [
    {
     "data": {
      "text/html": [
       "<div>\n",
       "<style>\n",
       "    .dataframe thead tr:only-child th {\n",
       "        text-align: right;\n",
       "    }\n",
       "\n",
       "    .dataframe thead th {\n",
       "        text-align: left;\n",
       "    }\n",
       "\n",
       "    .dataframe tbody tr th {\n",
       "        vertical-align: top;\n",
       "    }\n",
       "</style>\n",
       "<table border=\"1\" class=\"dataframe\">\n",
       "  <thead>\n",
       "    <tr style=\"text-align: right;\">\n",
       "      <th></th>\n",
       "      <th>0</th>\n",
       "    </tr>\n",
       "  </thead>\n",
       "  <tbody>\n",
       "    <tr>\n",
       "      <th>2161313</th>\n",
       "      <td>196 10441 14715</td>\n",
       "    </tr>\n",
       "    <tr>\n",
       "      <th>1735923</th>\n",
       "      <td>196 3334 12108 15131 15599 17008 18102 29577 3...</td>\n",
       "    </tr>\n",
       "    <tr>\n",
       "      <th>139487</th>\n",
       "      <td>196 6184 21386</td>\n",
       "    </tr>\n",
       "    <tr>\n",
       "      <th>1797124</th>\n",
       "      <td>196 15541 22802</td>\n",
       "    </tr>\n",
       "    <tr>\n",
       "      <th>1294240</th>\n",
       "      <td>196 13176 16797 32478</td>\n",
       "    </tr>\n",
       "  </tbody>\n",
       "</table>\n",
       "</div>"
      ],
      "text/plain": [
       "                                                         0\n",
       "2161313                                    196 10441 14715\n",
       "1735923  196 3334 12108 15131 15599 17008 18102 29577 3...\n",
       "139487                                      196 6184 21386\n",
       "1797124                                    196 15541 22802\n",
       "1294240                              196 13176 16797 32478"
      ]
     },
     "execution_count": 44,
     "metadata": {},
     "output_type": "execute_result"
    }
   ],
   "source": [
    "submit.head()"
   ]
  },
  {
   "cell_type": "code",
   "execution_count": 45,
   "metadata": {
    "collapsed": true
   },
   "outputs": [],
   "source": [
    "submit.reset_index(inplace=True)"
   ]
  },
  {
   "cell_type": "code",
   "execution_count": 46,
   "metadata": {},
   "outputs": [
    {
     "data": {
      "text/html": [
       "<div>\n",
       "<style>\n",
       "    .dataframe thead tr:only-child th {\n",
       "        text-align: right;\n",
       "    }\n",
       "\n",
       "    .dataframe thead th {\n",
       "        text-align: left;\n",
       "    }\n",
       "\n",
       "    .dataframe tbody tr th {\n",
       "        vertical-align: top;\n",
       "    }\n",
       "</style>\n",
       "<table border=\"1\" class=\"dataframe\">\n",
       "  <thead>\n",
       "    <tr style=\"text-align: right;\">\n",
       "      <th></th>\n",
       "      <th>index</th>\n",
       "      <th>0</th>\n",
       "    </tr>\n",
       "  </thead>\n",
       "  <tbody>\n",
       "    <tr>\n",
       "      <th>0</th>\n",
       "      <td>2161313</td>\n",
       "      <td>196 10441 14715</td>\n",
       "    </tr>\n",
       "    <tr>\n",
       "      <th>1</th>\n",
       "      <td>1735923</td>\n",
       "      <td>196 3334 12108 15131 15599 17008 18102 29577 3...</td>\n",
       "    </tr>\n",
       "    <tr>\n",
       "      <th>2</th>\n",
       "      <td>139487</td>\n",
       "      <td>196 6184 21386</td>\n",
       "    </tr>\n",
       "    <tr>\n",
       "      <th>3</th>\n",
       "      <td>1797124</td>\n",
       "      <td>196 15541 22802</td>\n",
       "    </tr>\n",
       "    <tr>\n",
       "      <th>4</th>\n",
       "      <td>1294240</td>\n",
       "      <td>196 13176 16797 32478</td>\n",
       "    </tr>\n",
       "  </tbody>\n",
       "</table>\n",
       "</div>"
      ],
      "text/plain": [
       "     index                                                  0\n",
       "0  2161313                                    196 10441 14715\n",
       "1  1735923  196 3334 12108 15131 15599 17008 18102 29577 3...\n",
       "2   139487                                     196 6184 21386\n",
       "3  1797124                                    196 15541 22802\n",
       "4  1294240                              196 13176 16797 32478"
      ]
     },
     "execution_count": 46,
     "metadata": {},
     "output_type": "execute_result"
    }
   ],
   "source": [
    "submit.head()"
   ]
  },
  {
   "cell_type": "code",
   "execution_count": 47,
   "metadata": {
    "collapsed": true
   },
   "outputs": [],
   "source": [
    "submit.columns = ['order_id', 'products']"
   ]
  },
  {
   "cell_type": "code",
   "execution_count": 48,
   "metadata": {},
   "outputs": [
    {
     "data": {
      "text/html": [
       "<div>\n",
       "<style>\n",
       "    .dataframe thead tr:only-child th {\n",
       "        text-align: right;\n",
       "    }\n",
       "\n",
       "    .dataframe thead th {\n",
       "        text-align: left;\n",
       "    }\n",
       "\n",
       "    .dataframe tbody tr th {\n",
       "        vertical-align: top;\n",
       "    }\n",
       "</style>\n",
       "<table border=\"1\" class=\"dataframe\">\n",
       "  <thead>\n",
       "    <tr style=\"text-align: right;\">\n",
       "      <th></th>\n",
       "      <th>order_id</th>\n",
       "      <th>products</th>\n",
       "    </tr>\n",
       "  </thead>\n",
       "  <tbody>\n",
       "    <tr>\n",
       "      <th>0</th>\n",
       "      <td>2161313</td>\n",
       "      <td>196 10441 14715</td>\n",
       "    </tr>\n",
       "    <tr>\n",
       "      <th>1</th>\n",
       "      <td>1735923</td>\n",
       "      <td>196 3334 12108 15131 15599 17008 18102 29577 3...</td>\n",
       "    </tr>\n",
       "    <tr>\n",
       "      <th>2</th>\n",
       "      <td>139487</td>\n",
       "      <td>196 6184 21386</td>\n",
       "    </tr>\n",
       "    <tr>\n",
       "      <th>3</th>\n",
       "      <td>1797124</td>\n",
       "      <td>196 15541 22802</td>\n",
       "    </tr>\n",
       "    <tr>\n",
       "      <th>4</th>\n",
       "      <td>1294240</td>\n",
       "      <td>196 13176 16797 32478</td>\n",
       "    </tr>\n",
       "  </tbody>\n",
       "</table>\n",
       "</div>"
      ],
      "text/plain": [
       "   order_id                                           products\n",
       "0   2161313                                    196 10441 14715\n",
       "1   1735923  196 3334 12108 15131 15599 17008 18102 29577 3...\n",
       "2    139487                                     196 6184 21386\n",
       "3   1797124                                    196 15541 22802\n",
       "4   1294240                              196 13176 16797 32478"
      ]
     },
     "execution_count": 48,
     "metadata": {},
     "output_type": "execute_result"
    }
   ],
   "source": [
    "submit.head()"
   ]
  },
  {
   "cell_type": "code",
   "execution_count": 49,
   "metadata": {
    "collapsed": true
   },
   "outputs": [],
   "source": [
    "submit.to_csv('submission1.csv', index=False)"
   ]
  },
  {
   "cell_type": "code",
   "execution_count": null,
   "metadata": {
    "collapsed": true
   },
   "outputs": [],
   "source": []
  }
 ],
 "metadata": {
  "kernelspec": {
   "display_name": "Python 3",
   "language": "python",
   "name": "python3"
  },
  "language_info": {
   "codemirror_mode": {
    "name": "ipython",
    "version": 3
   },
   "file_extension": ".py",
   "mimetype": "text/x-python",
   "name": "python",
   "nbconvert_exporter": "python",
   "pygments_lexer": "ipython3",
   "version": "3.6.2"
  }
 },
 "nbformat": 4,
 "nbformat_minor": 2
}
