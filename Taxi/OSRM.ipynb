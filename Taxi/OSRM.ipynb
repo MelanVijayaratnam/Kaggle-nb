{
 "cells": [
  {
   "cell_type": "markdown",
   "metadata": {},
   "source": [
    "<h1 style=\"text-align:center\">New York City Taxi with OSRM</h1>"
   ]
  },
  {
   "cell_type": "markdown",
   "metadata": {},
   "source": [
    "This dataset is made by oscarleo to be helpful for the New York Taxi Competition.\n",
    "The link for the dataset can be find below:  \n",
    "https://www.kaggle.com/oscarleo/new-york-city-taxi-with-osrm <br>\n",
    "For each trip, the fastest route is displayed."
   ]
  },
  {
   "cell_type": "code",
   "execution_count": 1,
   "metadata": {
    "collapsed": true
   },
   "outputs": [],
   "source": [
    "# remove warnings\n",
    "import warnings\n",
    "warnings.filterwarnings('ignore')\n",
    "\n",
    "import pandas as pd \n",
    "import numpy as np\n",
    "\n",
    "# Visualization\n",
    "from matplotlib import pyplot as plt\n",
    "import seaborn as sns\n",
    "%matplotlib inline"
   ]
  },
  {
   "cell_type": "code",
   "execution_count": 2,
   "metadata": {
    "collapsed": true
   },
   "outputs": [],
   "source": [
    "train_df = pd.read_csv('train.csv')\n",
    "test_df = pd.read_csv('test.csv')"
   ]
  },
  {
   "cell_type": "code",
   "execution_count": 3,
   "metadata": {
    "collapsed": true
   },
   "outputs": [],
   "source": [
    "train_OSRM1 = pd.read_csv('fastest_routes_train_part_1.csv')\n",
    "train_OSRM2 = pd.read_csv('fastest_routes_train_part_2.csv')\n",
    "test_OSRM = pd.read_csv('fastest_routes_test.csv')"
   ]
  },
  {
   "cell_type": "markdown",
   "metadata": {},
   "source": [
    "<h3 style=\"text-align:center\">Data exploration</h3>"
   ]
  },
  {
   "cell_type": "markdown",
   "metadata": {},
   "source": [
    "We combine the 2 part of the provided OSRM files into one dataframe"
   ]
  },
  {
   "cell_type": "code",
   "execution_count": 4,
   "metadata": {
    "collapsed": true
   },
   "outputs": [],
   "source": [
    "train_OSRM = pd.concat([train_OSRM1, train_OSRM2], ignore_index=True)"
   ]
  },
  {
   "cell_type": "markdown",
   "metadata": {},
   "source": [
    "We will add the trip duration column to the OSRM dataframe in order to be able to do some Explanatory Data Analysis (EDA)"
   ]
  },
  {
   "cell_type": "code",
   "execution_count": 5,
   "metadata": {
    "collapsed": true
   },
   "outputs": [],
   "source": [
    "train_OSRM['trip_duration'] = train_df['trip_duration']"
   ]
  },
  {
   "cell_type": "code",
   "execution_count": 6,
   "metadata": {
    "scrolled": false
   },
   "outputs": [
    {
     "data": {
      "text/html": [
       "<div>\n",
       "<style>\n",
       "    .dataframe thead tr:only-child th {\n",
       "        text-align: right;\n",
       "    }\n",
       "\n",
       "    .dataframe thead th {\n",
       "        text-align: left;\n",
       "    }\n",
       "\n",
       "    .dataframe tbody tr th {\n",
       "        vertical-align: top;\n",
       "    }\n",
       "</style>\n",
       "<table border=\"1\" class=\"dataframe\">\n",
       "  <thead>\n",
       "    <tr style=\"text-align: right;\">\n",
       "      <th></th>\n",
       "      <th>id</th>\n",
       "      <th>starting_street</th>\n",
       "      <th>end_street</th>\n",
       "      <th>total_distance</th>\n",
       "      <th>total_travel_time</th>\n",
       "      <th>number_of_steps</th>\n",
       "      <th>street_for_each_step</th>\n",
       "      <th>distance_per_step</th>\n",
       "      <th>travel_time_per_step</th>\n",
       "      <th>step_maneuvers</th>\n",
       "      <th>step_direction</th>\n",
       "      <th>step_location_list</th>\n",
       "      <th>trip_duration</th>\n",
       "    </tr>\n",
       "  </thead>\n",
       "  <tbody>\n",
       "    <tr>\n",
       "      <th>0</th>\n",
       "      <td>id2875421</td>\n",
       "      <td>columbus circle</td>\n",
       "      <td>east 65th street</td>\n",
       "      <td>2009.1</td>\n",
       "      <td>164.9</td>\n",
       "      <td>5</td>\n",
       "      <td>columbus circle|central park west|65th street ...</td>\n",
       "      <td>0|576.4|885.6|547.1|0</td>\n",
       "      <td>0|61.1|60.1|43.7|0</td>\n",
       "      <td>depart|rotary|turn|new name|arrive</td>\n",
       "      <td>left|straight|right|straight|arrive</td>\n",
       "      <td>-73.982316,40.767869|-73.981997,40.767688|-73....</td>\n",
       "      <td>455</td>\n",
       "    </tr>\n",
       "    <tr>\n",
       "      <th>1</th>\n",
       "      <td>id2377394</td>\n",
       "      <td>2nd avenue</td>\n",
       "      <td>washington square west</td>\n",
       "      <td>2513.2</td>\n",
       "      <td>332.0</td>\n",
       "      <td>6</td>\n",
       "      <td>2nd avenue|east 13th street|5th avenue|washing...</td>\n",
       "      <td>877.3|836.5|496.1|164.2|139.1|0</td>\n",
       "      <td>111.7|109|69.9|25.8|15.6|0</td>\n",
       "      <td>depart|turn|turn|end of road|continue|arrive</td>\n",
       "      <td>none|right|left|right|left|arrive</td>\n",
       "      <td>-73.980429,40.73857|-73.985444,40.731658|-73.9...</td>\n",
       "      <td>663</td>\n",
       "    </tr>\n",
       "    <tr>\n",
       "      <th>2</th>\n",
       "      <td>id3504673</td>\n",
       "      <td>greenwich street</td>\n",
       "      <td>broadway</td>\n",
       "      <td>1779.4</td>\n",
       "      <td>235.8</td>\n",
       "      <td>4</td>\n",
       "      <td>greenwich street|park place|broadway|broadway</td>\n",
       "      <td>644.2|379.9|755.3|0</td>\n",
       "      <td>80.5|50.8|104.5|0</td>\n",
       "      <td>depart|turn|end of road|arrive</td>\n",
       "      <td>left|left|right|arrive</td>\n",
       "      <td>-74.010145,40.719982|-74.011527,40.714294|-74....</td>\n",
       "      <td>2124</td>\n",
       "    </tr>\n",
       "    <tr>\n",
       "      <th>3</th>\n",
       "      <td>id2181028</td>\n",
       "      <td>broadway</td>\n",
       "      <td>west 81st street</td>\n",
       "      <td>1614.9</td>\n",
       "      <td>140.1</td>\n",
       "      <td>5</td>\n",
       "      <td>broadway|west 86th street|columbus avenue|west...</td>\n",
       "      <td>617|427.4|412.2|158.3|0</td>\n",
       "      <td>56|36|37.8|10.3|0</td>\n",
       "      <td>depart|turn|turn|turn|arrive</td>\n",
       "      <td>right|left|right|left|arrive</td>\n",
       "      <td>-73.972998,40.793187|-73.976607,40.788361|-73....</td>\n",
       "      <td>429</td>\n",
       "    </tr>\n",
       "    <tr>\n",
       "      <th>4</th>\n",
       "      <td>id0801584</td>\n",
       "      <td>lexington avenue</td>\n",
       "      <td>west 31st street</td>\n",
       "      <td>1393.5</td>\n",
       "      <td>189.4</td>\n",
       "      <td>5</td>\n",
       "      <td>lexington avenue|east 27th street|madison aven...</td>\n",
       "      <td>18.9|311.9|313.3|749.4|0</td>\n",
       "      <td>6.3|42.9|48.4|91.8|0</td>\n",
       "      <td>depart|turn|turn|turn|arrive</td>\n",
       "      <td>right|right|right|left|arrive</td>\n",
       "      <td>-73.982805,40.742173|-73.982914,40.742024|-73....</td>\n",
       "      <td>435</td>\n",
       "    </tr>\n",
       "  </tbody>\n",
       "</table>\n",
       "</div>"
      ],
      "text/plain": [
       "          id   starting_street              end_street  total_distance  \\\n",
       "0  id2875421   columbus circle        east 65th street          2009.1   \n",
       "1  id2377394        2nd avenue  washington square west          2513.2   \n",
       "2  id3504673  greenwich street                broadway          1779.4   \n",
       "3  id2181028          broadway        west 81st street          1614.9   \n",
       "4  id0801584  lexington avenue        west 31st street          1393.5   \n",
       "\n",
       "   total_travel_time  number_of_steps  \\\n",
       "0              164.9                5   \n",
       "1              332.0                6   \n",
       "2              235.8                4   \n",
       "3              140.1                5   \n",
       "4              189.4                5   \n",
       "\n",
       "                                street_for_each_step  \\\n",
       "0  columbus circle|central park west|65th street ...   \n",
       "1  2nd avenue|east 13th street|5th avenue|washing...   \n",
       "2      greenwich street|park place|broadway|broadway   \n",
       "3  broadway|west 86th street|columbus avenue|west...   \n",
       "4  lexington avenue|east 27th street|madison aven...   \n",
       "\n",
       "                 distance_per_step        travel_time_per_step  \\\n",
       "0            0|576.4|885.6|547.1|0          0|61.1|60.1|43.7|0   \n",
       "1  877.3|836.5|496.1|164.2|139.1|0  111.7|109|69.9|25.8|15.6|0   \n",
       "2              644.2|379.9|755.3|0           80.5|50.8|104.5|0   \n",
       "3          617|427.4|412.2|158.3|0           56|36|37.8|10.3|0   \n",
       "4         18.9|311.9|313.3|749.4|0        6.3|42.9|48.4|91.8|0   \n",
       "\n",
       "                                 step_maneuvers  \\\n",
       "0            depart|rotary|turn|new name|arrive   \n",
       "1  depart|turn|turn|end of road|continue|arrive   \n",
       "2                depart|turn|end of road|arrive   \n",
       "3                  depart|turn|turn|turn|arrive   \n",
       "4                  depart|turn|turn|turn|arrive   \n",
       "\n",
       "                        step_direction  \\\n",
       "0  left|straight|right|straight|arrive   \n",
       "1    none|right|left|right|left|arrive   \n",
       "2               left|left|right|arrive   \n",
       "3         right|left|right|left|arrive   \n",
       "4        right|right|right|left|arrive   \n",
       "\n",
       "                                  step_location_list  trip_duration  \n",
       "0  -73.982316,40.767869|-73.981997,40.767688|-73....            455  \n",
       "1  -73.980429,40.73857|-73.985444,40.731658|-73.9...            663  \n",
       "2  -74.010145,40.719982|-74.011527,40.714294|-74....           2124  \n",
       "3  -73.972998,40.793187|-73.976607,40.788361|-73....            429  \n",
       "4  -73.982805,40.742173|-73.982914,40.742024|-73....            435  "
      ]
     },
     "execution_count": 6,
     "metadata": {},
     "output_type": "execute_result"
    }
   ],
   "source": [
    "train_OSRM.head()"
   ]
  },
  {
   "cell_type": "markdown",
   "metadata": {},
   "source": [
    "Check if there is any missing value in the provided dataset"
   ]
  },
  {
   "cell_type": "code",
   "execution_count": 7,
   "metadata": {
    "scrolled": true
   },
   "outputs": [
    {
     "data": {
      "text/plain": [
       "id                      0\n",
       "starting_street         0\n",
       "end_street              0\n",
       "total_distance          0\n",
       "total_travel_time       0\n",
       "number_of_steps         0\n",
       "street_for_each_step    0\n",
       "distance_per_step       0\n",
       "travel_time_per_step    0\n",
       "step_maneuvers          0\n",
       "step_direction          0\n",
       "step_location_list      0\n",
       "trip_duration           0\n",
       "dtype: int64"
      ]
     },
     "execution_count": 7,
     "metadata": {},
     "output_type": "execute_result"
    }
   ],
   "source": [
    "train_OSRM.isnull().sum()"
   ]
  },
  {
   "cell_type": "markdown",
   "metadata": {},
   "source": [
    "<u>Types</u>"
   ]
  },
  {
   "cell_type": "code",
   "execution_count": 8,
   "metadata": {
    "scrolled": true
   },
   "outputs": [
    {
     "data": {
      "text/plain": [
       "id                       object\n",
       "starting_street          object\n",
       "end_street               object\n",
       "total_distance          float64\n",
       "total_travel_time       float64\n",
       "number_of_steps           int64\n",
       "street_for_each_step     object\n",
       "distance_per_step        object\n",
       "travel_time_per_step     object\n",
       "step_maneuvers           object\n",
       "step_direction           object\n",
       "step_location_list       object\n",
       "trip_duration             int64\n",
       "dtype: object"
      ]
     },
     "execution_count": 8,
     "metadata": {},
     "output_type": "execute_result"
    }
   ],
   "source": [
    "train_OSRM.dtypes"
   ]
  },
  {
   "cell_type": "markdown",
   "metadata": {},
   "source": [
    "We observe many object (i.e. string) values, which will need to be preprocessed for the machine learning algorithms."
   ]
  },
  {
   "cell_type": "markdown",
   "metadata": {},
   "source": [
    "<h3 style=\"text-align:center\">Data Analysis</h3>"
   ]
  },
  {
   "cell_type": "code",
   "execution_count": 9,
   "metadata": {
    "scrolled": true
   },
   "outputs": [
    {
     "data": {
      "text/html": [
       "<div>\n",
       "<style>\n",
       "    .dataframe thead tr:only-child th {\n",
       "        text-align: right;\n",
       "    }\n",
       "\n",
       "    .dataframe thead th {\n",
       "        text-align: left;\n",
       "    }\n",
       "\n",
       "    .dataframe tbody tr th {\n",
       "        vertical-align: top;\n",
       "    }\n",
       "</style>\n",
       "<table border=\"1\" class=\"dataframe\">\n",
       "  <thead>\n",
       "    <tr style=\"text-align: right;\">\n",
       "      <th></th>\n",
       "      <th>id</th>\n",
       "      <th>starting_street</th>\n",
       "      <th>end_street</th>\n",
       "      <th>total_distance</th>\n",
       "      <th>total_travel_time</th>\n",
       "      <th>number_of_steps</th>\n",
       "      <th>street_for_each_step</th>\n",
       "      <th>distance_per_step</th>\n",
       "      <th>travel_time_per_step</th>\n",
       "      <th>step_maneuvers</th>\n",
       "      <th>step_direction</th>\n",
       "      <th>step_location_list</th>\n",
       "      <th>trip_duration</th>\n",
       "    </tr>\n",
       "  </thead>\n",
       "  <tbody>\n",
       "    <tr>\n",
       "      <th>0</th>\n",
       "      <td>id2875421</td>\n",
       "      <td>columbus circle</td>\n",
       "      <td>east 65th street</td>\n",
       "      <td>2009.1</td>\n",
       "      <td>164.9</td>\n",
       "      <td>5</td>\n",
       "      <td>columbus circle|central park west|65th street ...</td>\n",
       "      <td>0|576.4|885.6|547.1|0</td>\n",
       "      <td>0|61.1|60.1|43.7|0</td>\n",
       "      <td>depart|rotary|turn|new name|arrive</td>\n",
       "      <td>left|straight|right|straight|arrive</td>\n",
       "      <td>-73.982316,40.767869|-73.981997,40.767688|-73....</td>\n",
       "      <td>455</td>\n",
       "    </tr>\n",
       "    <tr>\n",
       "      <th>1</th>\n",
       "      <td>id2377394</td>\n",
       "      <td>2nd avenue</td>\n",
       "      <td>washington square west</td>\n",
       "      <td>2513.2</td>\n",
       "      <td>332.0</td>\n",
       "      <td>6</td>\n",
       "      <td>2nd avenue|east 13th street|5th avenue|washing...</td>\n",
       "      <td>877.3|836.5|496.1|164.2|139.1|0</td>\n",
       "      <td>111.7|109|69.9|25.8|15.6|0</td>\n",
       "      <td>depart|turn|turn|end of road|continue|arrive</td>\n",
       "      <td>none|right|left|right|left|arrive</td>\n",
       "      <td>-73.980429,40.73857|-73.985444,40.731658|-73.9...</td>\n",
       "      <td>663</td>\n",
       "    </tr>\n",
       "    <tr>\n",
       "      <th>2</th>\n",
       "      <td>id3504673</td>\n",
       "      <td>greenwich street</td>\n",
       "      <td>broadway</td>\n",
       "      <td>1779.4</td>\n",
       "      <td>235.8</td>\n",
       "      <td>4</td>\n",
       "      <td>greenwich street|park place|broadway|broadway</td>\n",
       "      <td>644.2|379.9|755.3|0</td>\n",
       "      <td>80.5|50.8|104.5|0</td>\n",
       "      <td>depart|turn|end of road|arrive</td>\n",
       "      <td>left|left|right|arrive</td>\n",
       "      <td>-74.010145,40.719982|-74.011527,40.714294|-74....</td>\n",
       "      <td>2124</td>\n",
       "    </tr>\n",
       "    <tr>\n",
       "      <th>3</th>\n",
       "      <td>id2181028</td>\n",
       "      <td>broadway</td>\n",
       "      <td>west 81st street</td>\n",
       "      <td>1614.9</td>\n",
       "      <td>140.1</td>\n",
       "      <td>5</td>\n",
       "      <td>broadway|west 86th street|columbus avenue|west...</td>\n",
       "      <td>617|427.4|412.2|158.3|0</td>\n",
       "      <td>56|36|37.8|10.3|0</td>\n",
       "      <td>depart|turn|turn|turn|arrive</td>\n",
       "      <td>right|left|right|left|arrive</td>\n",
       "      <td>-73.972998,40.793187|-73.976607,40.788361|-73....</td>\n",
       "      <td>429</td>\n",
       "    </tr>\n",
       "    <tr>\n",
       "      <th>4</th>\n",
       "      <td>id0801584</td>\n",
       "      <td>lexington avenue</td>\n",
       "      <td>west 31st street</td>\n",
       "      <td>1393.5</td>\n",
       "      <td>189.4</td>\n",
       "      <td>5</td>\n",
       "      <td>lexington avenue|east 27th street|madison aven...</td>\n",
       "      <td>18.9|311.9|313.3|749.4|0</td>\n",
       "      <td>6.3|42.9|48.4|91.8|0</td>\n",
       "      <td>depart|turn|turn|turn|arrive</td>\n",
       "      <td>right|right|right|left|arrive</td>\n",
       "      <td>-73.982805,40.742173|-73.982914,40.742024|-73....</td>\n",
       "      <td>435</td>\n",
       "    </tr>\n",
       "  </tbody>\n",
       "</table>\n",
       "</div>"
      ],
      "text/plain": [
       "          id   starting_street              end_street  total_distance  \\\n",
       "0  id2875421   columbus circle        east 65th street          2009.1   \n",
       "1  id2377394        2nd avenue  washington square west          2513.2   \n",
       "2  id3504673  greenwich street                broadway          1779.4   \n",
       "3  id2181028          broadway        west 81st street          1614.9   \n",
       "4  id0801584  lexington avenue        west 31st street          1393.5   \n",
       "\n",
       "   total_travel_time  number_of_steps  \\\n",
       "0              164.9                5   \n",
       "1              332.0                6   \n",
       "2              235.8                4   \n",
       "3              140.1                5   \n",
       "4              189.4                5   \n",
       "\n",
       "                                street_for_each_step  \\\n",
       "0  columbus circle|central park west|65th street ...   \n",
       "1  2nd avenue|east 13th street|5th avenue|washing...   \n",
       "2      greenwich street|park place|broadway|broadway   \n",
       "3  broadway|west 86th street|columbus avenue|west...   \n",
       "4  lexington avenue|east 27th street|madison aven...   \n",
       "\n",
       "                 distance_per_step        travel_time_per_step  \\\n",
       "0            0|576.4|885.6|547.1|0          0|61.1|60.1|43.7|0   \n",
       "1  877.3|836.5|496.1|164.2|139.1|0  111.7|109|69.9|25.8|15.6|0   \n",
       "2              644.2|379.9|755.3|0           80.5|50.8|104.5|0   \n",
       "3          617|427.4|412.2|158.3|0           56|36|37.8|10.3|0   \n",
       "4         18.9|311.9|313.3|749.4|0        6.3|42.9|48.4|91.8|0   \n",
       "\n",
       "                                 step_maneuvers  \\\n",
       "0            depart|rotary|turn|new name|arrive   \n",
       "1  depart|turn|turn|end of road|continue|arrive   \n",
       "2                depart|turn|end of road|arrive   \n",
       "3                  depart|turn|turn|turn|arrive   \n",
       "4                  depart|turn|turn|turn|arrive   \n",
       "\n",
       "                        step_direction  \\\n",
       "0  left|straight|right|straight|arrive   \n",
       "1    none|right|left|right|left|arrive   \n",
       "2               left|left|right|arrive   \n",
       "3         right|left|right|left|arrive   \n",
       "4        right|right|right|left|arrive   \n",
       "\n",
       "                                  step_location_list  trip_duration  \n",
       "0  -73.982316,40.767869|-73.981997,40.767688|-73....            455  \n",
       "1  -73.980429,40.73857|-73.985444,40.731658|-73.9...            663  \n",
       "2  -74.010145,40.719982|-74.011527,40.714294|-74....           2124  \n",
       "3  -73.972998,40.793187|-73.976607,40.788361|-73....            429  \n",
       "4  -73.982805,40.742173|-73.982914,40.742024|-73....            435  "
      ]
     },
     "execution_count": 9,
     "metadata": {},
     "output_type": "execute_result"
    }
   ],
   "source": [
    "train_OSRM.head()"
   ]
  },
  {
   "cell_type": "markdown",
   "metadata": {},
   "source": [
    "<u>Correlation with trip duration</u>"
   ]
  },
  {
   "cell_type": "markdown",
   "metadata": {},
   "source": [
    "<u>Number of steps</u>"
   ]
  },
  {
   "cell_type": "code",
   "execution_count": 50,
   "metadata": {},
   "outputs": [
    {
     "data": {
      "text/plain": [
       "count    1.458643e+06\n",
       "mean     7.547118e+00\n",
       "std      4.432500e+00\n",
       "min      2.000000e+00\n",
       "25%      5.000000e+00\n",
       "50%      6.000000e+00\n",
       "75%      9.000000e+00\n",
       "max      4.600000e+01\n",
       "Name: number_of_steps, dtype: float64"
      ]
     },
     "execution_count": 50,
     "metadata": {},
     "output_type": "execute_result"
    }
   ],
   "source": [
    "train_OSRM['number_of_steps'].describe()"
   ]
  },
  {
   "cell_type": "markdown",
   "metadata": {},
   "source": [
    "There are between 2 and 46 steps to reach the\n",
    "desired destinations."
   ]
  },
  {
   "cell_type": "code",
   "execution_count": 15,
   "metadata": {
    "scrolled": true
   },
   "outputs": [
    {
     "data": {
      "image/png": "[encoded data removed]",
      "text/plain": [
       "<matplotlib.figure.Figure at 0x20980fa4438>"
      ]
     },
     "metadata": {},
     "output_type": "display_data"
    }
   ],
   "source": [
    "sns.countplot(x='number_of_steps', data=train_OSRM)\n",
    "plt.xticks(rotation=90)\n",
    "plt.ylabel('number of trips')\n",
    "plt.show()"
   ]
  },
  {
   "cell_type": "code",
   "execution_count": 34,
   "metadata": {
    "scrolled": true
   },
   "outputs": [
    {
     "data": {
      "text/plain": [
       "<matplotlib.text.Text at 0x2098175a160>"
      ]
     },
     "execution_count": 34,
     "metadata": {},
     "output_type": "execute_result"
    },
    {
     "data": {
      "image/png": "[encoded data removed]",
      "text/plain": [
       "<matplotlib.figure.Figure at 0x2098171a4e0>"
      ]
     },
     "metadata": {},
     "output_type": "display_data"
    }
   ],
   "source": [
    "target = np.log(train_OSRM['trip_duration'])\n",
    "\n",
    "sns.regplot(x='number_of_steps', y=target, data=train_OSRM,\n",
    "           fit_reg=False)\n",
    "\n",
    "plt.ylabel('log(trip_duration)')"
   ]
  },
  {
   "cell_type": "markdown",
   "metadata": {
    "collapsed": true
   },
   "source": [
    "<u>Total travel time</u>"
   ]
  },
  {
   "cell_type": "code",
   "execution_count": 47,
   "metadata": {
    "scrolled": true
   },
   "outputs": [
    {
     "data": {
      "text/plain": [
       "<matplotlib.axes._subplots.AxesSubplot at 0x20a04b695c0>"
      ]
     },
     "execution_count": 47,
     "metadata": {},
     "output_type": "execute_result"
    },
    {
     "data": {
      "image/png": "[encoded data removed]",
      "text/plain": [
       "<matplotlib.figure.Figure at 0x20980d12a20>"
      ]
     },
     "metadata": {},
     "output_type": "display_data"
    }
   ],
   "source": [
    "target = np.log(train_OSRM['trip_duration'])\n",
    "\n",
    "transform_travel_time = np.log(train_OSRM['total_travel_time'])\n",
    "\n",
    "sns.regplot(x='total_travel_time', y=target, data=train_OSRM,\n",
    "           fit_reg=False)\n",
    "\n",
    "# sns.regplot(x=transform_travel_time, y=target, data=train_OSRM, fit_reg=False)"
   ]
  },
  {
   "cell_type": "markdown",
   "metadata": {},
   "source": [
    "<h3 style=\"text-align:center\">Feature Engineering</h3>"
   ]
  },
  {
   "cell_type": "code",
   "execution_count": 62,
   "metadata": {},
   "outputs": [
    {
     "data": {
      "text/html": [
       "<div>\n",
       "<style>\n",
       "    .dataframe thead tr:only-child th {\n",
       "        text-align: right;\n",
       "    }\n",
       "\n",
       "    .dataframe thead th {\n",
       "        text-align: left;\n",
       "    }\n",
       "\n",
       "    .dataframe tbody tr th {\n",
       "        vertical-align: top;\n",
       "    }\n",
       "</style>\n",
       "<table border=\"1\" class=\"dataframe\">\n",
       "  <thead>\n",
       "    <tr style=\"text-align: right;\">\n",
       "      <th></th>\n",
       "      <th>id</th>\n",
       "      <th>total_distance</th>\n",
       "      <th>total_travel_time</th>\n",
       "      <th>number_of_steps</th>\n",
       "    </tr>\n",
       "  </thead>\n",
       "  <tbody>\n",
       "    <tr>\n",
       "      <th>0</th>\n",
       "      <td>id2875421</td>\n",
       "      <td>2009.1</td>\n",
       "      <td>164.9</td>\n",
       "      <td>5</td>\n",
       "    </tr>\n",
       "    <tr>\n",
       "      <th>1</th>\n",
       "      <td>id2377394</td>\n",
       "      <td>2513.2</td>\n",
       "      <td>332.0</td>\n",
       "      <td>6</td>\n",
       "    </tr>\n",
       "    <tr>\n",
       "      <th>2</th>\n",
       "      <td>id3504673</td>\n",
       "      <td>1779.4</td>\n",
       "      <td>235.8</td>\n",
       "      <td>4</td>\n",
       "    </tr>\n",
       "    <tr>\n",
       "      <th>3</th>\n",
       "      <td>id2181028</td>\n",
       "      <td>1614.9</td>\n",
       "      <td>140.1</td>\n",
       "      <td>5</td>\n",
       "    </tr>\n",
       "    <tr>\n",
       "      <th>4</th>\n",
       "      <td>id0801584</td>\n",
       "      <td>1393.5</td>\n",
       "      <td>189.4</td>\n",
       "      <td>5</td>\n",
       "    </tr>\n",
       "  </tbody>\n",
       "</table>\n",
       "</div>"
      ],
      "text/plain": [
       "          id  total_distance  total_travel_time  number_of_steps\n",
       "0  id2875421          2009.1              164.9                5\n",
       "1  id2377394          2513.2              332.0                6\n",
       "2  id3504673          1779.4              235.8                4\n",
       "3  id2181028          1614.9              140.1                5\n",
       "4  id0801584          1393.5              189.4                5"
      ]
     },
     "execution_count": 62,
     "metadata": {},
     "output_type": "execute_result"
    }
   ],
   "source": [
    "train_OSRM.head()"
   ]
  },
  {
   "cell_type": "markdown",
   "metadata": {},
   "source": [
    "Delete unnecessary columns"
   ]
  },
  {
   "cell_type": "code",
   "execution_count": 57,
   "metadata": {
    "collapsed": true
   },
   "outputs": [],
   "source": [
    "def drop_OSRM_columns(dataset):\n",
    "    drop_columns = ['starting_street', 'end_street', 'street_for_each_step', \n",
    "                    'distance_per_step', 'travel_time_per_step', 'step_maneuvers', \n",
    "                    'step_direction', 'step_location_list']\n",
    "    \n",
    "    dataset.drop(drop_columns, axis=1, inplace=True)\n",
    "\n",
    "drop_OSRM_columns(train_OSRM)\n",
    "drop_OSRM_columns(test_OSRM)"
   ]
  },
  {
   "cell_type": "code",
   "execution_count": 58,
   "metadata": {},
   "outputs": [
    {
     "data": {
      "text/html": [
       "<div>\n",
       "<style>\n",
       "    .dataframe thead tr:only-child th {\n",
       "        text-align: right;\n",
       "    }\n",
       "\n",
       "    .dataframe thead th {\n",
       "        text-align: left;\n",
       "    }\n",
       "\n",
       "    .dataframe tbody tr th {\n",
       "        vertical-align: top;\n",
       "    }\n",
       "</style>\n",
       "<table border=\"1\" class=\"dataframe\">\n",
       "  <thead>\n",
       "    <tr style=\"text-align: right;\">\n",
       "      <th></th>\n",
       "      <th>id</th>\n",
       "      <th>total_distance</th>\n",
       "      <th>total_travel_time</th>\n",
       "      <th>number_of_steps</th>\n",
       "      <th>trip_duration</th>\n",
       "    </tr>\n",
       "  </thead>\n",
       "  <tbody>\n",
       "    <tr>\n",
       "      <th>0</th>\n",
       "      <td>id2875421</td>\n",
       "      <td>2009.1</td>\n",
       "      <td>164.9</td>\n",
       "      <td>5</td>\n",
       "      <td>455</td>\n",
       "    </tr>\n",
       "    <tr>\n",
       "      <th>1</th>\n",
       "      <td>id2377394</td>\n",
       "      <td>2513.2</td>\n",
       "      <td>332.0</td>\n",
       "      <td>6</td>\n",
       "      <td>663</td>\n",
       "    </tr>\n",
       "    <tr>\n",
       "      <th>2</th>\n",
       "      <td>id3504673</td>\n",
       "      <td>1779.4</td>\n",
       "      <td>235.8</td>\n",
       "      <td>4</td>\n",
       "      <td>2124</td>\n",
       "    </tr>\n",
       "    <tr>\n",
       "      <th>3</th>\n",
       "      <td>id2181028</td>\n",
       "      <td>1614.9</td>\n",
       "      <td>140.1</td>\n",
       "      <td>5</td>\n",
       "      <td>429</td>\n",
       "    </tr>\n",
       "    <tr>\n",
       "      <th>4</th>\n",
       "      <td>id0801584</td>\n",
       "      <td>1393.5</td>\n",
       "      <td>189.4</td>\n",
       "      <td>5</td>\n",
       "      <td>435</td>\n",
       "    </tr>\n",
       "  </tbody>\n",
       "</table>\n",
       "</div>"
      ],
      "text/plain": [
       "          id  total_distance  total_travel_time  number_of_steps  \\\n",
       "0  id2875421          2009.1              164.9                5   \n",
       "1  id2377394          2513.2              332.0                6   \n",
       "2  id3504673          1779.4              235.8                4   \n",
       "3  id2181028          1614.9              140.1                5   \n",
       "4  id0801584          1393.5              189.4                5   \n",
       "\n",
       "   trip_duration  \n",
       "0            455  \n",
       "1            663  \n",
       "2           2124  \n",
       "3            429  \n",
       "4            435  "
      ]
     },
     "execution_count": 58,
     "metadata": {},
     "output_type": "execute_result"
    }
   ],
   "source": [
    "train_OSRM.head()"
   ]
  },
  {
   "cell_type": "markdown",
   "metadata": {},
   "source": [
    "<h3 style=\"text-align:center\">Saving files</h3>"
   ]
  },
  {
   "cell_type": "code",
   "execution_count": 59,
   "metadata": {
    "collapsed": true
   },
   "outputs": [],
   "source": [
    "train_OSRM.drop(['trip_duration'], axis=1, inplace=True)"
   ]
  },
  {
   "cell_type": "code",
   "execution_count": 61,
   "metadata": {
    "collapsed": true
   },
   "outputs": [],
   "source": [
    "train_OSRM.to_pickle('train_OSRM.p')\n",
    "test_OSRM.to_pickle('test_OSRM.p')"
   ]
  }
 ],
 "metadata": {
  "kernelspec": {
   "display_name": "Python 3",
   "language": "python",
   "name": "python3"
  },
  "language_info": {
   "codemirror_mode": {
    "name": "ipython",
    "version": 3
   },
   "file_extension": ".py",
   "mimetype": "text/x-python",
   "name": "python",
   "nbconvert_exporter": "python",
   "pygments_lexer": "ipython3",
   "version": "3.6.1"
  }
 },
 "nbformat": 4,
 "nbformat_minor": 2
}
