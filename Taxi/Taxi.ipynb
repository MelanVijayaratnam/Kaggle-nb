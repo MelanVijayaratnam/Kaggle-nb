{
 "cells": [
  {
   "cell_type": "markdown",
   "metadata": {},
   "source": [
    "<h1 style=\"text-align:center\">New York City Taxi Trip Duration</h1>"
   ]
  },
  {
   "cell_type": "markdown",
   "metadata": {},
   "source": [
    "<h3 style=\"text-align:center\">Load Libraries</h3>"
   ]
  },
  {
   "cell_type": "code",
   "execution_count": 1,
   "metadata": {
    "scrolled": true
   },
   "outputs": [
    {
     "data": {
      "text/html": [
       "\n",
       "    <div class=\"bk-root\">\n",
       "        <a href=\"http://bokeh.pydata.org\" target=\"_blank\" class=\"bk-logo bk-logo-small bk-logo-notebook\"></a>\n",
       "        <span id=\"b8a0b070-8a7d-43d5-9474-c35472304702\">Loading BokehJS ...</span>\n",
       "    </div>"
      ]
     },
     "metadata": {},
     "output_type": "display_data"
    },
    {
     "data": {
      "application/javascript": [
       "\n",
       "(function(global) {\n",
       "  function now() {\n",
       "    return new Date();\n",
       "  }\n",
       "\n",
       "  var force = true;\n",
       "\n",
       "  if (typeof (window._bokeh_onload_callbacks) === \"undefined\" || force === true) {\n",
       "    window._bokeh_onload_callbacks = [];\n",
       "    window._bokeh_is_loading = undefined;\n",
       "  }\n",
       "\n",
       "\n",
       "  \n",
       "  if (typeof (window._bokeh_timeout) === \"undefined\" || force === true) {\n",
       "    window._bokeh_timeout = Date.now() + 5000;\n",
       "    window._bokeh_failed_load = false;\n",
       "  }\n",
       "\n",
       "  var NB_LOAD_WARNING = {'data': {'text/html':\n",
       "     \"<div style='background-color: #fdd'>\\n\"+\n",
       "     \"<p>\\n\"+\n",
       "     \"BokehJS does not appear to have successfully loaded. If loading BokehJS from CDN, this \\n\"+\n",
       "     \"may be due to a slow or bad network connection. Possible fixes:\\n\"+\n",
       "     \"</p>\\n\"+\n",
       "     \"<ul>\\n\"+\n",
       "     \"<li>re-rerun `output_notebook()` to attempt to load from CDN again, or</li>\\n\"+\n",
       "     \"<li>use INLINE resources instead, as so:</li>\\n\"+\n",
       "     \"</ul>\\n\"+\n",
       "     \"<code>\\n\"+\n",
       "     \"from bokeh.resources import INLINE\\n\"+\n",
       "     \"output_notebook(resources=INLINE)\\n\"+\n",
       "     \"</code>\\n\"+\n",
       "     \"</div>\"}};\n",
       "\n",
       "  function display_loaded() {\n",
       "    if (window.Bokeh !== undefined) {\n",
       "      var el = document.getElementById(\"b8a0b070-8a7d-43d5-9474-c35472304702\");\n",
       "      el.textContent = \"BokehJS \" + Bokeh.version + \" successfully loaded.\";\n",
       "    } else if (Date.now() < window._bokeh_timeout) {\n",
       "      setTimeout(display_loaded, 100)\n",
       "    }\n",
       "  }\n",
       "\n",
       "  function run_callbacks() {\n",
       "    window._bokeh_onload_callbacks.forEach(function(callback) { callback() });\n",
       "    delete window._bokeh_onload_callbacks\n",
       "    console.info(\"Bokeh: all callbacks have finished\");\n",
       "  }\n",
       "\n",
       "  function load_libs(js_urls, callback) {\n",
       "    window._bokeh_onload_callbacks.push(callback);\n",
       "    if (window._bokeh_is_loading > 0) {\n",
       "      console.log(\"Bokeh: BokehJS is being loaded, scheduling callback at\", now());\n",
       "      return null;\n",
       "    }\n",
       "    if (js_urls == null || js_urls.length === 0) {\n",
       "      run_callbacks();\n",
       "      return null;\n",
       "    }\n",
       "    console.log(\"Bokeh: BokehJS not loaded, scheduling load and callback at\", now());\n",
       "    window._bokeh_is_loading = js_urls.length;\n",
       "    for (var i = 0; i < js_urls.length; i++) {\n",
       "      var url = js_urls[i];\n",
       "      var s = document.createElement('script');\n",
       "      s.src = url;\n",
       "      s.async = false;\n",
       "      s.onreadystatechange = s.onload = function() {\n",
       "        window._bokeh_is_loading--;\n",
       "        if (window._bokeh_is_loading === 0) {\n",
       "          console.log(\"Bokeh: all BokehJS libraries loaded\");\n",
       "          run_callbacks()\n",
       "        }\n",
       "      };\n",
       "      s.onerror = function() {\n",
       "        console.warn(\"failed to load library \" + url);\n",
       "      };\n",
       "      console.log(\"Bokeh: injecting script tag for BokehJS library: \", url);\n",
       "      document.getElementsByTagName(\"head\")[0].appendChild(s);\n",
       "    }\n",
       "  };var element = document.getElementById(\"b8a0b070-8a7d-43d5-9474-c35472304702\");\n",
       "  if (element == null) {\n",
       "    console.log(\"Bokeh: ERROR: autoload.js configured with elementid 'b8a0b070-8a7d-43d5-9474-c35472304702' but no matching script tag was found. \")\n",
       "    return false;\n",
       "  }\n",
       "\n",
       "  var js_urls = [\"https://cdn.pydata.org/bokeh/release/bokeh-0.12.5.min.js\", \"https://cdn.pydata.org/bokeh/release/bokeh-widgets-0.12.5.min.js\"];\n",
       "\n",
       "  var inline_js = [\n",
       "    function(Bokeh) {\n",
       "      Bokeh.set_log_level(\"info\");\n",
       "    },\n",
       "    \n",
       "    function(Bokeh) {\n",
       "      \n",
       "    },\n",
       "    \n",
       "    function(Bokeh) {\n",
       "      \n",
       "      document.getElementById(\"b8a0b070-8a7d-43d5-9474-c35472304702\").textContent = \"BokehJS is loading...\";\n",
       "    },\n",
       "    function(Bokeh) {\n",
       "      console.log(\"Bokeh: injecting CSS: https://cdn.pydata.org/bokeh/release/bokeh-0.12.5.min.css\");\n",
       "      Bokeh.embed.inject_css(\"https://cdn.pydata.org/bokeh/release/bokeh-0.12.5.min.css\");\n",
       "      console.log(\"Bokeh: injecting CSS: https://cdn.pydata.org/bokeh/release/bokeh-widgets-0.12.5.min.css\");\n",
       "      Bokeh.embed.inject_css(\"https://cdn.pydata.org/bokeh/release/bokeh-widgets-0.12.5.min.css\");\n",
       "    }\n",
       "  ];\n",
       "\n",
       "  function run_inline_js() {\n",
       "    \n",
       "    if ((window.Bokeh !== undefined) || (force === true)) {\n",
       "      for (var i = 0; i < inline_js.length; i++) {\n",
       "        inline_js[i](window.Bokeh);\n",
       "      }if (force === true) {\n",
       "        display_loaded();\n",
       "      }} else if (Date.now() < window._bokeh_timeout) {\n",
       "      setTimeout(run_inline_js, 100);\n",
       "    } else if (!window._bokeh_failed_load) {\n",
       "      console.log(\"Bokeh: BokehJS failed to load within specified timeout.\");\n",
       "      window._bokeh_failed_load = true;\n",
       "    } else if (force !== true) {\n",
       "      var cell = $(document.getElementById(\"b8a0b070-8a7d-43d5-9474-c35472304702\")).parents('.cell').data().cell;\n",
       "      cell.output_area.append_execute_result(NB_LOAD_WARNING)\n",
       "    }\n",
       "\n",
       "  }\n",
       "\n",
       "  if (window._bokeh_is_loading === 0) {\n",
       "    console.log(\"Bokeh: BokehJS loaded, going straight to plotting\");\n",
       "    run_inline_js();\n",
       "  } else {\n",
       "    load_libs(js_urls, function() {\n",
       "      console.log(\"Bokeh: BokehJS plotting callback run at\", now());\n",
       "      run_inline_js();\n",
       "    });\n",
       "  }\n",
       "}(this));"
      ]
     },
     "metadata": {},
     "output_type": "display_data"
    },
    {
     "name": "stderr",
     "output_type": "stream",
     "text": [
      "C:\\Users\\Melan\\Anaconda3\\lib\\site-packages\\sklearn\\cross_validation.py:44: DeprecationWarning: This module was deprecated in version 0.18 in favor of the model_selection module into which all the refactored classes and functions are moved. Also note that the interface of the new CV iterators are different from that of this module. This module will be removed in 0.20.\n",
      "  \"This module will be removed in 0.20.\", DeprecationWarning)\n"
     ]
    }
   ],
   "source": [
    "import numpy as np\n",
    "import pandas as pd\n",
    "\n",
    "# Visualization\n",
    "from matplotlib import pyplot as plt\n",
    "import seaborn as sns\n",
    "%matplotlib inline\n",
    "from bokeh.plotting import figure, show \n",
    "from bokeh.charts import Donut, show\n",
    "from bokeh.io import output_notebook\n",
    "output_notebook()\n",
    "\n",
    "from sklearn.model_selection import train_test_split\n",
    "from sklearn.model_selection import KFold\n",
    "from sklearn.model_selection import cross_val_score\n",
    "from sklearn.model_selection import GridSearchCV\n",
    "\n",
    "from sklearn.linear_model import LinearRegression\n",
    "from sklearn.linear_model import Lasso\n",
    "from sklearn.linear_model import Ridge\n",
    "from sklearn.neighbors import KNeighborsRegressor\n",
    "from sklearn.svm import SVR\n",
    "from sklearn.tree import DecisionTreeRegressor\n",
    "\n",
    "from sklearn.ensemble import RandomForestRegressor\n",
    "from sklearn.ensemble import GradientBoostingRegressor\n",
    "from xgboost import XGBRegressor\n",
    "\n",
    "from sklearn.metrics import r2_score"
   ]
  },
  {
   "cell_type": "code",
   "execution_count": 2,
   "metadata": {
    "collapsed": true
   },
   "outputs": [],
   "source": [
    "# import sys\n",
    "# sys.path.append(\"/holidays\")\n",
    "import holidays\n",
    "from datetime import date"
   ]
  },
  {
   "cell_type": "code",
   "execution_count": null,
   "metadata": {
    "collapsed": true
   },
   "outputs": [],
   "source": []
  },
  {
   "cell_type": "code",
   "execution_count": 3,
   "metadata": {},
   "outputs": [
    {
     "data": {
      "text/html": [
       "\n",
       "<style>\n",
       ".output_png {\n",
       "    display: table-cell;\n",
       "    text-align: center;\n",
       "    vertical-align: middle;\n",
       "}\n",
       "</style>\n"
      ],
      "text/plain": [
       "<IPython.core.display.HTML object>"
      ]
     },
     "execution_count": 3,
     "metadata": {},
     "output_type": "execute_result"
    }
   ],
   "source": [
    "from IPython.core.display import HTML\n",
    "HTML(\"\"\"\n",
    "<style>\n",
    ".output_png {\n",
    "    display: table-cell;\n",
    "    text-align: center;\n",
    "    vertical-align: middle;\n",
    "}\n",
    "</style>\n",
    "\"\"\")"
   ]
  },
  {
   "cell_type": "markdown",
   "metadata": {},
   "source": [
    "<h3 style=\"text-align:center\">Load Dataset</h3>"
   ]
  },
  {
   "cell_type": "code",
   "execution_count": 21,
   "metadata": {
    "collapsed": true
   },
   "outputs": [],
   "source": [
    "train_df = pd.read_csv('train.csv')\n",
    "test_df = pd.read_csv('test.csv')"
   ]
  },
  {
   "cell_type": "code",
   "execution_count": 3,
   "metadata": {},
   "outputs": [
    {
     "name": "stdout",
     "output_type": "stream",
     "text": [
      "Train set shape: (1458644, 11)\n",
      "Test set shape: (625134, 9)\n"
     ]
    }
   ],
   "source": [
    "print(\"Train set shape:\", train_df.shape)\n",
    "print(\"Test set shape:\", test_df.shape)"
   ]
  },
  {
   "cell_type": "markdown",
   "metadata": {},
   "source": [
    "<h3 style=\"text-align:center\">Data exploration</h3>"
   ]
  },
  {
   "cell_type": "code",
   "execution_count": 6,
   "metadata": {},
   "outputs": [
    {
     "data": {
      "text/html": [
       "<div>\n",
       "<style>\n",
       "    .dataframe thead tr:only-child th {\n",
       "        text-align: right;\n",
       "    }\n",
       "\n",
       "    .dataframe thead th {\n",
       "        text-align: left;\n",
       "    }\n",
       "\n",
       "    .dataframe tbody tr th {\n",
       "        vertical-align: top;\n",
       "    }\n",
       "</style>\n",
       "<table border=\"1\" class=\"dataframe\">\n",
       "  <thead>\n",
       "    <tr style=\"text-align: right;\">\n",
       "      <th></th>\n",
       "      <th>id</th>\n",
       "      <th>vendor_id</th>\n",
       "      <th>pickup_datetime</th>\n",
       "      <th>dropoff_datetime</th>\n",
       "      <th>passenger_count</th>\n",
       "      <th>pickup_longitude</th>\n",
       "      <th>pickup_latitude</th>\n",
       "      <th>dropoff_longitude</th>\n",
       "      <th>dropoff_latitude</th>\n",
       "      <th>store_and_fwd_flag</th>\n",
       "      <th>trip_duration</th>\n",
       "    </tr>\n",
       "  </thead>\n",
       "  <tbody>\n",
       "    <tr>\n",
       "      <th>0</th>\n",
       "      <td>id2875421</td>\n",
       "      <td>2</td>\n",
       "      <td>2016-03-14 17:24:55</td>\n",
       "      <td>2016-03-14 17:32:30</td>\n",
       "      <td>1</td>\n",
       "      <td>-73.982155</td>\n",
       "      <td>40.767937</td>\n",
       "      <td>-73.964630</td>\n",
       "      <td>40.765602</td>\n",
       "      <td>N</td>\n",
       "      <td>455</td>\n",
       "    </tr>\n",
       "    <tr>\n",
       "      <th>1</th>\n",
       "      <td>id2377394</td>\n",
       "      <td>1</td>\n",
       "      <td>2016-06-12 00:43:35</td>\n",
       "      <td>2016-06-12 00:54:38</td>\n",
       "      <td>1</td>\n",
       "      <td>-73.980415</td>\n",
       "      <td>40.738564</td>\n",
       "      <td>-73.999481</td>\n",
       "      <td>40.731152</td>\n",
       "      <td>N</td>\n",
       "      <td>663</td>\n",
       "    </tr>\n",
       "    <tr>\n",
       "      <th>2</th>\n",
       "      <td>id3858529</td>\n",
       "      <td>2</td>\n",
       "      <td>2016-01-19 11:35:24</td>\n",
       "      <td>2016-01-19 12:10:48</td>\n",
       "      <td>1</td>\n",
       "      <td>-73.979027</td>\n",
       "      <td>40.763939</td>\n",
       "      <td>-74.005333</td>\n",
       "      <td>40.710087</td>\n",
       "      <td>N</td>\n",
       "      <td>2124</td>\n",
       "    </tr>\n",
       "    <tr>\n",
       "      <th>3</th>\n",
       "      <td>id3504673</td>\n",
       "      <td>2</td>\n",
       "      <td>2016-04-06 19:32:31</td>\n",
       "      <td>2016-04-06 19:39:40</td>\n",
       "      <td>1</td>\n",
       "      <td>-74.010040</td>\n",
       "      <td>40.719971</td>\n",
       "      <td>-74.012268</td>\n",
       "      <td>40.706718</td>\n",
       "      <td>N</td>\n",
       "      <td>429</td>\n",
       "    </tr>\n",
       "    <tr>\n",
       "      <th>4</th>\n",
       "      <td>id2181028</td>\n",
       "      <td>2</td>\n",
       "      <td>2016-03-26 13:30:55</td>\n",
       "      <td>2016-03-26 13:38:10</td>\n",
       "      <td>1</td>\n",
       "      <td>-73.973053</td>\n",
       "      <td>40.793209</td>\n",
       "      <td>-73.972923</td>\n",
       "      <td>40.782520</td>\n",
       "      <td>N</td>\n",
       "      <td>435</td>\n",
       "    </tr>\n",
       "  </tbody>\n",
       "</table>\n",
       "</div>"
      ],
      "text/plain": [
       "          id  vendor_id      pickup_datetime     dropoff_datetime  \\\n",
       "0  id2875421          2  2016-03-14 17:24:55  2016-03-14 17:32:30   \n",
       "1  id2377394          1  2016-06-12 00:43:35  2016-06-12 00:54:38   \n",
       "2  id3858529          2  2016-01-19 11:35:24  2016-01-19 12:10:48   \n",
       "3  id3504673          2  2016-04-06 19:32:31  2016-04-06 19:39:40   \n",
       "4  id2181028          2  2016-03-26 13:30:55  2016-03-26 13:38:10   \n",
       "\n",
       "   passenger_count  pickup_longitude  pickup_latitude  dropoff_longitude  \\\n",
       "0                1        -73.982155        40.767937         -73.964630   \n",
       "1                1        -73.980415        40.738564         -73.999481   \n",
       "2                1        -73.979027        40.763939         -74.005333   \n",
       "3                1        -74.010040        40.719971         -74.012268   \n",
       "4                1        -73.973053        40.793209         -73.972923   \n",
       "\n",
       "   dropoff_latitude store_and_fwd_flag  trip_duration  \n",
       "0         40.765602                  N            455  \n",
       "1         40.731152                  N            663  \n",
       "2         40.710087                  N           2124  \n",
       "3         40.706718                  N            429  \n",
       "4         40.782520                  N            435  "
      ]
     },
     "execution_count": 6,
     "metadata": {},
     "output_type": "execute_result"
    }
   ],
   "source": [
    "# Observation of the first 5 elements in the training set\n",
    "train_df.head()"
   ]
  },
  {
   "cell_type": "code",
   "execution_count": 7,
   "metadata": {},
   "outputs": [
    {
     "data": {
      "text/html": [
       "<div>\n",
       "<style>\n",
       "    .dataframe thead tr:only-child th {\n",
       "        text-align: right;\n",
       "    }\n",
       "\n",
       "    .dataframe thead th {\n",
       "        text-align: left;\n",
       "    }\n",
       "\n",
       "    .dataframe tbody tr th {\n",
       "        vertical-align: top;\n",
       "    }\n",
       "</style>\n",
       "<table border=\"1\" class=\"dataframe\">\n",
       "  <thead>\n",
       "    <tr style=\"text-align: right;\">\n",
       "      <th></th>\n",
       "      <th>id</th>\n",
       "      <th>vendor_id</th>\n",
       "      <th>pickup_datetime</th>\n",
       "      <th>passenger_count</th>\n",
       "      <th>pickup_longitude</th>\n",
       "      <th>pickup_latitude</th>\n",
       "      <th>dropoff_longitude</th>\n",
       "      <th>dropoff_latitude</th>\n",
       "      <th>store_and_fwd_flag</th>\n",
       "    </tr>\n",
       "  </thead>\n",
       "  <tbody>\n",
       "    <tr>\n",
       "      <th>0</th>\n",
       "      <td>id3004672</td>\n",
       "      <td>1</td>\n",
       "      <td>2016-06-30 23:59:58</td>\n",
       "      <td>1</td>\n",
       "      <td>-73.988129</td>\n",
       "      <td>40.732029</td>\n",
       "      <td>-73.990173</td>\n",
       "      <td>40.756680</td>\n",
       "      <td>N</td>\n",
       "    </tr>\n",
       "    <tr>\n",
       "      <th>1</th>\n",
       "      <td>id3505355</td>\n",
       "      <td>1</td>\n",
       "      <td>2016-06-30 23:59:53</td>\n",
       "      <td>1</td>\n",
       "      <td>-73.964203</td>\n",
       "      <td>40.679993</td>\n",
       "      <td>-73.959808</td>\n",
       "      <td>40.655403</td>\n",
       "      <td>N</td>\n",
       "    </tr>\n",
       "    <tr>\n",
       "      <th>2</th>\n",
       "      <td>id1217141</td>\n",
       "      <td>1</td>\n",
       "      <td>2016-06-30 23:59:47</td>\n",
       "      <td>1</td>\n",
       "      <td>-73.997437</td>\n",
       "      <td>40.737583</td>\n",
       "      <td>-73.986160</td>\n",
       "      <td>40.729523</td>\n",
       "      <td>N</td>\n",
       "    </tr>\n",
       "    <tr>\n",
       "      <th>3</th>\n",
       "      <td>id2150126</td>\n",
       "      <td>2</td>\n",
       "      <td>2016-06-30 23:59:41</td>\n",
       "      <td>1</td>\n",
       "      <td>-73.956070</td>\n",
       "      <td>40.771900</td>\n",
       "      <td>-73.986427</td>\n",
       "      <td>40.730469</td>\n",
       "      <td>N</td>\n",
       "    </tr>\n",
       "    <tr>\n",
       "      <th>4</th>\n",
       "      <td>id1598245</td>\n",
       "      <td>1</td>\n",
       "      <td>2016-06-30 23:59:33</td>\n",
       "      <td>1</td>\n",
       "      <td>-73.970215</td>\n",
       "      <td>40.761475</td>\n",
       "      <td>-73.961510</td>\n",
       "      <td>40.755890</td>\n",
       "      <td>N</td>\n",
       "    </tr>\n",
       "  </tbody>\n",
       "</table>\n",
       "</div>"
      ],
      "text/plain": [
       "          id  vendor_id      pickup_datetime  passenger_count  \\\n",
       "0  id3004672          1  2016-06-30 23:59:58                1   \n",
       "1  id3505355          1  2016-06-30 23:59:53                1   \n",
       "2  id1217141          1  2016-06-30 23:59:47                1   \n",
       "3  id2150126          2  2016-06-30 23:59:41                1   \n",
       "4  id1598245          1  2016-06-30 23:59:33                1   \n",
       "\n",
       "   pickup_longitude  pickup_latitude  dropoff_longitude  dropoff_latitude  \\\n",
       "0        -73.988129        40.732029         -73.990173         40.756680   \n",
       "1        -73.964203        40.679993         -73.959808         40.655403   \n",
       "2        -73.997437        40.737583         -73.986160         40.729523   \n",
       "3        -73.956070        40.771900         -73.986427         40.730469   \n",
       "4        -73.970215        40.761475         -73.961510         40.755890   \n",
       "\n",
       "  store_and_fwd_flag  \n",
       "0                  N  \n",
       "1                  N  \n",
       "2                  N  \n",
       "3                  N  \n",
       "4                  N  "
      ]
     },
     "execution_count": 7,
     "metadata": {},
     "output_type": "execute_result"
    }
   ],
   "source": [
    "test_df.head()"
   ]
  },
  {
   "cell_type": "code",
   "execution_count": 8,
   "metadata": {
    "scrolled": true
   },
   "outputs": [
    {
     "data": {
      "text/plain": [
       "id                     object\n",
       "vendor_id               int64\n",
       "pickup_datetime        object\n",
       "dropoff_datetime       object\n",
       "passenger_count         int64\n",
       "pickup_longitude      float64\n",
       "pickup_latitude       float64\n",
       "dropoff_longitude     float64\n",
       "dropoff_latitude      float64\n",
       "store_and_fwd_flag     object\n",
       "trip_duration           int64\n",
       "dtype: object"
      ]
     },
     "execution_count": 8,
     "metadata": {},
     "output_type": "execute_result"
    }
   ],
   "source": [
    "# Check the types or each features\n",
    "train_df.dtypes"
   ]
  },
  {
   "cell_type": "markdown",
   "metadata": {},
   "source": [
    "Analyze missing data "
   ]
  },
  {
   "cell_type": "code",
   "execution_count": 9,
   "metadata": {
    "scrolled": true
   },
   "outputs": [
    {
     "data": {
      "text/html": [
       "<div>\n",
       "<style>\n",
       "    .dataframe thead tr:only-child th {\n",
       "        text-align: right;\n",
       "    }\n",
       "\n",
       "    .dataframe thead th {\n",
       "        text-align: left;\n",
       "    }\n",
       "\n",
       "    .dataframe tbody tr th {\n",
       "        vertical-align: top;\n",
       "    }\n",
       "</style>\n",
       "<table border=\"1\" class=\"dataframe\">\n",
       "  <thead>\n",
       "    <tr style=\"text-align: right;\">\n",
       "      <th></th>\n",
       "      <th>missing values(test_set)</th>\n",
       "      <th>missing values(train set)</th>\n",
       "    </tr>\n",
       "  </thead>\n",
       "  <tbody>\n",
       "    <tr>\n",
       "      <th>dropoff_datetime</th>\n",
       "      <td>NaN</td>\n",
       "      <td>0</td>\n",
       "    </tr>\n",
       "    <tr>\n",
       "      <th>dropoff_latitude</th>\n",
       "      <td>0.0</td>\n",
       "      <td>0</td>\n",
       "    </tr>\n",
       "    <tr>\n",
       "      <th>dropoff_longitude</th>\n",
       "      <td>0.0</td>\n",
       "      <td>0</td>\n",
       "    </tr>\n",
       "    <tr>\n",
       "      <th>id</th>\n",
       "      <td>0.0</td>\n",
       "      <td>0</td>\n",
       "    </tr>\n",
       "    <tr>\n",
       "      <th>passenger_count</th>\n",
       "      <td>0.0</td>\n",
       "      <td>0</td>\n",
       "    </tr>\n",
       "    <tr>\n",
       "      <th>pickup_datetime</th>\n",
       "      <td>0.0</td>\n",
       "      <td>0</td>\n",
       "    </tr>\n",
       "    <tr>\n",
       "      <th>pickup_latitude</th>\n",
       "      <td>0.0</td>\n",
       "      <td>0</td>\n",
       "    </tr>\n",
       "    <tr>\n",
       "      <th>pickup_longitude</th>\n",
       "      <td>0.0</td>\n",
       "      <td>0</td>\n",
       "    </tr>\n",
       "    <tr>\n",
       "      <th>store_and_fwd_flag</th>\n",
       "      <td>0.0</td>\n",
       "      <td>0</td>\n",
       "    </tr>\n",
       "    <tr>\n",
       "      <th>trip_duration</th>\n",
       "      <td>NaN</td>\n",
       "      <td>0</td>\n",
       "    </tr>\n",
       "    <tr>\n",
       "      <th>vendor_id</th>\n",
       "      <td>0.0</td>\n",
       "      <td>0</td>\n",
       "    </tr>\n",
       "  </tbody>\n",
       "</table>\n",
       "</div>"
      ],
      "text/plain": [
       "                    missing values(test_set)  missing values(train set)\n",
       "dropoff_datetime                         NaN                          0\n",
       "dropoff_latitude                         0.0                          0\n",
       "dropoff_longitude                        0.0                          0\n",
       "id                                       0.0                          0\n",
       "passenger_count                          0.0                          0\n",
       "pickup_datetime                          0.0                          0\n",
       "pickup_latitude                          0.0                          0\n",
       "pickup_longitude                         0.0                          0\n",
       "store_and_fwd_flag                       0.0                          0\n",
       "trip_duration                            NaN                          0\n",
       "vendor_id                                0.0                          0"
      ]
     },
     "execution_count": 9,
     "metadata": {},
     "output_type": "execute_result"
    }
   ],
   "source": [
    "# print(train_df.isnull().sum(), \"\\n\")\n",
    "# print(test_df.isnull().sum())\n",
    "\n",
    "pd.DataFrame( {'missing values(train set)': train_df.isnull().sum(),\n",
    "              'missing values(test_set)' : test_df.isnull().sum() } )"
   ]
  },
  {
   "cell_type": "markdown",
   "metadata": {},
   "source": [
    "There's no missing data in both the train and test dataframe"
   ]
  },
  {
   "cell_type": "markdown",
   "metadata": {},
   "source": [
    "<u>Target Feature</u>"
   ]
  },
  {
   "cell_type": "code",
   "execution_count": 10,
   "metadata": {},
   "outputs": [
    {
     "data": {
      "text/plain": [
       "count    1.458644e+06\n",
       "mean     9.594923e+02\n",
       "std      5.237432e+03\n",
       "min      1.000000e+00\n",
       "25%      3.970000e+02\n",
       "50%      6.620000e+02\n",
       "75%      1.075000e+03\n",
       "max      3.526282e+06\n",
       "Name: trip_duration, dtype: float64"
      ]
     },
     "execution_count": 10,
     "metadata": {},
     "output_type": "execute_result"
    }
   ],
   "source": [
    "# pd.options.display.float_format = '{:,.2f}'.format\n",
    "train_df['trip_duration'].describe()"
   ]
  },
  {
   "cell_type": "markdown",
   "metadata": {},
   "source": [
    "Let's observe the skewness of the trip duration"
   ]
  },
  {
   "cell_type": "code",
   "execution_count": 11,
   "metadata": {},
   "outputs": [
    {
     "data": {
      "text/plain": [
       "343.1639435917362"
      ]
     },
     "execution_count": 11,
     "metadata": {},
     "output_type": "execute_result"
    }
   ],
   "source": [
    "train_df['trip_duration'].skew()"
   ]
  },
  {
   "cell_type": "code",
   "execution_count": 12,
   "metadata": {
    "scrolled": true
   },
   "outputs": [
    {
     "data": {
      "image/png": "[encoded data removed]",
      "text/plain": [
       "<matplotlib.figure.Figure at 0x2b613ed3e48>"
      ]
     },
     "metadata": {},
     "output_type": "display_data"
    }
   ],
   "source": [
    "sns.distplot(train_df['trip_duration'])\n",
    "plt.title(\"Distribution of trip duration\", size=16)\n",
    "plt.xlabel(\"Trip duration in seconds\")\n",
    "plt.show()"
   ]
  },
  {
   "cell_type": "markdown",
   "metadata": {},
   "source": [
    "In regression problems, it is important to look for the skewness of the target feature. <br>\n",
    "In fact, algorithms such as linear regression or K-Nearest Neighbors are sensitive to the skewness of the data. <br>\n",
    "The most common correction for a positive skew is to apply <i>the Log transform</i> to have a normally distributed variable."
   ]
  },
  {
   "cell_type": "code",
   "execution_count": 13,
   "metadata": {
    "scrolled": true
   },
   "outputs": [
    {
     "name": "stdout",
     "output_type": "stream",
     "text": [
      "Skew is: -0.340704230448\n"
     ]
    },
    {
     "data": {
      "image/png": "[encoded data removed]",
      "text/plain": [
       "<matplotlib.figure.Figure at 0x2b614a7e240>"
      ]
     },
     "metadata": {},
     "output_type": "display_data"
    }
   ],
   "source": [
    "target = np.log(train_df['trip_duration'])\n",
    "print(\"Skew is:\", target.skew())\n",
    "sns.distplot(target)\n",
    "plt.title(\"Distribution of natural logarithm applied on trip duration feature\", size=16)\n",
    "plt.show()"
   ]
  },
  {
   "cell_type": "markdown",
   "metadata": {},
   "source": [
    "For the sake of meaningful visualization, we store the result in another variable so that we will be able to make use of it during the processing part."
   ]
  },
  {
   "cell_type": "markdown",
   "metadata": {},
   "source": [
    "<u>Correlation with trip duration</u>"
   ]
  },
  {
   "cell_type": "code",
   "execution_count": 14,
   "metadata": {
    "scrolled": false
   },
   "outputs": [
    {
     "data": {
      "image/png": "[encoded data removed]",
      "text/plain": [
       "<matplotlib.figure.Figure at 0x2b615ec6eb8>"
      ]
     },
     "metadata": {},
     "output_type": "display_data"
    }
   ],
   "source": [
    "corr = train_df.drop(['id'], axis=1).corr()\n",
    "corr_df = pd.DataFrame(corr['trip_duration'].sort_values(ascending=False))[1:]\n",
    "corr_df.columns = ['Correlation']\n",
    "corr_df.index.name = 'Feature'\n",
    "\n",
    "ax = sns.barplot(x=corr_df.index, y='Correlation', data=corr_df)\n",
    "ax.set(ylabel='Correlation')\n",
    "plt.xticks(rotation=90)\n",
    "plt.title('Correlation with trip duration', size=15)\n",
    "plt.show()"
   ]
  },
  {
   "cell_type": "markdown",
   "metadata": {},
   "source": [
    "We observe that there is not strong relation with the trip duration and the actual numerical features. <br>\n",
    "We need to feature engineering the string features to establish a new correlation plot as we might infer something more interesting."
   ]
  },
  {
   "cell_type": "markdown",
   "metadata": {},
   "source": [
    "<h3 style=\"text-align:center\">Data Cleaning</h3>"
   ]
  },
  {
   "cell_type": "code",
   "execution_count": 15,
   "metadata": {
    "scrolled": false
   },
   "outputs": [
    {
     "data": {
      "text/html": [
       "<div>\n",
       "<style>\n",
       "    .dataframe thead tr:only-child th {\n",
       "        text-align: right;\n",
       "    }\n",
       "\n",
       "    .dataframe thead th {\n",
       "        text-align: left;\n",
       "    }\n",
       "\n",
       "    .dataframe tbody tr th {\n",
       "        vertical-align: top;\n",
       "    }\n",
       "</style>\n",
       "<table border=\"1\" class=\"dataframe\">\n",
       "  <thead>\n",
       "    <tr style=\"text-align: right;\">\n",
       "      <th></th>\n",
       "      <th>passenger_count (test_set)</th>\n",
       "      <th>passenger_count (train set)</th>\n",
       "    </tr>\n",
       "  </thead>\n",
       "  <tbody>\n",
       "    <tr>\n",
       "      <th>0</th>\n",
       "      <td>23.0</td>\n",
       "      <td>60</td>\n",
       "    </tr>\n",
       "    <tr>\n",
       "      <th>1</th>\n",
       "      <td>443447.0</td>\n",
       "      <td>1033540</td>\n",
       "    </tr>\n",
       "    <tr>\n",
       "      <th>2</th>\n",
       "      <td>90027.0</td>\n",
       "      <td>210318</td>\n",
       "    </tr>\n",
       "    <tr>\n",
       "      <th>3</th>\n",
       "      <td>25686.0</td>\n",
       "      <td>59896</td>\n",
       "    </tr>\n",
       "    <tr>\n",
       "      <th>4</th>\n",
       "      <td>12017.0</td>\n",
       "      <td>28404</td>\n",
       "    </tr>\n",
       "    <tr>\n",
       "      <th>5</th>\n",
       "      <td>33411.0</td>\n",
       "      <td>78088</td>\n",
       "    </tr>\n",
       "    <tr>\n",
       "      <th>6</th>\n",
       "      <td>20521.0</td>\n",
       "      <td>48333</td>\n",
       "    </tr>\n",
       "    <tr>\n",
       "      <th>7</th>\n",
       "      <td>NaN</td>\n",
       "      <td>3</td>\n",
       "    </tr>\n",
       "    <tr>\n",
       "      <th>8</th>\n",
       "      <td>NaN</td>\n",
       "      <td>1</td>\n",
       "    </tr>\n",
       "    <tr>\n",
       "      <th>9</th>\n",
       "      <td>2.0</td>\n",
       "      <td>1</td>\n",
       "    </tr>\n",
       "  </tbody>\n",
       "</table>\n",
       "</div>"
      ],
      "text/plain": [
       "   passenger_count (test_set)  passenger_count (train set)\n",
       "0                        23.0                           60\n",
       "1                    443447.0                      1033540\n",
       "2                     90027.0                       210318\n",
       "3                     25686.0                        59896\n",
       "4                     12017.0                        28404\n",
       "5                     33411.0                        78088\n",
       "6                     20521.0                        48333\n",
       "7                         NaN                            3\n",
       "8                         NaN                            1\n",
       "9                         2.0                            1"
      ]
     },
     "execution_count": 15,
     "metadata": {},
     "output_type": "execute_result"
    }
   ],
   "source": [
    "pd.DataFrame( {'passenger_count (train set)': train_df['passenger_count'].value_counts(),\n",
    "              'passenger_count (test_set)' : test_df['passenger_count'].value_counts()} )"
   ]
  },
  {
   "cell_type": "markdown",
   "metadata": {},
   "source": [
    "We will treat values with 0 passenger_count to 1. <br>"
   ]
  },
  {
   "cell_type": "code",
   "execution_count": 4,
   "metadata": {
    "collapsed": true
   },
   "outputs": [],
   "source": [
    "def clean_passenger_count(dataset):\n",
    "    dataset.loc[ dataset['passenger_count'] == 0, 'passenger_count' ] = 1\n",
    "\n",
    "clean_passenger_count(train_df)\n",
    "clean_passenger_count(test_df)"
   ]
  },
  {
   "cell_type": "code",
   "execution_count": 17,
   "metadata": {},
   "outputs": [
    {
     "data": {
      "text/plain": [
       "id                     object\n",
       "vendor_id               int64\n",
       "pickup_datetime        object\n",
       "dropoff_datetime       object\n",
       "passenger_count         int64\n",
       "pickup_longitude      float64\n",
       "pickup_latitude       float64\n",
       "dropoff_longitude     float64\n",
       "dropoff_latitude      float64\n",
       "store_and_fwd_flag     object\n",
       "trip_duration           int64\n",
       "dtype: object"
      ]
     },
     "execution_count": 17,
     "metadata": {},
     "output_type": "execute_result"
    }
   ],
   "source": [
    "train_df.dtypes"
   ]
  },
  {
   "cell_type": "code",
   "execution_count": 18,
   "metadata": {
    "scrolled": false
   },
   "outputs": [
    {
     "data": {
      "text/html": [
       "\n",
       "\n",
       "    <div class=\"bk-root\">\n",
       "        <div class=\"bk-plotdiv\" id=\"809c8a1b-3b51-4075-b49e-ecc0f8db5900\"></div>\n",
       "    </div>\n",
       "<script type=\"text/javascript\">\n",
       "  \n",
       "  (function(global) {\n",
       "    function now() {\n",
       "      return new Date();\n",
       "    }\n",
       "  \n",
       "    var force = false;\n",
       "  \n",
       "    if (typeof (window._bokeh_onload_callbacks) === \"undefined\" || force === true) {\n",
       "      window._bokeh_onload_callbacks = [];\n",
       "      window._bokeh_is_loading = undefined;\n",
       "    }\n",
       "  \n",
       "  \n",
       "    \n",
       "    if (typeof (window._bokeh_timeout) === \"undefined\" || force === true) {\n",
       "      window._bokeh_timeout = Date.now() + 0;\n",
       "      window._bokeh_failed_load = false;\n",
       "    }\n",
       "  \n",
       "    var NB_LOAD_WARNING = {'data': {'text/html':\n",
       "       \"<div style='background-color: #fdd'>\\n\"+\n",
       "       \"<p>\\n\"+\n",
       "       \"BokehJS does not appear to have successfully loaded. If loading BokehJS from CDN, this \\n\"+\n",
       "       \"may be due to a slow or bad network connection. Possible fixes:\\n\"+\n",
       "       \"</p>\\n\"+\n",
       "       \"<ul>\\n\"+\n",
       "       \"<li>re-rerun `output_notebook()` to attempt to load from CDN again, or</li>\\n\"+\n",
       "       \"<li>use INLINE resources instead, as so:</li>\\n\"+\n",
       "       \"</ul>\\n\"+\n",
       "       \"<code>\\n\"+\n",
       "       \"from bokeh.resources import INLINE\\n\"+\n",
       "       \"output_notebook(resources=INLINE)\\n\"+\n",
       "       \"</code>\\n\"+\n",
       "       \"</div>\"}};\n",
       "  \n",
       "    function display_loaded() {\n",
       "      if (window.Bokeh !== undefined) {\n",
       "        var el = document.getElementById(\"809c8a1b-3b51-4075-b49e-ecc0f8db5900\");\n",
       "        el.textContent = \"BokehJS \" + Bokeh.version + \" successfully loaded.\";\n",
       "      } else if (Date.now() < window._bokeh_timeout) {\n",
       "        setTimeout(display_loaded, 100)\n",
       "      }\n",
       "    }\n",
       "  \n",
       "    function run_callbacks() {\n",
       "      window._bokeh_onload_callbacks.forEach(function(callback) { callback() });\n",
       "      delete window._bokeh_onload_callbacks\n",
       "      console.info(\"Bokeh: all callbacks have finished\");\n",
       "    }\n",
       "  \n",
       "    function load_libs(js_urls, callback) {\n",
       "      window._bokeh_onload_callbacks.push(callback);\n",
       "      if (window._bokeh_is_loading > 0) {\n",
       "        console.log(\"Bokeh: BokehJS is being loaded, scheduling callback at\", now());\n",
       "        return null;\n",
       "      }\n",
       "      if (js_urls == null || js_urls.length === 0) {\n",
       "        run_callbacks();\n",
       "        return null;\n",
       "      }\n",
       "      console.log(\"Bokeh: BokehJS not loaded, scheduling load and callback at\", now());\n",
       "      window._bokeh_is_loading = js_urls.length;\n",
       "      for (var i = 0; i < js_urls.length; i++) {\n",
       "        var url = js_urls[i];\n",
       "        var s = document.createElement('script');\n",
       "        s.src = url;\n",
       "        s.async = false;\n",
       "        s.onreadystatechange = s.onload = function() {\n",
       "          window._bokeh_is_loading--;\n",
       "          if (window._bokeh_is_loading === 0) {\n",
       "            console.log(\"Bokeh: all BokehJS libraries loaded\");\n",
       "            run_callbacks()\n",
       "          }\n",
       "        };\n",
       "        s.onerror = function() {\n",
       "          console.warn(\"failed to load library \" + url);\n",
       "        };\n",
       "        console.log(\"Bokeh: injecting script tag for BokehJS library: \", url);\n",
       "        document.getElementsByTagName(\"head\")[0].appendChild(s);\n",
       "      }\n",
       "    };var element = document.getElementById(\"809c8a1b-3b51-4075-b49e-ecc0f8db5900\");\n",
       "    if (element == null) {\n",
       "      console.log(\"Bokeh: ERROR: autoload.js configured with elementid '809c8a1b-3b51-4075-b49e-ecc0f8db5900' but no matching script tag was found. \")\n",
       "      return false;\n",
       "    }\n",
       "  \n",
       "    var js_urls = [];\n",
       "  \n",
       "    var inline_js = [\n",
       "      function(Bokeh) {\n",
       "        (function() {\n",
       "          var fn = function() {\n",
       "            var docs_json = {\"375987aa-c462-4193-a381-567d47756d8f\":{\"roots\":{\"references\":[{\"attributes\":{\"data_source\":{\"id\":\"b77dff6d-6ca2-4b92-9b64-abd04df8eac2\",\"type\":\"ColumnDataSource\"},\"glyph\":{\"id\":\"57917fb7-a0e8-49d3-a70e-ab0511185bda\",\"type\":\"Text\"},\"hover_glyph\":null,\"muted_glyph\":null},\"id\":\"21d25deb-03a0-4990-9cf8-155002419412\",\"type\":\"GlyphRenderer\"},{\"attributes\":{},\"id\":\"a7130557-479a-4439-9450-87b4793e8aae\",\"type\":\"BasicTicker\"},{\"attributes\":{\"callback\":null,\"end\":1.6500000000000001,\"start\":-1.6500000000000001},\"id\":\"ea6ae8fd-0bbe-435d-92a1-943957aedf37\",\"type\":\"Range1d\"},{\"attributes\":{\"end_angle\":{\"field\":\"end\",\"units\":\"rad\"},\"fill_alpha\":{\"value\":0.8},\"fill_color\":{\"field\":\"color\"},\"inner_radius\":{\"field\":\"inners\",\"units\":\"data\"},\"line_color\":{\"value\":\"White\"},\"outer_radius\":{\"field\":\"outers\",\"units\":\"data\"},\"start_angle\":{\"field\":\"start\",\"units\":\"rad\"},\"x\":{\"value\":0},\"y\":{\"value\":0}},\"id\":\"a6796752-9c71-473a-b2f4-40f54ad29ee8\",\"type\":\"AnnularWedge\"},{\"attributes\":{},\"id\":\"d5ee1c17-adea-4cde-8609-0c2d8d5999ee\",\"type\":\"BasicTickFormatter\"},{\"attributes\":{\"plot\":{\"id\":\"03d5305a-68d0-4b8a-844d-2767cb17e770\",\"subtype\":\"Chart\",\"type\":\"Plot\"}},\"id\":\"049262e1-4ff6-4cf8-b7ed-67715c710a61\",\"type\":\"HelpTool\"},{\"attributes\":{\"plot\":{\"id\":\"03d5305a-68d0-4b8a-844d-2767cb17e770\",\"subtype\":\"Chart\",\"type\":\"Plot\"}},\"id\":\"ab640de0-a856-4052-86fc-45462ce150a9\",\"type\":\"ResetTool\"},{\"attributes\":{\"bottom_units\":\"screen\",\"fill_alpha\":{\"value\":0.5},\"fill_color\":{\"value\":\"lightgrey\"},\"left_units\":\"screen\",\"level\":\"overlay\",\"line_alpha\":{\"value\":1.0},\"line_color\":{\"value\":\"black\"},\"line_dash\":[4,4],\"line_width\":{\"value\":2},\"plot\":null,\"render_mode\":\"css\",\"right_units\":\"screen\",\"top_units\":\"screen\"},\"id\":\"8196b2df-7d11-455f-80c2-5a714f73a045\",\"type\":\"BoxAnnotation\"},{\"attributes\":{\"callback\":null,\"column_names\":[\"end\",\"level\",\"start\",\"values\",\"inners\",\"outers\",\"centers\",\"color\",\"index\"],\"data\":{\"centers\":{\"__ndarray__\":\"AAAAAAAA8j8AAAAAAADyPwAAAAAAAPI/AAAAAAAA8j8AAAAAAADyPwAAAAAAAPI/AAAAAAAA8j8AAAAAAADyPwAAAAAAAPI/\",\"dtype\":\"float64\",\"shape\":[9]},\"color\":[\"#f22c40\",\"#5ab738\",\"#407ee7\",\"#df5320\",\"#00ad9c\",\"#c33ff3\",\"#f22c40\",\"#5ab738\",\"#407ee7\"],\"end\":{\"__ndarray__\":\"NEcJEyTPEUDINHvy1m4VQHgDJnMJdxZAQe7FN1P0FkA5c8QbxEwYQGtA5K71IRlAbM4dEvkhGUDC/TAz+iEZQBgtRFT7IRlA\",\"dtype\":\"float64\",\"shape\":[9]},\"index\":[1,2,3,4,5,6,7,8,9],\"inners\":{\"__ndarray__\":\"AAAAAAAAAAAAAAAAAAAAAAAAAAAAAAAAAAAAAAAAAAAAAAAAAAAAAAAAAAAAAAAAAAAAAAAAAAAAAAAAAAAAAAAAAAAAAAAA\",\"dtype\":\"float64\",\"shape\":[9]},\"level\":{\"__ndarray__\":\"AAAAAAAAAAAAAAAAAAAAAAAAAAAAAAAAAAAAAAAAAAAAAAAAAAAAAAAAAAAAAAAAAAAAAAAAAAAAAAAAAAAAAAAAAAAAAAAA\",\"dtype\":\"float64\",\"shape\":[9]},\"outers\":{\"__ndarray__\":\"AAAAAAAA+D8AAAAAAAD4PwAAAAAAAPg/AAAAAAAA+D8AAAAAAAD4PwAAAAAAAPg/AAAAAAAA+D8AAAAAAAD4PwAAAAAAAPg/\",\"dtype\":\"float64\",\"shape\":[9]},\"start\":{\"__ndarray__\":\"AAAAAAAAAAA0RwkTJM8RQMg0e/LWbhVAeAMmcwl3FkBB7sU3U/QWQDlzxBvETBhAa0DkrvUhGUBszh0S+SEZQML9MDP6IRlA\",\"dtype\":\"float64\",\"shape\":[9]},\"values\":[1033600,210318,59896,28404,78088,48333,3,1,1]}},\"id\":\"4041077e-40ba-402b-84f1-5152ea1044e0\",\"type\":\"ColumnDataSource\"},{\"attributes\":{\"location\":\"top_left\",\"plot\":{\"id\":\"03d5305a-68d0-4b8a-844d-2767cb17e770\",\"subtype\":\"Chart\",\"type\":\"Plot\"}},\"id\":\"8f275438-5f49-4760-b982-0361d16c5c05\",\"type\":\"Legend\"},{\"attributes\":{\"plot\":null,\"text\":null},\"id\":\"b1800cc9-683b-4d51-9c17-3642db9820e5\",\"type\":\"Title\"},{\"attributes\":{\"callback\":null,\"column_names\":[\"text\",\"x\",\"y\",\"text_angle\"],\"data\":{\"text\":[\"1\",\"2\",\"3\",\"4\",\"5\",\"6\",\"7\",\"8\",\"9\"],\"text_angle\":{\"__ndarray__\":\"AAAAAAAAAAAAAAAAAAAAAAAAAAAAAAAAAAAAAAAAAAAAAAAAAAAAAAAAAAAAAAAAAAAAAAAAAAAAAAAAAAAAAAAAAAAAAAAA\",\"dtype\":\"float64\",\"shape\":[9]},\"x\":[-0.6856134245002208,0.21564150180791045,0.787064381533726,0.9248267228041112,1.0462421216538176,1.1189074589450174,1.1249999998721445,1.1249999999765163,1.1249999999973908],\"y\":[0.8919412716906198,-1.1041393674251583,-0.8038374582718407,-0.6405626688993104,-0.4135243921189156,-0.11692347205417888,-1.6960987154390146e-05,-7.2689944955491105e-06,-2.42299816538172e-06]}},\"id\":\"b77dff6d-6ca2-4b92-9b64-abd04df8eac2\",\"type\":\"ColumnDataSource\"},{\"attributes\":{\"callback\":null,\"end\":1.6500000000000001,\"start\":-1.6500000000000001},\"id\":\"e31dc6ce-053d-4883-92b4-f75b3fd8046f\",\"type\":\"Range1d\"},{\"attributes\":{\"below\":[{\"id\":\"4820028c-120e-4553-ba9e-bbd78366d4eb\",\"type\":\"LinearAxis\"}],\"css_classes\":null,\"left\":[{\"id\":\"e78a4295-6d42-40bd-b3ad-7ca9fb50a4f4\",\"type\":\"LinearAxis\"}],\"plot_height\":400,\"plot_width\":400,\"renderers\":[{\"id\":\"8196b2df-7d11-455f-80c2-5a714f73a045\",\"type\":\"BoxAnnotation\"},{\"id\":\"781d263b-a0fd-42c1-8483-d2046746efa7\",\"type\":\"GlyphRenderer\"},{\"id\":\"21d25deb-03a0-4990-9cf8-155002419412\",\"type\":\"GlyphRenderer\"},{\"id\":\"8f275438-5f49-4760-b982-0361d16c5c05\",\"type\":\"Legend\"},{\"id\":\"4820028c-120e-4553-ba9e-bbd78366d4eb\",\"type\":\"LinearAxis\"},{\"id\":\"e78a4295-6d42-40bd-b3ad-7ca9fb50a4f4\",\"type\":\"LinearAxis\"}],\"title\":{\"id\":\"b1800cc9-683b-4d51-9c17-3642db9820e5\",\"type\":\"Title\"},\"tool_events\":{\"id\":\"95fa4fe0-65b5-44f7-a1e3-3a5ab9a08a73\",\"type\":\"ToolEvents\"},\"toolbar\":{\"id\":\"5b4aab20-77b9-4be3-8e77-953b198a2ded\",\"type\":\"Toolbar\"},\"x_mapper_type\":\"auto\",\"x_range\":{\"id\":\"ea6ae8fd-0bbe-435d-92a1-943957aedf37\",\"type\":\"Range1d\"},\"y_mapper_type\":\"auto\",\"y_range\":{\"id\":\"e31dc6ce-053d-4883-92b4-f75b3fd8046f\",\"type\":\"Range1d\"}},\"id\":\"03d5305a-68d0-4b8a-844d-2767cb17e770\",\"subtype\":\"Chart\",\"type\":\"Plot\"},{\"attributes\":{},\"id\":\"ebd187b5-fbfd-4d51-be41-d231d447d63b\",\"type\":\"BasicTicker\"},{\"attributes\":{\"plot\":{\"id\":\"03d5305a-68d0-4b8a-844d-2767cb17e770\",\"subtype\":\"Chart\",\"type\":\"Plot\"}},\"id\":\"8e185d3a-4db2-49e0-93db-bbe2dc831004\",\"type\":\"WheelZoomTool\"},{\"attributes\":{\"data_source\":{\"id\":\"4041077e-40ba-402b-84f1-5152ea1044e0\",\"type\":\"ColumnDataSource\"},\"glyph\":{\"id\":\"a6796752-9c71-473a-b2f4-40f54ad29ee8\",\"type\":\"AnnularWedge\"},\"hover_glyph\":null,\"muted_glyph\":null},\"id\":\"781d263b-a0fd-42c1-8483-d2046746efa7\",\"type\":\"GlyphRenderer\"},{\"attributes\":{\"plot\":{\"id\":\"03d5305a-68d0-4b8a-844d-2767cb17e770\",\"subtype\":\"Chart\",\"type\":\"Plot\"}},\"id\":\"e1c37866-e662-4376-a406-dee8e42c9db6\",\"type\":\"PanTool\"},{\"attributes\":{},\"id\":\"bc4b4f62-75b0-4982-aa4c-f76798fc2325\",\"type\":\"BasicTickFormatter\"},{\"attributes\":{\"overlay\":{\"id\":\"8196b2df-7d11-455f-80c2-5a714f73a045\",\"type\":\"BoxAnnotation\"},\"plot\":{\"id\":\"03d5305a-68d0-4b8a-844d-2767cb17e770\",\"subtype\":\"Chart\",\"type\":\"Plot\"}},\"id\":\"1801d3af-cd9c-4042-801a-f64976b08d6f\",\"type\":\"BoxZoomTool\"},{\"attributes\":{},\"id\":\"95fa4fe0-65b5-44f7-a1e3-3a5ab9a08a73\",\"type\":\"ToolEvents\"},{\"attributes\":{\"axis_label\":null,\"formatter\":{\"id\":\"bc4b4f62-75b0-4982-aa4c-f76798fc2325\",\"type\":\"BasicTickFormatter\"},\"plot\":{\"id\":\"03d5305a-68d0-4b8a-844d-2767cb17e770\",\"subtype\":\"Chart\",\"type\":\"Plot\"},\"ticker\":{\"id\":\"ebd187b5-fbfd-4d51-be41-d231d447d63b\",\"type\":\"BasicTicker\"},\"visible\":false},\"id\":\"e78a4295-6d42-40bd-b3ad-7ca9fb50a4f4\",\"type\":\"LinearAxis\"},{\"attributes\":{\"axis_label\":null,\"formatter\":{\"id\":\"d5ee1c17-adea-4cde-8609-0c2d8d5999ee\",\"type\":\"BasicTickFormatter\"},\"plot\":{\"id\":\"03d5305a-68d0-4b8a-844d-2767cb17e770\",\"subtype\":\"Chart\",\"type\":\"Plot\"},\"ticker\":{\"id\":\"a7130557-479a-4439-9450-87b4793e8aae\",\"type\":\"BasicTicker\"},\"visible\":false},\"id\":\"4820028c-120e-4553-ba9e-bbd78366d4eb\",\"type\":\"LinearAxis\"},{\"attributes\":{\"callback\":null,\"plot\":{\"id\":\"03d5305a-68d0-4b8a-844d-2767cb17e770\",\"subtype\":\"Chart\",\"type\":\"Plot\"},\"tooltips\":[[\"Value\",\"@values\"]]},\"id\":\"d9d3d63f-f19c-4d00-ad40-10fabf51d69d\",\"type\":\"HoverTool\"},{\"attributes\":{\"angle\":{\"field\":\"text_angle\",\"units\":\"rad\"},\"text_align\":\"center\",\"text_baseline\":\"middle\",\"text_font_size\":{\"value\":\"10pt\"},\"x\":{\"field\":\"x\"},\"y\":{\"field\":\"y\"}},\"id\":\"57917fb7-a0e8-49d3-a70e-ab0511185bda\",\"type\":\"Text\"},{\"attributes\":{\"active_drag\":\"auto\",\"active_scroll\":\"auto\",\"active_tap\":\"auto\",\"tools\":[{\"id\":\"e1c37866-e662-4376-a406-dee8e42c9db6\",\"type\":\"PanTool\"},{\"id\":\"8e185d3a-4db2-49e0-93db-bbe2dc831004\",\"type\":\"WheelZoomTool\"},{\"id\":\"1801d3af-cd9c-4042-801a-f64976b08d6f\",\"type\":\"BoxZoomTool\"},{\"id\":\"e594853e-6205-4824-8757-b44c137bd24e\",\"type\":\"SaveTool\"},{\"id\":\"ab640de0-a856-4052-86fc-45462ce150a9\",\"type\":\"ResetTool\"},{\"id\":\"049262e1-4ff6-4cf8-b7ed-67715c710a61\",\"type\":\"HelpTool\"},{\"id\":\"d9d3d63f-f19c-4d00-ad40-10fabf51d69d\",\"type\":\"HoverTool\"}]},\"id\":\"5b4aab20-77b9-4be3-8e77-953b198a2ded\",\"type\":\"Toolbar\"},{\"attributes\":{\"plot\":{\"id\":\"03d5305a-68d0-4b8a-844d-2767cb17e770\",\"subtype\":\"Chart\",\"type\":\"Plot\"}},\"id\":\"e594853e-6205-4824-8757-b44c137bd24e\",\"type\":\"SaveTool\"}],\"root_ids\":[\"03d5305a-68d0-4b8a-844d-2767cb17e770\"]},\"title\":\"Bokeh Application\",\"version\":\"0.12.5\"}};\n",
       "            var render_items = [{\"docid\":\"375987aa-c462-4193-a381-567d47756d8f\",\"elementid\":\"809c8a1b-3b51-4075-b49e-ecc0f8db5900\",\"modelid\":\"03d5305a-68d0-4b8a-844d-2767cb17e770\"}];\n",
       "            \n",
       "            Bokeh.embed.embed_items(docs_json, render_items);\n",
       "          };\n",
       "          if (document.readyState != \"loading\") fn();\n",
       "          else document.addEventListener(\"DOMContentLoaded\", fn);\n",
       "        })();\n",
       "      },\n",
       "      function(Bokeh) {\n",
       "      }\n",
       "    ];\n",
       "  \n",
       "    function run_inline_js() {\n",
       "      \n",
       "      if ((window.Bokeh !== undefined) || (force === true)) {\n",
       "        for (var i = 0; i < inline_js.length; i++) {\n",
       "          inline_js[i](window.Bokeh);\n",
       "        }if (force === true) {\n",
       "          display_loaded();\n",
       "        }} else if (Date.now() < window._bokeh_timeout) {\n",
       "        setTimeout(run_inline_js, 100);\n",
       "      } else if (!window._bokeh_failed_load) {\n",
       "        console.log(\"Bokeh: BokehJS failed to load within specified timeout.\");\n",
       "        window._bokeh_failed_load = true;\n",
       "      } else if (force !== true) {\n",
       "        var cell = $(document.getElementById(\"809c8a1b-3b51-4075-b49e-ecc0f8db5900\")).parents('.cell').data().cell;\n",
       "        cell.output_area.append_execute_result(NB_LOAD_WARNING)\n",
       "      }\n",
       "  \n",
       "    }\n",
       "  \n",
       "    if (window._bokeh_is_loading === 0) {\n",
       "      console.log(\"Bokeh: BokehJS loaded, going straight to plotting\");\n",
       "      run_inline_js();\n",
       "    } else {\n",
       "      load_libs(js_urls, function() {\n",
       "        console.log(\"Bokeh: BokehJS plotting callback run at\", now());\n",
       "        run_inline_js();\n",
       "      });\n",
       "    }\n",
       "  }(this));\n",
       "</script>"
      ]
     },
     "metadata": {},
     "output_type": "display_data"
    }
   ],
   "source": [
    "# Pie chart with Bokeh\n",
    "pie_chart = Donut(train_df['passenger_count'].value_counts())\n",
    "show(pie_chart)"
   ]
  },
  {
   "cell_type": "markdown",
   "metadata": {},
   "source": [
    "<u>Trip duration</u>"
   ]
  },
  {
   "cell_type": "code",
   "execution_count": 19,
   "metadata": {
    "scrolled": false
   },
   "outputs": [
    {
     "data": {
      "text/plain": [
       "(1899, 11)"
      ]
     },
     "execution_count": 19,
     "metadata": {},
     "output_type": "execute_result"
    }
   ],
   "source": [
    "train_df.loc[ train_df['trip_duration'] > 80000, : ].shape"
   ]
  },
  {
   "cell_type": "markdown",
   "metadata": {},
   "source": [
    "About 1900 trips accounted a trip duration of about 80000s, which is nearly 1 day! <br>"
   ]
  },
  {
   "cell_type": "code",
   "execution_count": 20,
   "metadata": {},
   "outputs": [
    {
     "data": {
      "text/html": [
       "<div>\n",
       "<style>\n",
       "    .dataframe thead tr:only-child th {\n",
       "        text-align: right;\n",
       "    }\n",
       "\n",
       "    .dataframe thead th {\n",
       "        text-align: left;\n",
       "    }\n",
       "\n",
       "    .dataframe tbody tr th {\n",
       "        vertical-align: top;\n",
       "    }\n",
       "</style>\n",
       "<table border=\"1\" class=\"dataframe\">\n",
       "  <thead>\n",
       "    <tr style=\"text-align: right;\">\n",
       "      <th></th>\n",
       "      <th>id</th>\n",
       "      <th>vendor_id</th>\n",
       "      <th>pickup_datetime</th>\n",
       "      <th>dropoff_datetime</th>\n",
       "      <th>passenger_count</th>\n",
       "      <th>pickup_longitude</th>\n",
       "      <th>pickup_latitude</th>\n",
       "      <th>dropoff_longitude</th>\n",
       "      <th>dropoff_latitude</th>\n",
       "      <th>store_and_fwd_flag</th>\n",
       "      <th>trip_duration</th>\n",
       "    </tr>\n",
       "  </thead>\n",
       "  <tbody>\n",
       "    <tr>\n",
       "      <th>531</th>\n",
       "      <td>id3307903</td>\n",
       "      <td>2</td>\n",
       "      <td>2016-02-20 04:03:06</td>\n",
       "      <td>2016-02-21 03:33:00</td>\n",
       "      <td>3</td>\n",
       "      <td>-74.008102</td>\n",
       "      <td>40.741489</td>\n",
       "      <td>-74.009956</td>\n",
       "      <td>40.714611</td>\n",
       "      <td>N</td>\n",
       "      <td>84594</td>\n",
       "    </tr>\n",
       "    <tr>\n",
       "      <th>1134</th>\n",
       "      <td>id1091477</td>\n",
       "      <td>2</td>\n",
       "      <td>2016-05-07 18:36:22</td>\n",
       "      <td>2016-05-08 18:32:11</td>\n",
       "      <td>1</td>\n",
       "      <td>-73.990242</td>\n",
       "      <td>40.750919</td>\n",
       "      <td>-73.976280</td>\n",
       "      <td>40.750889</td>\n",
       "      <td>N</td>\n",
       "      <td>86149</td>\n",
       "    </tr>\n",
       "    <tr>\n",
       "      <th>1865</th>\n",
       "      <td>id3431345</td>\n",
       "      <td>2</td>\n",
       "      <td>2016-06-07 12:58:48</td>\n",
       "      <td>2016-06-08 12:58:00</td>\n",
       "      <td>6</td>\n",
       "      <td>-73.954956</td>\n",
       "      <td>40.777649</td>\n",
       "      <td>-73.981033</td>\n",
       "      <td>40.743713</td>\n",
       "      <td>N</td>\n",
       "      <td>86352</td>\n",
       "    </tr>\n",
       "    <tr>\n",
       "      <th>3442</th>\n",
       "      <td>id1487069</td>\n",
       "      <td>2</td>\n",
       "      <td>2016-02-13 00:21:49</td>\n",
       "      <td>2016-02-14 00:19:05</td>\n",
       "      <td>1</td>\n",
       "      <td>-73.968590</td>\n",
       "      <td>40.799217</td>\n",
       "      <td>-73.979584</td>\n",
       "      <td>40.784714</td>\n",
       "      <td>N</td>\n",
       "      <td>86236</td>\n",
       "    </tr>\n",
       "    <tr>\n",
       "      <th>4172</th>\n",
       "      <td>id3674870</td>\n",
       "      <td>2</td>\n",
       "      <td>2016-03-18 11:54:20</td>\n",
       "      <td>2016-03-19 11:34:17</td>\n",
       "      <td>1</td>\n",
       "      <td>-73.989090</td>\n",
       "      <td>40.736992</td>\n",
       "      <td>-73.972336</td>\n",
       "      <td>40.751511</td>\n",
       "      <td>N</td>\n",
       "      <td>85197</td>\n",
       "    </tr>\n",
       "  </tbody>\n",
       "</table>\n",
       "</div>"
      ],
      "text/plain": [
       "             id  vendor_id      pickup_datetime     dropoff_datetime  \\\n",
       "531   id3307903          2  2016-02-20 04:03:06  2016-02-21 03:33:00   \n",
       "1134  id1091477          2  2016-05-07 18:36:22  2016-05-08 18:32:11   \n",
       "1865  id3431345          2  2016-06-07 12:58:48  2016-06-08 12:58:00   \n",
       "3442  id1487069          2  2016-02-13 00:21:49  2016-02-14 00:19:05   \n",
       "4172  id3674870          2  2016-03-18 11:54:20  2016-03-19 11:34:17   \n",
       "\n",
       "      passenger_count  pickup_longitude  pickup_latitude  dropoff_longitude  \\\n",
       "531                 3        -74.008102        40.741489         -74.009956   \n",
       "1134                1        -73.990242        40.750919         -73.976280   \n",
       "1865                6        -73.954956        40.777649         -73.981033   \n",
       "3442                1        -73.968590        40.799217         -73.979584   \n",
       "4172                1        -73.989090        40.736992         -73.972336   \n",
       "\n",
       "      dropoff_latitude store_and_fwd_flag  trip_duration  \n",
       "531          40.714611                  N          84594  \n",
       "1134         40.750889                  N          86149  \n",
       "1865         40.743713                  N          86352  \n",
       "3442         40.784714                  N          86236  \n",
       "4172         40.751511                  N          85197  "
      ]
     },
     "execution_count": 20,
     "metadata": {},
     "output_type": "execute_result"
    }
   ],
   "source": [
    "train_df.loc[ train_df['trip_duration'] > 70000, : ].head()"
   ]
  },
  {
   "cell_type": "markdown",
   "metadata": {
    "collapsed": true
   },
   "source": [
    "<h3 style=\"text-align:center\">Feature Engineering</h3>"
   ]
  },
  {
   "cell_type": "code",
   "execution_count": 21,
   "metadata": {
    "scrolled": false
   },
   "outputs": [
    {
     "data": {
      "text/html": [
       "<div>\n",
       "<style>\n",
       "    .dataframe thead tr:only-child th {\n",
       "        text-align: right;\n",
       "    }\n",
       "\n",
       "    .dataframe thead th {\n",
       "        text-align: left;\n",
       "    }\n",
       "\n",
       "    .dataframe tbody tr th {\n",
       "        vertical-align: top;\n",
       "    }\n",
       "</style>\n",
       "<table border=\"1\" class=\"dataframe\">\n",
       "  <thead>\n",
       "    <tr style=\"text-align: right;\">\n",
       "      <th></th>\n",
       "      <th>id</th>\n",
       "      <th>vendor_id</th>\n",
       "      <th>pickup_datetime</th>\n",
       "      <th>dropoff_datetime</th>\n",
       "      <th>passenger_count</th>\n",
       "      <th>pickup_longitude</th>\n",
       "      <th>pickup_latitude</th>\n",
       "      <th>dropoff_longitude</th>\n",
       "      <th>dropoff_latitude</th>\n",
       "      <th>store_and_fwd_flag</th>\n",
       "      <th>trip_duration</th>\n",
       "    </tr>\n",
       "  </thead>\n",
       "  <tbody>\n",
       "    <tr>\n",
       "      <th>0</th>\n",
       "      <td>id2875421</td>\n",
       "      <td>2</td>\n",
       "      <td>2016-03-14 17:24:55</td>\n",
       "      <td>2016-03-14 17:32:30</td>\n",
       "      <td>1</td>\n",
       "      <td>-73.982155</td>\n",
       "      <td>40.767937</td>\n",
       "      <td>-73.964630</td>\n",
       "      <td>40.765602</td>\n",
       "      <td>N</td>\n",
       "      <td>455</td>\n",
       "    </tr>\n",
       "    <tr>\n",
       "      <th>1</th>\n",
       "      <td>id2377394</td>\n",
       "      <td>1</td>\n",
       "      <td>2016-06-12 00:43:35</td>\n",
       "      <td>2016-06-12 00:54:38</td>\n",
       "      <td>1</td>\n",
       "      <td>-73.980415</td>\n",
       "      <td>40.738564</td>\n",
       "      <td>-73.999481</td>\n",
       "      <td>40.731152</td>\n",
       "      <td>N</td>\n",
       "      <td>663</td>\n",
       "    </tr>\n",
       "    <tr>\n",
       "      <th>2</th>\n",
       "      <td>id3858529</td>\n",
       "      <td>2</td>\n",
       "      <td>2016-01-19 11:35:24</td>\n",
       "      <td>2016-01-19 12:10:48</td>\n",
       "      <td>1</td>\n",
       "      <td>-73.979027</td>\n",
       "      <td>40.763939</td>\n",
       "      <td>-74.005333</td>\n",
       "      <td>40.710087</td>\n",
       "      <td>N</td>\n",
       "      <td>2124</td>\n",
       "    </tr>\n",
       "    <tr>\n",
       "      <th>3</th>\n",
       "      <td>id3504673</td>\n",
       "      <td>2</td>\n",
       "      <td>2016-04-06 19:32:31</td>\n",
       "      <td>2016-04-06 19:39:40</td>\n",
       "      <td>1</td>\n",
       "      <td>-74.010040</td>\n",
       "      <td>40.719971</td>\n",
       "      <td>-74.012268</td>\n",
       "      <td>40.706718</td>\n",
       "      <td>N</td>\n",
       "      <td>429</td>\n",
       "    </tr>\n",
       "    <tr>\n",
       "      <th>4</th>\n",
       "      <td>id2181028</td>\n",
       "      <td>2</td>\n",
       "      <td>2016-03-26 13:30:55</td>\n",
       "      <td>2016-03-26 13:38:10</td>\n",
       "      <td>1</td>\n",
       "      <td>-73.973053</td>\n",
       "      <td>40.793209</td>\n",
       "      <td>-73.972923</td>\n",
       "      <td>40.782520</td>\n",
       "      <td>N</td>\n",
       "      <td>435</td>\n",
       "    </tr>\n",
       "  </tbody>\n",
       "</table>\n",
       "</div>"
      ],
      "text/plain": [
       "          id  vendor_id      pickup_datetime     dropoff_datetime  \\\n",
       "0  id2875421          2  2016-03-14 17:24:55  2016-03-14 17:32:30   \n",
       "1  id2377394          1  2016-06-12 00:43:35  2016-06-12 00:54:38   \n",
       "2  id3858529          2  2016-01-19 11:35:24  2016-01-19 12:10:48   \n",
       "3  id3504673          2  2016-04-06 19:32:31  2016-04-06 19:39:40   \n",
       "4  id2181028          2  2016-03-26 13:30:55  2016-03-26 13:38:10   \n",
       "\n",
       "   passenger_count  pickup_longitude  pickup_latitude  dropoff_longitude  \\\n",
       "0                1        -73.982155        40.767937         -73.964630   \n",
       "1                1        -73.980415        40.738564         -73.999481   \n",
       "2                1        -73.979027        40.763939         -74.005333   \n",
       "3                1        -74.010040        40.719971         -74.012268   \n",
       "4                1        -73.973053        40.793209         -73.972923   \n",
       "\n",
       "   dropoff_latitude store_and_fwd_flag  trip_duration  \n",
       "0         40.765602                  N            455  \n",
       "1         40.731152                  N            663  \n",
       "2         40.710087                  N           2124  \n",
       "3         40.706718                  N            429  \n",
       "4         40.782520                  N            435  "
      ]
     },
     "execution_count": 21,
     "metadata": {},
     "output_type": "execute_result"
    }
   ],
   "source": [
    "train_df.head()"
   ]
  },
  {
   "cell_type": "code",
   "execution_count": 22,
   "metadata": {
    "scrolled": true
   },
   "outputs": [],
   "source": [
    "# convert feature to datetime\n",
    "train_df['pickup_datetime'] = pd.to_datetime(train_df['pickup_datetime'], \\\n",
    "                    format=\"%Y-%m-%d %H:%M:%S\") \n",
    "\n",
    "# Extract weekday number (from Monday=0 to Sunday=6)\n",
    "train_df['DayOfWeekNum'] = train_df['pickup_datetime'].dt.dayofweek\n",
    "\n",
    "# Extract Month \n",
    "train_df['Month'] = train_df['pickup_datetime'].dt.month\n",
    "\n",
    "# Extract the Month's day from 0 to 31\n",
    "train_df['DayOfMonth'] = train_df['pickup_datetime'].dt.day\n",
    "\n",
    "# Extract the Hour of the day\n",
    "train_df['HourOfDay'] = train_df['pickup_datetime'].dt.hour\n"
   ]
  },
  {
   "cell_type": "markdown",
   "metadata": {},
   "source": [
    "<u><h3>Weekend</h3></u>"
   ]
  },
  {
   "cell_type": "code",
   "execution_count": 13,
   "metadata": {
    "collapsed": true
   },
   "outputs": [],
   "source": [
    "# train_df['date'] = train_df['pickup_datetime'].dt.date"
   ]
  },
  {
   "cell_type": "code",
   "execution_count": 29,
   "metadata": {},
   "outputs": [],
   "source": [
    "# train_df['weekend'] = np.zeros(train_df.shape[0]).astype(int) \n",
    "\n",
    "# train_df['weekend'] = train_df.loc[ train_df['DayOfWeekNum'] == 5 | \\\n",
    "#              train_df['DayOfWeekNum'] == 6, 'DayOfWeekNum'] = 1\n",
    "\n",
    "# train_df.loc[ train_df['DayOfWeekNum'] >= 5, 'weekend'] = 1"
   ]
  },
  {
   "cell_type": "code",
   "execution_count": 31,
   "metadata": {
    "collapsed": true
   },
   "outputs": [],
   "source": [
    "def get_weekend(dataset):\n",
    "    \"\"\" \n",
    "    Create a new column filled with 0.\n",
    "    Add a 1 element if we are in weekend, i.e. Saturday or Sunday\n",
    "    since DayOFWeekNum start at Monday=0, we are in weekend if the\n",
    "    number is DayOfWeekNum >= 5.\n",
    "    \"\"\"\n",
    "    dataset['weekend'] = np.zeros(dataset.shape[0]).astype(int)\n",
    "\n",
    "    dataset.loc[ train_df['DayOfWeekNum'] >= 5, 'weekend'] = 1\n",
    "    \n",
    "get_weekend(train_df)\n",
    "get_weekend(test_df)"
   ]
  },
  {
   "cell_type": "code",
   "execution_count": 33,
   "metadata": {},
   "outputs": [
    {
     "data": {
      "text/html": [
       "<div>\n",
       "<style>\n",
       "    .dataframe thead tr:only-child th {\n",
       "        text-align: right;\n",
       "    }\n",
       "\n",
       "    .dataframe thead th {\n",
       "        text-align: left;\n",
       "    }\n",
       "\n",
       "    .dataframe tbody tr th {\n",
       "        vertical-align: top;\n",
       "    }\n",
       "</style>\n",
       "<table border=\"1\" class=\"dataframe\">\n",
       "  <thead>\n",
       "    <tr style=\"text-align: right;\">\n",
       "      <th></th>\n",
       "      <th>id</th>\n",
       "      <th>vendor_id</th>\n",
       "      <th>pickup_datetime</th>\n",
       "      <th>passenger_count</th>\n",
       "      <th>pickup_longitude</th>\n",
       "      <th>pickup_latitude</th>\n",
       "      <th>dropoff_longitude</th>\n",
       "      <th>dropoff_latitude</th>\n",
       "      <th>store_and_fwd_flag</th>\n",
       "      <th>weekend</th>\n",
       "    </tr>\n",
       "  </thead>\n",
       "  <tbody>\n",
       "    <tr>\n",
       "      <th>0</th>\n",
       "      <td>id3004672</td>\n",
       "      <td>1</td>\n",
       "      <td>2016-06-30 23:59:58</td>\n",
       "      <td>1</td>\n",
       "      <td>-73.988129</td>\n",
       "      <td>40.732029</td>\n",
       "      <td>-73.990173</td>\n",
       "      <td>40.756680</td>\n",
       "      <td>N</td>\n",
       "      <td>0</td>\n",
       "    </tr>\n",
       "    <tr>\n",
       "      <th>1</th>\n",
       "      <td>id3505355</td>\n",
       "      <td>1</td>\n",
       "      <td>2016-06-30 23:59:53</td>\n",
       "      <td>1</td>\n",
       "      <td>-73.964203</td>\n",
       "      <td>40.679993</td>\n",
       "      <td>-73.959808</td>\n",
       "      <td>40.655403</td>\n",
       "      <td>N</td>\n",
       "      <td>1</td>\n",
       "    </tr>\n",
       "    <tr>\n",
       "      <th>2</th>\n",
       "      <td>id1217141</td>\n",
       "      <td>1</td>\n",
       "      <td>2016-06-30 23:59:47</td>\n",
       "      <td>1</td>\n",
       "      <td>-73.997437</td>\n",
       "      <td>40.737583</td>\n",
       "      <td>-73.986160</td>\n",
       "      <td>40.729523</td>\n",
       "      <td>N</td>\n",
       "      <td>0</td>\n",
       "    </tr>\n",
       "    <tr>\n",
       "      <th>3</th>\n",
       "      <td>id2150126</td>\n",
       "      <td>2</td>\n",
       "      <td>2016-06-30 23:59:41</td>\n",
       "      <td>1</td>\n",
       "      <td>-73.956070</td>\n",
       "      <td>40.771900</td>\n",
       "      <td>-73.986427</td>\n",
       "      <td>40.730469</td>\n",
       "      <td>N</td>\n",
       "      <td>0</td>\n",
       "    </tr>\n",
       "    <tr>\n",
       "      <th>4</th>\n",
       "      <td>id1598245</td>\n",
       "      <td>1</td>\n",
       "      <td>2016-06-30 23:59:33</td>\n",
       "      <td>1</td>\n",
       "      <td>-73.970215</td>\n",
       "      <td>40.761475</td>\n",
       "      <td>-73.961510</td>\n",
       "      <td>40.755890</td>\n",
       "      <td>N</td>\n",
       "      <td>1</td>\n",
       "    </tr>\n",
       "  </tbody>\n",
       "</table>\n",
       "</div>"
      ],
      "text/plain": [
       "          id  vendor_id      pickup_datetime  passenger_count  \\\n",
       "0  id3004672          1  2016-06-30 23:59:58                1   \n",
       "1  id3505355          1  2016-06-30 23:59:53                1   \n",
       "2  id1217141          1  2016-06-30 23:59:47                1   \n",
       "3  id2150126          2  2016-06-30 23:59:41                1   \n",
       "4  id1598245          1  2016-06-30 23:59:33                1   \n",
       "\n",
       "   pickup_longitude  pickup_latitude  dropoff_longitude  dropoff_latitude  \\\n",
       "0        -73.988129        40.732029         -73.990173         40.756680   \n",
       "1        -73.964203        40.679993         -73.959808         40.655403   \n",
       "2        -73.997437        40.737583         -73.986160         40.729523   \n",
       "3        -73.956070        40.771900         -73.986427         40.730469   \n",
       "4        -73.970215        40.761475         -73.961510         40.755890   \n",
       "\n",
       "  store_and_fwd_flag  weekend  \n",
       "0                  N        0  \n",
       "1                  N        1  \n",
       "2                  N        0  \n",
       "3                  N        0  \n",
       "4                  N        1  "
      ]
     },
     "execution_count": 33,
     "metadata": {},
     "output_type": "execute_result"
    }
   ],
   "source": [
    "test_df.head()"
   ]
  },
  {
   "cell_type": "code",
   "execution_count": 6,
   "metadata": {
    "scrolled": true
   },
   "outputs": [
    {
     "data": {
      "image/png": "[encoded data removed]",
      "text/plain": [
       "<matplotlib.figure.Figure at 0x1b38291e0f0>"
      ]
     },
     "metadata": {},
     "output_type": "display_data"
    }
   ],
   "source": [
    "fig, ax = plt.subplots()\n",
    "\n",
    "sns.countplot(x='Month', \n",
    "             data=train_df)\n",
    "\n",
    "labels = [item.get_text() for item in ax.get_xticklabels()]\n",
    "labels = ['January', 'February', 'March', 'April', 'May', 'June']\n",
    "\n",
    "ax.set_xticklabels(labels)\n",
    "\n",
    "plt.xticks(rotation=90)\n",
    "plt.title('Trips by Month', size=15)\n",
    "plt.ylabel('Number of trip')\n",
    "\n",
    "plt.show()"
   ]
  },
  {
   "cell_type": "markdown",
   "metadata": {},
   "source": [
    "Interestingly, the data provided only offers the trips of the first half of 2016. <br>\n",
    "Furthermore, we observe that March was the most successful month in terms of number of trips. <br>\n",
    "On the other hand January is not as successful, probably due to the fact that January is usually the coldest month of the year for New York."
   ]
  },
  {
   "cell_type": "code",
   "execution_count": 24,
   "metadata": {},
   "outputs": [
    {
     "data": {
      "image/png": "[encoded data removed]",
      "text/plain": [
       "<matplotlib.figure.Figure at 0x2b61620f2e8>"
      ]
     },
     "metadata": {},
     "output_type": "display_data"
    }
   ],
   "source": [
    "fig, ax = plt.subplots()\n",
    "\n",
    "sns.countplot(x='DayOfWeekNum',\n",
    "              data=train_df)\n",
    "labels = [item.get_text() for item in ax.get_xticklabels()]\n",
    "labels = ['Monday', 'Tuesday', 'Wednesday', 'Thursday', \\\n",
    "         'Friday', 'Saturday', 'Sunday']\n",
    "\n",
    "ax.set_xticklabels(labels)\n",
    "\n",
    "plt.xticks(rotation=90)\n",
    "plt.title('Trips by Week Day', size=15)\n",
    "plt.xlabel('Day of the Week')\n",
    "plt.ylabel('Number of trip')\n",
    "\n",
    "\n",
    "plt.show()"
   ]
  },
  {
   "cell_type": "markdown",
   "metadata": {
    "collapsed": true
   },
   "source": [
    "This previous plot display how the traffic of taxis is doing during the weeks. <br>\n",
    "Friday seems to be the most profitable day with Saturday while Sunday and Monday are the less demanding of taxis."
   ]
  },
  {
   "cell_type": "code",
   "execution_count": 25,
   "metadata": {
    "scrolled": true
   },
   "outputs": [
    {
     "data": {
      "image/png": "[encoded data removed]",
      "text/plain": [
       "<matplotlib.figure.Figure at 0x2b61620ff60>"
      ]
     },
     "metadata": {},
     "output_type": "display_data"
    }
   ],
   "source": [
    "plt.figure(figsize=(12,8))\n",
    "\n",
    "sns.countplot(x='DayOfMonth',\n",
    "             data=train_df)\n",
    "\n",
    "plt.title('Trips by Day of the Month', size=15)\n",
    "plt.xlabel('Day of Month')\n",
    "plt.ylabel('Number of trip')\n",
    "\n",
    "plt.show()"
   ]
  },
  {
   "cell_type": "markdown",
   "metadata": {},
   "source": [
    "The repartition is quite well distributed. <br>\n",
    "One might notice that the 31st there is way less trips but that is due to the fact there is way less 31st number in the year. <br>\n",
    "In 2016, only January, March and May had 31 days in the first half of the year. <br>\n",
    "Days with 31 days also include day 30 so end of months are quite low regarding number of trips from taxis comparing to other days."
   ]
  },
  {
   "cell_type": "code",
   "execution_count": 26,
   "metadata": {
    "scrolled": true
   },
   "outputs": [
    {
     "data": {
      "image/png": "[encoded data removed]",
      "text/plain": [
       "<matplotlib.figure.Figure at 0x2b616003b38>"
      ]
     },
     "metadata": {},
     "output_type": "display_data"
    }
   ],
   "source": [
    "plt.figure(figsize=(8,6))\n",
    "\n",
    "sns.countplot(x='HourOfDay',\n",
    "           data=train_df)\n",
    "\n",
    "plt.title('Traffic of Taxis during a day', size=15)\n",
    "plt.xlabel('Hour of the day')\n",
    "plt.ylabel('Number of trip')\n",
    "\n",
    "plt.show()"
   ]
  },
  {
   "cell_type": "markdown",
   "metadata": {},
   "source": [
    "Clearly from this plot we can infer that peak times are [6pm : 7pm] and off-peak times are [4am : 5pm].\n",
    "From 6am the trend is growing up to 7pm. And past this hour, the trend is going the other way."
   ]
  },
  {
   "cell_type": "code",
   "execution_count": 27,
   "metadata": {},
   "outputs": [
    {
     "data": {
      "text/plain": [
       "<matplotlib.axes._subplots.AxesSubplot at 0x2b615ee5630>"
      ]
     },
     "execution_count": 27,
     "metadata": {},
     "output_type": "execute_result"
    },
    {
     "data": {
      "image/png": "[encoded data removed]",
      "text/plain": [
       "<matplotlib.figure.Figure at 0x2b615ffe748>"
      ]
     },
     "metadata": {},
     "output_type": "display_data"
    }
   ],
   "source": [
    "sns.countplot(train_df['passenger_count'])"
   ]
  },
  {
   "cell_type": "markdown",
   "metadata": {},
   "source": [
    "<u>Passenger count</u>"
   ]
  },
  {
   "cell_type": "code",
   "execution_count": 28,
   "metadata": {},
   "outputs": [
    {
     "data": {
      "text/plain": [
       "1    1033600\n",
       "2     210318\n",
       "5      78088\n",
       "3      59896\n",
       "6      48333\n",
       "4      28404\n",
       "7          3\n",
       "9          1\n",
       "8          1\n",
       "Name: passenger_count, dtype: int64"
      ]
     },
     "execution_count": 28,
     "metadata": {},
     "output_type": "execute_result"
    }
   ],
   "source": [
    "train_df['passenger_count'].value_counts()"
   ]
  },
  {
   "cell_type": "markdown",
   "metadata": {},
   "source": [
    "We will group the number of passenger to be less sparse."
   ]
  },
  {
   "cell_type": "code",
   "execution_count": 29,
   "metadata": {
    "collapsed": true
   },
   "outputs": [],
   "source": [
    "def transform_passenger_count(dataset):\n",
    "    dataset.loc[ dataset['passenger_count'] >= 3, 'passenger_count' ] = 3\n",
    "    \n",
    "transform_passenger_count(train_df)\n",
    "transform_passenger_count(test_df)\n",
    "\n",
    "# train_df.loc[ train_df['passenger_count'] >= 3, 'passenger_count' ] = 3"
   ]
  },
  {
   "cell_type": "code",
   "execution_count": 30,
   "metadata": {
    "scrolled": true
   },
   "outputs": [
    {
     "data": {
      "text/html": [
       "\n",
       "\n",
       "    <div class=\"bk-root\">\n",
       "        <div class=\"bk-plotdiv\" id=\"2e3c62b4-ebbf-4859-af5b-96420663e18a\"></div>\n",
       "    </div>\n",
       "<script type=\"text/javascript\">\n",
       "  \n",
       "  (function(global) {\n",
       "    function now() {\n",
       "      return new Date();\n",
       "    }\n",
       "  \n",
       "    var force = false;\n",
       "  \n",
       "    if (typeof (window._bokeh_onload_callbacks) === \"undefined\" || force === true) {\n",
       "      window._bokeh_onload_callbacks = [];\n",
       "      window._bokeh_is_loading = undefined;\n",
       "    }\n",
       "  \n",
       "  \n",
       "    \n",
       "    if (typeof (window._bokeh_timeout) === \"undefined\" || force === true) {\n",
       "      window._bokeh_timeout = Date.now() + 0;\n",
       "      window._bokeh_failed_load = false;\n",
       "    }\n",
       "  \n",
       "    var NB_LOAD_WARNING = {'data': {'text/html':\n",
       "       \"<div style='background-color: #fdd'>\\n\"+\n",
       "       \"<p>\\n\"+\n",
       "       \"BokehJS does not appear to have successfully loaded. If loading BokehJS from CDN, this \\n\"+\n",
       "       \"may be due to a slow or bad network connection. Possible fixes:\\n\"+\n",
       "       \"</p>\\n\"+\n",
       "       \"<ul>\\n\"+\n",
       "       \"<li>re-rerun `output_notebook()` to attempt to load from CDN again, or</li>\\n\"+\n",
       "       \"<li>use INLINE resources instead, as so:</li>\\n\"+\n",
       "       \"</ul>\\n\"+\n",
       "       \"<code>\\n\"+\n",
       "       \"from bokeh.resources import INLINE\\n\"+\n",
       "       \"output_notebook(resources=INLINE)\\n\"+\n",
       "       \"</code>\\n\"+\n",
       "       \"</div>\"}};\n",
       "  \n",
       "    function display_loaded() {\n",
       "      if (window.Bokeh !== undefined) {\n",
       "        var el = document.getElementById(\"2e3c62b4-ebbf-4859-af5b-96420663e18a\");\n",
       "        el.textContent = \"BokehJS \" + Bokeh.version + \" successfully loaded.\";\n",
       "      } else if (Date.now() < window._bokeh_timeout) {\n",
       "        setTimeout(display_loaded, 100)\n",
       "      }\n",
       "    }\n",
       "  \n",
       "    function run_callbacks() {\n",
       "      window._bokeh_onload_callbacks.forEach(function(callback) { callback() });\n",
       "      delete window._bokeh_onload_callbacks\n",
       "      console.info(\"Bokeh: all callbacks have finished\");\n",
       "    }\n",
       "  \n",
       "    function load_libs(js_urls, callback) {\n",
       "      window._bokeh_onload_callbacks.push(callback);\n",
       "      if (window._bokeh_is_loading > 0) {\n",
       "        console.log(\"Bokeh: BokehJS is being loaded, scheduling callback at\", now());\n",
       "        return null;\n",
       "      }\n",
       "      if (js_urls == null || js_urls.length === 0) {\n",
       "        run_callbacks();\n",
       "        return null;\n",
       "      }\n",
       "      console.log(\"Bokeh: BokehJS not loaded, scheduling load and callback at\", now());\n",
       "      window._bokeh_is_loading = js_urls.length;\n",
       "      for (var i = 0; i < js_urls.length; i++) {\n",
       "        var url = js_urls[i];\n",
       "        var s = document.createElement('script');\n",
       "        s.src = url;\n",
       "        s.async = false;\n",
       "        s.onreadystatechange = s.onload = function() {\n",
       "          window._bokeh_is_loading--;\n",
       "          if (window._bokeh_is_loading === 0) {\n",
       "            console.log(\"Bokeh: all BokehJS libraries loaded\");\n",
       "            run_callbacks()\n",
       "          }\n",
       "        };\n",
       "        s.onerror = function() {\n",
       "          console.warn(\"failed to load library \" + url);\n",
       "        };\n",
       "        console.log(\"Bokeh: injecting script tag for BokehJS library: \", url);\n",
       "        document.getElementsByTagName(\"head\")[0].appendChild(s);\n",
       "      }\n",
       "    };var element = document.getElementById(\"2e3c62b4-ebbf-4859-af5b-96420663e18a\");\n",
       "    if (element == null) {\n",
       "      console.log(\"Bokeh: ERROR: autoload.js configured with elementid '2e3c62b4-ebbf-4859-af5b-96420663e18a' but no matching script tag was found. \")\n",
       "      return false;\n",
       "    }\n",
       "  \n",
       "    var js_urls = [];\n",
       "  \n",
       "    var inline_js = [\n",
       "      function(Bokeh) {\n",
       "        (function() {\n",
       "          var fn = function() {\n",
       "            var docs_json = {\"c061d9aa-fce7-44c3-ae8f-95ac52379601\":{\"roots\":{\"references\":[{\"attributes\":{\"plot\":{\"id\":\"a675cc8a-8dbf-4481-b63e-70a3c504a9d4\",\"subtype\":\"Chart\",\"type\":\"Plot\"}},\"id\":\"d23d3684-8a33-4eaa-862b-d1832e42569d\",\"type\":\"SaveTool\"},{\"attributes\":{\"below\":[{\"id\":\"61bf4e01-e1bb-40ce-bb2a-65e79e89e584\",\"type\":\"LinearAxis\"}],\"css_classes\":null,\"left\":[{\"id\":\"00647fd1-1b5f-46ca-b89f-30efc3a434e6\",\"type\":\"LinearAxis\"}],\"plot_height\":400,\"plot_width\":400,\"renderers\":[{\"id\":\"e3a987af-35d3-45d3-bed9-0cd02d7b417d\",\"type\":\"BoxAnnotation\"},{\"id\":\"2bd1942b-f2b1-47b6-b509-7d8ba40986c0\",\"type\":\"GlyphRenderer\"},{\"id\":\"97f3a526-f68a-4a3e-9f6f-f7609e0e33ff\",\"type\":\"GlyphRenderer\"},{\"id\":\"fc57a76a-b92d-4c1c-ba1b-bb005ca3281a\",\"type\":\"Legend\"},{\"id\":\"61bf4e01-e1bb-40ce-bb2a-65e79e89e584\",\"type\":\"LinearAxis\"},{\"id\":\"00647fd1-1b5f-46ca-b89f-30efc3a434e6\",\"type\":\"LinearAxis\"}],\"title\":{\"id\":\"90e4576e-9bb5-42ff-b887-b318909e77d2\",\"type\":\"Title\"},\"tool_events\":{\"id\":\"9f4048cc-2ca5-413f-a78c-f35ae286b50f\",\"type\":\"ToolEvents\"},\"toolbar\":{\"id\":\"138c1bb6-1efa-415a-a0b0-b106975b7d07\",\"type\":\"Toolbar\"},\"x_mapper_type\":\"auto\",\"x_range\":{\"id\":\"23e4f750-3268-4f3b-992f-2d6ea1063a07\",\"type\":\"Range1d\"},\"y_mapper_type\":\"auto\",\"y_range\":{\"id\":\"944e3287-b7d3-4189-a42e-44e246fc3f3c\",\"type\":\"Range1d\"}},\"id\":\"a675cc8a-8dbf-4481-b63e-70a3c504a9d4\",\"subtype\":\"Chart\",\"type\":\"Plot\"},{\"attributes\":{\"callback\":null,\"end\":1.6500000000000001,\"start\":-1.6500000000000001},\"id\":\"944e3287-b7d3-4189-a42e-44e246fc3f3c\",\"type\":\"Range1d\"},{\"attributes\":{\"callback\":null,\"end\":1.6500000000000001,\"start\":-1.6500000000000001},\"id\":\"23e4f750-3268-4f3b-992f-2d6ea1063a07\",\"type\":\"Range1d\"},{\"attributes\":{\"data_source\":{\"id\":\"cb927161-58eb-4b07-b0e8-5075472f2f47\",\"type\":\"ColumnDataSource\"},\"glyph\":{\"id\":\"891b6045-5f37-4d1f-9f77-3e4469dcc8ee\",\"type\":\"Text\"},\"hover_glyph\":null,\"muted_glyph\":null},\"id\":\"97f3a526-f68a-4a3e-9f6f-f7609e0e33ff\",\"type\":\"GlyphRenderer\"},{\"attributes\":{\"axis_label\":null,\"formatter\":{\"id\":\"ca08c4a1-49eb-4163-a3ab-9417fbb8ea4f\",\"type\":\"BasicTickFormatter\"},\"plot\":{\"id\":\"a675cc8a-8dbf-4481-b63e-70a3c504a9d4\",\"subtype\":\"Chart\",\"type\":\"Plot\"},\"ticker\":{\"id\":\"68190cbd-1cab-4cb5-9a70-98638e2c7729\",\"type\":\"BasicTicker\"},\"visible\":false},\"id\":\"00647fd1-1b5f-46ca-b89f-30efc3a434e6\",\"type\":\"LinearAxis\"},{\"attributes\":{\"plot\":{\"id\":\"a675cc8a-8dbf-4481-b63e-70a3c504a9d4\",\"subtype\":\"Chart\",\"type\":\"Plot\"}},\"id\":\"673db362-c4fd-4904-8f09-abebee0f858c\",\"type\":\"HelpTool\"},{\"attributes\":{\"plot\":{\"id\":\"a675cc8a-8dbf-4481-b63e-70a3c504a9d4\",\"subtype\":\"Chart\",\"type\":\"Plot\"}},\"id\":\"a4bf9a4a-f19c-4886-aa2b-ea34d8cc21fd\",\"type\":\"WheelZoomTool\"},{\"attributes\":{\"angle\":{\"field\":\"text_angle\",\"units\":\"rad\"},\"text_align\":\"center\",\"text_baseline\":\"middle\",\"text_font_size\":{\"value\":\"10pt\"},\"x\":{\"field\":\"x\"},\"y\":{\"field\":\"y\"}},\"id\":\"891b6045-5f37-4d1f-9f77-3e4469dcc8ee\",\"type\":\"Text\"},{\"attributes\":{\"active_drag\":\"auto\",\"active_scroll\":\"auto\",\"active_tap\":\"auto\",\"tools\":[{\"id\":\"7523a78d-5dbd-4513-821e-4a5f6dd49955\",\"type\":\"PanTool\"},{\"id\":\"a4bf9a4a-f19c-4886-aa2b-ea34d8cc21fd\",\"type\":\"WheelZoomTool\"},{\"id\":\"71c6ad61-0cda-40d0-9a96-9b24ca2f6a76\",\"type\":\"BoxZoomTool\"},{\"id\":\"d23d3684-8a33-4eaa-862b-d1832e42569d\",\"type\":\"SaveTool\"},{\"id\":\"21414044-0073-44b8-b891-0e6b801b0c1f\",\"type\":\"ResetTool\"},{\"id\":\"673db362-c4fd-4904-8f09-abebee0f858c\",\"type\":\"HelpTool\"},{\"id\":\"3047be0d-1cce-44a1-a822-7fb5e3ee3ff8\",\"type\":\"HoverTool\"}]},\"id\":\"138c1bb6-1efa-415a-a0b0-b106975b7d07\",\"type\":\"Toolbar\"},{\"attributes\":{\"axis_label\":null,\"formatter\":{\"id\":\"0ea9b6a1-3fcf-4151-9b20-b86f7cb2d517\",\"type\":\"BasicTickFormatter\"},\"plot\":{\"id\":\"a675cc8a-8dbf-4481-b63e-70a3c504a9d4\",\"subtype\":\"Chart\",\"type\":\"Plot\"},\"ticker\":{\"id\":\"9b713b2c-612c-45aa-b5cf-c203e4c98d87\",\"type\":\"BasicTicker\"},\"visible\":false},\"id\":\"61bf4e01-e1bb-40ce-bb2a-65e79e89e584\",\"type\":\"LinearAxis\"},{\"attributes\":{},\"id\":\"9f4048cc-2ca5-413f-a78c-f35ae286b50f\",\"type\":\"ToolEvents\"},{\"attributes\":{\"callback\":null,\"column_names\":[\"text\",\"x\",\"y\",\"text_angle\"],\"data\":{\"text\":[\"1\",\"2\",\"3\"],\"text_angle\":{\"__ndarray__\":\"AAAAAAAAAAAAAAAAAAAAAAAAAAAAAAAA\",\"dtype\":\"float64\",\"shape\":[3]},\"x\":[-0.6856134245002208,0.21564150180791045,1.006821493354457],\"y\":[0.8919412716906198,-1.1041393674251583,-0.5019317488658204]}},\"id\":\"cb927161-58eb-4b07-b0e8-5075472f2f47\",\"type\":\"ColumnDataSource\"},{\"attributes\":{\"plot\":null,\"text\":null},\"id\":\"90e4576e-9bb5-42ff-b887-b318909e77d2\",\"type\":\"Title\"},{\"attributes\":{\"plot\":{\"id\":\"a675cc8a-8dbf-4481-b63e-70a3c504a9d4\",\"subtype\":\"Chart\",\"type\":\"Plot\"}},\"id\":\"21414044-0073-44b8-b891-0e6b801b0c1f\",\"type\":\"ResetTool\"},{\"attributes\":{\"data_source\":{\"id\":\"7af52361-1f47-4e77-bf1b-718b7869f793\",\"type\":\"ColumnDataSource\"},\"glyph\":{\"id\":\"b5f727a5-97a8-45aa-86b6-99104ca393f2\",\"type\":\"AnnularWedge\"},\"hover_glyph\":null,\"muted_glyph\":null},\"id\":\"2bd1942b-f2b1-47b6-b509-7d8ba40986c0\",\"type\":\"GlyphRenderer\"},{\"attributes\":{},\"id\":\"ca08c4a1-49eb-4163-a3ab-9417fbb8ea4f\",\"type\":\"BasicTickFormatter\"},{\"attributes\":{},\"id\":\"0ea9b6a1-3fcf-4151-9b20-b86f7cb2d517\",\"type\":\"BasicTickFormatter\"},{\"attributes\":{\"callback\":null,\"plot\":{\"id\":\"a675cc8a-8dbf-4481-b63e-70a3c504a9d4\",\"subtype\":\"Chart\",\"type\":\"Plot\"},\"tooltips\":[[\"Value\",\"@values\"]]},\"id\":\"3047be0d-1cce-44a1-a822-7fb5e3ee3ff8\",\"type\":\"HoverTool\"},{\"attributes\":{\"overlay\":{\"id\":\"e3a987af-35d3-45d3-bed9-0cd02d7b417d\",\"type\":\"BoxAnnotation\"},\"plot\":{\"id\":\"a675cc8a-8dbf-4481-b63e-70a3c504a9d4\",\"subtype\":\"Chart\",\"type\":\"Plot\"}},\"id\":\"71c6ad61-0cda-40d0-9a96-9b24ca2f6a76\",\"type\":\"BoxZoomTool\"},{\"attributes\":{},\"id\":\"68190cbd-1cab-4cb5-9a70-98638e2c7729\",\"type\":\"BasicTicker\"},{\"attributes\":{\"end_angle\":{\"field\":\"end\",\"units\":\"rad\"},\"fill_alpha\":{\"value\":0.8},\"fill_color\":{\"field\":\"color\"},\"inner_radius\":{\"field\":\"inners\",\"units\":\"data\"},\"line_color\":{\"value\":\"White\"},\"outer_radius\":{\"field\":\"outers\",\"units\":\"data\"},\"start_angle\":{\"field\":\"start\",\"units\":\"rad\"},\"x\":{\"value\":0},\"y\":{\"value\":0}},\"id\":\"b5f727a5-97a8-45aa-86b6-99104ca393f2\",\"type\":\"AnnularWedge\"},{\"attributes\":{\"callback\":null,\"column_names\":[\"end\",\"level\",\"start\",\"values\",\"inners\",\"outers\",\"centers\",\"color\",\"index\"],\"data\":{\"centers\":{\"__ndarray__\":\"AAAAAAAA8j8AAAAAAADyPwAAAAAAAPI/\",\"dtype\":\"float64\",\"shape\":[3]},\"color\":[\"#f22c40\",\"#5ab738\",\"#407ee7\"],\"end\":{\"__ndarray__\":\"NEcJEyTPEUDINHvy1m4VQBgtRFT7IRlA\",\"dtype\":\"float64\",\"shape\":[3]},\"index\":[1,2,3],\"inners\":{\"__ndarray__\":\"AAAAAAAAAAAAAAAAAAAAAAAAAAAAAAAA\",\"dtype\":\"float64\",\"shape\":[3]},\"level\":{\"__ndarray__\":\"AAAAAAAAAAAAAAAAAAAAAAAAAAAAAAAA\",\"dtype\":\"float64\",\"shape\":[3]},\"outers\":{\"__ndarray__\":\"AAAAAAAA+D8AAAAAAAD4PwAAAAAAAPg/\",\"dtype\":\"float64\",\"shape\":[3]},\"start\":{\"__ndarray__\":\"AAAAAAAAAAA0RwkTJM8RQMg0e/LWbhVA\",\"dtype\":\"float64\",\"shape\":[3]},\"values\":[1033600,210318,214726]}},\"id\":\"7af52361-1f47-4e77-bf1b-718b7869f793\",\"type\":\"ColumnDataSource\"},{\"attributes\":{},\"id\":\"9b713b2c-612c-45aa-b5cf-c203e4c98d87\",\"type\":\"BasicTicker\"},{\"attributes\":{\"plot\":{\"id\":\"a675cc8a-8dbf-4481-b63e-70a3c504a9d4\",\"subtype\":\"Chart\",\"type\":\"Plot\"}},\"id\":\"7523a78d-5dbd-4513-821e-4a5f6dd49955\",\"type\":\"PanTool\"},{\"attributes\":{\"location\":\"top_left\",\"plot\":{\"id\":\"a675cc8a-8dbf-4481-b63e-70a3c504a9d4\",\"subtype\":\"Chart\",\"type\":\"Plot\"}},\"id\":\"fc57a76a-b92d-4c1c-ba1b-bb005ca3281a\",\"type\":\"Legend\"},{\"attributes\":{\"bottom_units\":\"screen\",\"fill_alpha\":{\"value\":0.5},\"fill_color\":{\"value\":\"lightgrey\"},\"left_units\":\"screen\",\"level\":\"overlay\",\"line_alpha\":{\"value\":1.0},\"line_color\":{\"value\":\"black\"},\"line_dash\":[4,4],\"line_width\":{\"value\":2},\"plot\":null,\"render_mode\":\"css\",\"right_units\":\"screen\",\"top_units\":\"screen\"},\"id\":\"e3a987af-35d3-45d3-bed9-0cd02d7b417d\",\"type\":\"BoxAnnotation\"}],\"root_ids\":[\"a675cc8a-8dbf-4481-b63e-70a3c504a9d4\"]},\"title\":\"Bokeh Application\",\"version\":\"0.12.5\"}};\n",
       "            var render_items = [{\"docid\":\"c061d9aa-fce7-44c3-ae8f-95ac52379601\",\"elementid\":\"2e3c62b4-ebbf-4859-af5b-96420663e18a\",\"modelid\":\"a675cc8a-8dbf-4481-b63e-70a3c504a9d4\"}];\n",
       "            \n",
       "            Bokeh.embed.embed_items(docs_json, render_items);\n",
       "          };\n",
       "          if (document.readyState != \"loading\") fn();\n",
       "          else document.addEventListener(\"DOMContentLoaded\", fn);\n",
       "        })();\n",
       "      },\n",
       "      function(Bokeh) {\n",
       "      }\n",
       "    ];\n",
       "  \n",
       "    function run_inline_js() {\n",
       "      \n",
       "      if ((window.Bokeh !== undefined) || (force === true)) {\n",
       "        for (var i = 0; i < inline_js.length; i++) {\n",
       "          inline_js[i](window.Bokeh);\n",
       "        }if (force === true) {\n",
       "          display_loaded();\n",
       "        }} else if (Date.now() < window._bokeh_timeout) {\n",
       "        setTimeout(run_inline_js, 100);\n",
       "      } else if (!window._bokeh_failed_load) {\n",
       "        console.log(\"Bokeh: BokehJS failed to load within specified timeout.\");\n",
       "        window._bokeh_failed_load = true;\n",
       "      } else if (force !== true) {\n",
       "        var cell = $(document.getElementById(\"2e3c62b4-ebbf-4859-af5b-96420663e18a\")).parents('.cell').data().cell;\n",
       "        cell.output_area.append_execute_result(NB_LOAD_WARNING)\n",
       "      }\n",
       "  \n",
       "    }\n",
       "  \n",
       "    if (window._bokeh_is_loading === 0) {\n",
       "      console.log(\"Bokeh: BokehJS loaded, going straight to plotting\");\n",
       "      run_inline_js();\n",
       "    } else {\n",
       "      load_libs(js_urls, function() {\n",
       "        console.log(\"Bokeh: BokehJS plotting callback run at\", now());\n",
       "        run_inline_js();\n",
       "      });\n",
       "    }\n",
       "  }(this));\n",
       "</script>"
      ]
     },
     "metadata": {},
     "output_type": "display_data"
    }
   ],
   "source": [
    "# Pie chart with Bokeh\n",
    "pie_chart = Donut(train_df['passenger_count'].value_counts())\n",
    "show(pie_chart)"
   ]
  },
  {
   "cell_type": "markdown",
   "metadata": {},
   "source": [
    "<u>Distance in miles</u>"
   ]
  },
  {
   "cell_type": "code",
   "execution_count": 31,
   "metadata": {},
   "outputs": [
    {
     "data": {
      "text/html": [
       "<div>\n",
       "<style>\n",
       "    .dataframe thead tr:only-child th {\n",
       "        text-align: right;\n",
       "    }\n",
       "\n",
       "    .dataframe thead th {\n",
       "        text-align: left;\n",
       "    }\n",
       "\n",
       "    .dataframe tbody tr th {\n",
       "        vertical-align: top;\n",
       "    }\n",
       "</style>\n",
       "<table border=\"1\" class=\"dataframe\">\n",
       "  <thead>\n",
       "    <tr style=\"text-align: right;\">\n",
       "      <th></th>\n",
       "      <th>id</th>\n",
       "      <th>vendor_id</th>\n",
       "      <th>pickup_datetime</th>\n",
       "      <th>dropoff_datetime</th>\n",
       "      <th>passenger_count</th>\n",
       "      <th>pickup_longitude</th>\n",
       "      <th>pickup_latitude</th>\n",
       "      <th>dropoff_longitude</th>\n",
       "      <th>dropoff_latitude</th>\n",
       "      <th>store_and_fwd_flag</th>\n",
       "      <th>trip_duration</th>\n",
       "      <th>DayOfWeekNum</th>\n",
       "      <th>Month</th>\n",
       "      <th>DayOfMonth</th>\n",
       "      <th>HourOfDay</th>\n",
       "    </tr>\n",
       "  </thead>\n",
       "  <tbody>\n",
       "    <tr>\n",
       "      <th>0</th>\n",
       "      <td>id2875421</td>\n",
       "      <td>2</td>\n",
       "      <td>2016-03-14 17:24:55</td>\n",
       "      <td>2016-03-14 17:32:30</td>\n",
       "      <td>1</td>\n",
       "      <td>-73.982155</td>\n",
       "      <td>40.767937</td>\n",
       "      <td>-73.964630</td>\n",
       "      <td>40.765602</td>\n",
       "      <td>N</td>\n",
       "      <td>455</td>\n",
       "      <td>0</td>\n",
       "      <td>3</td>\n",
       "      <td>14</td>\n",
       "      <td>17</td>\n",
       "    </tr>\n",
       "    <tr>\n",
       "      <th>1</th>\n",
       "      <td>id2377394</td>\n",
       "      <td>1</td>\n",
       "      <td>2016-06-12 00:43:35</td>\n",
       "      <td>2016-06-12 00:54:38</td>\n",
       "      <td>1</td>\n",
       "      <td>-73.980415</td>\n",
       "      <td>40.738564</td>\n",
       "      <td>-73.999481</td>\n",
       "      <td>40.731152</td>\n",
       "      <td>N</td>\n",
       "      <td>663</td>\n",
       "      <td>6</td>\n",
       "      <td>6</td>\n",
       "      <td>12</td>\n",
       "      <td>0</td>\n",
       "    </tr>\n",
       "    <tr>\n",
       "      <th>2</th>\n",
       "      <td>id3858529</td>\n",
       "      <td>2</td>\n",
       "      <td>2016-01-19 11:35:24</td>\n",
       "      <td>2016-01-19 12:10:48</td>\n",
       "      <td>1</td>\n",
       "      <td>-73.979027</td>\n",
       "      <td>40.763939</td>\n",
       "      <td>-74.005333</td>\n",
       "      <td>40.710087</td>\n",
       "      <td>N</td>\n",
       "      <td>2124</td>\n",
       "      <td>1</td>\n",
       "      <td>1</td>\n",
       "      <td>19</td>\n",
       "      <td>11</td>\n",
       "    </tr>\n",
       "    <tr>\n",
       "      <th>3</th>\n",
       "      <td>id3504673</td>\n",
       "      <td>2</td>\n",
       "      <td>2016-04-06 19:32:31</td>\n",
       "      <td>2016-04-06 19:39:40</td>\n",
       "      <td>1</td>\n",
       "      <td>-74.010040</td>\n",
       "      <td>40.719971</td>\n",
       "      <td>-74.012268</td>\n",
       "      <td>40.706718</td>\n",
       "      <td>N</td>\n",
       "      <td>429</td>\n",
       "      <td>2</td>\n",
       "      <td>4</td>\n",
       "      <td>6</td>\n",
       "      <td>19</td>\n",
       "    </tr>\n",
       "    <tr>\n",
       "      <th>4</th>\n",
       "      <td>id2181028</td>\n",
       "      <td>2</td>\n",
       "      <td>2016-03-26 13:30:55</td>\n",
       "      <td>2016-03-26 13:38:10</td>\n",
       "      <td>1</td>\n",
       "      <td>-73.973053</td>\n",
       "      <td>40.793209</td>\n",
       "      <td>-73.972923</td>\n",
       "      <td>40.782520</td>\n",
       "      <td>N</td>\n",
       "      <td>435</td>\n",
       "      <td>5</td>\n",
       "      <td>3</td>\n",
       "      <td>26</td>\n",
       "      <td>13</td>\n",
       "    </tr>\n",
       "  </tbody>\n",
       "</table>\n",
       "</div>"
      ],
      "text/plain": [
       "          id  vendor_id     pickup_datetime     dropoff_datetime  \\\n",
       "0  id2875421          2 2016-03-14 17:24:55  2016-03-14 17:32:30   \n",
       "1  id2377394          1 2016-06-12 00:43:35  2016-06-12 00:54:38   \n",
       "2  id3858529          2 2016-01-19 11:35:24  2016-01-19 12:10:48   \n",
       "3  id3504673          2 2016-04-06 19:32:31  2016-04-06 19:39:40   \n",
       "4  id2181028          2 2016-03-26 13:30:55  2016-03-26 13:38:10   \n",
       "\n",
       "   passenger_count  pickup_longitude  pickup_latitude  dropoff_longitude  \\\n",
       "0                1        -73.982155        40.767937         -73.964630   \n",
       "1                1        -73.980415        40.738564         -73.999481   \n",
       "2                1        -73.979027        40.763939         -74.005333   \n",
       "3                1        -74.010040        40.719971         -74.012268   \n",
       "4                1        -73.973053        40.793209         -73.972923   \n",
       "\n",
       "   dropoff_latitude store_and_fwd_flag  trip_duration  DayOfWeekNum  Month  \\\n",
       "0         40.765602                  N            455             0      3   \n",
       "1         40.731152                  N            663             6      6   \n",
       "2         40.710087                  N           2124             1      1   \n",
       "3         40.706718                  N            429             2      4   \n",
       "4         40.782520                  N            435             5      3   \n",
       "\n",
       "   DayOfMonth  HourOfDay  \n",
       "0          14         17  \n",
       "1          12          0  \n",
       "2          19         11  \n",
       "3           6         19  \n",
       "4          26         13  "
      ]
     },
     "execution_count": 31,
     "metadata": {},
     "output_type": "execute_result"
    }
   ],
   "source": [
    "train_df.head()"
   ]
  },
  {
   "cell_type": "code",
   "execution_count": 8,
   "metadata": {
    "collapsed": true
   },
   "outputs": [],
   "source": [
    "from geopy.distance import great_circle\n",
    "\n",
    "def distance_calc(row):\n",
    "    pickup  = (row['pickup_latitude'], row['pickup_longitude'])\n",
    "    dropoff = (row['dropoff_latitude'], row['dropoff_longitude'])\n",
    "    \n",
    "    return great_circle(pickup, dropoff).km\n",
    "\n",
    "def get_distance(dataset):\n",
    "    dataset['distance'] = dataset.apply(lambda row: distance_calc(row), axis=1)\n",
    "    dataset.drop(['pickup_latitude', 'pickup_longitude', \\\n",
    "                  'dropoff_latitude','dropoff_longitude'], \n",
    "                   axis=1,\n",
    "                   inplace=True)\n",
    "    \n",
    "# train_df['distance'] = train_df.apply(lambda row: distance_calc(row), axis=1)\n",
    "\n",
    "\n",
    "# Note : Quite long to compute \n",
    "get_distance(train_df)\n",
    "get_distance(test_df)"
   ]
  },
  {
   "cell_type": "code",
   "execution_count": 9,
   "metadata": {
    "scrolled": true
   },
   "outputs": [
    {
     "data": {
      "text/plain": [
       "<matplotlib.axes._subplots.AxesSubplot at 0x1b390b8c7b8>"
      ]
     },
     "execution_count": 9,
     "metadata": {},
     "output_type": "execute_result"
    },
    {
     "data": {
      "image/png": "[encoded data removed]",
      "text/plain": [
       "<matplotlib.figure.Figure at 0x1b381066fd0>"
      ]
     },
     "metadata": {},
     "output_type": "display_data"
    }
   ],
   "source": [
    "target = np.log(train_df['trip_duration'])\n",
    "sns.regplot(x='distance', y=target, data=train_df,\n",
    "           fit_reg=False)\n"
   ]
  },
  {
   "cell_type": "markdown",
   "metadata": {},
   "source": [
    "The plot did not satisfy our expectation of a regression line due to the outliers.<br>\n",
    "First we will need to remove them"
   ]
  },
  {
   "cell_type": "code",
   "execution_count": 12,
   "metadata": {},
   "outputs": [
    {
     "name": "stdout",
     "output_type": "stream",
     "text": [
      "(1458621, 10) (1458621,)\n"
     ]
    }
   ],
   "source": [
    "print(train_df.shape, target.shape)"
   ]
  },
  {
   "cell_type": "code",
   "execution_count": 10,
   "metadata": {},
   "outputs": [
    {
     "name": "stderr",
     "output_type": "stream",
     "text": [
      "C:\\Users\\Melan\\Anaconda3\\lib\\site-packages\\ipykernel_launcher.py:7: SettingWithCopyWarning: \n",
      "A value is trying to be set on a copy of a slice from a DataFrame\n",
      "\n",
      "See the caveats in the documentation: http://pandas.pydata.org/pandas-docs/stable/indexing.html#indexing-view-versus-copy\n",
      "  import sys\n"
     ]
    }
   ],
   "source": [
    "train_df = train_df[ train_df['distance'] < 100 ]\n",
    "\n",
    "# target and train_df should be same dimension so we should carefully delete the outlier in the y-axis\n",
    "target = np.log(train_df['trip_duration'])\n",
    "target = pd.DataFrame(target)\n",
    "outliers = target[target['trip_duration'] > 12].index.tolist()\n",
    "train_df.drop(outliers, inplace=True)\n",
    "target.drop(outliers, inplace=True)"
   ]
  },
  {
   "cell_type": "code",
   "execution_count": 14,
   "metadata": {},
   "outputs": [
    {
     "data": {
      "text/plain": [
       "(1458621, 10)"
      ]
     },
     "execution_count": 14,
     "metadata": {},
     "output_type": "execute_result"
    }
   ],
   "source": [
    "train_df.shape"
   ]
  },
  {
   "cell_type": "code",
   "execution_count": 15,
   "metadata": {
    "scrolled": true
   },
   "outputs": [
    {
     "data": {
      "text/plain": [
       "(1458621, 1)"
      ]
     },
     "execution_count": 15,
     "metadata": {},
     "output_type": "execute_result"
    }
   ],
   "source": [
    "target.shape"
   ]
  },
  {
   "cell_type": "code",
   "execution_count": 47,
   "metadata": {
    "scrolled": true
   },
   "outputs": [
    {
     "data": {
      "text/plain": [
       "<matplotlib.axes._subplots.AxesSubplot at 0x2b616003ac8>"
      ]
     },
     "execution_count": 47,
     "metadata": {},
     "output_type": "execute_result"
    },
    {
     "data": {
      "image/png": "[encoded data removed]",
      "text/plain": [
       "<matplotlib.figure.Figure at 0x2b615fca668>"
      ]
     },
     "metadata": {},
     "output_type": "display_data"
    }
   ],
   "source": [
    "sns.regplot(x='distance', y=target, data=train_df,\n",
    "           fit_reg=False)"
   ]
  },
  {
   "cell_type": "markdown",
   "metadata": {},
   "source": [
    "Let's look at what the regression line might look like (via fit_reg in seaborn)"
   ]
  },
  {
   "cell_type": "code",
   "execution_count": 46,
   "metadata": {
    "scrolled": true
   },
   "outputs": [
    {
     "ename": "ValueError",
     "evalue": "Argument dimensions are incompatible",
     "output_type": "error",
     "traceback": [
      "\u001b[1;31m---------------------------------------------------------------------------\u001b[0m",
      "\u001b[1;31mValueError\u001b[0m                                Traceback (most recent call last)",
      "\u001b[1;32m<ipython-input-46-110a63acc738>\u001b[0m in \u001b[0;36m<module>\u001b[1;34m()\u001b[0m\n\u001b[0;32m      1\u001b[0m sns.regplot(x='distance', y=target, data=train_df,\n\u001b[1;32m----> 2\u001b[1;33m            fit_reg=True)\n\u001b[0m",
      "\u001b[1;32mC:\\Users\\Melan\\Anaconda3\\lib\\site-packages\\seaborn\\linearmodels.py\u001b[0m in \u001b[0;36mregplot\u001b[1;34m(x, y, data, x_estimator, x_bins, x_ci, scatter, fit_reg, ci, n_boot, units, order, logistic, lowess, robust, logx, x_partial, y_partial, truncate, dropna, x_jitter, y_jitter, label, color, marker, scatter_kws, line_kws, ax)\u001b[0m\n\u001b[0;32m    777\u001b[0m     \u001b[0mscatter_kws\u001b[0m\u001b[1;33m[\u001b[0m\u001b[1;34m\"marker\"\u001b[0m\u001b[1;33m]\u001b[0m \u001b[1;33m=\u001b[0m \u001b[0mmarker\u001b[0m\u001b[1;33m\u001b[0m\u001b[0m\n\u001b[0;32m    778\u001b[0m     \u001b[0mline_kws\u001b[0m \u001b[1;33m=\u001b[0m \u001b[1;33m{\u001b[0m\u001b[1;33m}\u001b[0m \u001b[1;32mif\u001b[0m \u001b[0mline_kws\u001b[0m \u001b[1;32mis\u001b[0m \u001b[1;32mNone\u001b[0m \u001b[1;32melse\u001b[0m \u001b[0mcopy\u001b[0m\u001b[1;33m.\u001b[0m\u001b[0mcopy\u001b[0m\u001b[1;33m(\u001b[0m\u001b[0mline_kws\u001b[0m\u001b[1;33m)\u001b[0m\u001b[1;33m\u001b[0m\u001b[0m\n\u001b[1;32m--> 779\u001b[1;33m     \u001b[0mplotter\u001b[0m\u001b[1;33m.\u001b[0m\u001b[0mplot\u001b[0m\u001b[1;33m(\u001b[0m\u001b[0max\u001b[0m\u001b[1;33m,\u001b[0m \u001b[0mscatter_kws\u001b[0m\u001b[1;33m,\u001b[0m \u001b[0mline_kws\u001b[0m\u001b[1;33m)\u001b[0m\u001b[1;33m\u001b[0m\u001b[0m\n\u001b[0m\u001b[0;32m    780\u001b[0m     \u001b[1;32mreturn\u001b[0m \u001b[0max\u001b[0m\u001b[1;33m\u001b[0m\u001b[0m\n\u001b[0;32m    781\u001b[0m \u001b[1;33m\u001b[0m\u001b[0m\n",
      "\u001b[1;32mC:\\Users\\Melan\\Anaconda3\\lib\\site-packages\\seaborn\\linearmodels.py\u001b[0m in \u001b[0;36mplot\u001b[1;34m(self, ax, scatter_kws, line_kws)\u001b[0m\n\u001b[0;32m    330\u001b[0m             \u001b[0mself\u001b[0m\u001b[1;33m.\u001b[0m\u001b[0mscatterplot\u001b[0m\u001b[1;33m(\u001b[0m\u001b[0max\u001b[0m\u001b[1;33m,\u001b[0m \u001b[0mscatter_kws\u001b[0m\u001b[1;33m)\u001b[0m\u001b[1;33m\u001b[0m\u001b[0m\n\u001b[0;32m    331\u001b[0m         \u001b[1;32mif\u001b[0m \u001b[0mself\u001b[0m\u001b[1;33m.\u001b[0m\u001b[0mfit_reg\u001b[0m\u001b[1;33m:\u001b[0m\u001b[1;33m\u001b[0m\u001b[0m\n\u001b[1;32m--> 332\u001b[1;33m             \u001b[0mself\u001b[0m\u001b[1;33m.\u001b[0m\u001b[0mlineplot\u001b[0m\u001b[1;33m(\u001b[0m\u001b[0max\u001b[0m\u001b[1;33m,\u001b[0m \u001b[0mline_kws\u001b[0m\u001b[1;33m)\u001b[0m\u001b[1;33m\u001b[0m\u001b[0m\n\u001b[0m\u001b[0;32m    333\u001b[0m \u001b[1;33m\u001b[0m\u001b[0m\n\u001b[0;32m    334\u001b[0m         \u001b[1;31m# Label the axes\u001b[0m\u001b[1;33m\u001b[0m\u001b[1;33m\u001b[0m\u001b[0m\n",
      "\u001b[1;32mC:\\Users\\Melan\\Anaconda3\\lib\\site-packages\\seaborn\\linearmodels.py\u001b[0m in \u001b[0;36mlineplot\u001b[1;34m(self, ax, kws)\u001b[0m\n\u001b[0;32m    385\u001b[0m         \u001b[0max\u001b[0m\u001b[1;33m.\u001b[0m\u001b[0mplot\u001b[0m\u001b[1;33m(\u001b[0m\u001b[0mgrid\u001b[0m\u001b[1;33m,\u001b[0m \u001b[0myhat\u001b[0m\u001b[1;33m,\u001b[0m \u001b[1;33m**\u001b[0m\u001b[0mkws\u001b[0m\u001b[1;33m)\u001b[0m\u001b[1;33m\u001b[0m\u001b[0m\n\u001b[0;32m    386\u001b[0m         \u001b[1;32mif\u001b[0m \u001b[0merr_bands\u001b[0m \u001b[1;32mis\u001b[0m \u001b[1;32mnot\u001b[0m \u001b[1;32mNone\u001b[0m\u001b[1;33m:\u001b[0m\u001b[1;33m\u001b[0m\u001b[0m\n\u001b[1;32m--> 387\u001b[1;33m             \u001b[0max\u001b[0m\u001b[1;33m.\u001b[0m\u001b[0mfill_between\u001b[0m\u001b[1;33m(\u001b[0m\u001b[0mgrid\u001b[0m\u001b[1;33m,\u001b[0m \u001b[1;33m*\u001b[0m\u001b[0merr_bands\u001b[0m\u001b[1;33m,\u001b[0m \u001b[0mfacecolor\u001b[0m\u001b[1;33m=\u001b[0m\u001b[0mfill_color\u001b[0m\u001b[1;33m,\u001b[0m \u001b[0malpha\u001b[0m\u001b[1;33m=\u001b[0m\u001b[1;36m.15\u001b[0m\u001b[1;33m)\u001b[0m\u001b[1;33m\u001b[0m\u001b[0m\n\u001b[0m\u001b[0;32m    388\u001b[0m         \u001b[0max\u001b[0m\u001b[1;33m.\u001b[0m\u001b[0mset_xlim\u001b[0m\u001b[1;33m(\u001b[0m\u001b[1;33m*\u001b[0m\u001b[0mxlim\u001b[0m\u001b[1;33m)\u001b[0m\u001b[1;33m\u001b[0m\u001b[0m\n\u001b[0;32m    389\u001b[0m \u001b[1;33m\u001b[0m\u001b[0m\n",
      "\u001b[1;32mC:\\Users\\Melan\\Anaconda3\\lib\\site-packages\\matplotlib\\__init__.py\u001b[0m in \u001b[0;36minner\u001b[1;34m(ax, *args, **kwargs)\u001b[0m\n\u001b[0;32m   1895\u001b[0m                     warnings.warn(msg % (label_namer, func.__name__),\n\u001b[0;32m   1896\u001b[0m                                   RuntimeWarning, stacklevel=2)\n\u001b[1;32m-> 1897\u001b[1;33m             \u001b[1;32mreturn\u001b[0m \u001b[0mfunc\u001b[0m\u001b[1;33m(\u001b[0m\u001b[0max\u001b[0m\u001b[1;33m,\u001b[0m \u001b[1;33m*\u001b[0m\u001b[0margs\u001b[0m\u001b[1;33m,\u001b[0m \u001b[1;33m**\u001b[0m\u001b[0mkwargs\u001b[0m\u001b[1;33m)\u001b[0m\u001b[1;33m\u001b[0m\u001b[0m\n\u001b[0m\u001b[0;32m   1898\u001b[0m         \u001b[0mpre_doc\u001b[0m \u001b[1;33m=\u001b[0m \u001b[0minner\u001b[0m\u001b[1;33m.\u001b[0m\u001b[0m__doc__\u001b[0m\u001b[1;33m\u001b[0m\u001b[0m\n\u001b[0;32m   1899\u001b[0m         \u001b[1;32mif\u001b[0m \u001b[0mpre_doc\u001b[0m \u001b[1;32mis\u001b[0m \u001b[1;32mNone\u001b[0m\u001b[1;33m:\u001b[0m\u001b[1;33m\u001b[0m\u001b[0m\n",
      "\u001b[1;32mC:\\Users\\Melan\\Anaconda3\\lib\\site-packages\\matplotlib\\axes\\_axes.py\u001b[0m in \u001b[0;36mfill_between\u001b[1;34m(self, x, y1, y2, where, interpolate, step, **kwargs)\u001b[0m\n\u001b[0;32m   4791\u001b[0m \u001b[1;33m\u001b[0m\u001b[0m\n\u001b[0;32m   4792\u001b[0m         \u001b[1;32mif\u001b[0m \u001b[1;32mnot\u001b[0m \u001b[1;33m(\u001b[0m\u001b[0mx\u001b[0m\u001b[1;33m.\u001b[0m\u001b[0mshape\u001b[0m \u001b[1;33m==\u001b[0m \u001b[0my1\u001b[0m\u001b[1;33m.\u001b[0m\u001b[0mshape\u001b[0m \u001b[1;33m==\u001b[0m \u001b[0my2\u001b[0m\u001b[1;33m.\u001b[0m\u001b[0mshape\u001b[0m \u001b[1;33m==\u001b[0m \u001b[0mwhere\u001b[0m\u001b[1;33m.\u001b[0m\u001b[0mshape\u001b[0m\u001b[1;33m)\u001b[0m\u001b[1;33m:\u001b[0m\u001b[1;33m\u001b[0m\u001b[0m\n\u001b[1;32m-> 4793\u001b[1;33m             \u001b[1;32mraise\u001b[0m \u001b[0mValueError\u001b[0m\u001b[1;33m(\u001b[0m\u001b[1;34m\"Argument dimensions are incompatible\"\u001b[0m\u001b[1;33m)\u001b[0m\u001b[1;33m\u001b[0m\u001b[0m\n\u001b[0m\u001b[0;32m   4794\u001b[0m \u001b[1;33m\u001b[0m\u001b[0m\n\u001b[0;32m   4795\u001b[0m         \u001b[0mmask\u001b[0m \u001b[1;33m=\u001b[0m \u001b[0mreduce\u001b[0m\u001b[1;33m(\u001b[0m\u001b[0mma\u001b[0m\u001b[1;33m.\u001b[0m\u001b[0mmask_or\u001b[0m\u001b[1;33m,\u001b[0m \u001b[1;33m[\u001b[0m\u001b[0mma\u001b[0m\u001b[1;33m.\u001b[0m\u001b[0mgetmask\u001b[0m\u001b[1;33m(\u001b[0m\u001b[0ma\u001b[0m\u001b[1;33m)\u001b[0m \u001b[1;32mfor\u001b[0m \u001b[0ma\u001b[0m \u001b[1;32min\u001b[0m \u001b[1;33m(\u001b[0m\u001b[0mx\u001b[0m\u001b[1;33m,\u001b[0m \u001b[0my1\u001b[0m\u001b[1;33m,\u001b[0m \u001b[0my2\u001b[0m\u001b[1;33m)\u001b[0m\u001b[1;33m]\u001b[0m\u001b[1;33m)\u001b[0m\u001b[1;33m\u001b[0m\u001b[0m\n",
      "\u001b[1;31mValueError\u001b[0m: Argument dimensions are incompatible"
     ]
    },
    {
     "data": {
      "image/png": "[encoded data removed]",
      "text/plain": [
       "<matplotlib.figure.Figure at 0x2b614cf0b00>"
      ]
     },
     "metadata": {},
     "output_type": "display_data"
    }
   ],
   "source": [
    "# sns.regplot(x='distance', y=target, data=train_df,\n",
    "#            fit_reg=True)"
   ]
  },
  {
   "cell_type": "markdown",
   "metadata": {},
   "source": [
    "The regression fail to predict a lot of values. <br>\n",
    "We will look if applying a function to the distance will end up with a better regression line."
   ]
  },
  {
   "cell_type": "code",
   "execution_count": 50,
   "metadata": {
    "scrolled": true
   },
   "outputs": [
    {
     "data": {
      "text/plain": [
       "<matplotlib.axes._subplots.AxesSubplot at 0x2b614b1c518>"
      ]
     },
     "execution_count": 50,
     "metadata": {},
     "output_type": "execute_result"
    },
    {
     "data": {
      "image/png": "[encoded data removed]",
      "text/plain": [
       "<matplotlib.figure.Figure at 0x2b61620c278>"
      ]
     },
     "metadata": {},
     "output_type": "display_data"
    }
   ],
   "source": [
    "# target = np.log(train_df['trip_duration'])\n",
    "dist_log = np.sqrt(train_df['distance'])\n",
    "sns.regplot(x=dist_log, y=target, data=train_df,\n",
    "           fit_reg=False)"
   ]
  },
  {
   "cell_type": "markdown",
   "metadata": {},
   "source": [
    "The sqrt function seems to be a better choice. <br>\n",
    "We will use that function and apply it to the distance feature."
   ]
  },
  {
   "cell_type": "code",
   "execution_count": 3,
   "metadata": {
    "collapsed": true
   },
   "outputs": [],
   "source": [
    "# Transform distance feature\n",
    "def transform_distance(dataset):\n",
    "    dataset['sqrt_distance'] = np.sqrt(dataset['distance'])    \n",
    "    dataset.drop(['distance'], axis=1, inplace=True)\n",
    "\n",
    "transform_distance(train_df)\n",
    "transform_distance(test_df)\n"
   ]
  },
  {
   "cell_type": "code",
   "execution_count": null,
   "metadata": {
    "collapsed": true
   },
   "outputs": [],
   "source": [
    "# target = np.log(train_df['trip_duration'])\n",
    "# dist_log = np.sqrt(train_df['distance'])\n",
    "# sns.regplot(x=dist_log, y=target, data=train_df,\n",
    "#            fit_reg=True)"
   ]
  },
  {
   "cell_type": "markdown",
   "metadata": {},
   "source": [
    "<u>Datetime</u>"
   ]
  },
  {
   "cell_type": "markdown",
   "metadata": {},
   "source": [
    "In the same way when we try to get information out off the pickup_datetime feature, we will extend this to the dropoff datetime and apply the same transformation to the test set."
   ]
  },
  {
   "cell_type": "code",
   "execution_count": 51,
   "metadata": {
    "collapsed": true
   },
   "outputs": [],
   "source": [
    "train_df.drop(['dropoff_datetime','DayOfWeekNum', 'Month', 'DayOfMonth', 'HourOfDay'], axis=1, inplace=True)"
   ]
  },
  {
   "cell_type": "code",
   "execution_count": 52,
   "metadata": {
    "collapsed": true
   },
   "outputs": [],
   "source": [
    "def transform_datetime(dataset):\n",
    "    # convert column to datetime type\n",
    "    dataset['pickup_datetime'] = pd.to_datetime(dataset['pickup_datetime'], \\\n",
    "                    format=\"%Y-%m-%d %H:%M:%S\")\n",
    "    \n",
    "    # Extract weekday number (from Monday=0 to Sunday=6)\n",
    "    dataset['Pickup_NumDayWeek'] = dataset['pickup_datetime'].dt.dayofweek\n",
    "    \n",
    "    # Extract Month \n",
    "    dataset['Month'] = dataset['pickup_datetime'].dt.month\n",
    "    \n",
    "    # Extract the Month's pickup day from 0 to 31\n",
    "    dataset['Pickup_Day'] = dataset['pickup_datetime'].dt.day\n",
    "        \n",
    "    # Extract the pickup Hour/Minute/Seconds\n",
    "    dataset['Pickup_Hour'] = dataset['pickup_datetime'].dt.hour\n",
    "#     dataset['Pickup_Minute'] = dataset['pickup_datetime'].dt.minute\n",
    "#     dataset['Pickup_Second'] = dataset['pickup_datetime'].dt.second\n",
    "    \n",
    "    \n",
    "    \n",
    "    dataset = dataset.drop( ['pickup_datetime'], axis=1, inplace=True )\n",
    "    \n",
    "transform_datetime(train_df)\n",
    "transform_datetime(test_df)"
   ]
  },
  {
   "cell_type": "code",
   "execution_count": 53,
   "metadata": {},
   "outputs": [
    {
     "data": {
      "text/plain": [
       "Index(['id', 'vendor_id', 'passenger_count', 'store_and_fwd_flag', 'distance',\n",
       "       'Pickup_NumDayWeek', 'Month', 'Pickup_Day', 'Pickup_Hour'],\n",
       "      dtype='object')"
      ]
     },
     "execution_count": 53,
     "metadata": {},
     "output_type": "execute_result"
    }
   ],
   "source": [
    "test_df.columns"
   ]
  },
  {
   "cell_type": "code",
   "execution_count": 54,
   "metadata": {
    "scrolled": true
   },
   "outputs": [
    {
     "data": {
      "text/html": [
       "<div>\n",
       "<style>\n",
       "    .dataframe thead tr:only-child th {\n",
       "        text-align: right;\n",
       "    }\n",
       "\n",
       "    .dataframe thead th {\n",
       "        text-align: left;\n",
       "    }\n",
       "\n",
       "    .dataframe tbody tr th {\n",
       "        vertical-align: top;\n",
       "    }\n",
       "</style>\n",
       "<table border=\"1\" class=\"dataframe\">\n",
       "  <thead>\n",
       "    <tr style=\"text-align: right;\">\n",
       "      <th></th>\n",
       "      <th>id</th>\n",
       "      <th>vendor_id</th>\n",
       "      <th>passenger_count</th>\n",
       "      <th>store_and_fwd_flag</th>\n",
       "      <th>trip_duration</th>\n",
       "      <th>distance</th>\n",
       "      <th>Pickup_NumDayWeek</th>\n",
       "      <th>Month</th>\n",
       "      <th>Pickup_Day</th>\n",
       "      <th>Pickup_Hour</th>\n",
       "    </tr>\n",
       "  </thead>\n",
       "  <tbody>\n",
       "    <tr>\n",
       "      <th>0</th>\n",
       "      <td>id2875421</td>\n",
       "      <td>2</td>\n",
       "      <td>1</td>\n",
       "      <td>N</td>\n",
       "      <td>455</td>\n",
       "      <td>1.498943</td>\n",
       "      <td>0</td>\n",
       "      <td>3</td>\n",
       "      <td>14</td>\n",
       "      <td>17</td>\n",
       "    </tr>\n",
       "    <tr>\n",
       "      <th>1</th>\n",
       "      <td>id2377394</td>\n",
       "      <td>1</td>\n",
       "      <td>1</td>\n",
       "      <td>N</td>\n",
       "      <td>663</td>\n",
       "      <td>1.806016</td>\n",
       "      <td>6</td>\n",
       "      <td>6</td>\n",
       "      <td>12</td>\n",
       "      <td>0</td>\n",
       "    </tr>\n",
       "    <tr>\n",
       "      <th>2</th>\n",
       "      <td>id3858529</td>\n",
       "      <td>2</td>\n",
       "      <td>1</td>\n",
       "      <td>N</td>\n",
       "      <td>2124</td>\n",
       "      <td>6.386897</td>\n",
       "      <td>1</td>\n",
       "      <td>1</td>\n",
       "      <td>19</td>\n",
       "      <td>11</td>\n",
       "    </tr>\n",
       "    <tr>\n",
       "      <th>3</th>\n",
       "      <td>id3504673</td>\n",
       "      <td>2</td>\n",
       "      <td>1</td>\n",
       "      <td>N</td>\n",
       "      <td>429</td>\n",
       "      <td>1.485917</td>\n",
       "      <td>2</td>\n",
       "      <td>4</td>\n",
       "      <td>6</td>\n",
       "      <td>19</td>\n",
       "    </tr>\n",
       "    <tr>\n",
       "      <th>4</th>\n",
       "      <td>id2181028</td>\n",
       "      <td>2</td>\n",
       "      <td>1</td>\n",
       "      <td>N</td>\n",
       "      <td>435</td>\n",
       "      <td>1.188923</td>\n",
       "      <td>5</td>\n",
       "      <td>3</td>\n",
       "      <td>26</td>\n",
       "      <td>13</td>\n",
       "    </tr>\n",
       "  </tbody>\n",
       "</table>\n",
       "</div>"
      ],
      "text/plain": [
       "          id  vendor_id  passenger_count store_and_fwd_flag  trip_duration  \\\n",
       "0  id2875421          2                1                  N            455   \n",
       "1  id2377394          1                1                  N            663   \n",
       "2  id3858529          2                1                  N           2124   \n",
       "3  id3504673          2                1                  N            429   \n",
       "4  id2181028          2                1                  N            435   \n",
       "\n",
       "   distance  Pickup_NumDayWeek  Month  Pickup_Day  Pickup_Hour  \n",
       "0  1.498943                  0      3          14           17  \n",
       "1  1.806016                  6      6          12            0  \n",
       "2  6.386897                  1      1          19           11  \n",
       "3  1.485917                  2      4           6           19  \n",
       "4  1.188923                  5      3          26           13  "
      ]
     },
     "execution_count": 54,
     "metadata": {},
     "output_type": "execute_result"
    }
   ],
   "source": [
    "train_df.head()"
   ]
  },
  {
   "cell_type": "markdown",
   "metadata": {},
   "source": [
    "<u>store_and_fwd_flag</u>"
   ]
  },
  {
   "cell_type": "code",
   "execution_count": 55,
   "metadata": {},
   "outputs": [
    {
     "data": {
      "text/plain": [
       "N    1450576\n",
       "Y       8045\n",
       "Name: store_and_fwd_flag, dtype: int64"
      ]
     },
     "execution_count": 55,
     "metadata": {},
     "output_type": "execute_result"
    }
   ],
   "source": [
    "train_df['store_and_fwd_flag'].value_counts()"
   ]
  },
  {
   "cell_type": "code",
   "execution_count": 56,
   "metadata": {},
   "outputs": [
    {
     "data": {
      "text/plain": [
       "N    621704\n",
       "Y      3430\n",
       "Name: store_and_fwd_flag, dtype: int64"
      ]
     },
     "execution_count": 56,
     "metadata": {},
     "output_type": "execute_result"
    }
   ],
   "source": [
    "test_df['store_and_fwd_flag'].value_counts()"
   ]
  },
  {
   "cell_type": "code",
   "execution_count": 57,
   "metadata": {
    "collapsed": true
   },
   "outputs": [],
   "source": [
    "def transform_store_and_fwd_flag(dataset):\n",
    "    dataset['store_and_fwd_flag'] = dataset['store_and_fwd_flag'].map( {'Y': 1, 'N': 0} ).astype(int)\n",
    "\n",
    "transform_store_and_fwd_flag(train_df)\n",
    "transform_store_and_fwd_flag(test_df)"
   ]
  },
  {
   "cell_type": "code",
   "execution_count": 58,
   "metadata": {},
   "outputs": [
    {
     "data": {
      "text/html": [
       "<div>\n",
       "<style>\n",
       "    .dataframe thead tr:only-child th {\n",
       "        text-align: right;\n",
       "    }\n",
       "\n",
       "    .dataframe thead th {\n",
       "        text-align: left;\n",
       "    }\n",
       "\n",
       "    .dataframe tbody tr th {\n",
       "        vertical-align: top;\n",
       "    }\n",
       "</style>\n",
       "<table border=\"1\" class=\"dataframe\">\n",
       "  <thead>\n",
       "    <tr style=\"text-align: right;\">\n",
       "      <th></th>\n",
       "      <th>id</th>\n",
       "      <th>vendor_id</th>\n",
       "      <th>passenger_count</th>\n",
       "      <th>store_and_fwd_flag</th>\n",
       "      <th>trip_duration</th>\n",
       "      <th>distance</th>\n",
       "      <th>Pickup_NumDayWeek</th>\n",
       "      <th>Month</th>\n",
       "      <th>Pickup_Day</th>\n",
       "      <th>Pickup_Hour</th>\n",
       "    </tr>\n",
       "  </thead>\n",
       "  <tbody>\n",
       "    <tr>\n",
       "      <th>0</th>\n",
       "      <td>id2875421</td>\n",
       "      <td>2</td>\n",
       "      <td>1</td>\n",
       "      <td>0</td>\n",
       "      <td>455</td>\n",
       "      <td>1.498943</td>\n",
       "      <td>0</td>\n",
       "      <td>3</td>\n",
       "      <td>14</td>\n",
       "      <td>17</td>\n",
       "    </tr>\n",
       "    <tr>\n",
       "      <th>1</th>\n",
       "      <td>id2377394</td>\n",
       "      <td>1</td>\n",
       "      <td>1</td>\n",
       "      <td>0</td>\n",
       "      <td>663</td>\n",
       "      <td>1.806016</td>\n",
       "      <td>6</td>\n",
       "      <td>6</td>\n",
       "      <td>12</td>\n",
       "      <td>0</td>\n",
       "    </tr>\n",
       "    <tr>\n",
       "      <th>2</th>\n",
       "      <td>id3858529</td>\n",
       "      <td>2</td>\n",
       "      <td>1</td>\n",
       "      <td>0</td>\n",
       "      <td>2124</td>\n",
       "      <td>6.386897</td>\n",
       "      <td>1</td>\n",
       "      <td>1</td>\n",
       "      <td>19</td>\n",
       "      <td>11</td>\n",
       "    </tr>\n",
       "    <tr>\n",
       "      <th>3</th>\n",
       "      <td>id3504673</td>\n",
       "      <td>2</td>\n",
       "      <td>1</td>\n",
       "      <td>0</td>\n",
       "      <td>429</td>\n",
       "      <td>1.485917</td>\n",
       "      <td>2</td>\n",
       "      <td>4</td>\n",
       "      <td>6</td>\n",
       "      <td>19</td>\n",
       "    </tr>\n",
       "    <tr>\n",
       "      <th>4</th>\n",
       "      <td>id2181028</td>\n",
       "      <td>2</td>\n",
       "      <td>1</td>\n",
       "      <td>0</td>\n",
       "      <td>435</td>\n",
       "      <td>1.188923</td>\n",
       "      <td>5</td>\n",
       "      <td>3</td>\n",
       "      <td>26</td>\n",
       "      <td>13</td>\n",
       "    </tr>\n",
       "  </tbody>\n",
       "</table>\n",
       "</div>"
      ],
      "text/plain": [
       "          id  vendor_id  passenger_count  store_and_fwd_flag  trip_duration  \\\n",
       "0  id2875421          2                1                   0            455   \n",
       "1  id2377394          1                1                   0            663   \n",
       "2  id3858529          2                1                   0           2124   \n",
       "3  id3504673          2                1                   0            429   \n",
       "4  id2181028          2                1                   0            435   \n",
       "\n",
       "   distance  Pickup_NumDayWeek  Month  Pickup_Day  Pickup_Hour  \n",
       "0  1.498943                  0      3          14           17  \n",
       "1  1.806016                  6      6          12            0  \n",
       "2  6.386897                  1      1          19           11  \n",
       "3  1.485917                  2      4           6           19  \n",
       "4  1.188923                  5      3          26           13  "
      ]
     },
     "execution_count": 58,
     "metadata": {},
     "output_type": "execute_result"
    }
   ],
   "source": [
    "train_df.head()"
   ]
  },
  {
   "cell_type": "code",
   "execution_count": 6,
   "metadata": {},
   "outputs": [
    {
     "data": {
      "image/png": "[encoded data removed]",
      "text/plain": [
       "<matplotlib.figure.Figure at 0x298343d1710>"
      ]
     },
     "metadata": {},
     "output_type": "display_data"
    }
   ],
   "source": [
    "corr = train_df.drop(['id'], axis=1).corr()\n",
    "corr_df = pd.DataFrame(corr['trip_duration'].sort_values(ascending=False))[1:]\n",
    "corr_df.columns = ['Correlation']\n",
    "corr_df.index.name = 'Feature'\n",
    "\n",
    "ax = sns.barplot(x=corr_df.index, y='Correlation', data=corr_df)\n",
    "ax.set(ylabel='Correlation')\n",
    "plt.xticks(rotation=90)\n",
    "plt.title('Correlation with trip duration', size=15)\n",
    "plt.show()"
   ]
  },
  {
   "cell_type": "code",
   "execution_count": 60,
   "metadata": {},
   "outputs": [
    {
     "data": {
      "text/plain": [
       "vendor_id             0.035805\n",
       "passenger_count       0.015450\n",
       "store_and_fwd_flag    0.003006\n",
       "trip_duration         1.000000\n",
       "distance              0.164901\n",
       "Pickup_NumDayWeek    -0.001413\n",
       "Month                 0.013354\n",
       "Pickup_Day            0.002353\n",
       "Pickup_Hour           0.005969\n",
       "Name: trip_duration, dtype: float64"
      ]
     },
     "execution_count": 60,
     "metadata": {},
     "output_type": "execute_result"
    }
   ],
   "source": [
    "corr['trip_duration']"
   ]
  },
  {
   "cell_type": "markdown",
   "metadata": {},
   "source": [
    "<h3 style=\"text-align:center\">Saving train and test set (checkpoint)</h3>"
   ]
  },
  {
   "cell_type": "markdown",
   "metadata": {},
   "source": [
    "<u>Saving</u>"
   ]
  },
  {
   "cell_type": "code",
   "execution_count": 17,
   "metadata": {
    "collapsed": true
   },
   "outputs": [],
   "source": [
    "# Saving into pickle file\n",
    "train_df.to_pickle('train_df.p')\n",
    "test_df.to_pickle('test_df.p')\n",
    "\n",
    "target.to_pickle('target.p')"
   ]
  },
  {
   "cell_type": "markdown",
   "metadata": {},
   "source": [
    "<u>Loading</u>"
   ]
  },
  {
   "cell_type": "code",
   "execution_count": 2,
   "metadata": {
    "collapsed": true
   },
   "outputs": [],
   "source": [
    "# Loading the pickle file, analysis can start here and we don't have to process the previous code each time we come back\n",
    "train_df = pd.read_pickle('train_df.p')\n",
    "test_df = pd.read_pickle('test_df.p')\n",
    "target  = pd.read_pickle('target.p')"
   ]
  },
  {
   "cell_type": "code",
   "execution_count": 4,
   "metadata": {
    "scrolled": true
   },
   "outputs": [
    {
     "data": {
      "text/html": [
       "<div>\n",
       "<style>\n",
       "    .dataframe thead tr:only-child th {\n",
       "        text-align: right;\n",
       "    }\n",
       "\n",
       "    .dataframe thead th {\n",
       "        text-align: left;\n",
       "    }\n",
       "\n",
       "    .dataframe tbody tr th {\n",
       "        vertical-align: top;\n",
       "    }\n",
       "</style>\n",
       "<table border=\"1\" class=\"dataframe\">\n",
       "  <thead>\n",
       "    <tr style=\"text-align: right;\">\n",
       "      <th></th>\n",
       "      <th>id</th>\n",
       "      <th>vendor_id</th>\n",
       "      <th>passenger_count</th>\n",
       "      <th>store_and_fwd_flag</th>\n",
       "      <th>trip_duration</th>\n",
       "      <th>Pickup_NumDayWeek</th>\n",
       "      <th>Month</th>\n",
       "      <th>Pickup_Day</th>\n",
       "      <th>Pickup_Hour</th>\n",
       "      <th>sqrt_distance</th>\n",
       "    </tr>\n",
       "  </thead>\n",
       "  <tbody>\n",
       "    <tr>\n",
       "      <th>0</th>\n",
       "      <td>id2875421</td>\n",
       "      <td>2</td>\n",
       "      <td>1</td>\n",
       "      <td>0</td>\n",
       "      <td>455</td>\n",
       "      <td>0</td>\n",
       "      <td>3</td>\n",
       "      <td>14</td>\n",
       "      <td>17</td>\n",
       "      <td>1.224313</td>\n",
       "    </tr>\n",
       "    <tr>\n",
       "      <th>1</th>\n",
       "      <td>id2377394</td>\n",
       "      <td>1</td>\n",
       "      <td>1</td>\n",
       "      <td>0</td>\n",
       "      <td>663</td>\n",
       "      <td>6</td>\n",
       "      <td>6</td>\n",
       "      <td>12</td>\n",
       "      <td>0</td>\n",
       "      <td>1.343881</td>\n",
       "    </tr>\n",
       "    <tr>\n",
       "      <th>2</th>\n",
       "      <td>id3858529</td>\n",
       "      <td>2</td>\n",
       "      <td>1</td>\n",
       "      <td>0</td>\n",
       "      <td>2124</td>\n",
       "      <td>1</td>\n",
       "      <td>1</td>\n",
       "      <td>19</td>\n",
       "      <td>11</td>\n",
       "      <td>2.527231</td>\n",
       "    </tr>\n",
       "    <tr>\n",
       "      <th>3</th>\n",
       "      <td>id3504673</td>\n",
       "      <td>2</td>\n",
       "      <td>1</td>\n",
       "      <td>0</td>\n",
       "      <td>429</td>\n",
       "      <td>2</td>\n",
       "      <td>4</td>\n",
       "      <td>6</td>\n",
       "      <td>19</td>\n",
       "      <td>1.218982</td>\n",
       "    </tr>\n",
       "    <tr>\n",
       "      <th>4</th>\n",
       "      <td>id2181028</td>\n",
       "      <td>2</td>\n",
       "      <td>1</td>\n",
       "      <td>0</td>\n",
       "      <td>435</td>\n",
       "      <td>5</td>\n",
       "      <td>3</td>\n",
       "      <td>26</td>\n",
       "      <td>13</td>\n",
       "      <td>1.090378</td>\n",
       "    </tr>\n",
       "  </tbody>\n",
       "</table>\n",
       "</div>"
      ],
      "text/plain": [
       "          id  vendor_id  passenger_count  store_and_fwd_flag  trip_duration  \\\n",
       "0  id2875421          2                1                   0            455   \n",
       "1  id2377394          1                1                   0            663   \n",
       "2  id3858529          2                1                   0           2124   \n",
       "3  id3504673          2                1                   0            429   \n",
       "4  id2181028          2                1                   0            435   \n",
       "\n",
       "   Pickup_NumDayWeek  Month  Pickup_Day  Pickup_Hour  sqrt_distance  \n",
       "0                  0      3          14           17       1.224313  \n",
       "1                  6      6          12            0       1.343881  \n",
       "2                  1      1          19           11       2.527231  \n",
       "3                  2      4           6           19       1.218982  \n",
       "4                  5      3          26           13       1.090378  "
      ]
     },
     "execution_count": 4,
     "metadata": {},
     "output_type": "execute_result"
    }
   ],
   "source": [
    "train_df.head()"
   ]
  },
  {
   "cell_type": "code",
   "execution_count": 5,
   "metadata": {},
   "outputs": [
    {
     "data": {
      "text/html": [
       "<div>\n",
       "<style>\n",
       "    .dataframe thead tr:only-child th {\n",
       "        text-align: right;\n",
       "    }\n",
       "\n",
       "    .dataframe thead th {\n",
       "        text-align: left;\n",
       "    }\n",
       "\n",
       "    .dataframe tbody tr th {\n",
       "        vertical-align: top;\n",
       "    }\n",
       "</style>\n",
       "<table border=\"1\" class=\"dataframe\">\n",
       "  <thead>\n",
       "    <tr style=\"text-align: right;\">\n",
       "      <th></th>\n",
       "      <th>id</th>\n",
       "      <th>vendor_id</th>\n",
       "      <th>passenger_count</th>\n",
       "      <th>store_and_fwd_flag</th>\n",
       "      <th>Pickup_NumDayWeek</th>\n",
       "      <th>Month</th>\n",
       "      <th>Pickup_Day</th>\n",
       "      <th>Pickup_Hour</th>\n",
       "      <th>sqrt_distance</th>\n",
       "    </tr>\n",
       "  </thead>\n",
       "  <tbody>\n",
       "    <tr>\n",
       "      <th>0</th>\n",
       "      <td>id3004672</td>\n",
       "      <td>1</td>\n",
       "      <td>1</td>\n",
       "      <td>0</td>\n",
       "      <td>3</td>\n",
       "      <td>6</td>\n",
       "      <td>30</td>\n",
       "      <td>23</td>\n",
       "      <td>1.657468</td>\n",
       "    </tr>\n",
       "    <tr>\n",
       "      <th>1</th>\n",
       "      <td>id3505355</td>\n",
       "      <td>1</td>\n",
       "      <td>1</td>\n",
       "      <td>0</td>\n",
       "      <td>3</td>\n",
       "      <td>6</td>\n",
       "      <td>30</td>\n",
       "      <td>23</td>\n",
       "      <td>1.661330</td>\n",
       "    </tr>\n",
       "    <tr>\n",
       "      <th>2</th>\n",
       "      <td>id1217141</td>\n",
       "      <td>1</td>\n",
       "      <td>1</td>\n",
       "      <td>0</td>\n",
       "      <td>3</td>\n",
       "      <td>6</td>\n",
       "      <td>30</td>\n",
       "      <td>23</td>\n",
       "      <td>1.143033</td>\n",
       "    </tr>\n",
       "    <tr>\n",
       "      <th>3</th>\n",
       "      <td>id2150126</td>\n",
       "      <td>2</td>\n",
       "      <td>1</td>\n",
       "      <td>0</td>\n",
       "      <td>3</td>\n",
       "      <td>6</td>\n",
       "      <td>30</td>\n",
       "      <td>23</td>\n",
       "      <td>2.295773</td>\n",
       "    </tr>\n",
       "    <tr>\n",
       "      <th>4</th>\n",
       "      <td>id1598245</td>\n",
       "      <td>1</td>\n",
       "      <td>1</td>\n",
       "      <td>0</td>\n",
       "      <td>3</td>\n",
       "      <td>6</td>\n",
       "      <td>30</td>\n",
       "      <td>23</td>\n",
       "      <td>0.980363</td>\n",
       "    </tr>\n",
       "  </tbody>\n",
       "</table>\n",
       "</div>"
      ],
      "text/plain": [
       "          id  vendor_id  passenger_count  store_and_fwd_flag  \\\n",
       "0  id3004672          1                1                   0   \n",
       "1  id3505355          1                1                   0   \n",
       "2  id1217141          1                1                   0   \n",
       "3  id2150126          2                1                   0   \n",
       "4  id1598245          1                1                   0   \n",
       "\n",
       "   Pickup_NumDayWeek  Month  Pickup_Day  Pickup_Hour  sqrt_distance  \n",
       "0                  3      6          30           23       1.657468  \n",
       "1                  3      6          30           23       1.661330  \n",
       "2                  3      6          30           23       1.143033  \n",
       "3                  3      6          30           23       2.295773  \n",
       "4                  3      6          30           23       0.980363  "
      ]
     },
     "execution_count": 5,
     "metadata": {},
     "output_type": "execute_result"
    }
   ],
   "source": [
    "test_df.head()"
   ]
  },
  {
   "cell_type": "code",
   "execution_count": 17,
   "metadata": {},
   "outputs": [
    {
     "data": {
      "text/plain": [
       "(625134, 9)"
      ]
     },
     "execution_count": 17,
     "metadata": {},
     "output_type": "execute_result"
    }
   ],
   "source": [
    "test_df.shape"
   ]
  },
  {
   "cell_type": "code",
   "execution_count": 18,
   "metadata": {},
   "outputs": [
    {
     "data": {
      "text/plain": [
       "(1458621, 10)"
      ]
     },
     "execution_count": 18,
     "metadata": {},
     "output_type": "execute_result"
    }
   ],
   "source": [
    "train_df.shape"
   ]
  },
  {
   "cell_type": "code",
   "execution_count": 4,
   "metadata": {},
   "outputs": [
    {
     "data": {
      "text/plain": [
       "XGBRegressor(base_score=0.5, colsample_bylevel=1, colsample_bytree=1, gamma=0,\n",
       "       learning_rate=0.1, max_delta_step=0, max_depth=3,\n",
       "       min_child_weight=1, missing=None, n_estimators=100, nthread=-1,\n",
       "       objective='reg:linear', reg_alpha=0, reg_lambda=1,\n",
       "       scale_pos_weight=1, seed=0, silent=True, subsample=1)"
      ]
     },
     "execution_count": 4,
     "metadata": {},
     "output_type": "execute_result"
    }
   ],
   "source": []
  },
  {
   "cell_type": "markdown",
   "metadata": {},
   "source": [
    "<h3 style=\"text-align:center\">Split-out dataset</h3>"
   ]
  },
  {
   "cell_type": "code",
   "execution_count": 28,
   "metadata": {},
   "outputs": [
    {
     "data": {
      "text/plain": [
       "(1458621, 10)"
      ]
     },
     "execution_count": 28,
     "metadata": {},
     "output_type": "execute_result"
    }
   ],
   "source": [
    "train_df.shape"
   ]
  },
  {
   "cell_type": "code",
   "execution_count": 45,
   "metadata": {},
   "outputs": [
    {
     "data": {
      "text/plain": [
       "145862"
      ]
     },
     "execution_count": 45,
     "metadata": {},
     "output_type": "execute_result"
    }
   ],
   "source": [
    "int(train_df.shape[0] / 10)"
   ]
  },
  {
   "cell_type": "code",
   "execution_count": 46,
   "metadata": {},
   "outputs": [
    {
     "data": {
      "text/plain": [
       "(1458621, 1)"
      ]
     },
     "execution_count": 46,
     "metadata": {},
     "output_type": "execute_result"
    }
   ],
   "source": [
    "target.shape"
   ]
  },
  {
   "cell_type": "code",
   "execution_count": 50,
   "metadata": {},
   "outputs": [
    {
     "data": {
      "text/plain": [
       "(14586, 10)"
      ]
     },
     "execution_count": 50,
     "metadata": {},
     "output_type": "execute_result"
    }
   ],
   "source": [
    "train_df.iloc[:int(train_df.shape[0] / 100)].shape"
   ]
  },
  {
   "cell_type": "code",
   "execution_count": 51,
   "metadata": {
    "scrolled": false
   },
   "outputs": [
    {
     "data": {
      "text/plain": [
       "(14586, 1)"
      ]
     },
     "execution_count": 51,
     "metadata": {},
     "output_type": "execute_result"
    }
   ],
   "source": [
    "target.iloc[:int(target.shape[0] / 100)].shape"
   ]
  },
  {
   "cell_type": "code",
   "execution_count": 5,
   "metadata": {
    "collapsed": true
   },
   "outputs": [],
   "source": [
    "# Using a subset for model training for comparing algorithms\n",
    "train_df = train_df.iloc[:int(train_df.shape[0] / 100)]\n",
    "target = target.iloc[:int(target.shape[0] / 100)]"
   ]
  },
  {
   "cell_type": "code",
   "execution_count": 27,
   "metadata": {
    "collapsed": true
   },
   "outputs": [],
   "source": [
    "# Using a subset for model training for comparing algorithms\n",
    "train_df = train_df.iloc[:int(train_df.shape[0] / 10)]\n",
    "target = target.iloc[:int(target.shape[0] / 10)]"
   ]
  },
  {
   "cell_type": "code",
   "execution_count": 6,
   "metadata": {},
   "outputs": [
    {
     "data": {
      "text/plain": [
       "(1458621, 10)"
      ]
     },
     "execution_count": 6,
     "metadata": {},
     "output_type": "execute_result"
    }
   ],
   "source": [
    "train_df.shape"
   ]
  },
  {
   "cell_type": "code",
   "execution_count": 5,
   "metadata": {
    "collapsed": true
   },
   "outputs": [],
   "source": [
    "# Test options and evaluation metric\n",
    "num_folds = 10 \n",
    "seed = 46\n",
    "test_size = 0.20\n",
    "scoring = 'r2'"
   ]
  },
  {
   "cell_type": "code",
   "execution_count": 7,
   "metadata": {
    "collapsed": true
   },
   "outputs": [],
   "source": [
    "X = train_df.drop(['id', 'trip_duration'], axis=1).values\n",
    "Y = target.values.ravel()\n",
    "\n",
    "X_train, X_test, y_train, y_test = train_test_split(X, Y, test_size=test_size,\\\n",
    "                                                   random_state=seed)\n"
   ]
  },
  {
   "cell_type": "code",
   "execution_count": 8,
   "metadata": {},
   "outputs": [
    {
     "name": "stdout",
     "output_type": "stream",
     "text": [
      "(1166896, 8) (1166896,) \n",
      " (291725, 8) (291725,)\n"
     ]
    }
   ],
   "source": [
    "print(X_train.shape, y_train.shape, \"\\n\", X_test.shape, y_test.shape)"
   ]
  },
  {
   "cell_type": "markdown",
   "metadata": {},
   "source": [
    "<h3 style=\"text-align:center\">Build Models</h3>"
   ]
  },
  {
   "cell_type": "code",
   "execution_count": null,
   "metadata": {},
   "outputs": [
    {
     "name": "stdout",
     "output_type": "stream",
     "text": [
      "LR: 0.392679 (0.002297)\n",
      "LASSO: 0.286865 (0.001078)\n",
      "RIDGE: 0.392679 (0.002297)\n"
     ]
    }
   ],
   "source": [
    "# Spot-Check Algorithms\n",
    "models = []\n",
    "models.append( ('LR', LinearRegression()) )\n",
    "models.append( ('LASSO', Lasso()) )\n",
    "models.append( ('RIDGE', Ridge()) )\n",
    "models.append( ('KNN', KNeighborsRegressor()) )\n",
    "models.append( ('CART', DecisionTreeRegressor()) )\n",
    "models.append(  ('SVR', SVR()))\n",
    "models.append( ('RF', RandomForestRegressor()) )\n",
    "models.append( ('GB', GradientBoostingRegressor()) )\n",
    "\n",
    "results = []\n",
    "names = []\n",
    "for name, model in models:\n",
    "    kfold = KFold(n_splits=num_folds, \n",
    "                  random_state=seed)\n",
    "    cv_results = cross_val_score(model, X_train, \n",
    "                                 y_train, \n",
    "                                 cv=kfold, \n",
    "                                 scoring=scoring)\n",
    "    results.append(cv_results)\n",
    "    names.append(name)\n",
    "    msg = \"%s: %f (%f)\" % (name, cv_results.mean(), cv_results.std())\n",
    "    print(msg)"
   ]
  },
  {
   "cell_type": "code",
   "execution_count": 70,
   "metadata": {},
   "outputs": [
    {
     "data": {
      "image/png": "[encoded data removed]",
      "text/plain": [
       "<matplotlib.figure.Figure at 0x1e480150978>"
      ]
     },
     "metadata": {},
     "output_type": "display_data"
    }
   ],
   "source": [
    "# Compare algorithms\n",
    "fig = plt.figure()\n",
    "fig.suptitle('Algorithm Comparison')\n",
    "ax = fig.add_subplot(111)\n",
    "plt.boxplot(results)\n",
    "ax.set_xticklabels(names)\n",
    "plt.show()"
   ]
  },
  {
   "cell_type": "markdown",
   "metadata": {},
   "source": [
    "From the plot, Gradient Boosting achieved good results compared to the other algorithms"
   ]
  },
  {
   "cell_type": "markdown",
   "metadata": {},
   "source": [
    "<h3 style=\"text-align:center\">Tuning Algorithm</h3>"
   ]
  },
  {
   "cell_type": "markdown",
   "metadata": {},
   "source": [
    "Here we will use GridSearch to try a set of different numbers of the argument of gradient boosting in order to aim for better accuracy."
   ]
  },
  {
   "cell_type": "code",
   "execution_count": 18,
   "metadata": {},
   "outputs": [
    {
     "name": "stdout",
     "output_type": "stream",
     "text": [
      "0.626432 with n_trees : 500\n",
      "0.619715 with n_trees : 700\n",
      "0.613259 with n_trees : 900\n",
      "0.610777 with n_trees : 1000\n",
      "0.602935 with n_trees : 1300\n",
      "0.595663 with n_trees : 1600\n",
      "0.589163 with n_trees : 2000\n"
     ]
    }
   ],
   "source": [
    "n_trees = [500, 700, 900, 1000, 1300, 1600, 2000]\n",
    "accuracy_means = []\n",
    "\n",
    "for n_tree in n_trees:\n",
    "    model = GradientBoostingRegressor(n_estimators=n_tree, random_state=seed)\n",
    "    kfold = KFold(n_splits=num_folds, random_state=seed)\n",
    "    cv_results = cross_val_score(model, X_train, y_train, scoring=scoring, cv=kfold)\n",
    "    accuracy_means.append(cv_results.mean())\n",
    "    \n",
    "for accuracy_mean, n_tree in zip(accuracy_means, n_trees):\n",
    "    print(\"%f with n_trees : %r\" % (accuracy_mean, n_tree) )"
   ]
  },
  {
   "cell_type": "code",
   "execution_count": 19,
   "metadata": {
    "scrolled": true
   },
   "outputs": [
    {
     "data": {
      "text/plain": [
       "<matplotlib.axes._subplots.AxesSubplot at 0x18e9df5b6a0>"
      ]
     },
     "execution_count": 19,
     "metadata": {},
     "output_type": "execute_result"
    },
    {
     "data": {
      "image/png": "[encoded data removed]",
      "text/plain": [
       "<matplotlib.figure.Figure at 0x18ea6cfd470>"
      ]
     },
     "metadata": {},
     "output_type": "display_data"
    }
   ],
   "source": [
    "sns.pointplot(x=n_trees, y=accuracy_means)\n"
   ]
  },
  {
   "cell_type": "code",
   "execution_count": 22,
   "metadata": {},
   "outputs": [
    {
     "name": "stdout",
     "output_type": "stream",
     "text": [
      "Best: 0.635884 using {'max_depth': 3, 'min_samples_split': 100}\n"
     ]
    }
   ],
   "source": [
    "model = GradientBoostingRegressor(random_state=seed, n_estimators=300)\n",
    "\n",
    "min_samples_split = [2, 20, 40, 60, 80, 100]\n",
    "max_depth = [3, 5, 7, 9]\n",
    "\n",
    "param_grid = dict(min_samples_split=min_samples_split, max_depth=max_depth)\n",
    "kfold = KFold(n_splits=num_folds, random_state=seed)\n",
    "grid = GridSearchCV(estimator=model, param_grid=param_grid, scoring=scoring, cv=kfold)\n",
    "grid_result = grid.fit(X_train, y_train)\n",
    "print(\"Best: %f using %s\" % (grid_result.best_score_, grid_result.best_params_) )\n"
   ]
  },
  {
   "cell_type": "code",
   "execution_count": 23,
   "metadata": {},
   "outputs": [
    {
     "name": "stdout",
     "output_type": "stream",
     "text": [
      "Best: 0.636008 using {'min_samples_split': 300}\n"
     ]
    }
   ],
   "source": [
    "model = GradientBoostingRegressor(random_state=seed, n_estimators=300)\n",
    "\n",
    "min_samples_split = [100, 150, 300]\n",
    "\n",
    "param_grid = dict(min_samples_split=min_samples_split)\n",
    "kfold = KFold(n_splits=num_folds, random_state=seed)\n",
    "grid = GridSearchCV(estimator=model, param_grid=param_grid, scoring=scoring, cv=kfold)\n",
    "grid_result = grid.fit(X_train, y_train)\n",
    "print(\"Best: %f using %s\" % (grid_result.best_score_, grid_result.best_params_) )\n"
   ]
  },
  {
   "cell_type": "markdown",
   "metadata": {},
   "source": [
    "<h3 style=\"text-align:center\">Testing Model </h3>"
   ]
  },
  {
   "cell_type": "code",
   "execution_count": 9,
   "metadata": {},
   "outputs": [
    {
     "data": {
      "text/plain": [
       "XGBRegressor(base_score=0.5, colsample_bylevel=1, colsample_bytree=1, gamma=0,\n",
       "       learning_rate=0.1, max_delta_step=0, max_depth=3,\n",
       "       min_child_weight=1, missing=None, n_estimators=100, nthread=-1,\n",
       "       objective='reg:linear', reg_alpha=0, reg_lambda=1,\n",
       "       scale_pos_weight=1, seed=0, silent=True, subsample=1)"
      ]
     },
     "execution_count": 9,
     "metadata": {},
     "output_type": "execute_result"
    }
   ],
   "source": [
    "XGBRegressor()"
   ]
  },
  {
   "cell_type": "code",
   "execution_count": 13,
   "metadata": {
    "collapsed": true
   },
   "outputs": [],
   "source": [
    "model = XGBRegressor(seed=seed, n_estimators=300, \\\n",
    "                                 nthread=-1, \\\n",
    "            \n",
    "                                  max_depth=5)\n",
    "\n",
    "model.fit(X_train, y_train)\n",
    "pred = model.predict(X_test)\n"
   ]
  },
  {
   "cell_type": "code",
   "execution_count": 14,
   "metadata": {},
   "outputs": [
    {
     "data": {
      "text/plain": [
       "(291725,)"
      ]
     },
     "execution_count": 14,
     "metadata": {},
     "output_type": "execute_result"
    }
   ],
   "source": [
    "pred.shape"
   ]
  },
  {
   "cell_type": "code",
   "execution_count": 15,
   "metadata": {
    "collapsed": true
   },
   "outputs": [],
   "source": [
    "def rmsle(predicted,real):\n",
    "    sum=0.0\n",
    "    for x in range(len(predicted)):\n",
    "        p = np.log(predicted[x]+1)\n",
    "        r = np.log(real[x]+1)\n",
    "        sum = sum + (p - r)**2\n",
    "    return (sum/len(predicted))**0.5"
   ]
  },
  {
   "cell_type": "code",
   "execution_count": 16,
   "metadata": {},
   "outputs": [
    {
     "name": "stdout",
     "output_type": "stream",
     "text": [
      "0.0684130294395\n"
     ]
    }
   ],
   "source": [
    "accuracy = rmsle(y_test, pred)\n",
    "print(accuracy)"
   ]
  },
  {
   "cell_type": "markdown",
   "metadata": {},
   "source": [
    "<h3 style=\"text-align:center\">Finalize Model</h3>"
   ]
  },
  {
   "cell_type": "code",
   "execution_count": 17,
   "metadata": {
    "collapsed": true
   },
   "outputs": [],
   "source": [
    "X_fin = test_df.drop(['id'], axis=1).values"
   ]
  },
  {
   "cell_type": "code",
   "execution_count": 18,
   "metadata": {},
   "outputs": [
    {
     "name": "stdout",
     "output_type": "stream",
     "text": [
      "[ 6.53766251  6.54109001  5.96111393 ...,  7.31801653  7.55661249\n",
      "  7.07085848]\n"
     ]
    }
   ],
   "source": [
    "model = XGBRegressor(seed=seed, n_estimators=300, \\\n",
    "                                 nthread=-1, \\\n",
    "                                  max_depth=5)\n",
    "model.fit(X_train, y_train)\n",
    "pred = model.predict(X_fin)\n",
    "\n",
    "print(pred)"
   ]
  },
  {
   "cell_type": "code",
   "execution_count": 19,
   "metadata": {
    "scrolled": true
   },
   "outputs": [
    {
     "name": "stdout",
     "output_type": "stream",
     "text": [
      "[  690.67022705   693.04156494   388.04214478 ...,  1507.21154785\n",
      "  1913.35302734  1177.15820312]\n"
     ]
    }
   ],
   "source": [
    "# transform the predictions (we applied log to skew the distribution )\n",
    "# The function np.exp() will cancel the log\n",
    "final_pred = np.exp(pred)\n",
    "\n",
    "print(final_pred)"
   ]
  },
  {
   "cell_type": "code",
   "execution_count": 20,
   "metadata": {},
   "outputs": [
    {
     "data": {
      "text/plain": [
       "(625134,)"
      ]
     },
     "execution_count": 20,
     "metadata": {},
     "output_type": "execute_result"
    }
   ],
   "source": [
    "final_pred.shape"
   ]
  },
  {
   "cell_type": "markdown",
   "metadata": {},
   "source": [
    "<h3 style=text-align:center>Submit the results</h3>"
   ]
  },
  {
   "cell_type": "code",
   "execution_count": 28,
   "metadata": {
    "collapsed": true
   },
   "outputs": [],
   "source": [
    "id = test_df['id'].values\n",
    "data = { 'id': id, 'trip_duration': final_pred}\n",
    "df = pd.DataFrame(data, columns=['id', 'trip_duration'])"
   ]
  },
  {
   "cell_type": "markdown",
   "metadata": {},
   "source": [
    "Save to output file"
   ]
  },
  {
   "cell_type": "code",
   "execution_count": 29,
   "metadata": {
    "collapsed": true
   },
   "outputs": [],
   "source": [
    "df.to_csv(\"result1.csv\", index=False)"
   ]
  }
 ],
 "metadata": {
  "kernelspec": {
   "display_name": "Python 3",
   "language": "python",
   "name": "python3"
  },
  "language_info": {
   "codemirror_mode": {
    "name": "ipython",
    "version": 3
   },
   "file_extension": ".py",
   "mimetype": "text/x-python",
   "name": "python",
   "nbconvert_exporter": "python",
   "pygments_lexer": "ipython3",
   "version": "3.6.1"
  }
 },
 "nbformat": 4,
 "nbformat_minor": 2
}
