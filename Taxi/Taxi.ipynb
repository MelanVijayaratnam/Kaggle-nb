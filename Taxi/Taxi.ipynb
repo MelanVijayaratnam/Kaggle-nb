{
 "cells": [
  {
   "cell_type": "markdown",
   "metadata": {},
   "source": [
    "<h1 style=\"text-align:center\">New York City Taxi Trip Duration</h1>"
   ]
  },
  {
   "cell_type": "markdown",
   "metadata": {},
   "source": [
    "<h3 style=\"text-align:center\">Load Libraries</h3>"
   ]
  },
  {
   "cell_type": "code",
   "execution_count": 1,
   "metadata": {
    "scrolled": true
   },
   "outputs": [
    {
     "name": "stderr",
     "output_type": "stream",
     "text": [
      "C:\\Users\\Melan\\Anaconda3\\lib\\site-packages\\bokeh\\util\\deprecation.py:34: BokehDeprecationWarning: \n",
      "The bokeh.charts API has moved to a separate 'bkcharts' package.\n",
      "\n",
      "This compatibility shim will remain until Bokeh 1.0 is released.\n",
      "After that, if you want to use this API you will have to install\n",
      "the bkcharts package explicitly.\n",
      "\n",
      "  warn(message)\n"
     ]
    },
    {
     "data": {
      "text/html": [
       "\n",
       "    <div class=\"bk-root\">\n",
       "        <a href=\"http://bokeh.pydata.org\" target=\"_blank\" class=\"bk-logo bk-logo-small bk-logo-notebook\"></a>\n",
       "        <span id=\"398e0aa3-5b39-4e69-b2ca-6863d2f4e743\">Loading BokehJS ...</span>\n",
       "    </div>"
      ]
     },
     "metadata": {},
     "output_type": "display_data"
    },
    {
     "data": {
      "application/javascript": [
       "\n",
       "(function(global) {\n",
       "  function now() {\n",
       "    return new Date();\n",
       "  }\n",
       "\n",
       "  var force = true;\n",
       "\n",
       "  if (typeof (window._bokeh_onload_callbacks) === \"undefined\" || force === true) {\n",
       "    window._bokeh_onload_callbacks = [];\n",
       "    window._bokeh_is_loading = undefined;\n",
       "  }\n",
       "\n",
       "\n",
       "  \n",
       "  if (typeof (window._bokeh_timeout) === \"undefined\" || force === true) {\n",
       "    window._bokeh_timeout = Date.now() + 5000;\n",
       "    window._bokeh_failed_load = false;\n",
       "  }\n",
       "\n",
       "  var NB_LOAD_WARNING = {'data': {'text/html':\n",
       "     \"<div style='background-color: #fdd'>\\n\"+\n",
       "     \"<p>\\n\"+\n",
       "     \"BokehJS does not appear to have successfully loaded. If loading BokehJS from CDN, this \\n\"+\n",
       "     \"may be due to a slow or bad network connection. Possible fixes:\\n\"+\n",
       "     \"</p>\\n\"+\n",
       "     \"<ul>\\n\"+\n",
       "     \"<li>re-rerun `output_notebook()` to attempt to load from CDN again, or</li>\\n\"+\n",
       "     \"<li>use INLINE resources instead, as so:</li>\\n\"+\n",
       "     \"</ul>\\n\"+\n",
       "     \"<code>\\n\"+\n",
       "     \"from bokeh.resources import INLINE\\n\"+\n",
       "     \"output_notebook(resources=INLINE)\\n\"+\n",
       "     \"</code>\\n\"+\n",
       "     \"</div>\"}};\n",
       "\n",
       "  function display_loaded() {\n",
       "    if (window.Bokeh !== undefined) {\n",
       "      var el = document.getElementById(\"398e0aa3-5b39-4e69-b2ca-6863d2f4e743\");\n",
       "      el.textContent = \"BokehJS \" + Bokeh.version + \" successfully loaded.\";\n",
       "    } else if (Date.now() < window._bokeh_timeout) {\n",
       "      setTimeout(display_loaded, 100)\n",
       "    }\n",
       "  }\n",
       "\n",
       "  function run_callbacks() {\n",
       "    try {\n",
       "      window._bokeh_onload_callbacks.forEach(function(callback) { callback() });\n",
       "    }\n",
       "    finally {\n",
       "      delete window._bokeh_onload_callbacks\n",
       "    }\n",
       "    console.info(\"Bokeh: all callbacks have finished\");\n",
       "  }\n",
       "\n",
       "  function load_libs(js_urls, callback) {\n",
       "    window._bokeh_onload_callbacks.push(callback);\n",
       "    if (window._bokeh_is_loading > 0) {\n",
       "      console.log(\"Bokeh: BokehJS is being loaded, scheduling callback at\", now());\n",
       "      return null;\n",
       "    }\n",
       "    if (js_urls == null || js_urls.length === 0) {\n",
       "      run_callbacks();\n",
       "      return null;\n",
       "    }\n",
       "    console.log(\"Bokeh: BokehJS not loaded, scheduling load and callback at\", now());\n",
       "    window._bokeh_is_loading = js_urls.length;\n",
       "    for (var i = 0; i < js_urls.length; i++) {\n",
       "      var url = js_urls[i];\n",
       "      var s = document.createElement('script');\n",
       "      s.src = url;\n",
       "      s.async = false;\n",
       "      s.onreadystatechange = s.onload = function() {\n",
       "        window._bokeh_is_loading--;\n",
       "        if (window._bokeh_is_loading === 0) {\n",
       "          console.log(\"Bokeh: all BokehJS libraries loaded\");\n",
       "          run_callbacks()\n",
       "        }\n",
       "      };\n",
       "      s.onerror = function() {\n",
       "        console.warn(\"failed to load library \" + url);\n",
       "      };\n",
       "      console.log(\"Bokeh: injecting script tag for BokehJS library: \", url);\n",
       "      document.getElementsByTagName(\"head\")[0].appendChild(s);\n",
       "    }\n",
       "  };var element = document.getElementById(\"398e0aa3-5b39-4e69-b2ca-6863d2f4e743\");\n",
       "  if (element == null) {\n",
       "    console.log(\"Bokeh: ERROR: autoload.js configured with elementid '398e0aa3-5b39-4e69-b2ca-6863d2f4e743' but no matching script tag was found. \")\n",
       "    return false;\n",
       "  }\n",
       "\n",
       "  var js_urls = [\"https://cdn.pydata.org/bokeh/release/bokeh-0.12.6.min.js\", \"https://cdn.pydata.org/bokeh/release/bokeh-widgets-0.12.6.min.js\"];\n",
       "\n",
       "  var inline_js = [\n",
       "    function(Bokeh) {\n",
       "      Bokeh.set_log_level(\"info\");\n",
       "    },\n",
       "    \n",
       "    function(Bokeh) {\n",
       "      \n",
       "    },\n",
       "    \n",
       "    function(Bokeh) {\n",
       "      \n",
       "      document.getElementById(\"398e0aa3-5b39-4e69-b2ca-6863d2f4e743\").textContent = \"BokehJS is loading...\";\n",
       "    },\n",
       "    function(Bokeh) {\n",
       "      console.log(\"Bokeh: injecting CSS: https://cdn.pydata.org/bokeh/release/bokeh-0.12.6.min.css\");\n",
       "      Bokeh.embed.inject_css(\"https://cdn.pydata.org/bokeh/release/bokeh-0.12.6.min.css\");\n",
       "      console.log(\"Bokeh: injecting CSS: https://cdn.pydata.org/bokeh/release/bokeh-widgets-0.12.6.min.css\");\n",
       "      Bokeh.embed.inject_css(\"https://cdn.pydata.org/bokeh/release/bokeh-widgets-0.12.6.min.css\");\n",
       "    }\n",
       "  ];\n",
       "\n",
       "  function run_inline_js() {\n",
       "    \n",
       "    if ((window.Bokeh !== undefined) || (force === true)) {\n",
       "      for (var i = 0; i < inline_js.length; i++) {\n",
       "        inline_js[i](window.Bokeh);\n",
       "      }if (force === true) {\n",
       "        display_loaded();\n",
       "      }} else if (Date.now() < window._bokeh_timeout) {\n",
       "      setTimeout(run_inline_js, 100);\n",
       "    } else if (!window._bokeh_failed_load) {\n",
       "      console.log(\"Bokeh: BokehJS failed to load within specified timeout.\");\n",
       "      window._bokeh_failed_load = true;\n",
       "    } else if (force !== true) {\n",
       "      var cell = $(document.getElementById(\"398e0aa3-5b39-4e69-b2ca-6863d2f4e743\")).parents('.cell').data().cell;\n",
       "      cell.output_area.append_execute_result(NB_LOAD_WARNING)\n",
       "    }\n",
       "\n",
       "  }\n",
       "\n",
       "  if (window._bokeh_is_loading === 0) {\n",
       "    console.log(\"Bokeh: BokehJS loaded, going straight to plotting\");\n",
       "    run_inline_js();\n",
       "  } else {\n",
       "    load_libs(js_urls, function() {\n",
       "      console.log(\"Bokeh: BokehJS plotting callback run at\", now());\n",
       "      run_inline_js();\n",
       "    });\n",
       "  }\n",
       "}(this));"
      ]
     },
     "metadata": {},
     "output_type": "display_data"
    },
    {
     "name": "stderr",
     "output_type": "stream",
     "text": [
      "C:\\Users\\Melan\\Anaconda3\\lib\\site-packages\\sklearn\\cross_validation.py:44: DeprecationWarning: This module was deprecated in version 0.18 in favor of the model_selection module into which all the refactored classes and functions are moved. Also note that the interface of the new CV iterators are different from that of this module. This module will be removed in 0.20.\n",
      "  \"This module will be removed in 0.20.\", DeprecationWarning)\n"
     ]
    }
   ],
   "source": [
    "# remove warnings\n",
    "import warnings\n",
    "warnings.filterwarnings('ignore')\n",
    "\n",
    "# Handle data\n",
    "import numpy as np\n",
    "import pandas as pd\n",
    "\n",
    "# Visualization\n",
    "from matplotlib import pyplot as plt\n",
    "import seaborn as sns\n",
    "%matplotlib inline\n",
    "from bokeh.plotting import figure, show \n",
    "from bokeh.charts import Donut, show\n",
    "from bokeh.io import output_notebook\n",
    "output_notebook()\n",
    "# Map plot\n",
    "from mpl_toolkits.basemap import Basemap\n",
    "from matplotlib import cm\n",
    "\n",
    "from sklearn.model_selection import train_test_split\n",
    "from sklearn.model_selection import KFold\n",
    "from sklearn.model_selection import cross_val_score\n",
    "from sklearn.model_selection import GridSearchCV\n",
    "\n",
    "from sklearn.decomposition import PCA\n",
    "\n",
    "from sklearn.cluster import MiniBatchKMeans\n",
    "\n",
    "from sklearn.linear_model import LinearRegression\n",
    "from sklearn.linear_model import Lasso\n",
    "from sklearn.linear_model import Ridge\n",
    "from sklearn.neighbors import KNeighborsRegressor\n",
    "from sklearn.svm import SVR\n",
    "from sklearn.tree import DecisionTreeRegressor\n",
    "\n",
    "from sklearn.ensemble import RandomForestRegressor\n",
    "from sklearn.ensemble import GradientBoostingRegressor\n",
    "\n",
    "import xgboost as xgb\n",
    "from xgboost import XGBRegressor\n",
    "from xgboost import DMatrix\n",
    "from xgboost import cv\n",
    "\n",
    "from sklearn.metrics import r2_score\n",
    "from sklearn.metrics import mean_squared_error\n",
    "\n",
    "from time import time"
   ]
  },
  {
   "cell_type": "code",
   "execution_count": 2,
   "metadata": {},
   "outputs": [
    {
     "data": {
      "text/html": [
       "\n",
       "<style>\n",
       ".output_png {\n",
       "    display: table-cell;\n",
       "    text-align: center;\n",
       "    vertical-align: middle;\n",
       "}\n",
       "</style>\n"
      ],
      "text/plain": [
       "<IPython.core.display.HTML object>"
      ]
     },
     "execution_count": 2,
     "metadata": {},
     "output_type": "execute_result"
    }
   ],
   "source": [
    "from IPython.core.display import HTML\n",
    "HTML(\"\"\"\n",
    "<style>\n",
    ".output_png {\n",
    "    display: table-cell;\n",
    "    text-align: center;\n",
    "    vertical-align: middle;\n",
    "}\n",
    "</style>\n",
    "\"\"\")"
   ]
  },
  {
   "cell_type": "markdown",
   "metadata": {},
   "source": [
    "<h3 style=\"text-align:center\">Load Dataset</h3>"
   ]
  },
  {
   "cell_type": "code",
   "execution_count": 3,
   "metadata": {
    "collapsed": true
   },
   "outputs": [],
   "source": [
    "train_df = pd.read_csv('train.csv')\n",
    "test_df = pd.read_csv('test.csv')"
   ]
  },
  {
   "cell_type": "code",
   "execution_count": 4,
   "metadata": {},
   "outputs": [
    {
     "name": "stdout",
     "output_type": "stream",
     "text": [
      "Train set shape: (1458644, 11)\n",
      "Test set shape: (625134, 9)\n"
     ]
    }
   ],
   "source": [
    "print(\"Train set shape:\", train_df.shape)\n",
    "print(\"Test set shape:\", test_df.shape)"
   ]
  },
  {
   "cell_type": "markdown",
   "metadata": {},
   "source": [
    "<h3 style=\"text-align:center\">Data exploration</h3>"
   ]
  },
  {
   "cell_type": "code",
   "execution_count": 5,
   "metadata": {},
   "outputs": [
    {
     "data": {
      "text/html": [
       "<div>\n",
       "<style>\n",
       "    .dataframe thead tr:only-child th {\n",
       "        text-align: right;\n",
       "    }\n",
       "\n",
       "    .dataframe thead th {\n",
       "        text-align: left;\n",
       "    }\n",
       "\n",
       "    .dataframe tbody tr th {\n",
       "        vertical-align: top;\n",
       "    }\n",
       "</style>\n",
       "<table border=\"1\" class=\"dataframe\">\n",
       "  <thead>\n",
       "    <tr style=\"text-align: right;\">\n",
       "      <th></th>\n",
       "      <th>id</th>\n",
       "      <th>vendor_id</th>\n",
       "      <th>pickup_datetime</th>\n",
       "      <th>dropoff_datetime</th>\n",
       "      <th>passenger_count</th>\n",
       "      <th>pickup_longitude</th>\n",
       "      <th>pickup_latitude</th>\n",
       "      <th>dropoff_longitude</th>\n",
       "      <th>dropoff_latitude</th>\n",
       "      <th>store_and_fwd_flag</th>\n",
       "      <th>trip_duration</th>\n",
       "    </tr>\n",
       "  </thead>\n",
       "  <tbody>\n",
       "    <tr>\n",
       "      <th>0</th>\n",
       "      <td>id2875421</td>\n",
       "      <td>2</td>\n",
       "      <td>2016-03-14 17:24:55</td>\n",
       "      <td>2016-03-14 17:32:30</td>\n",
       "      <td>1</td>\n",
       "      <td>-73.982155</td>\n",
       "      <td>40.767937</td>\n",
       "      <td>-73.964630</td>\n",
       "      <td>40.765602</td>\n",
       "      <td>N</td>\n",
       "      <td>455</td>\n",
       "    </tr>\n",
       "    <tr>\n",
       "      <th>1</th>\n",
       "      <td>id2377394</td>\n",
       "      <td>1</td>\n",
       "      <td>2016-06-12 00:43:35</td>\n",
       "      <td>2016-06-12 00:54:38</td>\n",
       "      <td>1</td>\n",
       "      <td>-73.980415</td>\n",
       "      <td>40.738564</td>\n",
       "      <td>-73.999481</td>\n",
       "      <td>40.731152</td>\n",
       "      <td>N</td>\n",
       "      <td>663</td>\n",
       "    </tr>\n",
       "    <tr>\n",
       "      <th>2</th>\n",
       "      <td>id3858529</td>\n",
       "      <td>2</td>\n",
       "      <td>2016-01-19 11:35:24</td>\n",
       "      <td>2016-01-19 12:10:48</td>\n",
       "      <td>1</td>\n",
       "      <td>-73.979027</td>\n",
       "      <td>40.763939</td>\n",
       "      <td>-74.005333</td>\n",
       "      <td>40.710087</td>\n",
       "      <td>N</td>\n",
       "      <td>2124</td>\n",
       "    </tr>\n",
       "    <tr>\n",
       "      <th>3</th>\n",
       "      <td>id3504673</td>\n",
       "      <td>2</td>\n",
       "      <td>2016-04-06 19:32:31</td>\n",
       "      <td>2016-04-06 19:39:40</td>\n",
       "      <td>1</td>\n",
       "      <td>-74.010040</td>\n",
       "      <td>40.719971</td>\n",
       "      <td>-74.012268</td>\n",
       "      <td>40.706718</td>\n",
       "      <td>N</td>\n",
       "      <td>429</td>\n",
       "    </tr>\n",
       "    <tr>\n",
       "      <th>4</th>\n",
       "      <td>id2181028</td>\n",
       "      <td>2</td>\n",
       "      <td>2016-03-26 13:30:55</td>\n",
       "      <td>2016-03-26 13:38:10</td>\n",
       "      <td>1</td>\n",
       "      <td>-73.973053</td>\n",
       "      <td>40.793209</td>\n",
       "      <td>-73.972923</td>\n",
       "      <td>40.782520</td>\n",
       "      <td>N</td>\n",
       "      <td>435</td>\n",
       "    </tr>\n",
       "  </tbody>\n",
       "</table>\n",
       "</div>"
      ],
      "text/plain": [
       "          id  vendor_id      pickup_datetime     dropoff_datetime  \\\n",
       "0  id2875421          2  2016-03-14 17:24:55  2016-03-14 17:32:30   \n",
       "1  id2377394          1  2016-06-12 00:43:35  2016-06-12 00:54:38   \n",
       "2  id3858529          2  2016-01-19 11:35:24  2016-01-19 12:10:48   \n",
       "3  id3504673          2  2016-04-06 19:32:31  2016-04-06 19:39:40   \n",
       "4  id2181028          2  2016-03-26 13:30:55  2016-03-26 13:38:10   \n",
       "\n",
       "   passenger_count  pickup_longitude  pickup_latitude  dropoff_longitude  \\\n",
       "0                1        -73.982155        40.767937         -73.964630   \n",
       "1                1        -73.980415        40.738564         -73.999481   \n",
       "2                1        -73.979027        40.763939         -74.005333   \n",
       "3                1        -74.010040        40.719971         -74.012268   \n",
       "4                1        -73.973053        40.793209         -73.972923   \n",
       "\n",
       "   dropoff_latitude store_and_fwd_flag  trip_duration  \n",
       "0         40.765602                  N            455  \n",
       "1         40.731152                  N            663  \n",
       "2         40.710087                  N           2124  \n",
       "3         40.706718                  N            429  \n",
       "4         40.782520                  N            435  "
      ]
     },
     "execution_count": 5,
     "metadata": {},
     "output_type": "execute_result"
    }
   ],
   "source": [
    "# Observation of the first 5 elements in the training set\n",
    "train_df.head()"
   ]
  },
  {
   "cell_type": "code",
   "execution_count": 6,
   "metadata": {},
   "outputs": [
    {
     "data": {
      "text/html": [
       "<div>\n",
       "<style>\n",
       "    .dataframe thead tr:only-child th {\n",
       "        text-align: right;\n",
       "    }\n",
       "\n",
       "    .dataframe thead th {\n",
       "        text-align: left;\n",
       "    }\n",
       "\n",
       "    .dataframe tbody tr th {\n",
       "        vertical-align: top;\n",
       "    }\n",
       "</style>\n",
       "<table border=\"1\" class=\"dataframe\">\n",
       "  <thead>\n",
       "    <tr style=\"text-align: right;\">\n",
       "      <th></th>\n",
       "      <th>id</th>\n",
       "      <th>vendor_id</th>\n",
       "      <th>pickup_datetime</th>\n",
       "      <th>passenger_count</th>\n",
       "      <th>pickup_longitude</th>\n",
       "      <th>pickup_latitude</th>\n",
       "      <th>dropoff_longitude</th>\n",
       "      <th>dropoff_latitude</th>\n",
       "      <th>store_and_fwd_flag</th>\n",
       "    </tr>\n",
       "  </thead>\n",
       "  <tbody>\n",
       "    <tr>\n",
       "      <th>0</th>\n",
       "      <td>id3004672</td>\n",
       "      <td>1</td>\n",
       "      <td>2016-06-30 23:59:58</td>\n",
       "      <td>1</td>\n",
       "      <td>-73.988129</td>\n",
       "      <td>40.732029</td>\n",
       "      <td>-73.990173</td>\n",
       "      <td>40.756680</td>\n",
       "      <td>N</td>\n",
       "    </tr>\n",
       "    <tr>\n",
       "      <th>1</th>\n",
       "      <td>id3505355</td>\n",
       "      <td>1</td>\n",
       "      <td>2016-06-30 23:59:53</td>\n",
       "      <td>1</td>\n",
       "      <td>-73.964203</td>\n",
       "      <td>40.679993</td>\n",
       "      <td>-73.959808</td>\n",
       "      <td>40.655403</td>\n",
       "      <td>N</td>\n",
       "    </tr>\n",
       "    <tr>\n",
       "      <th>2</th>\n",
       "      <td>id1217141</td>\n",
       "      <td>1</td>\n",
       "      <td>2016-06-30 23:59:47</td>\n",
       "      <td>1</td>\n",
       "      <td>-73.997437</td>\n",
       "      <td>40.737583</td>\n",
       "      <td>-73.986160</td>\n",
       "      <td>40.729523</td>\n",
       "      <td>N</td>\n",
       "    </tr>\n",
       "    <tr>\n",
       "      <th>3</th>\n",
       "      <td>id2150126</td>\n",
       "      <td>2</td>\n",
       "      <td>2016-06-30 23:59:41</td>\n",
       "      <td>1</td>\n",
       "      <td>-73.956070</td>\n",
       "      <td>40.771900</td>\n",
       "      <td>-73.986427</td>\n",
       "      <td>40.730469</td>\n",
       "      <td>N</td>\n",
       "    </tr>\n",
       "    <tr>\n",
       "      <th>4</th>\n",
       "      <td>id1598245</td>\n",
       "      <td>1</td>\n",
       "      <td>2016-06-30 23:59:33</td>\n",
       "      <td>1</td>\n",
       "      <td>-73.970215</td>\n",
       "      <td>40.761475</td>\n",
       "      <td>-73.961510</td>\n",
       "      <td>40.755890</td>\n",
       "      <td>N</td>\n",
       "    </tr>\n",
       "  </tbody>\n",
       "</table>\n",
       "</div>"
      ],
      "text/plain": [
       "          id  vendor_id      pickup_datetime  passenger_count  \\\n",
       "0  id3004672          1  2016-06-30 23:59:58                1   \n",
       "1  id3505355          1  2016-06-30 23:59:53                1   \n",
       "2  id1217141          1  2016-06-30 23:59:47                1   \n",
       "3  id2150126          2  2016-06-30 23:59:41                1   \n",
       "4  id1598245          1  2016-06-30 23:59:33                1   \n",
       "\n",
       "   pickup_longitude  pickup_latitude  dropoff_longitude  dropoff_latitude  \\\n",
       "0        -73.988129        40.732029         -73.990173         40.756680   \n",
       "1        -73.964203        40.679993         -73.959808         40.655403   \n",
       "2        -73.997437        40.737583         -73.986160         40.729523   \n",
       "3        -73.956070        40.771900         -73.986427         40.730469   \n",
       "4        -73.970215        40.761475         -73.961510         40.755890   \n",
       "\n",
       "  store_and_fwd_flag  \n",
       "0                  N  \n",
       "1                  N  \n",
       "2                  N  \n",
       "3                  N  \n",
       "4                  N  "
      ]
     },
     "execution_count": 6,
     "metadata": {},
     "output_type": "execute_result"
    }
   ],
   "source": [
    "test_df.head()"
   ]
  },
  {
   "cell_type": "code",
   "execution_count": 7,
   "metadata": {
    "scrolled": true
   },
   "outputs": [
    {
     "data": {
      "text/plain": [
       "id                     object\n",
       "vendor_id               int64\n",
       "pickup_datetime        object\n",
       "dropoff_datetime       object\n",
       "passenger_count         int64\n",
       "pickup_longitude      float64\n",
       "pickup_latitude       float64\n",
       "dropoff_longitude     float64\n",
       "dropoff_latitude      float64\n",
       "store_and_fwd_flag     object\n",
       "trip_duration           int64\n",
       "dtype: object"
      ]
     },
     "execution_count": 7,
     "metadata": {},
     "output_type": "execute_result"
    }
   ],
   "source": [
    "# Check the types or each features\n",
    "train_df.dtypes"
   ]
  },
  {
   "cell_type": "markdown",
   "metadata": {},
   "source": [
    "Analyze missing data "
   ]
  },
  {
   "cell_type": "code",
   "execution_count": 8,
   "metadata": {
    "scrolled": true
   },
   "outputs": [
    {
     "data": {
      "text/html": [
       "<div>\n",
       "<style>\n",
       "    .dataframe thead tr:only-child th {\n",
       "        text-align: right;\n",
       "    }\n",
       "\n",
       "    .dataframe thead th {\n",
       "        text-align: left;\n",
       "    }\n",
       "\n",
       "    .dataframe tbody tr th {\n",
       "        vertical-align: top;\n",
       "    }\n",
       "</style>\n",
       "<table border=\"1\" class=\"dataframe\">\n",
       "  <thead>\n",
       "    <tr style=\"text-align: right;\">\n",
       "      <th></th>\n",
       "      <th>missing values(test_set)</th>\n",
       "      <th>missing values(train set)</th>\n",
       "    </tr>\n",
       "  </thead>\n",
       "  <tbody>\n",
       "    <tr>\n",
       "      <th>dropoff_datetime</th>\n",
       "      <td>NaN</td>\n",
       "      <td>0</td>\n",
       "    </tr>\n",
       "    <tr>\n",
       "      <th>dropoff_latitude</th>\n",
       "      <td>0.0</td>\n",
       "      <td>0</td>\n",
       "    </tr>\n",
       "    <tr>\n",
       "      <th>dropoff_longitude</th>\n",
       "      <td>0.0</td>\n",
       "      <td>0</td>\n",
       "    </tr>\n",
       "    <tr>\n",
       "      <th>id</th>\n",
       "      <td>0.0</td>\n",
       "      <td>0</td>\n",
       "    </tr>\n",
       "    <tr>\n",
       "      <th>passenger_count</th>\n",
       "      <td>0.0</td>\n",
       "      <td>0</td>\n",
       "    </tr>\n",
       "    <tr>\n",
       "      <th>pickup_datetime</th>\n",
       "      <td>0.0</td>\n",
       "      <td>0</td>\n",
       "    </tr>\n",
       "    <tr>\n",
       "      <th>pickup_latitude</th>\n",
       "      <td>0.0</td>\n",
       "      <td>0</td>\n",
       "    </tr>\n",
       "    <tr>\n",
       "      <th>pickup_longitude</th>\n",
       "      <td>0.0</td>\n",
       "      <td>0</td>\n",
       "    </tr>\n",
       "    <tr>\n",
       "      <th>store_and_fwd_flag</th>\n",
       "      <td>0.0</td>\n",
       "      <td>0</td>\n",
       "    </tr>\n",
       "    <tr>\n",
       "      <th>trip_duration</th>\n",
       "      <td>NaN</td>\n",
       "      <td>0</td>\n",
       "    </tr>\n",
       "    <tr>\n",
       "      <th>vendor_id</th>\n",
       "      <td>0.0</td>\n",
       "      <td>0</td>\n",
       "    </tr>\n",
       "  </tbody>\n",
       "</table>\n",
       "</div>"
      ],
      "text/plain": [
       "                    missing values(test_set)  missing values(train set)\n",
       "dropoff_datetime                         NaN                          0\n",
       "dropoff_latitude                         0.0                          0\n",
       "dropoff_longitude                        0.0                          0\n",
       "id                                       0.0                          0\n",
       "passenger_count                          0.0                          0\n",
       "pickup_datetime                          0.0                          0\n",
       "pickup_latitude                          0.0                          0\n",
       "pickup_longitude                         0.0                          0\n",
       "store_and_fwd_flag                       0.0                          0\n",
       "trip_duration                            NaN                          0\n",
       "vendor_id                                0.0                          0"
      ]
     },
     "execution_count": 8,
     "metadata": {},
     "output_type": "execute_result"
    }
   ],
   "source": [
    "# print(train_df.isnull().sum(), \"\\n\")\n",
    "# print(test_df.isnull().sum())\n",
    "\n",
    "pd.DataFrame( {'missing values(train set)': train_df.isnull().sum(),\n",
    "              'missing values(test_set)' : test_df.isnull().sum() } )"
   ]
  },
  {
   "cell_type": "markdown",
   "metadata": {},
   "source": [
    "There's no missing data in both the train and test dataframe"
   ]
  },
  {
   "cell_type": "markdown",
   "metadata": {},
   "source": [
    "<u>Target Feature</u>"
   ]
  },
  {
   "cell_type": "code",
   "execution_count": 9,
   "metadata": {},
   "outputs": [
    {
     "data": {
      "text/plain": [
       "count    1.458644e+06\n",
       "mean     9.594923e+02\n",
       "std      5.237432e+03\n",
       "min      1.000000e+00\n",
       "25%      3.970000e+02\n",
       "50%      6.620000e+02\n",
       "75%      1.075000e+03\n",
       "max      3.526282e+06\n",
       "Name: trip_duration, dtype: float64"
      ]
     },
     "execution_count": 9,
     "metadata": {},
     "output_type": "execute_result"
    }
   ],
   "source": [
    "# pd.options.display.float_format = '{:,.2f}'.format\n",
    "train_df['trip_duration'].describe()"
   ]
  },
  {
   "cell_type": "markdown",
   "metadata": {},
   "source": [
    "Let's observe the skewness of the trip duration"
   ]
  },
  {
   "cell_type": "code",
   "execution_count": 10,
   "metadata": {},
   "outputs": [
    {
     "data": {
      "text/plain": [
       "343.1639435917362"
      ]
     },
     "execution_count": 10,
     "metadata": {},
     "output_type": "execute_result"
    }
   ],
   "source": [
    "train_df['trip_duration'].skew()"
   ]
  },
  {
   "cell_type": "code",
   "execution_count": 11,
   "metadata": {
    "scrolled": true
   },
   "outputs": [
    {
     "data": {
      "image/png": "[encoded data removed]",
      "text/plain": [
       "<matplotlib.figure.Figure at 0x245008b6048>"
      ]
     },
     "metadata": {},
     "output_type": "display_data"
    }
   ],
   "source": [
    "sns.distplot(train_df['trip_duration'])\n",
    "plt.title(\"Distribution of trip duration\", size=16)\n",
    "plt.xlabel(\"Trip duration in seconds\")\n",
    "plt.show()"
   ]
  },
  {
   "cell_type": "markdown",
   "metadata": {},
   "source": [
    "In regression problems, it is important to look for the skewness of the target feature. <br>\n",
    "In fact, algorithms such as linear regression or K-Nearest Neighbors are sensitive to the skewness of the data. <br>\n",
    "The most common correction for a positive skew is to apply <i>the Log transform</i> to have a normally distributed variable."
   ]
  },
  {
   "cell_type": "code",
   "execution_count": 12,
   "metadata": {
    "scrolled": true
   },
   "outputs": [
    {
     "name": "stdout",
     "output_type": "stream",
     "text": [
      "Skew is: -0.340704230448\n"
     ]
    },
    {
     "data": {
      "image/png": "[encoded data removed]",
      "text/plain": [
       "<matplotlib.figure.Figure at 0x24501a0e710>"
      ]
     },
     "metadata": {},
     "output_type": "display_data"
    }
   ],
   "source": [
    "target = np.log(train_df['trip_duration'])\n",
    "print(\"Skew is:\", target.skew())\n",
    "sns.distplot(target)\n",
    "plt.title(\"Distribution of natural logarithm applied on trip duration feature\", size=16)\n",
    "plt.show()"
   ]
  },
  {
   "cell_type": "markdown",
   "metadata": {},
   "source": [
    "For the sake of meaningful visualization, we store the result in another variable so that we will be able to make use of it during the processing part."
   ]
  },
  {
   "cell_type": "markdown",
   "metadata": {},
   "source": [
    "<u>Correlation with trip duration</u>"
   ]
  },
  {
   "cell_type": "code",
   "execution_count": 13,
   "metadata": {
    "scrolled": false
   },
   "outputs": [
    {
     "data": {
      "image/png": "[encoded data removed]",
      "text/plain": [
       "<matplotlib.figure.Figure at 0x24501cea400>"
      ]
     },
     "metadata": {},
     "output_type": "display_data"
    }
   ],
   "source": [
    "corr = train_df.drop(['id'], axis=1).corr()\n",
    "corr_df = pd.DataFrame(corr['trip_duration'].sort_values(ascending=False))[1:]\n",
    "corr_df.columns = ['Correlation']\n",
    "corr_df.index.name = 'Feature'\n",
    "\n",
    "ax = sns.barplot(x=corr_df.index, y='Correlation', data=corr_df)\n",
    "ax.set(ylabel='Correlation')\n",
    "plt.xticks(rotation=90)\n",
    "plt.title('Correlation with trip duration', size=15)\n",
    "plt.show()"
   ]
  },
  {
   "cell_type": "markdown",
   "metadata": {},
   "source": [
    "We observe that there is not strong relation with the trip duration and the actual numerical features. <br>\n",
    "We need to feature engineering the string features to establish a new correlation plot as we might infer something more interesting."
   ]
  },
  {
   "cell_type": "markdown",
   "metadata": {},
   "source": [
    "<h3 style=\"text-align:center\">Data Cleaning</h3>"
   ]
  },
  {
   "cell_type": "markdown",
   "metadata": {},
   "source": [
    "<u>Trips in New York City</u>"
   ]
  },
  {
   "cell_type": "markdown",
   "metadata": {},
   "source": [
    "It appears that there are some coordinates that does not belong to the area of New York City."
   ]
  },
  {
   "cell_type": "code",
   "execution_count": 14,
   "metadata": {},
   "outputs": [],
   "source": [
    "west, south, east, north = -74.03, 40.63, -73.75, 40.85\n",
    "\n",
    "# Ensuring pickup coordinates are within New York City\n",
    "train_df = train_df[(train_df['pickup_latitude'] > south) & \\\n",
    "                    (train_df['pickup_latitude'] < north)]\n",
    "train_df = train_df[(train_df['pickup_longitude'] > west) & \\\n",
    "                    (train_df['pickup_longitude'] < east)]\n",
    "\n",
    "# Ensuring dropoff coordinates are within New York City\n",
    "train_df = train_df[(train_df['dropoff_latitude'] > south) & \\\n",
    "                    (train_df['dropoff_latitude'] < north)]\n",
    "train_df = train_df[(train_df['dropoff_longitude'] > west) & \\\n",
    "                    (train_df['dropoff_longitude'] < east)]"
   ]
  },
  {
   "cell_type": "markdown",
   "metadata": {},
   "source": [
    "From there, we can use a map plot thanks to the matplotlib basemap toolkit, which is a library for plotting 2D data on maps in Python."
   ]
  },
  {
   "cell_type": "code",
   "execution_count": 15,
   "metadata": {
    "scrolled": false
   },
   "outputs": [
    {
     "data": {
      "text/plain": [
       "<matplotlib.collections.PolyCollection at 0x24501f59dd8>"
      ]
     },
     "execution_count": 15,
     "metadata": {},
     "output_type": "execute_result"
    },
    {
     "data": {
      "image/png": "[encoded data removed]",
      "text/plain": [
       "<matplotlib.figure.Figure at 0x24501ed05f8>"
      ]
     },
     "metadata": {},
     "output_type": "display_data"
    }
   ],
   "source": [
    "fig = plt.figure(figsize=(12,10))\n",
    "ax = fig.add_subplot(111)\n",
    "m = Basemap(projection='merc', llcrnrlat=south, \\\n",
    "            urcrnrlat=north, llcrnrlon=west, \\\n",
    "            urcrnrlon=east, lat_ts=south, \\\n",
    "            resolution='i')\n",
    "x, y = m(train_df['pickup_longitude'].values, \\\n",
    "         train_df['pickup_latitude'].values)\n",
    "m.hexbin(x, y, gridsize=1000, \\\n",
    "        bins = 'log', cmap=cm.YlOrRd_r)"
   ]
  },
  {
   "cell_type": "markdown",
   "metadata": {},
   "source": [
    "<u>passenger_count</u>"
   ]
  },
  {
   "cell_type": "code",
   "execution_count": 16,
   "metadata": {
    "scrolled": false
   },
   "outputs": [
    {
     "data": {
      "text/html": [
       "<div>\n",
       "<style>\n",
       "    .dataframe thead tr:only-child th {\n",
       "        text-align: right;\n",
       "    }\n",
       "\n",
       "    .dataframe thead th {\n",
       "        text-align: left;\n",
       "    }\n",
       "\n",
       "    .dataframe tbody tr th {\n",
       "        vertical-align: top;\n",
       "    }\n",
       "</style>\n",
       "<table border=\"1\" class=\"dataframe\">\n",
       "  <thead>\n",
       "    <tr style=\"text-align: right;\">\n",
       "      <th></th>\n",
       "      <th>passenger_count (test_set)</th>\n",
       "      <th>passenger_count (train set)</th>\n",
       "    </tr>\n",
       "  </thead>\n",
       "  <tbody>\n",
       "    <tr>\n",
       "      <th>0</th>\n",
       "      <td>23</td>\n",
       "      <td>53.0</td>\n",
       "    </tr>\n",
       "    <tr>\n",
       "      <th>1</th>\n",
       "      <td>443447</td>\n",
       "      <td>1019949.0</td>\n",
       "    </tr>\n",
       "    <tr>\n",
       "      <th>2</th>\n",
       "      <td>90027</td>\n",
       "      <td>207167.0</td>\n",
       "    </tr>\n",
       "    <tr>\n",
       "      <th>3</th>\n",
       "      <td>25686</td>\n",
       "      <td>59104.0</td>\n",
       "    </tr>\n",
       "    <tr>\n",
       "      <th>4</th>\n",
       "      <td>12017</td>\n",
       "      <td>28011.0</td>\n",
       "    </tr>\n",
       "    <tr>\n",
       "      <th>5</th>\n",
       "      <td>33411</td>\n",
       "      <td>77127.0</td>\n",
       "    </tr>\n",
       "    <tr>\n",
       "      <th>6</th>\n",
       "      <td>20521</td>\n",
       "      <td>47771.0</td>\n",
       "    </tr>\n",
       "    <tr>\n",
       "      <th>9</th>\n",
       "      <td>2</td>\n",
       "      <td>NaN</td>\n",
       "    </tr>\n",
       "  </tbody>\n",
       "</table>\n",
       "</div>"
      ],
      "text/plain": [
       "   passenger_count (test_set)  passenger_count (train set)\n",
       "0                          23                         53.0\n",
       "1                      443447                    1019949.0\n",
       "2                       90027                     207167.0\n",
       "3                       25686                      59104.0\n",
       "4                       12017                      28011.0\n",
       "5                       33411                      77127.0\n",
       "6                       20521                      47771.0\n",
       "9                           2                          NaN"
      ]
     },
     "execution_count": 16,
     "metadata": {},
     "output_type": "execute_result"
    }
   ],
   "source": [
    "pd.DataFrame( {'passenger_count (train set)': train_df['passenger_count'].value_counts(),\n",
    "              'passenger_count (test_set)' : test_df['passenger_count'].value_counts()} )"
   ]
  },
  {
   "cell_type": "markdown",
   "metadata": {},
   "source": [
    "We will treat values with 0 passenger_count to 1. <br>"
   ]
  },
  {
   "cell_type": "code",
   "execution_count": 17,
   "metadata": {
    "collapsed": true
   },
   "outputs": [],
   "source": [
    "def clean_passenger_count(dataset):\n",
    "    dataset.loc[ dataset['passenger_count'] == 0, 'passenger_count' ] = 1\n",
    "\n",
    "clean_passenger_count(train_df)\n",
    "clean_passenger_count(test_df)"
   ]
  },
  {
   "cell_type": "markdown",
   "metadata": {},
   "source": [
    "Let's observe the distribution of the passengers by taxi by plotting a chart "
   ]
  },
  {
   "cell_type": "code",
   "execution_count": 18,
   "metadata": {
    "scrolled": false
   },
   "outputs": [
    {
     "data": {
      "text/html": [
       "\n",
       "\n",
       "    <div class=\"bk-root\">\n",
       "        <div class=\"bk-plotdiv\" id=\"ea50c6d4-3fbe-42f9-ae0a-1292857c1181\"></div>\n",
       "    </div>\n",
       "<script type=\"text/javascript\">\n",
       "  \n",
       "  (function(global) {\n",
       "    function now() {\n",
       "      return new Date();\n",
       "    }\n",
       "  \n",
       "    var force = false;\n",
       "  \n",
       "    if (typeof (window._bokeh_onload_callbacks) === \"undefined\" || force === true) {\n",
       "      window._bokeh_onload_callbacks = [];\n",
       "      window._bokeh_is_loading = undefined;\n",
       "    }\n",
       "  \n",
       "  \n",
       "    \n",
       "    if (typeof (window._bokeh_timeout) === \"undefined\" || force === true) {\n",
       "      window._bokeh_timeout = Date.now() + 0;\n",
       "      window._bokeh_failed_load = false;\n",
       "    }\n",
       "  \n",
       "    var NB_LOAD_WARNING = {'data': {'text/html':\n",
       "       \"<div style='background-color: #fdd'>\\n\"+\n",
       "       \"<p>\\n\"+\n",
       "       \"BokehJS does not appear to have successfully loaded. If loading BokehJS from CDN, this \\n\"+\n",
       "       \"may be due to a slow or bad network connection. Possible fixes:\\n\"+\n",
       "       \"</p>\\n\"+\n",
       "       \"<ul>\\n\"+\n",
       "       \"<li>re-rerun `output_notebook()` to attempt to load from CDN again, or</li>\\n\"+\n",
       "       \"<li>use INLINE resources instead, as so:</li>\\n\"+\n",
       "       \"</ul>\\n\"+\n",
       "       \"<code>\\n\"+\n",
       "       \"from bokeh.resources import INLINE\\n\"+\n",
       "       \"output_notebook(resources=INLINE)\\n\"+\n",
       "       \"</code>\\n\"+\n",
       "       \"</div>\"}};\n",
       "  \n",
       "    function display_loaded() {\n",
       "      if (window.Bokeh !== undefined) {\n",
       "        var el = document.getElementById(\"ea50c6d4-3fbe-42f9-ae0a-1292857c1181\");\n",
       "        el.textContent = \"BokehJS \" + Bokeh.version + \" successfully loaded.\";\n",
       "      } else if (Date.now() < window._bokeh_timeout) {\n",
       "        setTimeout(display_loaded, 100)\n",
       "      }\n",
       "    }\n",
       "  \n",
       "    function run_callbacks() {\n",
       "      try {\n",
       "        window._bokeh_onload_callbacks.forEach(function(callback) { callback() });\n",
       "      }\n",
       "      finally {\n",
       "        delete window._bokeh_onload_callbacks\n",
       "      }\n",
       "      console.info(\"Bokeh: all callbacks have finished\");\n",
       "    }\n",
       "  \n",
       "    function load_libs(js_urls, callback) {\n",
       "      window._bokeh_onload_callbacks.push(callback);\n",
       "      if (window._bokeh_is_loading > 0) {\n",
       "        console.log(\"Bokeh: BokehJS is being loaded, scheduling callback at\", now());\n",
       "        return null;\n",
       "      }\n",
       "      if (js_urls == null || js_urls.length === 0) {\n",
       "        run_callbacks();\n",
       "        return null;\n",
       "      }\n",
       "      console.log(\"Bokeh: BokehJS not loaded, scheduling load and callback at\", now());\n",
       "      window._bokeh_is_loading = js_urls.length;\n",
       "      for (var i = 0; i < js_urls.length; i++) {\n",
       "        var url = js_urls[i];\n",
       "        var s = document.createElement('script');\n",
       "        s.src = url;\n",
       "        s.async = false;\n",
       "        s.onreadystatechange = s.onload = function() {\n",
       "          window._bokeh_is_loading--;\n",
       "          if (window._bokeh_is_loading === 0) {\n",
       "            console.log(\"Bokeh: all BokehJS libraries loaded\");\n",
       "            run_callbacks()\n",
       "          }\n",
       "        };\n",
       "        s.onerror = function() {\n",
       "          console.warn(\"failed to load library \" + url);\n",
       "        };\n",
       "        console.log(\"Bokeh: injecting script tag for BokehJS library: \", url);\n",
       "        document.getElementsByTagName(\"head\")[0].appendChild(s);\n",
       "      }\n",
       "    };var element = document.getElementById(\"ea50c6d4-3fbe-42f9-ae0a-1292857c1181\");\n",
       "    if (element == null) {\n",
       "      console.log(\"Bokeh: ERROR: autoload.js configured with elementid 'ea50c6d4-3fbe-42f9-ae0a-1292857c1181' but no matching script tag was found. \")\n",
       "      return false;\n",
       "    }\n",
       "  \n",
       "    var js_urls = [];\n",
       "  \n",
       "    var inline_js = [\n",
       "      function(Bokeh) {\n",
       "        (function() {\n",
       "          var fn = function() {\n",
       "            var docs_json = {\"643db73c-ffc5-48d3-a54f-aec639be72e2\":{\"roots\":{\"references\":[{\"attributes\":{\"plot\":{\"id\":\"daf4e03e-9eea-4306-93da-e3abe26ac6d8\",\"subtype\":\"Chart\",\"type\":\"Plot\"}},\"id\":\"dfd652f9-6b9d-4f57-a207-c32e52d6706e\",\"type\":\"PanTool\"},{\"attributes\":{\"below\":[{\"id\":\"51b9365f-08fb-42c6-9617-447c1b5051cc\",\"type\":\"LinearAxis\"}],\"css_classes\":null,\"left\":[{\"id\":\"3da64311-ea90-4c89-997d-5a5067290706\",\"type\":\"LinearAxis\"}],\"plot_height\":400,\"plot_width\":400,\"renderers\":[{\"id\":\"48faaeb0-3de8-4972-8b3b-8df89561f803\",\"type\":\"BoxAnnotation\"},{\"id\":\"e4865e6b-4b11-400d-b8a4-c77d78673e6d\",\"type\":\"GlyphRenderer\"},{\"id\":\"d4656aea-2c17-4aa3-8082-5cf58fca492f\",\"type\":\"GlyphRenderer\"},{\"id\":\"f003f581-cefe-43a9-849a-361453ed0145\",\"type\":\"Legend\"},{\"id\":\"51b9365f-08fb-42c6-9617-447c1b5051cc\",\"type\":\"LinearAxis\"},{\"id\":\"3da64311-ea90-4c89-997d-5a5067290706\",\"type\":\"LinearAxis\"}],\"title\":{\"id\":\"932b15ed-f808-4ee0-8cca-245688cedeb4\",\"type\":\"Title\"},\"tool_events\":{\"id\":\"0515565b-f1cc-48c0-b803-e313adde21a6\",\"type\":\"ToolEvents\"},\"toolbar\":{\"id\":\"68fc225b-89d4-47f9-a82e-04b55b143e2b\",\"type\":\"Toolbar\"},\"x_range\":{\"id\":\"7a93a787-eea5-439c-9fef-0dda3ce86253\",\"type\":\"Range1d\"},\"x_scale\":{\"id\":\"b56e9802-4dd3-45af-9bc1-51cc2bd05d21\",\"type\":\"LinearScale\"},\"y_range\":{\"id\":\"c4fae86f-9c6f-4b18-945c-c7c414dfc8b8\",\"type\":\"Range1d\"},\"y_scale\":{\"id\":\"d47abe21-acc2-4334-982f-c9255066b4a8\",\"type\":\"LinearScale\"}},\"id\":\"daf4e03e-9eea-4306-93da-e3abe26ac6d8\",\"subtype\":\"Chart\",\"type\":\"Plot\"},{\"attributes\":{},\"id\":\"b56e9802-4dd3-45af-9bc1-51cc2bd05d21\",\"type\":\"LinearScale\"},{\"attributes\":{\"axis_label\":null,\"formatter\":{\"id\":\"0df28b40-2861-4cb4-aa6b-d43cbe5eabb9\",\"type\":\"BasicTickFormatter\"},\"plot\":{\"id\":\"daf4e03e-9eea-4306-93da-e3abe26ac6d8\",\"subtype\":\"Chart\",\"type\":\"Plot\"},\"ticker\":{\"id\":\"d4e94fcc-b61b-4090-9534-39fa2220b86f\",\"type\":\"BasicTicker\"},\"visible\":false},\"id\":\"51b9365f-08fb-42c6-9617-447c1b5051cc\",\"type\":\"LinearAxis\"},{\"attributes\":{\"location\":\"top_left\",\"plot\":{\"id\":\"daf4e03e-9eea-4306-93da-e3abe26ac6d8\",\"subtype\":\"Chart\",\"type\":\"Plot\"}},\"id\":\"f003f581-cefe-43a9-849a-361453ed0145\",\"type\":\"Legend\"},{\"attributes\":{},\"id\":\"0df28b40-2861-4cb4-aa6b-d43cbe5eabb9\",\"type\":\"BasicTickFormatter\"},{\"attributes\":{},\"id\":\"0515565b-f1cc-48c0-b803-e313adde21a6\",\"type\":\"ToolEvents\"},{\"attributes\":{\"angle\":{\"field\":\"text_angle\",\"units\":\"rad\"},\"text_align\":\"center\",\"text_baseline\":\"middle\",\"text_font_size\":{\"value\":\"10pt\"},\"x\":{\"field\":\"x\"},\"y\":{\"field\":\"y\"}},\"id\":\"48ca350f-ca88-421c-a81f-087157d88d5a\",\"type\":\"Text\"},{\"attributes\":{\"callback\":null,\"column_names\":[\"end\",\"level\",\"start\",\"values\",\"inners\",\"outers\",\"centers\",\"color\",\"index\"],\"data\":{\"centers\":{\"__ndarray__\":\"AAAAAAAA8j8AAAAAAADyPwAAAAAAAPI/AAAAAAAA8j8AAAAAAADyPwAAAAAAAPI/\",\"dtype\":\"float64\",\"shape\":[6]},\"color\":[\"#f22c40\",\"#5ab738\",\"#407ee7\",\"#df5320\",\"#00ad9c\",\"#c33ff3\"],\"end\":{\"__ndarray__\":\"gICFxQDQEUBqxXEAKW4VQEviFbRjdhZAlndsbZ3zFkCJgVDlakwYQBktRFT7IRlA\",\"dtype\":\"float64\",\"shape\":[6]},\"index\":[1,2,3,4,5,6],\"inners\":{\"__ndarray__\":\"AAAAAAAAAAAAAAAAAAAAAAAAAAAAAAAAAAAAAAAAAAAAAAAAAAAAAAAAAAAAAAAA\",\"dtype\":\"float64\",\"shape\":[6]},\"level\":{\"__ndarray__\":\"AAAAAAAAAAAAAAAAAAAAAAAAAAAAAAAAAAAAAAAAAAAAAAAAAAAAAAAAAAAAAAAA\",\"dtype\":\"float64\",\"shape\":[6]},\"outers\":{\"__ndarray__\":\"AAAAAAAA+D8AAAAAAAD4PwAAAAAAAPg/AAAAAAAA+D8AAAAAAAD4PwAAAAAAAPg/\",\"dtype\":\"float64\",\"shape\":[6]},\"start\":{\"__ndarray__\":\"AAAAAAAAAACAgIXFANARQGrFcQApbhVAS+IVtGN2FkCWd2xtnfMWQImBUOVqTBhA\",\"dtype\":\"float64\",\"shape\":[6]},\"values\":[1020002,207167,59104,28011,77127,47771]}},\"id\":\"0125cffd-0de3-4ace-8e6b-243d5de07dc1\",\"type\":\"ColumnDataSource\"},{\"attributes\":{\"plot\":{\"id\":\"daf4e03e-9eea-4306-93da-e3abe26ac6d8\",\"subtype\":\"Chart\",\"type\":\"Plot\"}},\"id\":\"d9244077-ca66-4f52-bc0d-fb60d29119eb\",\"type\":\"WheelZoomTool\"},{\"attributes\":{\"bottom_units\":\"screen\",\"fill_alpha\":{\"value\":0.5},\"fill_color\":{\"value\":\"lightgrey\"},\"left_units\":\"screen\",\"level\":\"overlay\",\"line_alpha\":{\"value\":1.0},\"line_color\":{\"value\":\"black\"},\"line_dash\":[4,4],\"line_width\":{\"value\":2},\"plot\":null,\"render_mode\":\"css\",\"right_units\":\"screen\",\"top_units\":\"screen\"},\"id\":\"48faaeb0-3de8-4972-8b3b-8df89561f803\",\"type\":\"BoxAnnotation\"},{\"attributes\":{\"callback\":null,\"end\":1.6500000000000001,\"start\":-1.6500000000000001},\"id\":\"7a93a787-eea5-439c-9fef-0dda3ce86253\",\"type\":\"Range1d\"},{\"attributes\":{\"callback\":null,\"column_names\":[\"text\",\"x\",\"y\",\"text_angle\"],\"data\":{\"text\":[\"1\",\"2\",\"3\",\"4\",\"5\",\"6\"],\"text_angle\":{\"__ndarray__\":\"AAAAAAAAAAAAAAAAAAAAAAAAAAAAAAAAAAAAAAAAAAAAAAAAAAAAAAAAAAAAAAAA\",\"dtype\":\"float64\",\"shape\":[6]},\"x\":[-0.6859888233177027,0.21573995914395896,0.786543401493114,0.9244019074534561,1.0460282321873353,1.1188888081999377],\"y\":[0.8916525860912385,-1.1041201338751878,-0.8043472369366617,-0.6411755715062858,-0.41406513674425427,-0.11710181418288491]}},\"id\":\"4bc0d4ae-a993-4459-a339-b4c4cf7cbd72\",\"type\":\"ColumnDataSource\"},{\"attributes\":{\"plot\":{\"id\":\"daf4e03e-9eea-4306-93da-e3abe26ac6d8\",\"subtype\":\"Chart\",\"type\":\"Plot\"}},\"id\":\"2d56ef60-2567-4c87-a34e-64523e98693b\",\"type\":\"SaveTool\"},{\"attributes\":{\"plot\":{\"id\":\"daf4e03e-9eea-4306-93da-e3abe26ac6d8\",\"subtype\":\"Chart\",\"type\":\"Plot\"}},\"id\":\"1118d482-111a-44b0-8fe7-f49b5d75b045\",\"type\":\"ResetTool\"},{\"attributes\":{\"axis_label\":null,\"formatter\":{\"id\":\"db2b6e4a-45c6-455f-a302-8982773c92f8\",\"type\":\"BasicTickFormatter\"},\"plot\":{\"id\":\"daf4e03e-9eea-4306-93da-e3abe26ac6d8\",\"subtype\":\"Chart\",\"type\":\"Plot\"},\"ticker\":{\"id\":\"ceacd6b4-d94d-45d5-bb00-748c39aa0e05\",\"type\":\"BasicTicker\"},\"visible\":false},\"id\":\"3da64311-ea90-4c89-997d-5a5067290706\",\"type\":\"LinearAxis\"},{\"attributes\":{\"end_angle\":{\"field\":\"end\",\"units\":\"rad\"},\"fill_alpha\":{\"value\":0.8},\"fill_color\":{\"field\":\"color\"},\"inner_radius\":{\"field\":\"inners\",\"units\":\"data\"},\"line_color\":{\"value\":\"White\"},\"outer_radius\":{\"field\":\"outers\",\"units\":\"data\"},\"start_angle\":{\"field\":\"start\",\"units\":\"rad\"},\"x\":{\"value\":0},\"y\":{\"value\":0}},\"id\":\"c905cf31-9bb0-4302-9269-b6e9eee993dd\",\"type\":\"AnnularWedge\"},{\"attributes\":{\"callback\":null,\"end\":1.6500000000000001,\"start\":-1.6500000000000001},\"id\":\"c4fae86f-9c6f-4b18-945c-c7c414dfc8b8\",\"type\":\"Range1d\"},{\"attributes\":{\"data_source\":{\"id\":\"4bc0d4ae-a993-4459-a339-b4c4cf7cbd72\",\"type\":\"ColumnDataSource\"},\"glyph\":{\"id\":\"48ca350f-ca88-421c-a81f-087157d88d5a\",\"type\":\"Text\"},\"hover_glyph\":null,\"muted_glyph\":null},\"id\":\"d4656aea-2c17-4aa3-8082-5cf58fca492f\",\"type\":\"GlyphRenderer\"},{\"attributes\":{},\"id\":\"ceacd6b4-d94d-45d5-bb00-748c39aa0e05\",\"type\":\"BasicTicker\"},{\"attributes\":{},\"id\":\"db2b6e4a-45c6-455f-a302-8982773c92f8\",\"type\":\"BasicTickFormatter\"},{\"attributes\":{\"data_source\":{\"id\":\"0125cffd-0de3-4ace-8e6b-243d5de07dc1\",\"type\":\"ColumnDataSource\"},\"glyph\":{\"id\":\"c905cf31-9bb0-4302-9269-b6e9eee993dd\",\"type\":\"AnnularWedge\"},\"hover_glyph\":null,\"muted_glyph\":null},\"id\":\"e4865e6b-4b11-400d-b8a4-c77d78673e6d\",\"type\":\"GlyphRenderer\"},{\"attributes\":{},\"id\":\"d4e94fcc-b61b-4090-9534-39fa2220b86f\",\"type\":\"BasicTicker\"},{\"attributes\":{\"plot\":{\"id\":\"daf4e03e-9eea-4306-93da-e3abe26ac6d8\",\"subtype\":\"Chart\",\"type\":\"Plot\"}},\"id\":\"4de1d312-6e8d-4e33-a340-1bec3a083bc7\",\"type\":\"HelpTool\"},{\"attributes\":{\"plot\":null,\"text\":null},\"id\":\"932b15ed-f808-4ee0-8cca-245688cedeb4\",\"type\":\"Title\"},{\"attributes\":{\"callback\":null,\"plot\":{\"id\":\"daf4e03e-9eea-4306-93da-e3abe26ac6d8\",\"subtype\":\"Chart\",\"type\":\"Plot\"},\"tooltips\":[[\"Value\",\"@values\"]]},\"id\":\"dca828e9-92d0-4023-8bc3-951f58467e84\",\"type\":\"HoverTool\"},{\"attributes\":{},\"id\":\"d47abe21-acc2-4334-982f-c9255066b4a8\",\"type\":\"LinearScale\"},{\"attributes\":{\"active_drag\":\"auto\",\"active_inspect\":\"auto\",\"active_scroll\":\"auto\",\"active_tap\":\"auto\",\"tools\":[{\"id\":\"dfd652f9-6b9d-4f57-a207-c32e52d6706e\",\"type\":\"PanTool\"},{\"id\":\"d9244077-ca66-4f52-bc0d-fb60d29119eb\",\"type\":\"WheelZoomTool\"},{\"id\":\"8c34216a-1028-48ac-885c-c9261bec6b32\",\"type\":\"BoxZoomTool\"},{\"id\":\"2d56ef60-2567-4c87-a34e-64523e98693b\",\"type\":\"SaveTool\"},{\"id\":\"1118d482-111a-44b0-8fe7-f49b5d75b045\",\"type\":\"ResetTool\"},{\"id\":\"4de1d312-6e8d-4e33-a340-1bec3a083bc7\",\"type\":\"HelpTool\"},{\"id\":\"dca828e9-92d0-4023-8bc3-951f58467e84\",\"type\":\"HoverTool\"}]},\"id\":\"68fc225b-89d4-47f9-a82e-04b55b143e2b\",\"type\":\"Toolbar\"},{\"attributes\":{\"overlay\":{\"id\":\"48faaeb0-3de8-4972-8b3b-8df89561f803\",\"type\":\"BoxAnnotation\"},\"plot\":{\"id\":\"daf4e03e-9eea-4306-93da-e3abe26ac6d8\",\"subtype\":\"Chart\",\"type\":\"Plot\"}},\"id\":\"8c34216a-1028-48ac-885c-c9261bec6b32\",\"type\":\"BoxZoomTool\"}],\"root_ids\":[\"daf4e03e-9eea-4306-93da-e3abe26ac6d8\"]},\"title\":\"Bokeh Application\",\"version\":\"0.12.6\"}};\n",
       "            var render_items = [{\"docid\":\"643db73c-ffc5-48d3-a54f-aec639be72e2\",\"elementid\":\"ea50c6d4-3fbe-42f9-ae0a-1292857c1181\",\"modelid\":\"daf4e03e-9eea-4306-93da-e3abe26ac6d8\"}];\n",
       "            \n",
       "            Bokeh.embed.embed_items(docs_json, render_items);\n",
       "          };\n",
       "          if (document.readyState != \"loading\") fn();\n",
       "          else document.addEventListener(\"DOMContentLoaded\", fn);\n",
       "        })();\n",
       "      },\n",
       "      function(Bokeh) {\n",
       "      }\n",
       "    ];\n",
       "  \n",
       "    function run_inline_js() {\n",
       "      \n",
       "      if ((window.Bokeh !== undefined) || (force === true)) {\n",
       "        for (var i = 0; i < inline_js.length; i++) {\n",
       "          inline_js[i](window.Bokeh);\n",
       "        }if (force === true) {\n",
       "          display_loaded();\n",
       "        }} else if (Date.now() < window._bokeh_timeout) {\n",
       "        setTimeout(run_inline_js, 100);\n",
       "      } else if (!window._bokeh_failed_load) {\n",
       "        console.log(\"Bokeh: BokehJS failed to load within specified timeout.\");\n",
       "        window._bokeh_failed_load = true;\n",
       "      } else if (force !== true) {\n",
       "        var cell = $(document.getElementById(\"ea50c6d4-3fbe-42f9-ae0a-1292857c1181\")).parents('.cell').data().cell;\n",
       "        cell.output_area.append_execute_result(NB_LOAD_WARNING)\n",
       "      }\n",
       "  \n",
       "    }\n",
       "  \n",
       "    if (window._bokeh_is_loading === 0) {\n",
       "      console.log(\"Bokeh: BokehJS loaded, going straight to plotting\");\n",
       "      run_inline_js();\n",
       "    } else {\n",
       "      load_libs(js_urls, function() {\n",
       "        console.log(\"Bokeh: BokehJS plotting callback run at\", now());\n",
       "        run_inline_js();\n",
       "      });\n",
       "    }\n",
       "  }(this));\n",
       "</script>"
      ]
     },
     "metadata": {},
     "output_type": "display_data"
    }
   ],
   "source": [
    "# Pie chart with Bokeh\n",
    "pie_chart = Donut(train_df['passenger_count'].value_counts())\n",
    "show(pie_chart)"
   ]
  },
  {
   "cell_type": "markdown",
   "metadata": {},
   "source": [
    "<u>Trip duration</u>"
   ]
  },
  {
   "cell_type": "code",
   "execution_count": 19,
   "metadata": {
    "scrolled": false
   },
   "outputs": [
    {
     "data": {
      "text/plain": [
       "(1862, 11)"
      ]
     },
     "execution_count": 19,
     "metadata": {},
     "output_type": "execute_result"
    }
   ],
   "source": [
    "train_df.loc[ train_df['trip_duration'] > 80000, : ].shape"
   ]
  },
  {
   "cell_type": "markdown",
   "metadata": {},
   "source": [
    "About 1900 trips accounted a trip duration of about 80000s, which is nearly 1 day! <br>"
   ]
  },
  {
   "cell_type": "code",
   "execution_count": 20,
   "metadata": {},
   "outputs": [
    {
     "data": {
      "text/html": [
       "<div>\n",
       "<style>\n",
       "    .dataframe thead tr:only-child th {\n",
       "        text-align: right;\n",
       "    }\n",
       "\n",
       "    .dataframe thead th {\n",
       "        text-align: left;\n",
       "    }\n",
       "\n",
       "    .dataframe tbody tr th {\n",
       "        vertical-align: top;\n",
       "    }\n",
       "</style>\n",
       "<table border=\"1\" class=\"dataframe\">\n",
       "  <thead>\n",
       "    <tr style=\"text-align: right;\">\n",
       "      <th></th>\n",
       "      <th>id</th>\n",
       "      <th>vendor_id</th>\n",
       "      <th>pickup_datetime</th>\n",
       "      <th>dropoff_datetime</th>\n",
       "      <th>passenger_count</th>\n",
       "      <th>pickup_longitude</th>\n",
       "      <th>pickup_latitude</th>\n",
       "      <th>dropoff_longitude</th>\n",
       "      <th>dropoff_latitude</th>\n",
       "      <th>store_and_fwd_flag</th>\n",
       "      <th>trip_duration</th>\n",
       "    </tr>\n",
       "  </thead>\n",
       "  <tbody>\n",
       "    <tr>\n",
       "      <th>531</th>\n",
       "      <td>id3307903</td>\n",
       "      <td>2</td>\n",
       "      <td>2016-02-20 04:03:06</td>\n",
       "      <td>2016-02-21 03:33:00</td>\n",
       "      <td>3</td>\n",
       "      <td>-74.008102</td>\n",
       "      <td>40.741489</td>\n",
       "      <td>-74.009956</td>\n",
       "      <td>40.714611</td>\n",
       "      <td>N</td>\n",
       "      <td>84594</td>\n",
       "    </tr>\n",
       "    <tr>\n",
       "      <th>1134</th>\n",
       "      <td>id1091477</td>\n",
       "      <td>2</td>\n",
       "      <td>2016-05-07 18:36:22</td>\n",
       "      <td>2016-05-08 18:32:11</td>\n",
       "      <td>1</td>\n",
       "      <td>-73.990242</td>\n",
       "      <td>40.750919</td>\n",
       "      <td>-73.976280</td>\n",
       "      <td>40.750889</td>\n",
       "      <td>N</td>\n",
       "      <td>86149</td>\n",
       "    </tr>\n",
       "    <tr>\n",
       "      <th>1865</th>\n",
       "      <td>id3431345</td>\n",
       "      <td>2</td>\n",
       "      <td>2016-06-07 12:58:48</td>\n",
       "      <td>2016-06-08 12:58:00</td>\n",
       "      <td>6</td>\n",
       "      <td>-73.954956</td>\n",
       "      <td>40.777649</td>\n",
       "      <td>-73.981033</td>\n",
       "      <td>40.743713</td>\n",
       "      <td>N</td>\n",
       "      <td>86352</td>\n",
       "    </tr>\n",
       "    <tr>\n",
       "      <th>3442</th>\n",
       "      <td>id1487069</td>\n",
       "      <td>2</td>\n",
       "      <td>2016-02-13 00:21:49</td>\n",
       "      <td>2016-02-14 00:19:05</td>\n",
       "      <td>1</td>\n",
       "      <td>-73.968590</td>\n",
       "      <td>40.799217</td>\n",
       "      <td>-73.979584</td>\n",
       "      <td>40.784714</td>\n",
       "      <td>N</td>\n",
       "      <td>86236</td>\n",
       "    </tr>\n",
       "    <tr>\n",
       "      <th>4172</th>\n",
       "      <td>id3674870</td>\n",
       "      <td>2</td>\n",
       "      <td>2016-03-18 11:54:20</td>\n",
       "      <td>2016-03-19 11:34:17</td>\n",
       "      <td>1</td>\n",
       "      <td>-73.989090</td>\n",
       "      <td>40.736992</td>\n",
       "      <td>-73.972336</td>\n",
       "      <td>40.751511</td>\n",
       "      <td>N</td>\n",
       "      <td>85197</td>\n",
       "    </tr>\n",
       "  </tbody>\n",
       "</table>\n",
       "</div>"
      ],
      "text/plain": [
       "             id  vendor_id      pickup_datetime     dropoff_datetime  \\\n",
       "531   id3307903          2  2016-02-20 04:03:06  2016-02-21 03:33:00   \n",
       "1134  id1091477          2  2016-05-07 18:36:22  2016-05-08 18:32:11   \n",
       "1865  id3431345          2  2016-06-07 12:58:48  2016-06-08 12:58:00   \n",
       "3442  id1487069          2  2016-02-13 00:21:49  2016-02-14 00:19:05   \n",
       "4172  id3674870          2  2016-03-18 11:54:20  2016-03-19 11:34:17   \n",
       "\n",
       "      passenger_count  pickup_longitude  pickup_latitude  dropoff_longitude  \\\n",
       "531                 3        -74.008102        40.741489         -74.009956   \n",
       "1134                1        -73.990242        40.750919         -73.976280   \n",
       "1865                6        -73.954956        40.777649         -73.981033   \n",
       "3442                1        -73.968590        40.799217         -73.979584   \n",
       "4172                1        -73.989090        40.736992         -73.972336   \n",
       "\n",
       "      dropoff_latitude store_and_fwd_flag  trip_duration  \n",
       "531          40.714611                  N          84594  \n",
       "1134         40.750889                  N          86149  \n",
       "1865         40.743713                  N          86352  \n",
       "3442         40.784714                  N          86236  \n",
       "4172         40.751511                  N          85197  "
      ]
     },
     "execution_count": 20,
     "metadata": {},
     "output_type": "execute_result"
    }
   ],
   "source": [
    "train_df.loc[ train_df['trip_duration'] > 70000, : ].head()"
   ]
  },
  {
   "cell_type": "markdown",
   "metadata": {
    "collapsed": true
   },
   "source": [
    "<h3 style=\"text-align:center\">Feature Engineering</h3>"
   ]
  },
  {
   "cell_type": "markdown",
   "metadata": {},
   "source": [
    "<u>Datetime</u>"
   ]
  },
  {
   "cell_type": "code",
   "execution_count": 21,
   "metadata": {
    "collapsed": true,
    "scrolled": true
   },
   "outputs": [],
   "source": [
    "# convert feature to datetime\n",
    "train_df['pickup_datetime'] = pd.to_datetime(train_df['pickup_datetime'], \\\n",
    "                    format=\"%Y-%m-%d %H:%M:%S\") \n",
    "test_df['pickup_datetime'] = pd.to_datetime(test_df['pickup_datetime'], \\\n",
    "                    format=\"%Y-%m-%d %H:%M:%S\") \n",
    "\n",
    "# Extract weekday number (from Monday=0 to Sunday=6)\n",
    "train_df['DayOfWeekNum'] = train_df['pickup_datetime'].dt.dayofweek\n",
    "test_df['DayOfWeekNum'] = test_df['pickup_datetime'].dt.dayofweek\n",
    "\n",
    "# Extract Month \n",
    "train_df['Month'] = train_df['pickup_datetime'].dt.month\n",
    "test_df['Month'] = test_df['pickup_datetime'].dt.month\n",
    "\n",
    "# Extract the Month's day from 0 to 31\n",
    "train_df['DayOfMonth'] = train_df['pickup_datetime'].dt.day\n",
    "test_df['DayOfMonth'] = test_df['pickup_datetime'].dt.day\n",
    "\n",
    "\n",
    "# Extract the Hour of the day\n",
    "train_df['HourOfDay'] = train_df['pickup_datetime'].dt.hour\n",
    "test_df['HourOfDay'] = test_df['pickup_datetime'].dt.hour\n"
   ]
  },
  {
   "cell_type": "code",
   "execution_count": 22,
   "metadata": {
    "scrolled": true
   },
   "outputs": [
    {
     "data": {
      "text/plain": [
       "((1439182, 15), (625134, 13))"
      ]
     },
     "execution_count": 22,
     "metadata": {},
     "output_type": "execute_result"
    }
   ],
   "source": [
    "train_df.shape, test_df.shape"
   ]
  },
  {
   "cell_type": "markdown",
   "metadata": {},
   "source": [
    "<u>Weekend</u>"
   ]
  },
  {
   "cell_type": "code",
   "execution_count": 23,
   "metadata": {
    "collapsed": true
   },
   "outputs": [],
   "source": [
    "# train_df['date'] = train_df['pickup_datetime'].dt.date"
   ]
  },
  {
   "cell_type": "code",
   "execution_count": 24,
   "metadata": {
    "collapsed": true
   },
   "outputs": [],
   "source": [
    "# train_df['weekend'] = np.zeros(train_df.shape[0]).astype(int) \n",
    "\n",
    "# train_df['weekend'] = train_df.loc[ train_df['DayOfWeekNum'] == 5 | \\\n",
    "#              train_df['DayOfWeekNum'] == 6, 'DayOfWeekNum'] = 1\n",
    "\n",
    "# train_df.loc[ train_df['DayOfWeekNum'] >= 5, 'weekend'] = 1"
   ]
  },
  {
   "cell_type": "code",
   "execution_count": 25,
   "metadata": {},
   "outputs": [],
   "source": [
    "def get_weekend(dataset):\n",
    "    \"\"\" \n",
    "    Create a new column filled with 0.\n",
    "    Add a 1 element if we are in weekend, i.e. Saturday or Sunday\n",
    "    since DayOFWeekNum start at Monday=0, we are in weekend if the\n",
    "    number is DayOfWeekNum >= 5.\n",
    "    \"\"\"\n",
    "    dataset['weekend'] = np.zeros(dataset.shape[0]).astype(int)\n",
    "\n",
    "    dataset.loc[ dataset['DayOfWeekNum'] >= 5, 'weekend'] = 1\n",
    "    \n",
    "get_weekend(train_df)\n",
    "get_weekend(test_df)"
   ]
  },
  {
   "cell_type": "code",
   "execution_count": 26,
   "metadata": {
    "scrolled": true
   },
   "outputs": [
    {
     "data": {
      "image/png": "[encoded data removed]",
      "text/plain": [
       "<matplotlib.figure.Figure at 0x24501ebcc88>"
      ]
     },
     "metadata": {},
     "output_type": "display_data"
    }
   ],
   "source": [
    "fig, ax = plt.subplots()\n",
    "\n",
    "sns.countplot(x='Month', \n",
    "             data=train_df)\n",
    "\n",
    "labels = [item.get_text() for item in ax.get_xticklabels()]\n",
    "labels = ['January', 'February', 'March', 'April', 'May', 'June']\n",
    "\n",
    "ax.set_xticklabels(labels)\n",
    "\n",
    "plt.xticks(rotation=90)\n",
    "plt.title('Trips by Month', size=15)\n",
    "plt.ylabel('Number of trip')\n",
    "\n",
    "plt.show()"
   ]
  },
  {
   "cell_type": "markdown",
   "metadata": {},
   "source": [
    "Interestingly, the data provided only offers the trips of the first half of 2016. <br>\n",
    "Furthermore, we observe that March was the most successful month in terms of number of trips. <br>\n",
    "On the other hand January is not as successful, probably due to the fact that January is usually the coldest month of the year for New York."
   ]
  },
  {
   "cell_type": "code",
   "execution_count": 27,
   "metadata": {},
   "outputs": [
    {
     "data": {
      "image/png": "[encoded data removed]",
      "text/plain": [
       "<matplotlib.figure.Figure at 0x24501dd3cc0>"
      ]
     },
     "metadata": {},
     "output_type": "display_data"
    }
   ],
   "source": [
    "fig, ax = plt.subplots()\n",
    "\n",
    "sns.countplot(x='DayOfWeekNum',\n",
    "              data=train_df)\n",
    "labels = [item.get_text() for item in ax.get_xticklabels()]\n",
    "labels = ['Monday', 'Tuesday', 'Wednesday', 'Thursday', \\\n",
    "         'Friday', 'Saturday', 'Sunday']\n",
    "\n",
    "ax.set_xticklabels(labels)\n",
    "\n",
    "plt.xticks(rotation=90)\n",
    "plt.title('Trips by Week Day', size=15)\n",
    "plt.xlabel('Day of the Week')\n",
    "plt.ylabel('Number of trip')\n",
    "\n",
    "\n",
    "plt.show()"
   ]
  },
  {
   "cell_type": "markdown",
   "metadata": {
    "collapsed": true
   },
   "source": [
    "This previous plot display how the traffic of taxis is doing during the weeks. <br>\n",
    "Friday seems to be the most profitable day with Saturday while Sunday and Monday are the less demanding of taxis."
   ]
  },
  {
   "cell_type": "code",
   "execution_count": 28,
   "metadata": {
    "scrolled": true
   },
   "outputs": [
    {
     "data": {
      "image/png": "[encoded data removed]",
      "text/plain": [
       "<matplotlib.figure.Figure at 0x24501ebc550>"
      ]
     },
     "metadata": {},
     "output_type": "display_data"
    }
   ],
   "source": [
    "plt.figure(figsize=(12,8))\n",
    "\n",
    "sns.countplot(x='DayOfMonth',\n",
    "             data=train_df)\n",
    "\n",
    "plt.title('Trips by Day of the Month', size=15)\n",
    "plt.xlabel('Day of Month')\n",
    "plt.ylabel('Number of trip')\n",
    "\n",
    "plt.show()"
   ]
  },
  {
   "cell_type": "markdown",
   "metadata": {},
   "source": [
    "The repartition is quite well distributed. <br>\n",
    "One might notice that the 31st there is way less trips but that is due to the fact there is way less 31st number in the year. <br>\n",
    "In 2016, only January, March and May had 31 days in the first half of the year. <br>\n",
    "Days with 31 days also include day 30 so end of months are quite low regarding number of trips from taxis comparing to other days."
   ]
  },
  {
   "cell_type": "code",
   "execution_count": 29,
   "metadata": {
    "scrolled": true
   },
   "outputs": [
    {
     "data": {
      "image/png": "[encoded data removed]",
      "text/plain": [
       "<matplotlib.figure.Figure at 0x24501ebcfd0>"
      ]
     },
     "metadata": {},
     "output_type": "display_data"
    }
   ],
   "source": [
    "plt.figure(figsize=(8,6))\n",
    "\n",
    "sns.countplot(x='HourOfDay',\n",
    "           data=train_df)\n",
    "\n",
    "plt.title('Traffic of Taxis during a day', size=15)\n",
    "plt.xlabel('Hour of the day')\n",
    "plt.ylabel('Number of trip')\n",
    "\n",
    "plt.show()"
   ]
  },
  {
   "cell_type": "markdown",
   "metadata": {},
   "source": [
    "Clearly from this plot we can infer that peak times are [6pm : 7pm] and off-peak times are [4am : 5pm].\n",
    "From 6am the trend is growing up to 7pm. And past this hour, the trend is going the other way."
   ]
  },
  {
   "cell_type": "code",
   "execution_count": 30,
   "metadata": {},
   "outputs": [
    {
     "data": {
      "text/plain": [
       "<matplotlib.axes._subplots.AxesSubplot at 0x2450197cfd0>"
      ]
     },
     "execution_count": 30,
     "metadata": {},
     "output_type": "execute_result"
    },
    {
     "data": {
      "image/png": "[encoded data removed]",
      "text/plain": [
       "<matplotlib.figure.Figure at 0x24501d46cf8>"
      ]
     },
     "metadata": {},
     "output_type": "display_data"
    }
   ],
   "source": [
    "sns.countplot(train_df['passenger_count'])"
   ]
  },
  {
   "cell_type": "markdown",
   "metadata": {},
   "source": [
    "<u>Passenger count</u>"
   ]
  },
  {
   "cell_type": "markdown",
   "metadata": {},
   "source": [
    "The above plot suggests that there are more people taking the taxi alone, meaning that the other categories will contains less information and be more likely to hinder our machine learning algorithms. Compressing into fewer categories may be useful and that is the approach we will be applying."
   ]
  },
  {
   "cell_type": "code",
   "execution_count": 31,
   "metadata": {},
   "outputs": [
    {
     "data": {
      "text/plain": [
       "1    1020002\n",
       "2     207167\n",
       "5      77127\n",
       "3      59104\n",
       "6      47771\n",
       "4      28011\n",
       "Name: passenger_count, dtype: int64"
      ]
     },
     "execution_count": 31,
     "metadata": {},
     "output_type": "execute_result"
    }
   ],
   "source": [
    "train_df['passenger_count'].value_counts()"
   ]
  },
  {
   "cell_type": "markdown",
   "metadata": {},
   "source": [
    "We will group the number of passenger to be less sparse."
   ]
  },
  {
   "cell_type": "code",
   "execution_count": 32,
   "metadata": {
    "collapsed": true
   },
   "outputs": [],
   "source": [
    "def transform_passenger_count(dataset):\n",
    "    dataset.loc[ dataset['passenger_count'] >= 3, 'passenger_count' ] = 3\n",
    "    \n",
    "transform_passenger_count(train_df)\n",
    "transform_passenger_count(test_df)\n",
    "\n",
    "# train_df.loc[ train_df['passenger_count'] >= 3, 'passenger_count' ] = 3"
   ]
  },
  {
   "cell_type": "code",
   "execution_count": 33,
   "metadata": {
    "scrolled": true
   },
   "outputs": [
    {
     "data": {
      "text/html": [
       "\n",
       "\n",
       "    <div class=\"bk-root\">\n",
       "        <div class=\"bk-plotdiv\" id=\"65ba5fc5-4949-48b6-a1ca-46ad8cb41693\"></div>\n",
       "    </div>\n",
       "<script type=\"text/javascript\">\n",
       "  \n",
       "  (function(global) {\n",
       "    function now() {\n",
       "      return new Date();\n",
       "    }\n",
       "  \n",
       "    var force = false;\n",
       "  \n",
       "    if (typeof (window._bokeh_onload_callbacks) === \"undefined\" || force === true) {\n",
       "      window._bokeh_onload_callbacks = [];\n",
       "      window._bokeh_is_loading = undefined;\n",
       "    }\n",
       "  \n",
       "  \n",
       "    \n",
       "    if (typeof (window._bokeh_timeout) === \"undefined\" || force === true) {\n",
       "      window._bokeh_timeout = Date.now() + 0;\n",
       "      window._bokeh_failed_load = false;\n",
       "    }\n",
       "  \n",
       "    var NB_LOAD_WARNING = {'data': {'text/html':\n",
       "       \"<div style='background-color: #fdd'>\\n\"+\n",
       "       \"<p>\\n\"+\n",
       "       \"BokehJS does not appear to have successfully loaded. If loading BokehJS from CDN, this \\n\"+\n",
       "       \"may be due to a slow or bad network connection. Possible fixes:\\n\"+\n",
       "       \"</p>\\n\"+\n",
       "       \"<ul>\\n\"+\n",
       "       \"<li>re-rerun `output_notebook()` to attempt to load from CDN again, or</li>\\n\"+\n",
       "       \"<li>use INLINE resources instead, as so:</li>\\n\"+\n",
       "       \"</ul>\\n\"+\n",
       "       \"<code>\\n\"+\n",
       "       \"from bokeh.resources import INLINE\\n\"+\n",
       "       \"output_notebook(resources=INLINE)\\n\"+\n",
       "       \"</code>\\n\"+\n",
       "       \"</div>\"}};\n",
       "  \n",
       "    function display_loaded() {\n",
       "      if (window.Bokeh !== undefined) {\n",
       "        var el = document.getElementById(\"65ba5fc5-4949-48b6-a1ca-46ad8cb41693\");\n",
       "        el.textContent = \"BokehJS \" + Bokeh.version + \" successfully loaded.\";\n",
       "      } else if (Date.now() < window._bokeh_timeout) {\n",
       "        setTimeout(display_loaded, 100)\n",
       "      }\n",
       "    }\n",
       "  \n",
       "    function run_callbacks() {\n",
       "      try {\n",
       "        window._bokeh_onload_callbacks.forEach(function(callback) { callback() });\n",
       "      }\n",
       "      finally {\n",
       "        delete window._bokeh_onload_callbacks\n",
       "      }\n",
       "      console.info(\"Bokeh: all callbacks have finished\");\n",
       "    }\n",
       "  \n",
       "    function load_libs(js_urls, callback) {\n",
       "      window._bokeh_onload_callbacks.push(callback);\n",
       "      if (window._bokeh_is_loading > 0) {\n",
       "        console.log(\"Bokeh: BokehJS is being loaded, scheduling callback at\", now());\n",
       "        return null;\n",
       "      }\n",
       "      if (js_urls == null || js_urls.length === 0) {\n",
       "        run_callbacks();\n",
       "        return null;\n",
       "      }\n",
       "      console.log(\"Bokeh: BokehJS not loaded, scheduling load and callback at\", now());\n",
       "      window._bokeh_is_loading = js_urls.length;\n",
       "      for (var i = 0; i < js_urls.length; i++) {\n",
       "        var url = js_urls[i];\n",
       "        var s = document.createElement('script');\n",
       "        s.src = url;\n",
       "        s.async = false;\n",
       "        s.onreadystatechange = s.onload = function() {\n",
       "          window._bokeh_is_loading--;\n",
       "          if (window._bokeh_is_loading === 0) {\n",
       "            console.log(\"Bokeh: all BokehJS libraries loaded\");\n",
       "            run_callbacks()\n",
       "          }\n",
       "        };\n",
       "        s.onerror = function() {\n",
       "          console.warn(\"failed to load library \" + url);\n",
       "        };\n",
       "        console.log(\"Bokeh: injecting script tag for BokehJS library: \", url);\n",
       "        document.getElementsByTagName(\"head\")[0].appendChild(s);\n",
       "      }\n",
       "    };var element = document.getElementById(\"65ba5fc5-4949-48b6-a1ca-46ad8cb41693\");\n",
       "    if (element == null) {\n",
       "      console.log(\"Bokeh: ERROR: autoload.js configured with elementid '65ba5fc5-4949-48b6-a1ca-46ad8cb41693' but no matching script tag was found. \")\n",
       "      return false;\n",
       "    }\n",
       "  \n",
       "    var js_urls = [];\n",
       "  \n",
       "    var inline_js = [\n",
       "      function(Bokeh) {\n",
       "        (function() {\n",
       "          var fn = function() {\n",
       "            var docs_json = {\"127814b9-db25-4de6-8ed1-2dd6b9dd3035\":{\"roots\":{\"references\":[{\"attributes\":{\"axis_label\":null,\"formatter\":{\"id\":\"c354096d-b189-4cca-b6cb-b1505463398b\",\"type\":\"BasicTickFormatter\"},\"plot\":{\"id\":\"f85e4169-063d-440b-8d34-6c652568f504\",\"subtype\":\"Chart\",\"type\":\"Plot\"},\"ticker\":{\"id\":\"34663e97-fcb9-4197-9c86-8ffa29050499\",\"type\":\"BasicTicker\"},\"visible\":false},\"id\":\"a06b555b-30e3-4306-b575-a7ba9a7f6146\",\"type\":\"LinearAxis\"},{\"attributes\":{\"plot\":{\"id\":\"f85e4169-063d-440b-8d34-6c652568f504\",\"subtype\":\"Chart\",\"type\":\"Plot\"}},\"id\":\"630e6b49-6d4f-455d-a934-91c577f38f21\",\"type\":\"PanTool\"},{\"attributes\":{},\"id\":\"7451fb6d-5a2e-422e-955d-deab3c036d48\",\"type\":\"BasicTicker\"},{\"attributes\":{\"plot\":null,\"text\":null},\"id\":\"c30a772c-1e75-409a-80b8-c14e3d06743d\",\"type\":\"Title\"},{\"attributes\":{\"active_drag\":\"auto\",\"active_inspect\":\"auto\",\"active_scroll\":\"auto\",\"active_tap\":\"auto\",\"tools\":[{\"id\":\"630e6b49-6d4f-455d-a934-91c577f38f21\",\"type\":\"PanTool\"},{\"id\":\"c9dabaf1-f908-4b3d-a49c-712219515823\",\"type\":\"WheelZoomTool\"},{\"id\":\"47980a4c-f71e-4321-b435-850a2835c328\",\"type\":\"BoxZoomTool\"},{\"id\":\"552ddc48-9a32-41ea-a29f-89aeab5ccdb8\",\"type\":\"SaveTool\"},{\"id\":\"2650eb54-1cae-4226-8fd8-47feb7c8b514\",\"type\":\"ResetTool\"},{\"id\":\"97c200ed-8c6c-4c9e-ab2c-f219b2c235a4\",\"type\":\"HelpTool\"},{\"id\":\"e8084c31-72f4-450e-8a79-0d3f870c6b77\",\"type\":\"HoverTool\"}]},\"id\":\"3ead6014-3071-499f-9f19-6911e84620fb\",\"type\":\"Toolbar\"},{\"attributes\":{\"callback\":null,\"end\":1.6500000000000001,\"start\":-1.6500000000000001},\"id\":\"4dd3330d-7fb8-41a4-a279-813a22952311\",\"type\":\"Range1d\"},{\"attributes\":{\"callback\":null,\"plot\":{\"id\":\"f85e4169-063d-440b-8d34-6c652568f504\",\"subtype\":\"Chart\",\"type\":\"Plot\"},\"tooltips\":[[\"Value\",\"@values\"]]},\"id\":\"e8084c31-72f4-450e-8a79-0d3f870c6b77\",\"type\":\"HoverTool\"},{\"attributes\":{},\"id\":\"ba3ab978-b4f3-4981-8dd4-a16649bcbdb8\",\"type\":\"BasicTickFormatter\"},{\"attributes\":{\"location\":\"top_left\",\"plot\":{\"id\":\"f85e4169-063d-440b-8d34-6c652568f504\",\"subtype\":\"Chart\",\"type\":\"Plot\"}},\"id\":\"3b139739-edca-4376-9508-bd8e05aca44b\",\"type\":\"Legend\"},{\"attributes\":{\"angle\":{\"field\":\"text_angle\",\"units\":\"rad\"},\"text_align\":\"center\",\"text_baseline\":\"middle\",\"text_font_size\":{\"value\":\"10pt\"},\"x\":{\"field\":\"x\"},\"y\":{\"field\":\"y\"}},\"id\":\"4b88114c-e403-4a11-9828-f4110ca33aef\",\"type\":\"Text\"},{\"attributes\":{\"bottom_units\":\"screen\",\"fill_alpha\":{\"value\":0.5},\"fill_color\":{\"value\":\"lightgrey\"},\"left_units\":\"screen\",\"level\":\"overlay\",\"line_alpha\":{\"value\":1.0},\"line_color\":{\"value\":\"black\"},\"line_dash\":[4,4],\"line_width\":{\"value\":2},\"plot\":null,\"render_mode\":\"css\",\"right_units\":\"screen\",\"top_units\":\"screen\"},\"id\":\"e3c7bc7b-702a-48a8-aff1-fe0c2e780607\",\"type\":\"BoxAnnotation\"},{\"attributes\":{\"below\":[{\"id\":\"a06b555b-30e3-4306-b575-a7ba9a7f6146\",\"type\":\"LinearAxis\"}],\"css_classes\":null,\"left\":[{\"id\":\"62b8b317-93aa-4b3b-ab0a-077647373292\",\"type\":\"LinearAxis\"}],\"plot_height\":400,\"plot_width\":400,\"renderers\":[{\"id\":\"e3c7bc7b-702a-48a8-aff1-fe0c2e780607\",\"type\":\"BoxAnnotation\"},{\"id\":\"bcb8c90c-627a-47c3-b9f7-bc1643c39f6b\",\"type\":\"GlyphRenderer\"},{\"id\":\"0420000e-83a7-4343-b6da-f2aa753f8e06\",\"type\":\"GlyphRenderer\"},{\"id\":\"3b139739-edca-4376-9508-bd8e05aca44b\",\"type\":\"Legend\"},{\"id\":\"a06b555b-30e3-4306-b575-a7ba9a7f6146\",\"type\":\"LinearAxis\"},{\"id\":\"62b8b317-93aa-4b3b-ab0a-077647373292\",\"type\":\"LinearAxis\"}],\"title\":{\"id\":\"c30a772c-1e75-409a-80b8-c14e3d06743d\",\"type\":\"Title\"},\"tool_events\":{\"id\":\"b7b39d1e-e2ce-4854-b02d-10943469429d\",\"type\":\"ToolEvents\"},\"toolbar\":{\"id\":\"3ead6014-3071-499f-9f19-6911e84620fb\",\"type\":\"Toolbar\"},\"x_range\":{\"id\":\"4035cb22-d5ed-46f8-be55-6dbeba2eaf5c\",\"type\":\"Range1d\"},\"x_scale\":{\"id\":\"0576380c-c660-43d2-9986-4491fa291cd3\",\"type\":\"LinearScale\"},\"y_range\":{\"id\":\"4dd3330d-7fb8-41a4-a279-813a22952311\",\"type\":\"Range1d\"},\"y_scale\":{\"id\":\"23c01926-bbfb-4248-a7c0-627a066a17a3\",\"type\":\"LinearScale\"}},\"id\":\"f85e4169-063d-440b-8d34-6c652568f504\",\"subtype\":\"Chart\",\"type\":\"Plot\"},{\"attributes\":{},\"id\":\"0576380c-c660-43d2-9986-4491fa291cd3\",\"type\":\"LinearScale\"},{\"attributes\":{\"axis_label\":null,\"formatter\":{\"id\":\"ba3ab978-b4f3-4981-8dd4-a16649bcbdb8\",\"type\":\"BasicTickFormatter\"},\"plot\":{\"id\":\"f85e4169-063d-440b-8d34-6c652568f504\",\"subtype\":\"Chart\",\"type\":\"Plot\"},\"ticker\":{\"id\":\"7451fb6d-5a2e-422e-955d-deab3c036d48\",\"type\":\"BasicTicker\"},\"visible\":false},\"id\":\"62b8b317-93aa-4b3b-ab0a-077647373292\",\"type\":\"LinearAxis\"},{\"attributes\":{\"data_source\":{\"id\":\"44bbfdca-981e-470a-bd6c-6a7def5e0d3b\",\"type\":\"ColumnDataSource\"},\"glyph\":{\"id\":\"4b88114c-e403-4a11-9828-f4110ca33aef\",\"type\":\"Text\"},\"hover_glyph\":null,\"muted_glyph\":null},\"id\":\"0420000e-83a7-4343-b6da-f2aa753f8e06\",\"type\":\"GlyphRenderer\"},{\"attributes\":{\"callback\":null,\"column_names\":[\"end\",\"level\",\"start\",\"values\",\"inners\",\"outers\",\"centers\",\"color\",\"index\"],\"data\":{\"centers\":{\"__ndarray__\":\"AAAAAAAA8j8AAAAAAADyPwAAAAAAAPI/\",\"dtype\":\"float64\",\"shape\":[3]},\"color\":[\"#f22c40\",\"#5ab738\",\"#407ee7\"],\"end\":{\"__ndarray__\":\"gICFxQDQEUBqxXEAKW4VQBgtRFT7IRlA\",\"dtype\":\"float64\",\"shape\":[3]},\"index\":[1,2,3],\"inners\":{\"__ndarray__\":\"AAAAAAAAAAAAAAAAAAAAAAAAAAAAAAAA\",\"dtype\":\"float64\",\"shape\":[3]},\"level\":{\"__ndarray__\":\"AAAAAAAAAAAAAAAAAAAAAAAAAAAAAAAA\",\"dtype\":\"float64\",\"shape\":[3]},\"outers\":{\"__ndarray__\":\"AAAAAAAA+D8AAAAAAAD4PwAAAAAAAPg/\",\"dtype\":\"float64\",\"shape\":[3]},\"start\":{\"__ndarray__\":\"AAAAAAAAAACAgIXFANARQGrFcQApbhVA\",\"dtype\":\"float64\",\"shape\":[3]},\"values\":[1020002,207167,212013]}},\"id\":\"cd44a9e8-fad2-4157-b118-0e99c354079a\",\"type\":\"ColumnDataSource\"},{\"attributes\":{\"plot\":{\"id\":\"f85e4169-063d-440b-8d34-6c652568f504\",\"subtype\":\"Chart\",\"type\":\"Plot\"}},\"id\":\"552ddc48-9a32-41ea-a29f-89aeab5ccdb8\",\"type\":\"SaveTool\"},{\"attributes\":{},\"id\":\"23c01926-bbfb-4248-a7c0-627a066a17a3\",\"type\":\"LinearScale\"},{\"attributes\":{},\"id\":\"c354096d-b189-4cca-b6cb-b1505463398b\",\"type\":\"BasicTickFormatter\"},{\"attributes\":{\"plot\":{\"id\":\"f85e4169-063d-440b-8d34-6c652568f504\",\"subtype\":\"Chart\",\"type\":\"Plot\"}},\"id\":\"97c200ed-8c6c-4c9e-ab2c-f219b2c235a4\",\"type\":\"HelpTool\"},{\"attributes\":{},\"id\":\"b7b39d1e-e2ce-4854-b02d-10943469429d\",\"type\":\"ToolEvents\"},{\"attributes\":{\"callback\":null,\"end\":1.6500000000000001,\"start\":-1.6500000000000001},\"id\":\"4035cb22-d5ed-46f8-be55-6dbeba2eaf5c\",\"type\":\"Range1d\"},{\"attributes\":{\"overlay\":{\"id\":\"e3c7bc7b-702a-48a8-aff1-fe0c2e780607\",\"type\":\"BoxAnnotation\"},\"plot\":{\"id\":\"f85e4169-063d-440b-8d34-6c652568f504\",\"subtype\":\"Chart\",\"type\":\"Plot\"}},\"id\":\"47980a4c-f71e-4321-b435-850a2835c328\",\"type\":\"BoxZoomTool\"},{\"attributes\":{},\"id\":\"34663e97-fcb9-4197-9c86-8ffa29050499\",\"type\":\"BasicTicker\"},{\"attributes\":{\"plot\":{\"id\":\"f85e4169-063d-440b-8d34-6c652568f504\",\"subtype\":\"Chart\",\"type\":\"Plot\"}},\"id\":\"c9dabaf1-f908-4b3d-a49c-712219515823\",\"type\":\"WheelZoomTool\"},{\"attributes\":{\"callback\":null,\"column_names\":[\"text\",\"x\",\"y\",\"text_angle\"],\"data\":{\"text\":[\"1\",\"2\",\"3\"],\"text_angle\":{\"__ndarray__\":\"AAAAAAAAAAAAAAAAAAAAAAAAAAAAAAAA\",\"dtype\":\"float64\",\"shape\":[3]},\"x\":[-0.6859888233177027,0.21573995914395896,1.006654909725324],\"y\":[0.8916525860912385,-1.1041201338751878,-0.5022657590617738]}},\"id\":\"44bbfdca-981e-470a-bd6c-6a7def5e0d3b\",\"type\":\"ColumnDataSource\"},{\"attributes\":{\"end_angle\":{\"field\":\"end\",\"units\":\"rad\"},\"fill_alpha\":{\"value\":0.8},\"fill_color\":{\"field\":\"color\"},\"inner_radius\":{\"field\":\"inners\",\"units\":\"data\"},\"line_color\":{\"value\":\"White\"},\"outer_radius\":{\"field\":\"outers\",\"units\":\"data\"},\"start_angle\":{\"field\":\"start\",\"units\":\"rad\"},\"x\":{\"value\":0},\"y\":{\"value\":0}},\"id\":\"702907f5-e7ce-4b0e-87c4-485222f55ccd\",\"type\":\"AnnularWedge\"},{\"attributes\":{\"plot\":{\"id\":\"f85e4169-063d-440b-8d34-6c652568f504\",\"subtype\":\"Chart\",\"type\":\"Plot\"}},\"id\":\"2650eb54-1cae-4226-8fd8-47feb7c8b514\",\"type\":\"ResetTool\"},{\"attributes\":{\"data_source\":{\"id\":\"cd44a9e8-fad2-4157-b118-0e99c354079a\",\"type\":\"ColumnDataSource\"},\"glyph\":{\"id\":\"702907f5-e7ce-4b0e-87c4-485222f55ccd\",\"type\":\"AnnularWedge\"},\"hover_glyph\":null,\"muted_glyph\":null},\"id\":\"bcb8c90c-627a-47c3-b9f7-bc1643c39f6b\",\"type\":\"GlyphRenderer\"}],\"root_ids\":[\"f85e4169-063d-440b-8d34-6c652568f504\"]},\"title\":\"Bokeh Application\",\"version\":\"0.12.6\"}};\n",
       "            var render_items = [{\"docid\":\"127814b9-db25-4de6-8ed1-2dd6b9dd3035\",\"elementid\":\"65ba5fc5-4949-48b6-a1ca-46ad8cb41693\",\"modelid\":\"f85e4169-063d-440b-8d34-6c652568f504\"}];\n",
       "            \n",
       "            Bokeh.embed.embed_items(docs_json, render_items);\n",
       "          };\n",
       "          if (document.readyState != \"loading\") fn();\n",
       "          else document.addEventListener(\"DOMContentLoaded\", fn);\n",
       "        })();\n",
       "      },\n",
       "      function(Bokeh) {\n",
       "      }\n",
       "    ];\n",
       "  \n",
       "    function run_inline_js() {\n",
       "      \n",
       "      if ((window.Bokeh !== undefined) || (force === true)) {\n",
       "        for (var i = 0; i < inline_js.length; i++) {\n",
       "          inline_js[i](window.Bokeh);\n",
       "        }if (force === true) {\n",
       "          display_loaded();\n",
       "        }} else if (Date.now() < window._bokeh_timeout) {\n",
       "        setTimeout(run_inline_js, 100);\n",
       "      } else if (!window._bokeh_failed_load) {\n",
       "        console.log(\"Bokeh: BokehJS failed to load within specified timeout.\");\n",
       "        window._bokeh_failed_load = true;\n",
       "      } else if (force !== true) {\n",
       "        var cell = $(document.getElementById(\"65ba5fc5-4949-48b6-a1ca-46ad8cb41693\")).parents('.cell').data().cell;\n",
       "        cell.output_area.append_execute_result(NB_LOAD_WARNING)\n",
       "      }\n",
       "  \n",
       "    }\n",
       "  \n",
       "    if (window._bokeh_is_loading === 0) {\n",
       "      console.log(\"Bokeh: BokehJS loaded, going straight to plotting\");\n",
       "      run_inline_js();\n",
       "    } else {\n",
       "      load_libs(js_urls, function() {\n",
       "        console.log(\"Bokeh: BokehJS plotting callback run at\", now());\n",
       "        run_inline_js();\n",
       "      });\n",
       "    }\n",
       "  }(this));\n",
       "</script>"
      ]
     },
     "metadata": {},
     "output_type": "display_data"
    }
   ],
   "source": [
    "# Pie chart with Bokeh\n",
    "pie_chart = Donut(train_df['passenger_count'].value_counts())\n",
    "show(pie_chart)"
   ]
  },
  {
   "cell_type": "markdown",
   "metadata": {},
   "source": [
    "<u>PCA on longitude and latitude coordinates</u>"
   ]
  },
  {
   "cell_type": "markdown",
   "metadata": {},
   "source": [
    "We use PCA to transform longitude and latitude coordinates. In this case it is not about dimension reduction since we transform 2D-> 2D. The rotation could help for decision tree splits."
   ]
  },
  {
   "cell_type": "code",
   "execution_count": 34,
   "metadata": {
    "collapsed": true
   },
   "outputs": [],
   "source": [
    "coords = np.vstack( (train_df[['pickup_latitude', 'pickup_longitude']].values,\n",
    "                     test_df[['pickup_latitude', 'pickup_longitude']].values ) )\n",
    "\n",
    "pca = PCA().fit(coords)\n",
    "\n",
    "train_df['pickup_pca0'] = pca.transform(train_df[['pickup_latitude', \n",
    "                                           'pickup_longitude']])[:, 0]\n",
    "\n",
    "train_df['pickup_pca1'] = pca.transform(train_df[['pickup_latitude',\n",
    "                                            'pickup_longitude']])[:, 1]\n",
    "\n",
    "test_df['pickup_pca0'] = pca.transform(test_df[['pickup_latitude', \n",
    "                                           'pickup_longitude']])[:, 0]\n",
    "\n",
    "test_df['pickup_pca1'] = pca.transform(test_df[['pickup_latitude',\n",
    "                                            'pickup_longitude']])[:, 1]\n"
   ]
  },
  {
   "cell_type": "markdown",
   "metadata": {},
   "source": [
    "<u>Clustering</u>"
   ]
  },
  {
   "cell_type": "markdown",
   "metadata": {},
   "source": [
    "We will regroup the pickup feature into a cluster of 100 elements using K-Means algorithm. Actually the Mini-Batch K-Means clustering algorithm from scikit-learn performs the same result with less time, so let's use that instead."
   ]
  },
  {
   "cell_type": "code",
   "execution_count": 35,
   "metadata": {
    "collapsed": true
   },
   "outputs": [],
   "source": [
    "sample_ind = np.random.permutation(len(coords))[:500000]\n",
    "kmeans = MiniBatchKMeans(n_clusters=100, batch_size=10000).fit(coords[sample_ind])\n"
   ]
  },
  {
   "cell_type": "code",
   "execution_count": 36,
   "metadata": {
    "collapsed": true
   },
   "outputs": [],
   "source": [
    "train_df['pickup_cluster'] = kmeans.predict(train_df[['pickup_latitude', \\\n",
    "                                                   'pickup_longitude']])\n",
    "test_df['pickup_cluster']  = kmeans.predict(test_df[['pickup_latitude', \\\n",
    "                                                    'pickup_longitude']])"
   ]
  },
  {
   "cell_type": "code",
   "execution_count": 37,
   "metadata": {},
   "outputs": [
    {
     "data": {
      "image/png": "[encoded data removed]",
      "text/plain": [
       "<matplotlib.figure.Figure at 0x24501ec55c0>"
      ]
     },
     "metadata": {},
     "output_type": "display_data"
    }
   ],
   "source": [
    "ax = sns.lmplot(x='pickup_longitude', \\\n",
    "                y='pickup_latitude', \\\n",
    "                fit_reg=False, \\\n",
    "                hue='pickup_cluster', \\\n",
    "                legend=False, \\\n",
    "                data=train_df)\n",
    "plt.title('Mini-Batch K-Means clustering result for the pickup coordinates')\n",
    "plt.show()"
   ]
  },
  {
   "cell_type": "markdown",
   "metadata": {},
   "source": [
    "<u>Distance in miles</u>"
   ]
  },
  {
   "cell_type": "markdown",
   "metadata": {},
   "source": [
    "The geopy library will be useful as it allows the computation of distance based of latitude and longitude information."
   ]
  },
  {
   "cell_type": "code",
   "execution_count": 38,
   "metadata": {
    "scrolled": true
   },
   "outputs": [
    {
     "data": {
      "text/html": [
       "<div>\n",
       "<style>\n",
       "    .dataframe thead tr:only-child th {\n",
       "        text-align: right;\n",
       "    }\n",
       "\n",
       "    .dataframe thead th {\n",
       "        text-align: left;\n",
       "    }\n",
       "\n",
       "    .dataframe tbody tr th {\n",
       "        vertical-align: top;\n",
       "    }\n",
       "</style>\n",
       "<table border=\"1\" class=\"dataframe\">\n",
       "  <thead>\n",
       "    <tr style=\"text-align: right;\">\n",
       "      <th></th>\n",
       "      <th>id</th>\n",
       "      <th>vendor_id</th>\n",
       "      <th>pickup_datetime</th>\n",
       "      <th>dropoff_datetime</th>\n",
       "      <th>passenger_count</th>\n",
       "      <th>pickup_longitude</th>\n",
       "      <th>pickup_latitude</th>\n",
       "      <th>dropoff_longitude</th>\n",
       "      <th>dropoff_latitude</th>\n",
       "      <th>store_and_fwd_flag</th>\n",
       "      <th>trip_duration</th>\n",
       "      <th>DayOfWeekNum</th>\n",
       "      <th>Month</th>\n",
       "      <th>DayOfMonth</th>\n",
       "      <th>HourOfDay</th>\n",
       "      <th>weekend</th>\n",
       "      <th>pickup_pca0</th>\n",
       "      <th>pickup_pca1</th>\n",
       "      <th>pickup_cluster</th>\n",
       "    </tr>\n",
       "  </thead>\n",
       "  <tbody>\n",
       "    <tr>\n",
       "      <th>0</th>\n",
       "      <td>id2875421</td>\n",
       "      <td>2</td>\n",
       "      <td>2016-03-14 17:24:55</td>\n",
       "      <td>2016-03-14 17:32:30</td>\n",
       "      <td>1</td>\n",
       "      <td>-73.982155</td>\n",
       "      <td>40.767937</td>\n",
       "      <td>-73.964630</td>\n",
       "      <td>40.765602</td>\n",
       "      <td>N</td>\n",
       "      <td>455</td>\n",
       "      <td>0</td>\n",
       "      <td>3</td>\n",
       "      <td>14</td>\n",
       "      <td>17</td>\n",
       "      <td>0</td>\n",
       "      <td>0.008910</td>\n",
       "      <td>-0.016679</td>\n",
       "      <td>94</td>\n",
       "    </tr>\n",
       "    <tr>\n",
       "      <th>1</th>\n",
       "      <td>id2377394</td>\n",
       "      <td>1</td>\n",
       "      <td>2016-06-12 00:43:35</td>\n",
       "      <td>2016-06-12 00:54:38</td>\n",
       "      <td>1</td>\n",
       "      <td>-73.980415</td>\n",
       "      <td>40.738564</td>\n",
       "      <td>-73.999481</td>\n",
       "      <td>40.731152</td>\n",
       "      <td>N</td>\n",
       "      <td>663</td>\n",
       "      <td>6</td>\n",
       "      <td>6</td>\n",
       "      <td>12</td>\n",
       "      <td>0</td>\n",
       "      <td>1</td>\n",
       "      <td>0.006297</td>\n",
       "      <td>0.012630</td>\n",
       "      <td>87</td>\n",
       "    </tr>\n",
       "    <tr>\n",
       "      <th>2</th>\n",
       "      <td>id3858529</td>\n",
       "      <td>2</td>\n",
       "      <td>2016-01-19 11:35:24</td>\n",
       "      <td>2016-01-19 12:10:48</td>\n",
       "      <td>1</td>\n",
       "      <td>-73.979027</td>\n",
       "      <td>40.763939</td>\n",
       "      <td>-74.005333</td>\n",
       "      <td>40.710087</td>\n",
       "      <td>N</td>\n",
       "      <td>2124</td>\n",
       "      <td>1</td>\n",
       "      <td>1</td>\n",
       "      <td>19</td>\n",
       "      <td>11</td>\n",
       "      <td>0</td>\n",
       "      <td>0.005664</td>\n",
       "      <td>-0.012776</td>\n",
       "      <td>74</td>\n",
       "    </tr>\n",
       "    <tr>\n",
       "      <th>3</th>\n",
       "      <td>id3504673</td>\n",
       "      <td>2</td>\n",
       "      <td>2016-04-06 19:32:31</td>\n",
       "      <td>2016-04-06 19:39:40</td>\n",
       "      <td>1</td>\n",
       "      <td>-74.010040</td>\n",
       "      <td>40.719971</td>\n",
       "      <td>-74.012268</td>\n",
       "      <td>40.706718</td>\n",
       "      <td>N</td>\n",
       "      <td>429</td>\n",
       "      <td>2</td>\n",
       "      <td>4</td>\n",
       "      <td>6</td>\n",
       "      <td>19</td>\n",
       "      <td>0</td>\n",
       "      <td>0.035356</td>\n",
       "      <td>0.032095</td>\n",
       "      <td>21</td>\n",
       "    </tr>\n",
       "    <tr>\n",
       "      <th>4</th>\n",
       "      <td>id2181028</td>\n",
       "      <td>2</td>\n",
       "      <td>2016-03-26 13:30:55</td>\n",
       "      <td>2016-03-26 13:38:10</td>\n",
       "      <td>1</td>\n",
       "      <td>-73.973053</td>\n",
       "      <td>40.793209</td>\n",
       "      <td>-73.972923</td>\n",
       "      <td>40.782520</td>\n",
       "      <td>N</td>\n",
       "      <td>435</td>\n",
       "      <td>5</td>\n",
       "      <td>3</td>\n",
       "      <td>26</td>\n",
       "      <td>13</td>\n",
       "      <td>1</td>\n",
       "      <td>0.000564</td>\n",
       "      <td>-0.042211</td>\n",
       "      <td>7</td>\n",
       "    </tr>\n",
       "  </tbody>\n",
       "</table>\n",
       "</div>"
      ],
      "text/plain": [
       "          id  vendor_id     pickup_datetime     dropoff_datetime  \\\n",
       "0  id2875421          2 2016-03-14 17:24:55  2016-03-14 17:32:30   \n",
       "1  id2377394          1 2016-06-12 00:43:35  2016-06-12 00:54:38   \n",
       "2  id3858529          2 2016-01-19 11:35:24  2016-01-19 12:10:48   \n",
       "3  id3504673          2 2016-04-06 19:32:31  2016-04-06 19:39:40   \n",
       "4  id2181028          2 2016-03-26 13:30:55  2016-03-26 13:38:10   \n",
       "\n",
       "   passenger_count  pickup_longitude  pickup_latitude  dropoff_longitude  \\\n",
       "0                1        -73.982155        40.767937         -73.964630   \n",
       "1                1        -73.980415        40.738564         -73.999481   \n",
       "2                1        -73.979027        40.763939         -74.005333   \n",
       "3                1        -74.010040        40.719971         -74.012268   \n",
       "4                1        -73.973053        40.793209         -73.972923   \n",
       "\n",
       "   dropoff_latitude store_and_fwd_flag  trip_duration  DayOfWeekNum  Month  \\\n",
       "0         40.765602                  N            455             0      3   \n",
       "1         40.731152                  N            663             6      6   \n",
       "2         40.710087                  N           2124             1      1   \n",
       "3         40.706718                  N            429             2      4   \n",
       "4         40.782520                  N            435             5      3   \n",
       "\n",
       "   DayOfMonth  HourOfDay  weekend  pickup_pca0  pickup_pca1  pickup_cluster  \n",
       "0          14         17        0     0.008910    -0.016679              94  \n",
       "1          12          0        1     0.006297     0.012630              87  \n",
       "2          19         11        0     0.005664    -0.012776              74  \n",
       "3           6         19        0     0.035356     0.032095              21  \n",
       "4          26         13        1     0.000564    -0.042211               7  "
      ]
     },
     "execution_count": 38,
     "metadata": {},
     "output_type": "execute_result"
    }
   ],
   "source": [
    "train_df.head()"
   ]
  },
  {
   "cell_type": "code",
   "execution_count": 39,
   "metadata": {
    "collapsed": true
   },
   "outputs": [],
   "source": [
    "from geopy.distance import great_circle\n",
    "\n",
    "def distance_calc(row):\n",
    "    pickup  = (row['pickup_latitude'], row['pickup_longitude'])\n",
    "    dropoff = (row['dropoff_latitude'], row['dropoff_longitude'])\n",
    "    \n",
    "    return great_circle(pickup, dropoff).km\n",
    "\n",
    "def get_distance(dataset):\n",
    "    dataset['distance'] = dataset.apply(lambda row: distance_calc(row), axis=1)\n",
    "    dataset.drop(['pickup_latitude', 'pickup_longitude', \\\n",
    "                  'dropoff_latitude','dropoff_longitude'], \n",
    "                   axis=1,\n",
    "                   inplace=True)\n",
    "    \n",
    "# train_df['distance'] = train_df.apply(lambda row: distance_calc(row), axis=1)\n",
    "\n",
    "\n",
    "# Note : Quite long to compute \n",
    "get_distance(train_df)\n",
    "get_distance(test_df)"
   ]
  },
  {
   "cell_type": "code",
   "execution_count": 40,
   "metadata": {
    "scrolled": true
   },
   "outputs": [
    {
     "data": {
      "text/plain": [
       "<matplotlib.axes._subplots.AxesSubplot at 0x24502cf5748>"
      ]
     },
     "execution_count": 40,
     "metadata": {},
     "output_type": "execute_result"
    },
    {
     "data": {
      "image/png": "[encoded data removed]",
      "text/plain": [
       "<matplotlib.figure.Figure at 0x24502da1c88>"
      ]
     },
     "metadata": {},
     "output_type": "display_data"
    }
   ],
   "source": [
    "target = np.log(train_df['trip_duration'])\n",
    "sns.regplot(x='distance', y=target, data=train_df,\n",
    "           fit_reg=False)\n"
   ]
  },
  {
   "cell_type": "markdown",
   "metadata": {},
   "source": [
    "The plot did not satisfy our expectation of a regression line due to the outliers.<br>\n",
    "First we will need to remove them"
   ]
  },
  {
   "cell_type": "code",
   "execution_count": 41,
   "metadata": {
    "collapsed": true
   },
   "outputs": [],
   "source": [
    "train_df = train_df[ train_df['distance'] < 100 ]\n",
    "\n",
    "# target and train_df should be same dimension so we should carefully delete the outlier in the y-axis\n",
    "target = np.log(train_df['trip_duration'])\n",
    "target = pd.DataFrame(target)\n",
    "outliers = target[target['trip_duration'] > 12].index.tolist()\n",
    "train_df.drop(outliers, inplace=True)\n",
    "target.drop(outliers, inplace=True)"
   ]
  },
  {
   "cell_type": "markdown",
   "metadata": {},
   "source": [
    "Let's make sure that the train and target shape remain the same after the previous transformation"
   ]
  },
  {
   "cell_type": "code",
   "execution_count": 42,
   "metadata": {},
   "outputs": [
    {
     "data": {
      "text/plain": [
       "((1439178, 16), (1439178, 1))"
      ]
     },
     "execution_count": 42,
     "metadata": {},
     "output_type": "execute_result"
    }
   ],
   "source": [
    "train_df.shape, target.shape"
   ]
  },
  {
   "cell_type": "code",
   "execution_count": 43,
   "metadata": {
    "scrolled": true
   },
   "outputs": [
    {
     "data": {
      "text/plain": [
       "<matplotlib.axes._subplots.AxesSubplot at 0x24554a2af60>"
      ]
     },
     "execution_count": 43,
     "metadata": {},
     "output_type": "execute_result"
    },
    {
     "data": {
      "image/png": "[encoded data removed]",
      "text/plain": [
       "<matplotlib.figure.Figure at 0x24565d380b8>"
      ]
     },
     "metadata": {},
     "output_type": "display_data"
    }
   ],
   "source": [
    "sns.regplot(x='distance', y=target, data=train_df,\n",
    "           fit_reg=False)"
   ]
  },
  {
   "cell_type": "markdown",
   "metadata": {},
   "source": [
    "Let's look at what the regression line might look like (via fit_reg in seaborn)"
   ]
  },
  {
   "cell_type": "code",
   "execution_count": 44,
   "metadata": {
    "collapsed": true,
    "scrolled": true
   },
   "outputs": [],
   "source": [
    "# Note : Long to compute\n",
    "# sns.regplot(x='distance', y=target, data=train_df,\n",
    "#            fit_reg=True)"
   ]
  },
  {
   "cell_type": "markdown",
   "metadata": {},
   "source": [
    "The regression fail to predict a lot of values. <br>\n",
    "We will look if applying a function to the distance will end up with a better regression line."
   ]
  },
  {
   "cell_type": "code",
   "execution_count": 45,
   "metadata": {
    "scrolled": true
   },
   "outputs": [
    {
     "data": {
      "text/plain": [
       "<matplotlib.axes._subplots.AxesSubplot at 0x24554528198>"
      ]
     },
     "execution_count": 45,
     "metadata": {},
     "output_type": "execute_result"
    },
    {
     "data": {
      "image/png": "[encoded data removed]",
      "text/plain": [
       "<matplotlib.figure.Figure at 0x24502d290f0>"
      ]
     },
     "metadata": {},
     "output_type": "display_data"
    }
   ],
   "source": [
    "# target = np.log(train_df['trip_duration'])\n",
    "dist_log = np.sqrt(train_df['distance'])\n",
    "sns.regplot(x=dist_log, y=target, data=train_df,\n",
    "           fit_reg=False)"
   ]
  },
  {
   "cell_type": "markdown",
   "metadata": {},
   "source": [
    "The sqrt function seems to be a better choice. <br>\n",
    "We will use that function and apply it to the distance feature."
   ]
  },
  {
   "cell_type": "code",
   "execution_count": 46,
   "metadata": {
    "collapsed": true
   },
   "outputs": [],
   "source": [
    "# Transform distance feature\n",
    "def transform_distance(dataset):\n",
    "    dataset['sqrt_distance'] = np.sqrt(dataset['distance'])    \n",
    "    dataset.drop(['distance'], axis=1, inplace=True)\n",
    "\n",
    "transform_distance(train_df)\n",
    "transform_distance(test_df)\n"
   ]
  },
  {
   "cell_type": "code",
   "execution_count": 47,
   "metadata": {},
   "outputs": [
    {
     "data": {
      "text/plain": [
       "((1439178, 16), (625134, 14))"
      ]
     },
     "execution_count": 47,
     "metadata": {},
     "output_type": "execute_result"
    }
   ],
   "source": [
    "train_df.shape, test_df.shape"
   ]
  },
  {
   "cell_type": "markdown",
   "metadata": {},
   "source": [
    "<u>Datetime</u>"
   ]
  },
  {
   "cell_type": "markdown",
   "metadata": {},
   "source": [
    "We will extract the useful information from the pickup datetime into features for both the training and test sets. "
   ]
  },
  {
   "cell_type": "code",
   "execution_count": 48,
   "metadata": {
    "collapsed": true
   },
   "outputs": [],
   "source": [
    "train_df.drop(['dropoff_datetime','DayOfWeekNum', 'Month', 'DayOfMonth', 'HourOfDay'], axis=1, inplace=True)"
   ]
  },
  {
   "cell_type": "code",
   "execution_count": 49,
   "metadata": {},
   "outputs": [],
   "source": [
    "test_df.drop(['DayOfWeekNum', 'Month', 'DayOfMonth', 'HourOfDay'], axis=1, inplace=True)"
   ]
  },
  {
   "cell_type": "code",
   "execution_count": 50,
   "metadata": {
    "collapsed": true
   },
   "outputs": [],
   "source": [
    "def transform_datetime(dataset):\n",
    "    # convert column to datetime type\n",
    "    dataset['pickup_datetime'] = pd.to_datetime(dataset['pickup_datetime'], \\\n",
    "                    format=\"%Y-%m-%d %H:%M:%S\")\n",
    "    \n",
    "    # Extract weekday number (from Monday=0 to Sunday=6)\n",
    "    dataset['Pickup_NumDayWeek'] = dataset['pickup_datetime'].dt.dayofweek\n",
    "    \n",
    "    # Extract Month \n",
    "    dataset['Month'] = dataset['pickup_datetime'].dt.month\n",
    "    \n",
    "    # Extract the Month's pickup day from 0 to 31\n",
    "    dataset['Pickup_Day'] = dataset['pickup_datetime'].dt.day\n",
    "        \n",
    "    # Extract the dataset Hour/Minute\n",
    "    dataset['Pickup_Hour'] = dataset['pickup_datetime'].dt.hour\n",
    "    dataset['Pickup_Minute'] = dataset['pickup_datetime'].dt.minute\n",
    "    \n",
    "    # Extract the week number of the year\n",
    "    dataset['Pickup_NumWeekYear'] = dataset['pickup_datetime'].dt.weekofyear\n",
    "     \n",
    "#     dataset = dataset.drop( ['pickup_datetime'], axis=1, inplace=True )\n",
    "    dataset.drop(['pickup_datetime'], axis=1, inplace=True)\n",
    "    \n",
    "transform_datetime(train_df)\n",
    "transform_datetime(test_df)"
   ]
  },
  {
   "cell_type": "code",
   "execution_count": 51,
   "metadata": {},
   "outputs": [
    {
     "data": {
      "text/plain": [
       "((1439178, 16), (625134, 15))"
      ]
     },
     "execution_count": 51,
     "metadata": {},
     "output_type": "execute_result"
    }
   ],
   "source": [
    "train_df.shape, test_df.shape"
   ]
  },
  {
   "cell_type": "code",
   "execution_count": 52,
   "metadata": {},
   "outputs": [
    {
     "data": {
      "text/html": [
       "<div>\n",
       "<style>\n",
       "    .dataframe thead tr:only-child th {\n",
       "        text-align: right;\n",
       "    }\n",
       "\n",
       "    .dataframe thead th {\n",
       "        text-align: left;\n",
       "    }\n",
       "\n",
       "    .dataframe tbody tr th {\n",
       "        vertical-align: top;\n",
       "    }\n",
       "</style>\n",
       "<table border=\"1\" class=\"dataframe\">\n",
       "  <thead>\n",
       "    <tr style=\"text-align: right;\">\n",
       "      <th></th>\n",
       "      <th>id</th>\n",
       "      <th>vendor_id</th>\n",
       "      <th>passenger_count</th>\n",
       "      <th>store_and_fwd_flag</th>\n",
       "      <th>weekend</th>\n",
       "      <th>pickup_pca0</th>\n",
       "      <th>pickup_pca1</th>\n",
       "      <th>pickup_cluster</th>\n",
       "      <th>sqrt_distance</th>\n",
       "      <th>Pickup_NumDayWeek</th>\n",
       "      <th>Month</th>\n",
       "      <th>Pickup_Day</th>\n",
       "      <th>Pickup_Hour</th>\n",
       "      <th>Pickup_Minute</th>\n",
       "      <th>Pickup_NumWeekYear</th>\n",
       "    </tr>\n",
       "  </thead>\n",
       "  <tbody>\n",
       "    <tr>\n",
       "      <th>0</th>\n",
       "      <td>id3004672</td>\n",
       "      <td>1</td>\n",
       "      <td>1</td>\n",
       "      <td>N</td>\n",
       "      <td>0</td>\n",
       "      <td>0.013813</td>\n",
       "      <td>0.019391</td>\n",
       "      <td>4</td>\n",
       "      <td>1.657468</td>\n",
       "      <td>3</td>\n",
       "      <td>6</td>\n",
       "      <td>30</td>\n",
       "      <td>23</td>\n",
       "      <td>59</td>\n",
       "      <td>26</td>\n",
       "    </tr>\n",
       "    <tr>\n",
       "      <th>1</th>\n",
       "      <td>id3505355</td>\n",
       "      <td>1</td>\n",
       "      <td>1</td>\n",
       "      <td>N</td>\n",
       "      <td>0</td>\n",
       "      <td>-0.011650</td>\n",
       "      <td>0.070692</td>\n",
       "      <td>40</td>\n",
       "      <td>1.661330</td>\n",
       "      <td>3</td>\n",
       "      <td>6</td>\n",
       "      <td>30</td>\n",
       "      <td>23</td>\n",
       "      <td>59</td>\n",
       "      <td>26</td>\n",
       "    </tr>\n",
       "    <tr>\n",
       "      <th>2</th>\n",
       "      <td>id1217141</td>\n",
       "      <td>1</td>\n",
       "      <td>1</td>\n",
       "      <td>N</td>\n",
       "      <td>0</td>\n",
       "      <td>0.023282</td>\n",
       "      <td>0.014116</td>\n",
       "      <td>44</td>\n",
       "      <td>1.143033</td>\n",
       "      <td>3</td>\n",
       "      <td>6</td>\n",
       "      <td>30</td>\n",
       "      <td>23</td>\n",
       "      <td>59</td>\n",
       "      <td>26</td>\n",
       "    </tr>\n",
       "    <tr>\n",
       "      <th>3</th>\n",
       "      <td>id2150126</td>\n",
       "      <td>2</td>\n",
       "      <td>1</td>\n",
       "      <td>N</td>\n",
       "      <td>0</td>\n",
       "      <td>-0.017046</td>\n",
       "      <td>-0.021416</td>\n",
       "      <td>81</td>\n",
       "      <td>2.295773</td>\n",
       "      <td>3</td>\n",
       "      <td>6</td>\n",
       "      <td>30</td>\n",
       "      <td>23</td>\n",
       "      <td>59</td>\n",
       "      <td>26</td>\n",
       "    </tr>\n",
       "    <tr>\n",
       "      <th>4</th>\n",
       "      <td>id1598245</td>\n",
       "      <td>1</td>\n",
       "      <td>1</td>\n",
       "      <td>N</td>\n",
       "      <td>0</td>\n",
       "      <td>-0.003217</td>\n",
       "      <td>-0.010575</td>\n",
       "      <td>95</td>\n",
       "      <td>0.980363</td>\n",
       "      <td>3</td>\n",
       "      <td>6</td>\n",
       "      <td>30</td>\n",
       "      <td>23</td>\n",
       "      <td>59</td>\n",
       "      <td>26</td>\n",
       "    </tr>\n",
       "  </tbody>\n",
       "</table>\n",
       "</div>"
      ],
      "text/plain": [
       "          id  vendor_id  passenger_count store_and_fwd_flag  weekend  \\\n",
       "0  id3004672          1                1                  N        0   \n",
       "1  id3505355          1                1                  N        0   \n",
       "2  id1217141          1                1                  N        0   \n",
       "3  id2150126          2                1                  N        0   \n",
       "4  id1598245          1                1                  N        0   \n",
       "\n",
       "   pickup_pca0  pickup_pca1  pickup_cluster  sqrt_distance  Pickup_NumDayWeek  \\\n",
       "0     0.013813     0.019391               4       1.657468                  3   \n",
       "1    -0.011650     0.070692              40       1.661330                  3   \n",
       "2     0.023282     0.014116              44       1.143033                  3   \n",
       "3    -0.017046    -0.021416              81       2.295773                  3   \n",
       "4    -0.003217    -0.010575              95       0.980363                  3   \n",
       "\n",
       "   Month  Pickup_Day  Pickup_Hour  Pickup_Minute  Pickup_NumWeekYear  \n",
       "0      6          30           23             59                  26  \n",
       "1      6          30           23             59                  26  \n",
       "2      6          30           23             59                  26  \n",
       "3      6          30           23             59                  26  \n",
       "4      6          30           23             59                  26  "
      ]
     },
     "execution_count": 52,
     "metadata": {},
     "output_type": "execute_result"
    }
   ],
   "source": [
    "test_df.head()"
   ]
  },
  {
   "cell_type": "code",
   "execution_count": 53,
   "metadata": {
    "scrolled": true
   },
   "outputs": [
    {
     "data": {
      "text/html": [
       "<div>\n",
       "<style>\n",
       "    .dataframe thead tr:only-child th {\n",
       "        text-align: right;\n",
       "    }\n",
       "\n",
       "    .dataframe thead th {\n",
       "        text-align: left;\n",
       "    }\n",
       "\n",
       "    .dataframe tbody tr th {\n",
       "        vertical-align: top;\n",
       "    }\n",
       "</style>\n",
       "<table border=\"1\" class=\"dataframe\">\n",
       "  <thead>\n",
       "    <tr style=\"text-align: right;\">\n",
       "      <th></th>\n",
       "      <th>id</th>\n",
       "      <th>vendor_id</th>\n",
       "      <th>passenger_count</th>\n",
       "      <th>store_and_fwd_flag</th>\n",
       "      <th>trip_duration</th>\n",
       "      <th>weekend</th>\n",
       "      <th>pickup_pca0</th>\n",
       "      <th>pickup_pca1</th>\n",
       "      <th>pickup_cluster</th>\n",
       "      <th>sqrt_distance</th>\n",
       "      <th>Pickup_NumDayWeek</th>\n",
       "      <th>Month</th>\n",
       "      <th>Pickup_Day</th>\n",
       "      <th>Pickup_Hour</th>\n",
       "      <th>Pickup_Minute</th>\n",
       "      <th>Pickup_NumWeekYear</th>\n",
       "    </tr>\n",
       "  </thead>\n",
       "  <tbody>\n",
       "    <tr>\n",
       "      <th>0</th>\n",
       "      <td>id2875421</td>\n",
       "      <td>2</td>\n",
       "      <td>1</td>\n",
       "      <td>N</td>\n",
       "      <td>455</td>\n",
       "      <td>0</td>\n",
       "      <td>0.008910</td>\n",
       "      <td>-0.016679</td>\n",
       "      <td>94</td>\n",
       "      <td>1.224313</td>\n",
       "      <td>0</td>\n",
       "      <td>3</td>\n",
       "      <td>14</td>\n",
       "      <td>17</td>\n",
       "      <td>24</td>\n",
       "      <td>11</td>\n",
       "    </tr>\n",
       "    <tr>\n",
       "      <th>1</th>\n",
       "      <td>id2377394</td>\n",
       "      <td>1</td>\n",
       "      <td>1</td>\n",
       "      <td>N</td>\n",
       "      <td>663</td>\n",
       "      <td>1</td>\n",
       "      <td>0.006297</td>\n",
       "      <td>0.012630</td>\n",
       "      <td>87</td>\n",
       "      <td>1.343881</td>\n",
       "      <td>6</td>\n",
       "      <td>6</td>\n",
       "      <td>12</td>\n",
       "      <td>0</td>\n",
       "      <td>43</td>\n",
       "      <td>23</td>\n",
       "    </tr>\n",
       "    <tr>\n",
       "      <th>2</th>\n",
       "      <td>id3858529</td>\n",
       "      <td>2</td>\n",
       "      <td>1</td>\n",
       "      <td>N</td>\n",
       "      <td>2124</td>\n",
       "      <td>0</td>\n",
       "      <td>0.005664</td>\n",
       "      <td>-0.012776</td>\n",
       "      <td>74</td>\n",
       "      <td>2.527231</td>\n",
       "      <td>1</td>\n",
       "      <td>1</td>\n",
       "      <td>19</td>\n",
       "      <td>11</td>\n",
       "      <td>35</td>\n",
       "      <td>3</td>\n",
       "    </tr>\n",
       "    <tr>\n",
       "      <th>3</th>\n",
       "      <td>id3504673</td>\n",
       "      <td>2</td>\n",
       "      <td>1</td>\n",
       "      <td>N</td>\n",
       "      <td>429</td>\n",
       "      <td>0</td>\n",
       "      <td>0.035356</td>\n",
       "      <td>0.032095</td>\n",
       "      <td>21</td>\n",
       "      <td>1.218982</td>\n",
       "      <td>2</td>\n",
       "      <td>4</td>\n",
       "      <td>6</td>\n",
       "      <td>19</td>\n",
       "      <td>32</td>\n",
       "      <td>14</td>\n",
       "    </tr>\n",
       "    <tr>\n",
       "      <th>4</th>\n",
       "      <td>id2181028</td>\n",
       "      <td>2</td>\n",
       "      <td>1</td>\n",
       "      <td>N</td>\n",
       "      <td>435</td>\n",
       "      <td>1</td>\n",
       "      <td>0.000564</td>\n",
       "      <td>-0.042211</td>\n",
       "      <td>7</td>\n",
       "      <td>1.090378</td>\n",
       "      <td>5</td>\n",
       "      <td>3</td>\n",
       "      <td>26</td>\n",
       "      <td>13</td>\n",
       "      <td>30</td>\n",
       "      <td>12</td>\n",
       "    </tr>\n",
       "  </tbody>\n",
       "</table>\n",
       "</div>"
      ],
      "text/plain": [
       "          id  vendor_id  passenger_count store_and_fwd_flag  trip_duration  \\\n",
       "0  id2875421          2                1                  N            455   \n",
       "1  id2377394          1                1                  N            663   \n",
       "2  id3858529          2                1                  N           2124   \n",
       "3  id3504673          2                1                  N            429   \n",
       "4  id2181028          2                1                  N            435   \n",
       "\n",
       "   weekend  pickup_pca0  pickup_pca1  pickup_cluster  sqrt_distance  \\\n",
       "0        0     0.008910    -0.016679              94       1.224313   \n",
       "1        1     0.006297     0.012630              87       1.343881   \n",
       "2        0     0.005664    -0.012776              74       2.527231   \n",
       "3        0     0.035356     0.032095              21       1.218982   \n",
       "4        1     0.000564    -0.042211               7       1.090378   \n",
       "\n",
       "   Pickup_NumDayWeek  Month  Pickup_Day  Pickup_Hour  Pickup_Minute  \\\n",
       "0                  0      3          14           17             24   \n",
       "1                  6      6          12            0             43   \n",
       "2                  1      1          19           11             35   \n",
       "3                  2      4           6           19             32   \n",
       "4                  5      3          26           13             30   \n",
       "\n",
       "   Pickup_NumWeekYear  \n",
       "0                  11  \n",
       "1                  23  \n",
       "2                   3  \n",
       "3                  14  \n",
       "4                  12  "
      ]
     },
     "execution_count": 53,
     "metadata": {},
     "output_type": "execute_result"
    }
   ],
   "source": [
    "train_df.head()"
   ]
  },
  {
   "cell_type": "markdown",
   "metadata": {},
   "source": [
    "<u>store_and_fwd_flag</u>"
   ]
  },
  {
   "cell_type": "code",
   "execution_count": 54,
   "metadata": {},
   "outputs": [
    {
     "data": {
      "text/plain": [
       "N    1431299\n",
       "Y       7879\n",
       "Name: store_and_fwd_flag, dtype: int64"
      ]
     },
     "execution_count": 54,
     "metadata": {},
     "output_type": "execute_result"
    }
   ],
   "source": [
    "train_df['store_and_fwd_flag'].value_counts()"
   ]
  },
  {
   "cell_type": "code",
   "execution_count": 55,
   "metadata": {},
   "outputs": [
    {
     "data": {
      "text/plain": [
       "N    621704\n",
       "Y      3430\n",
       "Name: store_and_fwd_flag, dtype: int64"
      ]
     },
     "execution_count": 55,
     "metadata": {},
     "output_type": "execute_result"
    }
   ],
   "source": [
    "test_df['store_and_fwd_flag'].value_counts()"
   ]
  },
  {
   "cell_type": "code",
   "execution_count": 56,
   "metadata": {
    "collapsed": true
   },
   "outputs": [],
   "source": [
    "def transform_store_and_fwd_flag(dataset):\n",
    "    dataset['store_and_fwd_flag'] = dataset['store_and_fwd_flag'].map( {'Y': 1, 'N': 0} ).astype(int)\n",
    "\n",
    "transform_store_and_fwd_flag(train_df)\n",
    "transform_store_and_fwd_flag(test_df)"
   ]
  },
  {
   "cell_type": "markdown",
   "metadata": {},
   "source": [
    "Quick check on correlation with the target variable."
   ]
  },
  {
   "cell_type": "code",
   "execution_count": 57,
   "metadata": {},
   "outputs": [
    {
     "data": {
      "image/png": "[encoded data removed]",
      "text/plain": [
       "<matplotlib.figure.Figure at 0x245222d17f0>"
      ]
     },
     "metadata": {},
     "output_type": "display_data"
    }
   ],
   "source": [
    "corr = train_df.drop(['id'], axis=1).corr()\n",
    "corr_df = pd.DataFrame(corr['trip_duration'].sort_values(ascending=False))[1:]\n",
    "corr_df.columns = ['Correlation']\n",
    "corr_df.index.name = 'Feature'\n",
    "\n",
    "ax = sns.barplot(x=corr_df.index, y='Correlation', data=corr_df)\n",
    "ax.set(ylabel='Correlation')\n",
    "plt.xticks(rotation=90)\n",
    "plt.title('Correlation with trip duration', size=15)\n",
    "plt.show()"
   ]
  },
  {
   "cell_type": "code",
   "execution_count": 58,
   "metadata": {},
   "outputs": [
    {
     "data": {
      "text/plain": [
       "vendor_id             0.035584\n",
       "passenger_count       0.015502\n",
       "store_and_fwd_flag    0.002984\n",
       "trip_duration         1.000000\n",
       "weekend              -0.008361\n",
       "pickup_pca0          -0.075662\n",
       "pickup_pca1           0.047981\n",
       "pickup_cluster       -0.015011\n",
       "sqrt_distance         0.164638\n",
       "Pickup_NumDayWeek    -0.001747\n",
       "Month                 0.013031\n",
       "Pickup_Day            0.002496\n",
       "Pickup_Hour           0.006078\n",
       "Pickup_Minute        -0.004167\n",
       "Pickup_NumWeekYear    0.009912\n",
       "Name: trip_duration, dtype: float64"
      ]
     },
     "execution_count": 58,
     "metadata": {},
     "output_type": "execute_result"
    }
   ],
   "source": [
    "corr['trip_duration']"
   ]
  },
  {
   "cell_type": "markdown",
   "metadata": {},
   "source": [
    "<h3 style=\"text-align:center\">Saving train and test set (checkpoint)</h3>"
   ]
  },
  {
   "cell_type": "code",
   "execution_count": 61,
   "metadata": {},
   "outputs": [
    {
     "ename": "NameError",
     "evalue": "name 'a' is not defined",
     "output_type": "error",
     "traceback": [
      "\u001b[1;31m---------------------------------------------------------------------------\u001b[0m",
      "\u001b[1;31mNameError\u001b[0m                                 Traceback (most recent call last)",
      "\u001b[1;32m<ipython-input-61-60b725f10c9c>\u001b[0m in \u001b[0;36m<module>\u001b[1;34m()\u001b[0m\n\u001b[1;32m----> 1\u001b[1;33m \u001b[0ma\u001b[0m\u001b[1;33m\u001b[0m\u001b[0m\n\u001b[0m",
      "\u001b[1;31mNameError\u001b[0m: name 'a' is not defined"
     ]
    }
   ],
   "source": [
    "a"
   ]
  },
  {
   "cell_type": "markdown",
   "metadata": {},
   "source": [
    "<u>Saving</u>"
   ]
  },
  {
   "cell_type": "code",
   "execution_count": 59,
   "metadata": {
    "collapsed": true
   },
   "outputs": [],
   "source": [
    "# Saving into pickle file\n",
    "train_df.to_pickle('train_df.p')\n",
    "test_df.to_pickle('test_df.p')\n",
    "\n",
    "target.to_pickle('target.p')"
   ]
  },
  {
   "cell_type": "markdown",
   "metadata": {},
   "source": [
    "<u>Loading</u>"
   ]
  },
  {
   "cell_type": "code",
   "execution_count": 3,
   "metadata": {
    "collapsed": true
   },
   "outputs": [],
   "source": [
    "# Loading the pickle file, analysis can start here and we don't have to process the previous code each time we come back\n",
    "train_df = pd.read_pickle('train_df.p')\n",
    "test_df = pd.read_pickle('test_df.p')\n",
    "target  = pd.read_pickle('target.p')"
   ]
  },
  {
   "cell_type": "code",
   "execution_count": 4,
   "metadata": {
    "scrolled": false
   },
   "outputs": [
    {
     "data": {
      "text/html": [
       "<div>\n",
       "<style>\n",
       "    .dataframe thead tr:only-child th {\n",
       "        text-align: right;\n",
       "    }\n",
       "\n",
       "    .dataframe thead th {\n",
       "        text-align: left;\n",
       "    }\n",
       "\n",
       "    .dataframe tbody tr th {\n",
       "        vertical-align: top;\n",
       "    }\n",
       "</style>\n",
       "<table border=\"1\" class=\"dataframe\">\n",
       "  <thead>\n",
       "    <tr style=\"text-align: right;\">\n",
       "      <th></th>\n",
       "      <th>id</th>\n",
       "      <th>vendor_id</th>\n",
       "      <th>passenger_count</th>\n",
       "      <th>store_and_fwd_flag</th>\n",
       "      <th>trip_duration</th>\n",
       "      <th>weekend</th>\n",
       "      <th>pickup_pca0</th>\n",
       "      <th>pickup_pca1</th>\n",
       "      <th>pickup_cluster</th>\n",
       "      <th>sqrt_distance</th>\n",
       "      <th>Pickup_NumDayWeek</th>\n",
       "      <th>Month</th>\n",
       "      <th>Pickup_Day</th>\n",
       "      <th>Pickup_Hour</th>\n",
       "      <th>Pickup_Minute</th>\n",
       "      <th>Pickup_NumWeekYear</th>\n",
       "    </tr>\n",
       "  </thead>\n",
       "  <tbody>\n",
       "    <tr>\n",
       "      <th>0</th>\n",
       "      <td>id2875421</td>\n",
       "      <td>2</td>\n",
       "      <td>1</td>\n",
       "      <td>0</td>\n",
       "      <td>455</td>\n",
       "      <td>0</td>\n",
       "      <td>0.008300</td>\n",
       "      <td>0.017177</td>\n",
       "      <td>67</td>\n",
       "      <td>1.224313</td>\n",
       "      <td>0</td>\n",
       "      <td>3</td>\n",
       "      <td>14</td>\n",
       "      <td>17</td>\n",
       "      <td>24</td>\n",
       "      <td>11</td>\n",
       "    </tr>\n",
       "    <tr>\n",
       "      <th>1</th>\n",
       "      <td>id2377394</td>\n",
       "      <td>1</td>\n",
       "      <td>1</td>\n",
       "      <td>0</td>\n",
       "      <td>663</td>\n",
       "      <td>1</td>\n",
       "      <td>0.007128</td>\n",
       "      <td>-0.012224</td>\n",
       "      <td>49</td>\n",
       "      <td>1.343881</td>\n",
       "      <td>6</td>\n",
       "      <td>6</td>\n",
       "      <td>12</td>\n",
       "      <td>0</td>\n",
       "      <td>43</td>\n",
       "      <td>23</td>\n",
       "    </tr>\n",
       "    <tr>\n",
       "      <th>2</th>\n",
       "      <td>id3858529</td>\n",
       "      <td>2</td>\n",
       "      <td>1</td>\n",
       "      <td>0</td>\n",
       "      <td>2124</td>\n",
       "      <td>0</td>\n",
       "      <td>0.005250</td>\n",
       "      <td>0.013120</td>\n",
       "      <td>26</td>\n",
       "      <td>2.527231</td>\n",
       "      <td>1</td>\n",
       "      <td>1</td>\n",
       "      <td>19</td>\n",
       "      <td>11</td>\n",
       "      <td>35</td>\n",
       "      <td>3</td>\n",
       "    </tr>\n",
       "    <tr>\n",
       "      <th>3</th>\n",
       "      <td>id3504673</td>\n",
       "      <td>2</td>\n",
       "      <td>1</td>\n",
       "      <td>0</td>\n",
       "      <td>429</td>\n",
       "      <td>0</td>\n",
       "      <td>0.037106</td>\n",
       "      <td>-0.030242</td>\n",
       "      <td>94</td>\n",
       "      <td>1.218982</td>\n",
       "      <td>2</td>\n",
       "      <td>4</td>\n",
       "      <td>6</td>\n",
       "      <td>19</td>\n",
       "      <td>32</td>\n",
       "      <td>14</td>\n",
       "    </tr>\n",
       "    <tr>\n",
       "      <th>4</th>\n",
       "      <td>id2181028</td>\n",
       "      <td>2</td>\n",
       "      <td>1</td>\n",
       "      <td>0</td>\n",
       "      <td>435</td>\n",
       "      <td>1</td>\n",
       "      <td>-0.001287</td>\n",
       "      <td>0.042269</td>\n",
       "      <td>84</td>\n",
       "      <td>1.090378</td>\n",
       "      <td>5</td>\n",
       "      <td>3</td>\n",
       "      <td>26</td>\n",
       "      <td>13</td>\n",
       "      <td>30</td>\n",
       "      <td>12</td>\n",
       "    </tr>\n",
       "  </tbody>\n",
       "</table>\n",
       "</div>"
      ],
      "text/plain": [
       "          id  vendor_id  passenger_count  store_and_fwd_flag  trip_duration  \\\n",
       "0  id2875421          2                1                   0            455   \n",
       "1  id2377394          1                1                   0            663   \n",
       "2  id3858529          2                1                   0           2124   \n",
       "3  id3504673          2                1                   0            429   \n",
       "4  id2181028          2                1                   0            435   \n",
       "\n",
       "   weekend  pickup_pca0  pickup_pca1  pickup_cluster  sqrt_distance  \\\n",
       "0        0     0.008300     0.017177              67       1.224313   \n",
       "1        1     0.007128    -0.012224              49       1.343881   \n",
       "2        0     0.005250     0.013120              26       2.527231   \n",
       "3        0     0.037106    -0.030242              94       1.218982   \n",
       "4        1    -0.001287     0.042269              84       1.090378   \n",
       "\n",
       "   Pickup_NumDayWeek  Month  Pickup_Day  Pickup_Hour  Pickup_Minute  \\\n",
       "0                  0      3          14           17             24   \n",
       "1                  6      6          12            0             43   \n",
       "2                  1      1          19           11             35   \n",
       "3                  2      4           6           19             32   \n",
       "4                  5      3          26           13             30   \n",
       "\n",
       "   Pickup_NumWeekYear  \n",
       "0                  11  \n",
       "1                  23  \n",
       "2                   3  \n",
       "3                  14  \n",
       "4                  12  "
      ]
     },
     "execution_count": 4,
     "metadata": {},
     "output_type": "execute_result"
    }
   ],
   "source": [
    "train_df.head()"
   ]
  },
  {
   "cell_type": "code",
   "execution_count": 5,
   "metadata": {
    "scrolled": true
   },
   "outputs": [
    {
     "data": {
      "text/html": [
       "<div>\n",
       "<style>\n",
       "    .dataframe thead tr:only-child th {\n",
       "        text-align: right;\n",
       "    }\n",
       "\n",
       "    .dataframe thead th {\n",
       "        text-align: left;\n",
       "    }\n",
       "\n",
       "    .dataframe tbody tr th {\n",
       "        vertical-align: top;\n",
       "    }\n",
       "</style>\n",
       "<table border=\"1\" class=\"dataframe\">\n",
       "  <thead>\n",
       "    <tr style=\"text-align: right;\">\n",
       "      <th></th>\n",
       "      <th>id</th>\n",
       "      <th>vendor_id</th>\n",
       "      <th>passenger_count</th>\n",
       "      <th>store_and_fwd_flag</th>\n",
       "      <th>weekend</th>\n",
       "      <th>pickup_pca0</th>\n",
       "      <th>pickup_pca1</th>\n",
       "      <th>pickup_cluster</th>\n",
       "      <th>sqrt_distance</th>\n",
       "      <th>Pickup_NumDayWeek</th>\n",
       "      <th>Month</th>\n",
       "      <th>Pickup_Day</th>\n",
       "      <th>Pickup_Hour</th>\n",
       "      <th>Pickup_Minute</th>\n",
       "      <th>Pickup_NumWeekYear</th>\n",
       "    </tr>\n",
       "  </thead>\n",
       "  <tbody>\n",
       "    <tr>\n",
       "      <th>0</th>\n",
       "      <td>id3004672</td>\n",
       "      <td>1</td>\n",
       "      <td>1</td>\n",
       "      <td>0</td>\n",
       "      <td>0</td>\n",
       "      <td>0.014966</td>\n",
       "      <td>-0.018609</td>\n",
       "      <td>5</td>\n",
       "      <td>1.657468</td>\n",
       "      <td>3</td>\n",
       "      <td>6</td>\n",
       "      <td>30</td>\n",
       "      <td>23</td>\n",
       "      <td>59</td>\n",
       "      <td>26</td>\n",
       "    </tr>\n",
       "    <tr>\n",
       "      <th>1</th>\n",
       "      <td>id3505355</td>\n",
       "      <td>1</td>\n",
       "      <td>1</td>\n",
       "      <td>0</td>\n",
       "      <td>1</td>\n",
       "      <td>-0.007952</td>\n",
       "      <td>-0.071097</td>\n",
       "      <td>91</td>\n",
       "      <td>1.661330</td>\n",
       "      <td>3</td>\n",
       "      <td>6</td>\n",
       "      <td>30</td>\n",
       "      <td>23</td>\n",
       "      <td>59</td>\n",
       "      <td>26</td>\n",
       "    </tr>\n",
       "    <tr>\n",
       "      <th>2</th>\n",
       "      <td>id1217141</td>\n",
       "      <td>1</td>\n",
       "      <td>1</td>\n",
       "      <td>0</td>\n",
       "      <td>0</td>\n",
       "      <td>0.024165</td>\n",
       "      <td>-0.012876</td>\n",
       "      <td>30</td>\n",
       "      <td>1.143033</td>\n",
       "      <td>3</td>\n",
       "      <td>6</td>\n",
       "      <td>30</td>\n",
       "      <td>23</td>\n",
       "      <td>59</td>\n",
       "      <td>26</td>\n",
       "    </tr>\n",
       "    <tr>\n",
       "      <th>3</th>\n",
       "      <td>id2150126</td>\n",
       "      <td>2</td>\n",
       "      <td>1</td>\n",
       "      <td>0</td>\n",
       "      <td>0</td>\n",
       "      <td>-0.017856</td>\n",
       "      <td>0.020637</td>\n",
       "      <td>98</td>\n",
       "      <td>2.295773</td>\n",
       "      <td>3</td>\n",
       "      <td>6</td>\n",
       "      <td>30</td>\n",
       "      <td>23</td>\n",
       "      <td>59</td>\n",
       "      <td>26</td>\n",
       "    </tr>\n",
       "    <tr>\n",
       "      <th>4</th>\n",
       "      <td>id1598245</td>\n",
       "      <td>1</td>\n",
       "      <td>1</td>\n",
       "      <td>0</td>\n",
       "      <td>1</td>\n",
       "      <td>-0.003513</td>\n",
       "      <td>0.010486</td>\n",
       "      <td>1</td>\n",
       "      <td>0.980363</td>\n",
       "      <td>3</td>\n",
       "      <td>6</td>\n",
       "      <td>30</td>\n",
       "      <td>23</td>\n",
       "      <td>59</td>\n",
       "      <td>26</td>\n",
       "    </tr>\n",
       "  </tbody>\n",
       "</table>\n",
       "</div>"
      ],
      "text/plain": [
       "          id  vendor_id  passenger_count  store_and_fwd_flag  weekend  \\\n",
       "0  id3004672          1                1                   0        0   \n",
       "1  id3505355          1                1                   0        1   \n",
       "2  id1217141          1                1                   0        0   \n",
       "3  id2150126          2                1                   0        0   \n",
       "4  id1598245          1                1                   0        1   \n",
       "\n",
       "   pickup_pca0  pickup_pca1  pickup_cluster  sqrt_distance  Pickup_NumDayWeek  \\\n",
       "0     0.014966    -0.018609               5       1.657468                  3   \n",
       "1    -0.007952    -0.071097              91       1.661330                  3   \n",
       "2     0.024165    -0.012876              30       1.143033                  3   \n",
       "3    -0.017856     0.020637              98       2.295773                  3   \n",
       "4    -0.003513     0.010486               1       0.980363                  3   \n",
       "\n",
       "   Month  Pickup_Day  Pickup_Hour  Pickup_Minute  Pickup_NumWeekYear  \n",
       "0      6          30           23             59                  26  \n",
       "1      6          30           23             59                  26  \n",
       "2      6          30           23             59                  26  \n",
       "3      6          30           23             59                  26  \n",
       "4      6          30           23             59                  26  "
      ]
     },
     "execution_count": 5,
     "metadata": {},
     "output_type": "execute_result"
    }
   ],
   "source": [
    "test_df.head()"
   ]
  },
  {
   "cell_type": "code",
   "execution_count": 6,
   "metadata": {},
   "outputs": [
    {
     "data": {
      "text/plain": [
       "(625134, 15)"
      ]
     },
     "execution_count": 6,
     "metadata": {},
     "output_type": "execute_result"
    }
   ],
   "source": [
    "test_df.shape"
   ]
  },
  {
   "cell_type": "code",
   "execution_count": 7,
   "metadata": {},
   "outputs": [
    {
     "data": {
      "text/plain": [
       "(1458621, 16)"
      ]
     },
     "execution_count": 7,
     "metadata": {},
     "output_type": "execute_result"
    }
   ],
   "source": [
    "train_df.shape"
   ]
  },
  {
   "cell_type": "code",
   "execution_count": null,
   "metadata": {
    "collapsed": true
   },
   "outputs": [],
   "source": []
  },
  {
   "cell_type": "markdown",
   "metadata": {},
   "source": [
    "<h3 style=\"text-align:center\">Split-out dataset</h3>"
   ]
  },
  {
   "cell_type": "code",
   "execution_count": null,
   "metadata": {
    "collapsed": true
   },
   "outputs": [],
   "source": [
    "# # Using a subset for model training for comparing algorithms\n",
    "# train_df = train_df.iloc[:int(train_df.shape[0] / 100)]\n",
    "# target = target.iloc[:int(target.shape[0] / 100)]"
   ]
  },
  {
   "cell_type": "code",
   "execution_count": 8,
   "metadata": {
    "collapsed": true
   },
   "outputs": [],
   "source": [
    "# Test options and evaluation metric\n",
    "num_folds = 10 \n",
    "seed = 46\n",
    "test_size = 0.20\n",
    "scoring = 'r2'"
   ]
  },
  {
   "cell_type": "code",
   "execution_count": 9,
   "metadata": {
    "collapsed": true
   },
   "outputs": [],
   "source": [
    "X = train_df.drop(['id', 'trip_duration'], axis=1).values\n",
    "Y = target.values.ravel()\n",
    "\n",
    "X_train, X_test, y_train, y_test = train_test_split(X, Y, test_size=test_size,\\\n",
    "                                                   random_state=seed)\n"
   ]
  },
  {
   "cell_type": "code",
   "execution_count": 10,
   "metadata": {},
   "outputs": [
    {
     "name": "stdout",
     "output_type": "stream",
     "text": [
      "(1166896, 14) (1166896,) \n",
      " (291725, 14) (291725,)\n"
     ]
    }
   ],
   "source": [
    "print(X_train.shape, y_train.shape, \"\\n\", X_test.shape, y_test.shape)"
   ]
  },
  {
   "cell_type": "markdown",
   "metadata": {},
   "source": [
    "<h3 style=\"text-align:center\">Tuning Algorithm</h3>"
   ]
  },
  {
   "cell_type": "markdown",
   "metadata": {},
   "source": [
    "Here we will use GridSearch to try a set of different numbers of the argument of gradient boosting in order to aim for better accuracy.\n",
    "We will use the built-in function from xgboost to speed up the overall process and computation time."
   ]
  },
  {
   "cell_type": "code",
   "execution_count": 14,
   "metadata": {},
   "outputs": [
    {
     "data": {
      "text/plain": [
       "XGBRegressor(base_score=0.5, colsample_bylevel=1, colsample_bytree=1, gamma=0,\n",
       "       learning_rate=0.1, max_delta_step=0, max_depth=3,\n",
       "       min_child_weight=1, missing=None, n_estimators=100, nthread=-1,\n",
       "       objective='reg:linear', reg_alpha=0, reg_lambda=1,\n",
       "       scale_pos_weight=1, seed=0, silent=True, subsample=1)"
      ]
     },
     "execution_count": 14,
     "metadata": {},
     "output_type": "execute_result"
    }
   ],
   "source": [
    "XGBRegressor()"
   ]
  },
  {
   "cell_type": "code",
   "execution_count": 19,
   "metadata": {
    "collapsed": true
   },
   "outputs": [],
   "source": [
    "# Create DMatrix to make XGboost more efficient\n",
    "xgdmat = DMatrix(X_train, y_train)\n",
    "testdmat = DMatrix(X_test)"
   ]
  },
  {
   "cell_type": "code",
   "execution_count": 16,
   "metadata": {
    "scrolled": true
   },
   "outputs": [
    {
     "data": {
      "text/plain": [
       "<xgboost.core.DMatrix at 0x2441d073a20>"
      ]
     },
     "execution_count": 16,
     "metadata": {},
     "output_type": "execute_result"
    }
   ],
   "source": [
    "xgdmat"
   ]
  },
  {
   "cell_type": "code",
   "execution_count": 26,
   "metadata": {
    "scrolled": true
   },
   "outputs": [
    {
     "name": "stdout",
     "output_type": "stream",
     "text": [
      "elapsed time: 223.991 s\n"
     ]
    }
   ],
   "source": [
    "start = time()\n",
    "\n",
    "our_params = {'eta': 0.05, 'seed':seed, 'subsample': 0.8, 'colsample_bytree': 0.8, \n",
    "             'max_depth':5, 'min_child_weight':10} \n",
    "\n",
    "final_gb = xgb.train(our_params, xgdmat, num_boost_round = 300)\n",
    "\n",
    "print(\"elapsed time:\", round(time()-start, 3), \"s\")"
   ]
  },
  {
   "cell_type": "code",
   "execution_count": 27,
   "metadata": {},
   "outputs": [
    {
     "name": "stdout",
     "output_type": "stream",
     "text": [
      "0.687916419522\n"
     ]
    }
   ],
   "source": [
    "# Test to see how well we did on test set\n",
    "y_pred = final_gb.predict(testdmat)\n",
    "accuracy = r2_score(y_test, y_pred)\n",
    "print(accuracy)"
   ]
  },
  {
   "cell_type": "code",
   "execution_count": 53,
   "metadata": {},
   "outputs": [
    {
     "name": "stdout",
     "output_type": "stream",
     "text": [
      "elapsed time: 221.794 s\n",
      "0.692199767718\n"
     ]
    }
   ],
   "source": [
    "start = time()\n",
    "\n",
    "our_params = {'eta': 0.3, 'seed':seed, 'subsample': 0.8, 'colsample_bytree': 0.3, \n",
    "             'max_depth':10, 'min_child_weight':50, 'booster': 'gbtree',\n",
    "             'eval_metric': 'rmse', 'objective': 'reg:linear'} \n",
    "\n",
    "final_gb = xgb.train(our_params, xgdmat, num_boost_round = 300)\n",
    "\n",
    "print(\"elapsed time:\", round(time()-start, 3), \"s\")\n",
    "\n",
    "# Test to see how well we did on test set\n",
    "y_pred = final_gb.predict(testdmat)\n",
    "accuracy = r2_score(y_test, y_pred)\n",
    "print(accuracy)"
   ]
  },
  {
   "cell_type": "code",
   "execution_count": 22,
   "metadata": {},
   "outputs": [
    {
     "data": {
      "text/plain": [
       "(291725,)"
      ]
     },
     "execution_count": 22,
     "metadata": {},
     "output_type": "execute_result"
    }
   ],
   "source": [
    "y_test.shape"
   ]
  },
  {
   "cell_type": "code",
   "execution_count": null,
   "metadata": {
    "collapsed": true
   },
   "outputs": [],
   "source": [
    "start = time()\n",
    "\n",
    "our_params = {'eta': 0.1, 'seed':0, 'subsample': 0.8, 'colsample_bytree': 0.8, \n",
    "              'max_depth':3, 'min_child_weight':1} \n",
    "# Grid Search CV optimized settings\n",
    "cv_xgb = cv(params = our_params, dtrain = xgdmat, num_boost_round = 300, nfold = 5,\n",
    "                metrics = ['rmse'], # Make sure you enter metrics inside a list or you may encounter issues!\n",
    "                early_stopping_rounds = 100) # Look for early stopping that minimizes error\n",
    "\n",
    "print(\"elapsed time:\", round(time()-t0, 3), \"s\")"
   ]
  },
  {
   "cell_type": "markdown",
   "metadata": {},
   "source": [
    "<h3 style=\"text-align:center\">Testing Model </h3>"
   ]
  },
  {
   "cell_type": "code",
   "execution_count": null,
   "metadata": {
    "collapsed": true
   },
   "outputs": [],
   "source": [
    "XGBRegressor()"
   ]
  },
  {
   "cell_type": "code",
   "execution_count": null,
   "metadata": {
    "collapsed": true
   },
   "outputs": [],
   "source": [
    "# model = XGBRegressor(seed=seed, n_estimators=300, \\\n",
    "#                                  nthread=-1, \\\n",
    "            \n",
    "#                                   max_depth=5)\n",
    "\n",
    "# model.fit(X_train, y_train)\n",
    "# pred = model.predict(X_test)\n"
   ]
  },
  {
   "cell_type": "code",
   "execution_count": null,
   "metadata": {
    "collapsed": true
   },
   "outputs": [],
   "source": []
  },
  {
   "cell_type": "code",
   "execution_count": null,
   "metadata": {
    "collapsed": true
   },
   "outputs": [],
   "source": [
    "pred.shape"
   ]
  },
  {
   "cell_type": "code",
   "execution_count": 35,
   "metadata": {
    "collapsed": true
   },
   "outputs": [],
   "source": [
    "def rmsle(predicted,real):\n",
    "    sum=0.0\n",
    "    for x in range(len(predicted)):\n",
    "        p = np.log(predicted[x]+1)\n",
    "        r = np.log(real[x]+1)\n",
    "        sum = sum + (p - r)**2\n",
    "    return (sum/len(predicted))**0.5"
   ]
  },
  {
   "cell_type": "code",
   "execution_count": null,
   "metadata": {
    "collapsed": true
   },
   "outputs": [],
   "source": [
    "accuracy = rmsle(y_test, pred)\n",
    "print(accuracy)"
   ]
  },
  {
   "cell_type": "markdown",
   "metadata": {},
   "source": [
    "<h3 style=\"text-align:center\">Checking Model</h3>"
   ]
  },
  {
   "cell_type": "code",
   "execution_count": 54,
   "metadata": {
    "collapsed": true
   },
   "outputs": [],
   "source": [
    "X_fin = test_df.drop(['id'], axis=1).values\n",
    "X_fin_dmat = DMatrix(X_fin)"
   ]
  },
  {
   "cell_type": "code",
   "execution_count": 55,
   "metadata": {},
   "outputs": [
    {
     "data": {
      "text/plain": [
       "array([ 6.57201672,  6.43355227,  5.82282591, ...,  7.28060627,\n",
       "        7.53881359,  7.21800327], dtype=float32)"
      ]
     },
     "execution_count": 55,
     "metadata": {},
     "output_type": "execute_result"
    }
   ],
   "source": [
    "y_final_pred = final_gb.predict(X_fin_dmat)\n",
    "y_final_pred"
   ]
  },
  {
   "cell_type": "code",
   "execution_count": 56,
   "metadata": {},
   "outputs": [
    {
     "data": {
      "image/png": "[encoded data removed]",
      "text/plain": [
       "<matplotlib.figure.Figure at 0x1691adfa550>"
      ]
     },
     "metadata": {},
     "output_type": "display_data"
    },
    {
     "name": "stdout",
     "output_type": "stream",
     "text": [
      "Validation prediction mean: 796.860\n",
      "Test prediction mean: 790.269\n"
     ]
    }
   ],
   "source": [
    "validation_pred = np.exp(y_pred)\n",
    "final_pred = np.exp(y_final_pred)\n",
    "\n",
    "fig, ax = plt.subplots(nrows=2, sharex=True, sharey=True)\n",
    "sns.distplot(validation_pred, ax=ax[0], color='blue',\n",
    "            label='validation prediction')\n",
    "sns.distplot(final_pred, ax=ax[1], color='green',\n",
    "            label='test prediction')\n",
    "ax[0].legend(loc=0)\n",
    "ax[1].legend(loc=0)\n",
    "plt.show()\n",
    "\n",
    "print('Validation prediction mean: %.3f' % (validation_pred.mean()) )\n",
    "print('Test prediction mean: %.3f' % (final_pred.mean()) )"
   ]
  },
  {
   "cell_type": "markdown",
   "metadata": {},
   "source": [
    "<h3 style=\"text-align:center\">Finalize Model</h3>"
   ]
  },
  {
   "cell_type": "code",
   "execution_count": 28,
   "metadata": {
    "collapsed": true
   },
   "outputs": [],
   "source": [
    "X_fin = test_df.drop(['id'], axis=1).values\n",
    "X_fin_dmat = DMatrix(X_fin)"
   ]
  },
  {
   "cell_type": "code",
   "execution_count": null,
   "metadata": {
    "collapsed": true
   },
   "outputs": [],
   "source": [
    "# model = XGBRegressor(seed=seed, n_estimators=300, \\\n",
    "#                                  nthread=-1, \\\n",
    "#                                   max_depth=5)\n",
    "# model.fit(X_train, y_train)\n",
    "# pred = model.predict(X_fin)\n",
    "\n",
    "# print(pred)"
   ]
  },
  {
   "cell_type": "code",
   "execution_count": 47,
   "metadata": {},
   "outputs": [
    {
     "data": {
      "text/plain": [
       "array([ 6.58004093,  6.36230087,  5.95104647, ...,  7.29894209,\n",
       "        7.70815277,  7.02890205], dtype=float32)"
      ]
     },
     "execution_count": 47,
     "metadata": {},
     "output_type": "execute_result"
    }
   ],
   "source": [
    "y_final_pred = final_gb.predict(X_fin_dmat)\n",
    "y_final_pred"
   ]
  },
  {
   "cell_type": "code",
   "execution_count": 57,
   "metadata": {
    "scrolled": true
   },
   "outputs": [
    {
     "name": "stdout",
     "output_type": "stream",
     "text": [
      "[  714.80993652   622.38085938   337.92565918 ...,  1451.86804199\n",
      "  1879.59875488  1363.76330566]\n"
     ]
    }
   ],
   "source": [
    "# transform the predictions (we applied log to skew the distribution )\n",
    "# The function np.exp() will cancel the log\n",
    "final_pred = np.exp(y_final_pred)\n",
    "\n",
    "print(final_pred)"
   ]
  },
  {
   "cell_type": "code",
   "execution_count": 32,
   "metadata": {},
   "outputs": [
    {
     "data": {
      "text/plain": [
       "(625134,)"
      ]
     },
     "execution_count": 32,
     "metadata": {},
     "output_type": "execute_result"
    }
   ],
   "source": [
    "final_pred.shape"
   ]
  },
  {
   "cell_type": "markdown",
   "metadata": {},
   "source": [
    "<h3 style=text-align:center>Submit the results</h3>"
   ]
  },
  {
   "cell_type": "code",
   "execution_count": 58,
   "metadata": {
    "collapsed": true
   },
   "outputs": [],
   "source": [
    "id = test_df['id'].values\n",
    "data = { 'id': id, 'trip_duration': final_pred}\n",
    "df = pd.DataFrame(data, columns=['id', 'trip_duration'])"
   ]
  },
  {
   "cell_type": "markdown",
   "metadata": {},
   "source": [
    "Save to output file"
   ]
  },
  {
   "cell_type": "code",
   "execution_count": 59,
   "metadata": {
    "collapsed": true
   },
   "outputs": [],
   "source": [
    "df.to_csv(\"result4.csv\", index=False)"
   ]
  }
 ],
 "metadata": {
  "kernelspec": {
   "display_name": "Python 3",
   "language": "python",
   "name": "python3"
  },
  "language_info": {
   "codemirror_mode": {
    "name": "ipython",
    "version": 3
   },
   "file_extension": ".py",
   "mimetype": "text/x-python",
   "name": "python",
   "nbconvert_exporter": "python",
   "pygments_lexer": "ipython3",
   "version": "3.6.2"
  }
 },
 "nbformat": 4,
 "nbformat_minor": 2
}
