{
 "cells": [
  {
   "cell_type": "markdown",
   "metadata": {},
   "source": [
    "<h3 style=\"text-align:center\">Logistic Regression with TensorFlow</h3>"
   ]
  },
  {
   "cell_type": "markdown",
   "metadata": {},
   "source": [
    "<h3><u>Introduction</u></h3>"
   ]
  },
  {
   "cell_type": "markdown",
   "metadata": {},
   "source": [
    "The goal of this notebook is to familiarize with the <u>TensorFlow</u>, the Deep Learning library build by Google in November 2015. <br>\n",
    "Now it is the framework that it is the most used and we will use it in order to build a Logistic Regression model using the Iris dataset."
   ]
  },
  {
   "cell_type": "markdown",
   "metadata": {},
   "source": [
    "<h3><u>Package</u></h3>"
   ]
  },
  {
   "cell_type": "markdown",
   "metadata": {},
   "source": [
    "First let's import the packages that we need to achieve our goal:"
   ]
  },
  {
   "cell_type": "code",
   "execution_count": 1,
   "metadata": {
    "collapsed": true
   },
   "outputs": [],
   "source": [
    "import tensorflow as tf\n",
    "import pandas as pd\n",
    "import numpy as np\n",
    "from matplotlib import pyplot as plt\n",
    "import seaborn as sns"
   ]
  },
  {
   "cell_type": "markdown",
   "metadata": {},
   "source": [
    "<h3>Load Iris dataset</h3>"
   ]
  },
  {
   "cell_type": "code",
   "execution_count": 2,
   "metadata": {
    "scrolled": false
   },
   "outputs": [
    {
     "data": {
      "text/html": [
       "<div>\n",
       "<style>\n",
       "    .dataframe thead tr:only-child th {\n",
       "        text-align: right;\n",
       "    }\n",
       "\n",
       "    .dataframe thead th {\n",
       "        text-align: left;\n",
       "    }\n",
       "\n",
       "    .dataframe tbody tr th {\n",
       "        vertical-align: top;\n",
       "    }\n",
       "</style>\n",
       "<table border=\"1\" class=\"dataframe\">\n",
       "  <thead>\n",
       "    <tr style=\"text-align: right;\">\n",
       "      <th></th>\n",
       "      <th>Id</th>\n",
       "      <th>SepalLengthCm</th>\n",
       "      <th>SepalWidthCm</th>\n",
       "      <th>PetalLengthCm</th>\n",
       "      <th>PetalWidthCm</th>\n",
       "      <th>Species</th>\n",
       "    </tr>\n",
       "  </thead>\n",
       "  <tbody>\n",
       "    <tr>\n",
       "      <th>0</th>\n",
       "      <td>1</td>\n",
       "      <td>5.1</td>\n",
       "      <td>3.5</td>\n",
       "      <td>1.4</td>\n",
       "      <td>0.2</td>\n",
       "      <td>Iris-setosa</td>\n",
       "    </tr>\n",
       "    <tr>\n",
       "      <th>1</th>\n",
       "      <td>2</td>\n",
       "      <td>4.9</td>\n",
       "      <td>3.0</td>\n",
       "      <td>1.4</td>\n",
       "      <td>0.2</td>\n",
       "      <td>Iris-setosa</td>\n",
       "    </tr>\n",
       "    <tr>\n",
       "      <th>2</th>\n",
       "      <td>3</td>\n",
       "      <td>4.7</td>\n",
       "      <td>3.2</td>\n",
       "      <td>1.3</td>\n",
       "      <td>0.2</td>\n",
       "      <td>Iris-setosa</td>\n",
       "    </tr>\n",
       "    <tr>\n",
       "      <th>3</th>\n",
       "      <td>4</td>\n",
       "      <td>4.6</td>\n",
       "      <td>3.1</td>\n",
       "      <td>1.5</td>\n",
       "      <td>0.2</td>\n",
       "      <td>Iris-setosa</td>\n",
       "    </tr>\n",
       "    <tr>\n",
       "      <th>4</th>\n",
       "      <td>5</td>\n",
       "      <td>5.0</td>\n",
       "      <td>3.6</td>\n",
       "      <td>1.4</td>\n",
       "      <td>0.2</td>\n",
       "      <td>Iris-setosa</td>\n",
       "    </tr>\n",
       "  </tbody>\n",
       "</table>\n",
       "</div>"
      ],
      "text/plain": [
       "   Id  SepalLengthCm  SepalWidthCm  PetalLengthCm  PetalWidthCm      Species\n",
       "0   1            5.1           3.5            1.4           0.2  Iris-setosa\n",
       "1   2            4.9           3.0            1.4           0.2  Iris-setosa\n",
       "2   3            4.7           3.2            1.3           0.2  Iris-setosa\n",
       "3   4            4.6           3.1            1.5           0.2  Iris-setosa\n",
       "4   5            5.0           3.6            1.4           0.2  Iris-setosa"
      ]
     },
     "execution_count": 2,
     "metadata": {},
     "output_type": "execute_result"
    }
   ],
   "source": [
    "# Load dataset\n",
    "data = pd.read_csv('Iris.csv')\n",
    "data.head()"
   ]
  },
  {
   "cell_type": "markdown",
   "metadata": {},
   "source": [
    "To simplify things, we will only consider 2 attributes and 2 classes."
   ]
  },
  {
   "cell_type": "code",
   "execution_count": 3,
   "metadata": {},
   "outputs": [
    {
     "data": {
      "image/png": "[encoded data removed]",
      "text/plain": [
       "<matplotlib.figure.Figure at 0x7fa226ce5860>"
      ]
     },
     "metadata": {},
     "output_type": "display_data"
    }
   ],
   "source": [
    "X = data.iloc[:100, 1:3].values\n",
    "y = data.iloc[:100, 5].values\n",
    "\n",
    "m = 100\n",
    "\n",
    "setosa = plt.scatter(X[:50, 0], X[:50, 1], c='b', label=\"setosa\")\n",
    "versicolor = plt.scatter(X[50:, 0], X[50:, 1], c='r', label=\"versicolor\")\n",
    "plt.legend()\n",
    "sns.despine()\n",
    "plt.show()"
   ]
  },
  {
   "cell_type": "markdown",
   "metadata": {},
   "source": [
    "We must not forget to add an extra bias feature ($x_0 = 1$) to every instance. <br>\n",
    "For this, we just need to add a column full of 1s on the left of the input matrix <b>X</b>:"
   ]
  },
  {
   "cell_type": "code",
   "execution_count": 4,
   "metadata": {
    "collapsed": true
   },
   "outputs": [],
   "source": [
    "X_with_bias = np.c_[np.ones((m, 1)), X]"
   ]
  },
  {
   "cell_type": "markdown",
   "metadata": {},
   "source": [
    "Let's check:"
   ]
  },
  {
   "cell_type": "markdown",
   "metadata": {},
   "source": [
    "Now let's reshape y_train to make it a column vector (i.e. a 2D array with a single column):"
   ]
  },
  {
   "cell_type": "code",
   "execution_count": 5,
   "metadata": {},
   "outputs": [
    {
     "data": {
      "text/plain": [
       "(100,)"
      ]
     },
     "execution_count": 5,
     "metadata": {},
     "output_type": "execute_result"
    }
   ],
   "source": [
    "y.shape"
   ]
  },
  {
   "cell_type": "code",
   "execution_count": 6,
   "metadata": {},
   "outputs": [
    {
     "data": {
      "text/plain": [
       "(100, 1)"
      ]
     },
     "execution_count": 6,
     "metadata": {},
     "output_type": "execute_result"
    }
   ],
   "source": [
    "y_column_vector = y.reshape(-1, 1)\n",
    "y_column_vector.shape"
   ]
  },
  {
   "cell_type": "markdown",
   "metadata": {},
   "source": [
    "Finally, we convert the Species into number, in this case, we will impose <br>\n",
    "'Iris-setosa' = 1 and 'Iris-versicolor' = 0"
   ]
  },
  {
   "cell_type": "code",
   "execution_count": 7,
   "metadata": {
    "collapsed": true
   },
   "outputs": [],
   "source": [
    "y_bin = (np.where(y_column_vector == 'Iris-setosa', 1, 0))"
   ]
  },
  {
   "cell_type": "code",
   "execution_count": 8,
   "metadata": {
    "collapsed": true
   },
   "outputs": [],
   "source": [
    "full_data = np.concatenate((X_with_bias, y_bin), axis=1)"
   ]
  },
  {
   "cell_type": "code",
   "execution_count": 9,
   "metadata": {},
   "outputs": [
    {
     "data": {
      "text/plain": [
       "(100, 4)"
      ]
     },
     "execution_count": 9,
     "metadata": {},
     "output_type": "execute_result"
    }
   ],
   "source": [
    "full_data.shape"
   ]
  },
  {
   "cell_type": "code",
   "execution_count": 10,
   "metadata": {},
   "outputs": [
    {
     "data": {
      "text/plain": [
       "array([[ 1. ,  5.1,  3.5,  1. ],\n",
       "       [ 1. ,  4.9,  3. ,  1. ],\n",
       "       [ 1. ,  4.7,  3.2,  1. ],\n",
       "       [ 1. ,  4.6,  3.1,  1. ],\n",
       "       [ 1. ,  5. ,  3.6,  1. ],\n",
       "       [ 1. ,  5.4,  3.9,  1. ],\n",
       "       [ 1. ,  4.6,  3.4,  1. ],\n",
       "       [ 1. ,  5. ,  3.4,  1. ],\n",
       "       [ 1. ,  4.4,  2.9,  1. ],\n",
       "       [ 1. ,  4.9,  3.1,  1. ],\n",
       "       [ 1. ,  5.4,  3.7,  1. ],\n",
       "       [ 1. ,  4.8,  3.4,  1. ],\n",
       "       [ 1. ,  4.8,  3. ,  1. ],\n",
       "       [ 1. ,  4.3,  3. ,  1. ],\n",
       "       [ 1. ,  5.8,  4. ,  1. ],\n",
       "       [ 1. ,  5.7,  4.4,  1. ],\n",
       "       [ 1. ,  5.4,  3.9,  1. ],\n",
       "       [ 1. ,  5.1,  3.5,  1. ],\n",
       "       [ 1. ,  5.7,  3.8,  1. ],\n",
       "       [ 1. ,  5.1,  3.8,  1. ],\n",
       "       [ 1. ,  5.4,  3.4,  1. ],\n",
       "       [ 1. ,  5.1,  3.7,  1. ],\n",
       "       [ 1. ,  4.6,  3.6,  1. ],\n",
       "       [ 1. ,  5.1,  3.3,  1. ],\n",
       "       [ 1. ,  4.8,  3.4,  1. ],\n",
       "       [ 1. ,  5. ,  3. ,  1. ],\n",
       "       [ 1. ,  5. ,  3.4,  1. ],\n",
       "       [ 1. ,  5.2,  3.5,  1. ],\n",
       "       [ 1. ,  5.2,  3.4,  1. ],\n",
       "       [ 1. ,  4.7,  3.2,  1. ],\n",
       "       [ 1. ,  4.8,  3.1,  1. ],\n",
       "       [ 1. ,  5.4,  3.4,  1. ],\n",
       "       [ 1. ,  5.2,  4.1,  1. ],\n",
       "       [ 1. ,  5.5,  4.2,  1. ],\n",
       "       [ 1. ,  4.9,  3.1,  1. ],\n",
       "       [ 1. ,  5. ,  3.2,  1. ],\n",
       "       [ 1. ,  5.5,  3.5,  1. ],\n",
       "       [ 1. ,  4.9,  3.1,  1. ],\n",
       "       [ 1. ,  4.4,  3. ,  1. ],\n",
       "       [ 1. ,  5.1,  3.4,  1. ],\n",
       "       [ 1. ,  5. ,  3.5,  1. ],\n",
       "       [ 1. ,  4.5,  2.3,  1. ],\n",
       "       [ 1. ,  4.4,  3.2,  1. ],\n",
       "       [ 1. ,  5. ,  3.5,  1. ],\n",
       "       [ 1. ,  5.1,  3.8,  1. ],\n",
       "       [ 1. ,  4.8,  3. ,  1. ],\n",
       "       [ 1. ,  5.1,  3.8,  1. ],\n",
       "       [ 1. ,  4.6,  3.2,  1. ],\n",
       "       [ 1. ,  5.3,  3.7,  1. ],\n",
       "       [ 1. ,  5. ,  3.3,  1. ],\n",
       "       [ 1. ,  7. ,  3.2,  0. ],\n",
       "       [ 1. ,  6.4,  3.2,  0. ],\n",
       "       [ 1. ,  6.9,  3.1,  0. ],\n",
       "       [ 1. ,  5.5,  2.3,  0. ],\n",
       "       [ 1. ,  6.5,  2.8,  0. ],\n",
       "       [ 1. ,  5.7,  2.8,  0. ],\n",
       "       [ 1. ,  6.3,  3.3,  0. ],\n",
       "       [ 1. ,  4.9,  2.4,  0. ],\n",
       "       [ 1. ,  6.6,  2.9,  0. ],\n",
       "       [ 1. ,  5.2,  2.7,  0. ],\n",
       "       [ 1. ,  5. ,  2. ,  0. ],\n",
       "       [ 1. ,  5.9,  3. ,  0. ],\n",
       "       [ 1. ,  6. ,  2.2,  0. ],\n",
       "       [ 1. ,  6.1,  2.9,  0. ],\n",
       "       [ 1. ,  5.6,  2.9,  0. ],\n",
       "       [ 1. ,  6.7,  3.1,  0. ],\n",
       "       [ 1. ,  5.6,  3. ,  0. ],\n",
       "       [ 1. ,  5.8,  2.7,  0. ],\n",
       "       [ 1. ,  6.2,  2.2,  0. ],\n",
       "       [ 1. ,  5.6,  2.5,  0. ],\n",
       "       [ 1. ,  5.9,  3.2,  0. ],\n",
       "       [ 1. ,  6.1,  2.8,  0. ],\n",
       "       [ 1. ,  6.3,  2.5,  0. ],\n",
       "       [ 1. ,  6.1,  2.8,  0. ],\n",
       "       [ 1. ,  6.4,  2.9,  0. ],\n",
       "       [ 1. ,  6.6,  3. ,  0. ],\n",
       "       [ 1. ,  6.8,  2.8,  0. ],\n",
       "       [ 1. ,  6.7,  3. ,  0. ],\n",
       "       [ 1. ,  6. ,  2.9,  0. ],\n",
       "       [ 1. ,  5.7,  2.6,  0. ],\n",
       "       [ 1. ,  5.5,  2.4,  0. ],\n",
       "       [ 1. ,  5.5,  2.4,  0. ],\n",
       "       [ 1. ,  5.8,  2.7,  0. ],\n",
       "       [ 1. ,  6. ,  2.7,  0. ],\n",
       "       [ 1. ,  5.4,  3. ,  0. ],\n",
       "       [ 1. ,  6. ,  3.4,  0. ],\n",
       "       [ 1. ,  6.7,  3.1,  0. ],\n",
       "       [ 1. ,  6.3,  2.3,  0. ],\n",
       "       [ 1. ,  5.6,  3. ,  0. ],\n",
       "       [ 1. ,  5.5,  2.5,  0. ],\n",
       "       [ 1. ,  5.5,  2.6,  0. ],\n",
       "       [ 1. ,  6.1,  3. ,  0. ],\n",
       "       [ 1. ,  5.8,  2.6,  0. ],\n",
       "       [ 1. ,  5. ,  2.3,  0. ],\n",
       "       [ 1. ,  5.6,  2.7,  0. ],\n",
       "       [ 1. ,  5.7,  3. ,  0. ],\n",
       "       [ 1. ,  5.7,  2.9,  0. ],\n",
       "       [ 1. ,  6.2,  2.9,  0. ],\n",
       "       [ 1. ,  5.1,  2.5,  0. ],\n",
       "       [ 1. ,  5.7,  2.8,  0. ]])"
      ]
     },
     "execution_count": 10,
     "metadata": {},
     "output_type": "execute_result"
    }
   ],
   "source": [
    "full_data"
   ]
  },
  {
   "cell_type": "markdown",
   "metadata": {},
   "source": [
    "<h3><u>Train/Test set split</u></h3>"
   ]
  },
  {
   "cell_type": "markdown",
   "metadata": {},
   "source": [
    "We will split the loaded dataset into two, <b>80%</b> of which we will use to train our model and <b>20%</b> that we will hold back as a test dataset."
   ]
  },
  {
   "cell_type": "code",
   "execution_count": 11,
   "metadata": {
    "collapsed": true
   },
   "outputs": [],
   "source": [
    "np.random.seed(42) # To make output consistent in this notebook"
   ]
  },
  {
   "cell_type": "code",
   "execution_count": 12,
   "metadata": {
    "collapsed": true
   },
   "outputs": [],
   "source": [
    "def split_train_test(data, test_ratio):\n",
    "    shuffled_indices = np.random.permutation(len(data))\n",
    "    test_set_size = int(len(data) * test_ratio)\n",
    "    test_indices = shuffled_indices[:test_set_size]\n",
    "    train_indices = shuffled_indices[test_set_size:]\n",
    "    \n",
    "    return data[train_indices], data[test_indices]"
   ]
  },
  {
   "cell_type": "code",
   "execution_count": 13,
   "metadata": {},
   "outputs": [
    {
     "name": "stdout",
     "output_type": "stream",
     "text": [
      "Train size: (80, 4) Test size: (20, 4)\n"
     ]
    }
   ],
   "source": [
    "test_ratio = 0.2\n",
    "train, test = split_train_test(full_data, test_ratio=test_ratio)\n",
    "print(\"Train size:\", train.shape, \"Test size:\", test.shape)"
   ]
  },
  {
   "cell_type": "code",
   "execution_count": 14,
   "metadata": {},
   "outputs": [
    {
     "name": "stdout",
     "output_type": "stream",
     "text": [
      "X_train.shape: (80, 4) y_train.shape: (80, 1)\n",
      "X_test.shape: (20, 4) y_test.shape: (20, 1)\n"
     ]
    }
   ],
   "source": [
    "X_train, y_train = train[:, 0:5], train[:, -1].reshape(-1, 1)\n",
    "X_test, y_test = test[:, 0:5], test[:, -1].reshape(-1, 1)\n",
    "print(\"X_train.shape:\", X_train.shape, \"y_train.shape:\", y_train.shape)\n",
    "print(\"X_test.shape:\", X_test.shape, \"y_test.shape:\", y_test.shape)"
   ]
  },
  {
   "cell_type": "markdown",
   "metadata": {},
   "source": [
    "<h3><u>TensorFlow</u></h3>"
   ]
  },
  {
   "cell_type": "markdown",
   "metadata": {},
   "source": [
    "Let's the reset the default graph:"
   ]
  },
  {
   "cell_type": "code",
   "execution_count": 15,
   "metadata": {
    "collapsed": true
   },
   "outputs": [],
   "source": [
    "tf.reset_default_graph()"
   ]
  },
  {
   "cell_type": "markdown",
   "metadata": {},
   "source": [
    "Our preprocessed data has two input features, the sepal length and the sepal width"
   ]
  },
  {
   "cell_type": "code",
   "execution_count": 16,
   "metadata": {
    "collapsed": true
   },
   "outputs": [],
   "source": [
    "n_inputs = 2"
   ]
  },
  {
   "cell_type": "markdown",
   "metadata": {
    "collapsed": true
   },
   "source": [
    "The Logistic Regression computes a weighted sum of the inputs and then it applies the sigmoid function to the result, which gives us the estimated probability for the positive class:\n",
    "$\\hat p = h_{\\boldsymbol{\\theta}}(x) = \\sigma(\\boldsymbol{\\theta}^{T}.\\boldsymbol{x})$\n"
   ]
  },
  {
   "cell_type": "markdown",
   "metadata": {},
   "source": [
    "Recall that $\\boldsymbol{\\theta}$ is the parameter vector, containing the bias term $\\theta_0$ and the weights $\\theta_1, \\theta_2, ..., \\theta_n$. <br>\n",
    "The input vector $\\boldsymbol{x}$ contains a constant term $x_0 = 1$, as well as all the input features $x_1, x_2, ..., x_n$."
   ]
  },
  {
   "cell_type": "markdown",
   "metadata": {},
   "source": [
    "Now let's define the <b>logistic_regression()</b> function to create the graph. We will leave out the definition of the inputs X and the targets y. We could include them here, but leaving them out will make it easier to use this function in a wide range of use cases (e.g. perhaps we will want to add some preprocessing steps for the inputs before we feed them to the Logistic Regression model)."
   ]
  },
  {
   "cell_type": "code",
   "execution_count": 22,
   "metadata": {
    "collapsed": true
   },
   "outputs": [],
   "source": [
    "def logistic_regression(X, y, initializer=None, seed=42, learning_rate=0.01):\n",
    "    n_inputs_including_bias = int(X.get_shape()[1])\n",
    "    \n",
    "    with tf.name_scope(\"logistic_regression\"):\n",
    "        \n",
    "        with tf.name_scope(\"model\"):\n",
    "            if initializer is None:\n",
    "                initializer = tf.random_uniform([n_inputs_including_bias, 1], -1.0, 1.0, seed=seed)\n",
    "                \n",
    "            theta = tf.Variable(initializer, name=\"theta\")\n",
    "            logits = tf.matmul(X, theta, name=\"logits\")\n",
    "            y_proba = tf.sigmoid(logits)\n",
    "            \n",
    "        with tf.name_scope(\"train\"):\n",
    "            loss = tf.losses.log_loss(y, y_proba, scope=\"loss\")\n",
    "            optimizer = tf.train.GradientDescentOptimizer(learning_rate=learning_rate)\n",
    "            training_op = optimizer.minimize(loss)\n",
    "            loss_summary = tf.summary.scalar('loss_loss', loss)\n",
    "            \n",
    "        with tf.name_scope(\"init\"):\n",
    "            init = tf.global_variables_initializer()\n",
    "            \n",
    "        with tf.name_scope(\"save\"):\n",
    "            saver = tf.train.Saver()\n",
    "        \n",
    "    return y_proba, loss, training_op, loss_summary, init, saver"
   ]
  },
  {
   "cell_type": "markdown",
   "metadata": {},
   "source": [
    "Let's create a little function to get the name of the log directory to save the summaries for Tensorboard:"
   ]
  },
  {
   "cell_type": "code",
   "execution_count": 23,
   "metadata": {
    "collapsed": true
   },
   "outputs": [],
   "source": [
    "from datetime import datetime\n",
    "\n",
    "def log_dir(prefix=\"\"):\n",
    "    now = datetime.utcnow().strftime(\"%Y%m%d%H%M%S\")\n",
    "    root_logdir = \"tf_logs\"\n",
    "    if prefix:\n",
    "        prefix += \"-\"\n",
    "    name = prefix + \"run-\" + now\n",
    "    return \"{}/{}/\".format(root_logdir, name)"
   ]
  },
  {
   "cell_type": "markdown",
   "metadata": {},
   "source": [
    "Now, let's create the graph using the <b>logistic_regression()</b> function. We will also create the <b>FileWriter</b> to save the summaries to the log directory for Tensorboard."
   ]
  },
  {
   "cell_type": "code",
   "execution_count": 24,
   "metadata": {},
   "outputs": [],
   "source": [
    "n_inputs = 2 \n",
    "logdir = log_dir(\"logreg\")\n",
    "\n",
    "X = tf.placeholder(tf.float32, shape=(None, n_inputs + 1))\n",
    "y = tf.placeholder(tf.float32, shape=(None, 1), name=\"y\")\n",
    "\n",
    "y_proba, loss, training_op, loss_summary, init, saver = logistic_regression(X, y)\n",
    "\n",
    "file_writer = tf.summary.FileWriter(logdir, tf.get_default_graph())"
   ]
  },
  {
   "cell_type": "markdown",
   "metadata": {},
   "source": []
  }
 ],
 "metadata": {
  "kernelspec": {
   "display_name": "Python 3",
   "language": "python",
   "name": "python3"
  },
  "language_info": {
   "codemirror_mode": {
    "name": "ipython",
    "version": 3
   },
   "file_extension": ".py",
   "mimetype": "text/x-python",
   "name": "python",
   "nbconvert_exporter": "python",
   "pygments_lexer": "ipython3",
   "version": "3.6.2"
  }
 },
 "nbformat": 4,
 "nbformat_minor": 2
}
